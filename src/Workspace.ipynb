{
 "cells": [
  {
   "metadata": {},
   "cell_type": "markdown",
   "source": "# Prepare Data",
   "id": "5b59abb1521cc780"
  },
  {
   "metadata": {
    "ExecuteTime": {
     "end_time": "2025-07-16T22:25:49.842082Z",
     "start_time": "2025-07-16T22:25:47.673146Z"
    }
   },
   "cell_type": "code",
   "source": [
    "from utils.data import ParseTaggedDataset\n",
    "\n",
    "full_dataset, full_masks, full_keys = ParseTaggedDataset(\"\")"
   ],
   "id": "d0613b3d78166446",
   "outputs": [
    {
     "ename": "KeyboardInterrupt",
     "evalue": "",
     "output_type": "error",
     "traceback": [
      "\u001B[1;31m---------------------------------------------------------------------------\u001B[0m",
      "\u001B[1;31mKeyboardInterrupt\u001B[0m                         Traceback (most recent call last)",
      "Cell \u001B[1;32mIn[1], line 1\u001B[0m\n\u001B[1;32m----> 1\u001B[0m \u001B[38;5;28;01mfrom\u001B[39;00m\u001B[38;5;250m \u001B[39m\u001B[38;5;21;01mutils\u001B[39;00m\u001B[38;5;21;01m.\u001B[39;00m\u001B[38;5;21;01mdata\u001B[39;00m\u001B[38;5;250m \u001B[39m\u001B[38;5;28;01mimport\u001B[39;00m ParseTaggedDataset\n\u001B[0;32m      3\u001B[0m full_dataset, full_masks, full_keys \u001B[38;5;241m=\u001B[39m ParseTaggedDataset(\u001B[38;5;124m\"\u001B[39m\u001B[38;5;124m\"\u001B[39m)\n",
      "File \u001B[1;32mE:\\Coding\\SongAnalyzer\\Analyzer\\src\\utils\\data.py:2\u001B[0m\n\u001B[0;32m      1\u001B[0m \u001B[38;5;28;01mimport\u001B[39;00m\u001B[38;5;250m \u001B[39m\u001B[38;5;21;01mnumpy\u001B[39;00m\u001B[38;5;250m \u001B[39m\u001B[38;5;28;01mas\u001B[39;00m\u001B[38;5;250m \u001B[39m\u001B[38;5;21;01mnp\u001B[39;00m\n\u001B[1;32m----> 2\u001B[0m \u001B[38;5;28;01mimport\u001B[39;00m\u001B[38;5;250m \u001B[39m\u001B[38;5;21;01mtorch\u001B[39;00m\n\u001B[0;32m      3\u001B[0m \u001B[38;5;28;01mfrom\u001B[39;00m\u001B[38;5;250m \u001B[39m\u001B[38;5;21;01mtorch\u001B[39;00m\u001B[38;5;21;01m.\u001B[39;00m\u001B[38;5;21;01mutils\u001B[39;00m\u001B[38;5;21;01m.\u001B[39;00m\u001B[38;5;21;01mdata\u001B[39;00m\u001B[38;5;250m \u001B[39m\u001B[38;5;28;01mimport\u001B[39;00m random_split, DataLoader\n\u001B[0;32m      4\u001B[0m \u001B[38;5;28;01mimport\u001B[39;00m\u001B[38;5;250m \u001B[39m\u001B[38;5;21;01mcsv\u001B[39;00m\n",
      "File \u001B[1;32mE:\\Coding\\SongAnalyzer\\.venv\\lib\\site-packages\\torch\\__init__.py:2151\u001B[0m\n\u001B[0;32m   2135\u001B[0m \u001B[38;5;66;03m################################################################################\u001B[39;00m\n\u001B[0;32m   2136\u001B[0m \u001B[38;5;66;03m# Import most common subpackages\u001B[39;00m\n\u001B[0;32m   2137\u001B[0m \u001B[38;5;66;03m################################################################################\u001B[39;00m\n\u001B[1;32m   (...)\u001B[0m\n\u001B[0;32m   2142\u001B[0m \n\u001B[0;32m   2143\u001B[0m \u001B[38;5;66;03m# needs to be before import torch.nn as nn to avoid circular dependencies\u001B[39;00m\n\u001B[0;32m   2144\u001B[0m \u001B[38;5;28;01mfrom\u001B[39;00m\u001B[38;5;250m \u001B[39m\u001B[38;5;21;01mtorch\u001B[39;00m\u001B[38;5;21;01m.\u001B[39;00m\u001B[38;5;21;01mautograd\u001B[39;00m\u001B[38;5;250m \u001B[39m\u001B[38;5;28;01mimport\u001B[39;00m (  \u001B[38;5;66;03m# usort: skip\u001B[39;00m\n\u001B[0;32m   2145\u001B[0m     enable_grad \u001B[38;5;28;01mas\u001B[39;00m enable_grad,\n\u001B[0;32m   2146\u001B[0m     inference_mode \u001B[38;5;28;01mas\u001B[39;00m inference_mode,\n\u001B[0;32m   2147\u001B[0m     no_grad \u001B[38;5;28;01mas\u001B[39;00m no_grad,\n\u001B[0;32m   2148\u001B[0m     set_grad_enabled \u001B[38;5;28;01mas\u001B[39;00m set_grad_enabled,\n\u001B[0;32m   2149\u001B[0m )\n\u001B[1;32m-> 2151\u001B[0m \u001B[38;5;28;01mfrom\u001B[39;00m\u001B[38;5;250m \u001B[39m\u001B[38;5;21;01mtorch\u001B[39;00m\u001B[38;5;250m \u001B[39m\u001B[38;5;28;01mimport\u001B[39;00m (\n\u001B[0;32m   2152\u001B[0m     __config__ \u001B[38;5;28;01mas\u001B[39;00m __config__,\n\u001B[0;32m   2153\u001B[0m     __future__ \u001B[38;5;28;01mas\u001B[39;00m __future__,\n\u001B[0;32m   2154\u001B[0m     _awaits \u001B[38;5;28;01mas\u001B[39;00m _awaits,\n\u001B[0;32m   2155\u001B[0m     accelerator \u001B[38;5;28;01mas\u001B[39;00m accelerator,\n\u001B[0;32m   2156\u001B[0m     autograd \u001B[38;5;28;01mas\u001B[39;00m autograd,\n\u001B[0;32m   2157\u001B[0m     backends \u001B[38;5;28;01mas\u001B[39;00m backends,\n\u001B[0;32m   2158\u001B[0m     cpu \u001B[38;5;28;01mas\u001B[39;00m cpu,\n\u001B[0;32m   2159\u001B[0m     cuda \u001B[38;5;28;01mas\u001B[39;00m cuda,\n\u001B[0;32m   2160\u001B[0m     distributed \u001B[38;5;28;01mas\u001B[39;00m distributed,\n\u001B[0;32m   2161\u001B[0m     distributions \u001B[38;5;28;01mas\u001B[39;00m distributions,\n\u001B[0;32m   2162\u001B[0m     fft \u001B[38;5;28;01mas\u001B[39;00m fft,\n\u001B[0;32m   2163\u001B[0m     futures \u001B[38;5;28;01mas\u001B[39;00m futures,\n\u001B[0;32m   2164\u001B[0m     hub \u001B[38;5;28;01mas\u001B[39;00m hub,\n\u001B[0;32m   2165\u001B[0m     jit \u001B[38;5;28;01mas\u001B[39;00m jit,\n\u001B[0;32m   2166\u001B[0m     linalg \u001B[38;5;28;01mas\u001B[39;00m linalg,\n\u001B[0;32m   2167\u001B[0m     mps \u001B[38;5;28;01mas\u001B[39;00m mps,\n\u001B[0;32m   2168\u001B[0m     mtia \u001B[38;5;28;01mas\u001B[39;00m mtia,\n\u001B[0;32m   2169\u001B[0m     multiprocessing \u001B[38;5;28;01mas\u001B[39;00m multiprocessing,\n\u001B[0;32m   2170\u001B[0m     nested \u001B[38;5;28;01mas\u001B[39;00m nested,\n\u001B[0;32m   2171\u001B[0m     nn \u001B[38;5;28;01mas\u001B[39;00m nn,\n\u001B[0;32m   2172\u001B[0m     optim \u001B[38;5;28;01mas\u001B[39;00m optim,\n\u001B[0;32m   2173\u001B[0m     overrides \u001B[38;5;28;01mas\u001B[39;00m overrides,\n\u001B[0;32m   2174\u001B[0m     profiler \u001B[38;5;28;01mas\u001B[39;00m profiler,\n\u001B[0;32m   2175\u001B[0m     sparse \u001B[38;5;28;01mas\u001B[39;00m sparse,\n\u001B[0;32m   2176\u001B[0m     special \u001B[38;5;28;01mas\u001B[39;00m special,\n\u001B[0;32m   2177\u001B[0m     testing \u001B[38;5;28;01mas\u001B[39;00m testing,\n\u001B[0;32m   2178\u001B[0m     types \u001B[38;5;28;01mas\u001B[39;00m types,\n\u001B[0;32m   2179\u001B[0m     utils \u001B[38;5;28;01mas\u001B[39;00m utils,\n\u001B[0;32m   2180\u001B[0m     xpu \u001B[38;5;28;01mas\u001B[39;00m xpu,\n\u001B[0;32m   2181\u001B[0m )\n\u001B[0;32m   2182\u001B[0m \u001B[38;5;28;01mfrom\u001B[39;00m\u001B[38;5;250m \u001B[39m\u001B[38;5;21;01mtorch\u001B[39;00m\u001B[38;5;21;01m.\u001B[39;00m\u001B[38;5;21;01msignal\u001B[39;00m\u001B[38;5;250m \u001B[39m\u001B[38;5;28;01mimport\u001B[39;00m windows \u001B[38;5;28;01mas\u001B[39;00m windows\n\u001B[0;32m   2185\u001B[0m \u001B[38;5;66;03m# Quantized, sparse, AO, etc. should be last to get imported, as nothing\u001B[39;00m\n\u001B[0;32m   2186\u001B[0m \u001B[38;5;66;03m# is expected to depend on them.\u001B[39;00m\n",
      "File \u001B[1;32mE:\\Coding\\SongAnalyzer\\.venv\\lib\\site-packages\\torch\\distributions\\__init__.py:95\u001B[0m\n\u001B[0;32m     93\u001B[0m \u001B[38;5;28;01mfrom\u001B[39;00m\u001B[38;5;250m \u001B[39m\u001B[38;5;21;01m.\u001B[39;00m\u001B[38;5;21;01mindependent\u001B[39;00m\u001B[38;5;250m \u001B[39m\u001B[38;5;28;01mimport\u001B[39;00m Independent\n\u001B[0;32m     94\u001B[0m \u001B[38;5;28;01mfrom\u001B[39;00m\u001B[38;5;250m \u001B[39m\u001B[38;5;21;01m.\u001B[39;00m\u001B[38;5;21;01minverse_gamma\u001B[39;00m\u001B[38;5;250m \u001B[39m\u001B[38;5;28;01mimport\u001B[39;00m InverseGamma\n\u001B[1;32m---> 95\u001B[0m \u001B[38;5;28;01mfrom\u001B[39;00m\u001B[38;5;250m \u001B[39m\u001B[38;5;21;01m.\u001B[39;00m\u001B[38;5;21;01mkl\u001B[39;00m\u001B[38;5;250m \u001B[39m\u001B[38;5;28;01mimport\u001B[39;00m _add_kl_info, kl_divergence, register_kl\n\u001B[0;32m     96\u001B[0m \u001B[38;5;28;01mfrom\u001B[39;00m\u001B[38;5;250m \u001B[39m\u001B[38;5;21;01m.\u001B[39;00m\u001B[38;5;21;01mkumaraswamy\u001B[39;00m\u001B[38;5;250m \u001B[39m\u001B[38;5;28;01mimport\u001B[39;00m Kumaraswamy\n\u001B[0;32m     97\u001B[0m \u001B[38;5;28;01mfrom\u001B[39;00m\u001B[38;5;250m \u001B[39m\u001B[38;5;21;01m.\u001B[39;00m\u001B[38;5;21;01mlaplace\u001B[39;00m\u001B[38;5;250m \u001B[39m\u001B[38;5;28;01mimport\u001B[39;00m Laplace\n",
      "File \u001B[1;32mE:\\Coding\\SongAnalyzer\\.venv\\lib\\site-packages\\torch\\distributions\\kl.py:34\u001B[0m\n\u001B[0;32m     32\u001B[0m \u001B[38;5;28;01mfrom\u001B[39;00m\u001B[38;5;250m \u001B[39m\u001B[38;5;21;01m.\u001B[39;00m\u001B[38;5;21;01mnormal\u001B[39;00m\u001B[38;5;250m \u001B[39m\u001B[38;5;28;01mimport\u001B[39;00m Normal\n\u001B[0;32m     33\u001B[0m \u001B[38;5;28;01mfrom\u001B[39;00m\u001B[38;5;250m \u001B[39m\u001B[38;5;21;01m.\u001B[39;00m\u001B[38;5;21;01mone_hot_categorical\u001B[39;00m\u001B[38;5;250m \u001B[39m\u001B[38;5;28;01mimport\u001B[39;00m OneHotCategorical\n\u001B[1;32m---> 34\u001B[0m \u001B[38;5;28;01mfrom\u001B[39;00m\u001B[38;5;250m \u001B[39m\u001B[38;5;21;01m.\u001B[39;00m\u001B[38;5;21;01mpareto\u001B[39;00m\u001B[38;5;250m \u001B[39m\u001B[38;5;28;01mimport\u001B[39;00m Pareto\n\u001B[0;32m     35\u001B[0m \u001B[38;5;28;01mfrom\u001B[39;00m\u001B[38;5;250m \u001B[39m\u001B[38;5;21;01m.\u001B[39;00m\u001B[38;5;21;01mpoisson\u001B[39;00m\u001B[38;5;250m \u001B[39m\u001B[38;5;28;01mimport\u001B[39;00m Poisson\n\u001B[0;32m     36\u001B[0m \u001B[38;5;28;01mfrom\u001B[39;00m\u001B[38;5;250m \u001B[39m\u001B[38;5;21;01m.\u001B[39;00m\u001B[38;5;21;01mtransformed_distribution\u001B[39;00m\u001B[38;5;250m \u001B[39m\u001B[38;5;28;01mimport\u001B[39;00m TransformedDistribution\n",
      "File \u001B[1;32m<frozen importlib._bootstrap>:1027\u001B[0m, in \u001B[0;36m_find_and_load\u001B[1;34m(name, import_)\u001B[0m\n",
      "File \u001B[1;32m<frozen importlib._bootstrap>:1006\u001B[0m, in \u001B[0;36m_find_and_load_unlocked\u001B[1;34m(name, import_)\u001B[0m\n",
      "File \u001B[1;32m<frozen importlib._bootstrap>:688\u001B[0m, in \u001B[0;36m_load_unlocked\u001B[1;34m(spec)\u001B[0m\n",
      "File \u001B[1;32m<frozen importlib._bootstrap_external>:879\u001B[0m, in \u001B[0;36mexec_module\u001B[1;34m(self, module)\u001B[0m\n",
      "File \u001B[1;32m<frozen importlib._bootstrap_external>:975\u001B[0m, in \u001B[0;36mget_code\u001B[1;34m(self, fullname)\u001B[0m\n",
      "File \u001B[1;32m<frozen importlib._bootstrap_external>:1074\u001B[0m, in \u001B[0;36mget_data\u001B[1;34m(self, path)\u001B[0m\n",
      "\u001B[1;31mKeyboardInterrupt\u001B[0m: "
     ]
    }
   ],
   "execution_count": 1
  },
  {
   "metadata": {
    "ExecuteTime": {
     "end_time": "2025-07-15T16:32:19.627974300Z",
     "start_time": "2025-07-15T00:39:07.954984Z"
    }
   },
   "cell_type": "code",
   "source": [
    "from utils.data import createLabeledDataset\n",
    "\n",
    "createLabeledDataset()"
   ],
   "id": "6b9afd251ad5374",
   "outputs": [],
   "execution_count": 1
  },
  {
   "metadata": {
    "ExecuteTime": {
     "end_time": "2025-07-15T00:50:40.602788Z",
     "start_time": "2025-07-15T00:46:30.413989Z"
    }
   },
   "cell_type": "code",
   "source": [
    "from utils.data import MakeDataset\n",
    "\n",
    "train_dataloader, test_dataloader, class_ratio = MakeDataset(sample_length=256, batch_size=24, tags=True)"
   ],
   "id": "e532f9f0890a4cae",
   "outputs": [],
   "execution_count": 2
  },
  {
   "metadata": {
    "ExecuteTime": {
     "end_time": "2025-07-15T00:51:30.477906Z",
     "start_time": "2025-07-15T00:51:29.958908Z"
    }
   },
   "cell_type": "code",
   "source": [
    "import torch\n",
    "\n",
    "class Config:\n",
    "    # === General ===\n",
    "    model_name = \"Transformer-Classifier\"\n",
    "    device = \"cuda\" if torch.cuda.is_available() else \"cpu\"\n",
    "    dtype = torch.float32\n",
    "    save_path = f\"E:\\\\Coding\\\\SongAnalyzer\\\\Analyzer\\\\src\\\\trained_models\\\\{model_name}\\\\\"\n",
    "    seed = 42\n",
    "\n",
    "    # === Training ===\n",
    "    num_epochs = 30\n",
    "    batch_size = 24\n",
    "    learning_rate = 5e-5\n",
    "    weight_decay = 1e-5\n",
    "    warmup_percent = 0.15\n",
    "    max_grad_norm = 1.0\n",
    "    log_every = 10  # steps between logs (optional)\n",
    "    save_checkpoints = True\n",
    "\n",
    "    # === Dataset ===\n",
    "    use_masks = True\n",
    "    num_workers = 4\n",
    "    val_split = 0.2\n",
    "    shuffle = True\n",
    "\n",
    "    # === Model Behavior ===\n",
    "    variational = False\n",
    "    autoregressive = False\n",
    "    class_ratio = torch.tensor(class_ratio).to(device=\"cuda\")\n",
    "\n",
    "    # === Loss Coefficients ===\n",
    "    beta_schedule = \"log\"   # e.g., \"log\", \"linear\", etc. (for getBetaLog)\n",
    "    beta_max = 1.0\n",
    "    cycle_length = 2\n",
    "    contrastive_coeff = 0.1  # if using contrastive loss\n",
    "    margin = 0.1"
   ],
   "id": "b1b19949468fa7",
   "outputs": [
    {
     "ename": "NameError",
     "evalue": "name 'class_ratio' is not defined",
     "output_type": "error",
     "traceback": [
      "\u001B[1;31m---------------------------------------------------------------------------\u001B[0m",
      "\u001B[1;31mNameError\u001B[0m                                 Traceback (most recent call last)",
      "Cell \u001B[1;32mIn[3], line 3\u001B[0m\n\u001B[0;32m      1\u001B[0m \u001B[38;5;28;01mimport\u001B[39;00m\u001B[38;5;250m \u001B[39m\u001B[38;5;21;01mtorch\u001B[39;00m\n\u001B[1;32m----> 3\u001B[0m \u001B[38;5;28;01mclass\u001B[39;00m\u001B[38;5;250m \u001B[39m\u001B[38;5;21;01mConfig\u001B[39;00m:\n\u001B[0;32m      4\u001B[0m     \u001B[38;5;66;03m# === General ===\u001B[39;00m\n\u001B[0;32m      5\u001B[0m     model_name \u001B[38;5;241m=\u001B[39m \u001B[38;5;124m\"\u001B[39m\u001B[38;5;124mTransformer-Classifier\u001B[39m\u001B[38;5;124m\"\u001B[39m\n\u001B[0;32m      6\u001B[0m     device \u001B[38;5;241m=\u001B[39m \u001B[38;5;124m\"\u001B[39m\u001B[38;5;124mcuda\u001B[39m\u001B[38;5;124m\"\u001B[39m \u001B[38;5;28;01mif\u001B[39;00m torch\u001B[38;5;241m.\u001B[39mcuda\u001B[38;5;241m.\u001B[39mis_available() \u001B[38;5;28;01melse\u001B[39;00m \u001B[38;5;124m\"\u001B[39m\u001B[38;5;124mcpu\u001B[39m\u001B[38;5;124m\"\u001B[39m\n",
      "Cell \u001B[1;32mIn[3], line 30\u001B[0m, in \u001B[0;36mConfig\u001B[1;34m()\u001B[0m\n\u001B[0;32m     28\u001B[0m variational \u001B[38;5;241m=\u001B[39m \u001B[38;5;28;01mFalse\u001B[39;00m\n\u001B[0;32m     29\u001B[0m autoregressive \u001B[38;5;241m=\u001B[39m \u001B[38;5;28;01mFalse\u001B[39;00m\n\u001B[1;32m---> 30\u001B[0m class_ratio \u001B[38;5;241m=\u001B[39m torch\u001B[38;5;241m.\u001B[39mtensor(\u001B[43mclass_ratio\u001B[49m)\u001B[38;5;241m.\u001B[39mto(device\u001B[38;5;241m=\u001B[39m\u001B[38;5;124m\"\u001B[39m\u001B[38;5;124mcuda\u001B[39m\u001B[38;5;124m\"\u001B[39m)\n\u001B[0;32m     32\u001B[0m \u001B[38;5;66;03m# === Loss Coefficients ===\u001B[39;00m\n\u001B[0;32m     33\u001B[0m beta_schedule \u001B[38;5;241m=\u001B[39m \u001B[38;5;124m\"\u001B[39m\u001B[38;5;124mlog\u001B[39m\u001B[38;5;124m\"\u001B[39m   \u001B[38;5;66;03m# e.g., \"log\", \"linear\", etc. (for getBetaLog)\u001B[39;00m\n",
      "\u001B[1;31mNameError\u001B[0m: name 'class_ratio' is not defined"
     ]
    }
   ],
   "execution_count": 3
  },
  {
   "metadata": {},
   "cell_type": "markdown",
   "source": "# Initialize Model",
   "id": "614913695eca1a35"
  },
  {
   "metadata": {
    "ExecuteTime": {
     "end_time": "2025-07-14T20:33:42.913306Z",
     "start_time": "2025-07-14T20:33:40.237777Z"
    }
   },
   "cell_type": "code",
   "source": [
    "from models.AudioTransformer import AudioTransformer\n",
    "from utils.misc import model_size\n",
    "\n",
    "# ==== Model & Optimizer ====\n",
    "num_heads = 16\n",
    "num_layers = 16\n",
    "encoder_layers = 16\n",
    "decoder_layers = 5\n",
    "d_model = 256\n",
    "latent_space = 512\n",
    "dim_feedforward = 1024\n",
    "sample_length = 256\n",
    "projection_dim = 128\n",
    "dropout = 0.1\n",
    "\n",
    "name_extension = \"\"\n",
    "\n",
    "model = AudioTransformer(d_model=d_model, num_heads=num_heads, encoder_layers=encoder_layers, decoder_layers=decoder_layers, dim_feedforward=dim_feedforward, latent_space=latent_space, length=sample_length, dropout=dropout, name_extension=name_extension, genre_count=249, mood_count=249)\n",
    "print(f\"Parameters: {model_size(model)}\")"
   ],
   "id": "fbf7e5ec317606d1",
   "outputs": [
    {
     "name": "stdout",
     "output_type": "stream",
     "text": [
      "Parameters: 85451314\n"
     ]
    }
   ],
   "execution_count": 3
  },
  {
   "metadata": {
    "ExecuteTime": {
     "end_time": "2025-07-14T21:09:30.747963200Z",
     "start_time": "2025-07-14T20:33:42.945327Z"
    }
   },
   "cell_type": "code",
   "source": [
    "from torch import optim\n",
    "from training.training import trainHybrid\n",
    "\n",
    "optimizer = optim.AdamW(model.parameters(), lr=1e-7, weight_decay=1e-6)\n",
    "trainHybrid(model, train_dataloader, test_dataloader, optimizer, Config, device=Config.device)"
   ],
   "id": "630afb5bb78d691a",
   "outputs": [
    {
     "name": "stderr",
     "output_type": "stream",
     "text": [
      "Epoch 1/30: 100%|██████████| 6330/6330 [06:23<00:00, 16.49it/s]\n",
      "100%|██████████| 704/704 [00:22<00:00, 31.29it/s]\n"
     ]
    },
    {
     "name": "stdout",
     "output_type": "stream",
     "text": [
      "[Epoch 1] Train: 3.5962 Cos: 1.0164, MSE: 1.1377Genre: 1.5334, Mood: 1.9916\n"
     ]
    },
    {
     "name": "stderr",
     "output_type": "stream",
     "text": [
      "Epoch 2/30: 100%|██████████| 6330/6330 [06:22<00:00, 16.53it/s]\n",
      "100%|██████████| 704/704 [00:15<00:00, 44.10it/s]\n"
     ]
    },
    {
     "name": "stdout",
     "output_type": "stream",
     "text": [
      "[Epoch 2] Train: 3.4745 Cos: 1.0187, MSE: 1.1385Genre: 1.4579, Mood: 1.9570\n"
     ]
    },
    {
     "name": "stderr",
     "output_type": "stream",
     "text": [
      "Epoch 3/30: 100%|██████████| 6330/6330 [06:17<00:00, 16.78it/s]\n",
      "100%|██████████| 704/704 [00:26<00:00, 26.41it/s]\n"
     ]
    },
    {
     "name": "stdout",
     "output_type": "stream",
     "text": [
      "[Epoch 3] Train: 3.3175 Cos: 1.0196, MSE: 1.1385Genre: 1.4696, Mood: 1.8588\n"
     ]
    },
    {
     "name": "stderr",
     "output_type": "stream",
     "text": [
      "Epoch 4/30: 100%|██████████| 6330/6330 [06:10<00:00, 17.06it/s]\n",
      "100%|██████████| 704/704 [00:18<00:00, 37.84it/s]\n"
     ]
    },
    {
     "name": "stdout",
     "output_type": "stream",
     "text": [
      "[Epoch 4] Train: 3.3488 Cos: 1.0182, MSE: 1.1376Genre: 1.5456, Mood: 1.6760\n"
     ]
    },
    {
     "name": "stderr",
     "output_type": "stream",
     "text": [
      "Epoch 5/30: 100%|██████████| 6330/6330 [06:17<00:00, 16.77it/s]\n",
      "100%|██████████| 704/704 [00:15<00:00, 44.79it/s]\n"
     ]
    },
    {
     "name": "stdout",
     "output_type": "stream",
     "text": [
      "[Epoch 5] Train: 3.3624 Cos: 1.0185, MSE: 1.1367Genre: 1.5764, Mood: 1.8314\n"
     ]
    },
    {
     "name": "stderr",
     "output_type": "stream",
     "text": [
      "Epoch 6/30:  31%|███       | 1942/6330 [01:58<04:15, 17.16it/s]"
     ]
    }
   ],
   "execution_count": null
  },
  {
   "metadata": {
    "ExecuteTime": {
     "end_time": "2025-07-09T13:59:33.791029Z",
     "start_time": "2025-07-09T13:59:31.350954Z"
    }
   },
   "cell_type": "code",
   "source": "torch.save(model, \"E:\\\\Coding\\\\SongAnalyzer\\\\Analyzer\\\\src\\\\trained_models\\\\Transformer-Classification\\\\Epoch-20.pt\")",
   "id": "844549eb145f64b9",
   "outputs": [],
   "execution_count": 8
  },
  {
   "metadata": {
    "ExecuteTime": {
     "end_time": "2025-07-10T04:11:23.896356Z",
     "start_time": "2025-07-10T04:11:20.688720Z"
    }
   },
   "cell_type": "code",
   "source": [
    "from training.evaluation import evaluate\n",
    "import torch\n",
    "\n",
    "model.load_state_dict(torch.load(\"E:\\\\Coding\\SongAnalyzer\\\\Analyzer\\\\src\\\\trained_models\\\\Transformer-Classifier\\\\AudioTransformer-LatentSpace512-Heads16-EncoderLayers16-DecoderLayers5-DModel256-Dropout0.1-AutoRegressiveFalse\\\\AudioTransformer-LatentSpace512-Heads16-EncoderLayers16-DecoderLayers5-DModel256-Dropout0.1-AutoRegressiveFalse-epoch8.pt\", weights_only=False))\n",
    "model = model.to(\"cuda\")"
   ],
   "id": "733574e49cad927",
   "outputs": [],
   "execution_count": 4
  },
  {
   "metadata": {
    "ExecuteTime": {
     "end_time": "2025-07-14T17:03:17.460499Z",
     "start_time": "2025-07-14T17:03:17.039497Z"
    }
   },
   "cell_type": "code",
   "source": "model = model.to(\"cuda\")",
   "id": "892516cda2eea383",
   "outputs": [],
   "execution_count": 5
  },
  {
   "metadata": {
    "ExecuteTime": {
     "end_time": "2025-07-14T17:04:24.194847Z",
     "start_time": "2025-07-14T17:04:01.206068Z"
    }
   },
   "cell_type": "code",
   "source": [
    "from training.evaluation import evaluate\n",
    "\n",
    "evaluation_metrics = evaluate(model, test_dataloader, Config, device=Config.device)\n",
    "cosine, mse, genre, mood, all_genre_predictions, all_genre_targets, all_mood_predictions, all_mood_targets = evaluation_metrics"
   ],
   "id": "2340419fe876dc00",
   "outputs": [
    {
     "name": "stderr",
     "output_type": "stream",
     "text": [
      "100%|██████████| 704/704 [00:22<00:00, 30.64it/s]\n"
     ]
    }
   ],
   "execution_count": 8
  },
  {
   "metadata": {
    "ExecuteTime": {
     "end_time": "2025-07-14T17:05:05.563371Z",
     "start_time": "2025-07-14T17:05:05.507374Z"
    }
   },
   "cell_type": "code",
   "source": [
    "all_genre_preds = torch.cat([t.detach().cpu() for t in all_genre_predictions], dim=0)\n",
    "all_genre_targets = torch.cat([t.detach().cpu() for t in all_genre_targets], dim=0)\n",
    "\n",
    "all_mood_preds = torch.cat([t.detach().cpu() for t in all_mood_predictions], dim=0)\n",
    "all_mood_targets = torch.cat([t.detach().cpu() for t in all_mood_targets], dim=0)"
   ],
   "id": "a1686397bdfac09b",
   "outputs": [],
   "execution_count": 9
  },
  {
   "metadata": {
    "ExecuteTime": {
     "end_time": "2025-07-14T17:20:50.499477Z",
     "start_time": "2025-07-14T17:20:50.479478Z"
    }
   },
   "cell_type": "code",
   "source": "all_genre_targets[0]",
   "id": "6d0d794e9b251ad2",
   "outputs": [
    {
     "data": {
      "text/plain": [
       "tensor([0., 0., 0., 1., 0., 0., 0., 0., 0., 0., 0., 0., 0., 1., 0., 0., 0., 0.,\n",
       "        0., 0., 0., 0., 0., 0., 0., 0., 0., 0., 0., 0., 0., 0., 0., 0., 0., 0.,\n",
       "        0., 0., 0., 0., 0., 0., 0., 0., 0., 0., 0., 0., 0., 0., 0., 0., 0., 0.,\n",
       "        0., 0., 0., 0., 0., 0., 0., 0., 0., 0., 0., 0., 0., 0., 0., 0., 0., 0.,\n",
       "        0., 0., 0., 0., 0., 0., 0., 0., 0., 0., 0., 0., 0., 0., 0., 0., 0., 0.,\n",
       "        0., 0., 0., 0., 0., 0., 0., 0., 0., 0., 0., 0., 0., 0., 0., 0., 0., 0.,\n",
       "        0., 0., 0., 0., 0., 0., 0., 0., 0., 0., 0., 0., 0., 0., 0., 0., 0., 0.,\n",
       "        0., 0., 0., 0., 0., 0., 0., 0., 0., 0., 0., 0., 0., 0., 0., 0., 0., 0.,\n",
       "        0., 0., 0., 0., 0., 0., 0., 0., 0., 0., 0., 0., 0., 0., 0., 0., 0., 0.,\n",
       "        0., 0., 0., 0., 0., 0., 0., 0., 1., 0., 0., 0., 0., 0., 0., 0., 0., 0.,\n",
       "        0., 0., 0., 0., 0., 0., 0., 0., 0., 0., 0., 0., 0., 0., 0., 0., 0., 0.,\n",
       "        0., 0., 0., 0., 0., 0., 0., 0., 0., 0., 0., 0., 0., 0., 0., 0., 0., 0.,\n",
       "        0., 0., 0., 0., 0., 0., 0., 0., 0., 0., 0., 0., 0., 0., 0., 0., 0., 0.,\n",
       "        0., 0., 0., 0., 0., 0., 0., 0., 0., 0., 0., 0., 0., 0., 0.])"
      ]
     },
     "execution_count": 34,
     "metadata": {},
     "output_type": "execute_result"
    }
   ],
   "execution_count": 34
  },
  {
   "metadata": {
    "ExecuteTime": {
     "end_time": "2025-07-14T17:05:32.691242Z",
     "start_time": "2025-07-14T17:05:29.639986Z"
    }
   },
   "cell_type": "code",
   "source": [
    "#from sklearn.metrics import multilabel_confusion_matrix\n",
    "from sklearn.metrics import precision_score, recall_score, f1_score\n",
    "\n",
    "#probs1 = torch.softmax(all_mood_preds, 1)\n",
    "probs2 = torch.sigmoid(all_mood_preds)\n",
    "\n",
    "binary_preds = (probs2 > 0.2).int()"
   ],
   "id": "7aab33492342957a",
   "outputs": [],
   "execution_count": 10
  },
  {
   "metadata": {
    "ExecuteTime": {
     "end_time": "2025-07-14T17:25:54.364811Z",
     "start_time": "2025-07-14T17:25:54.334812Z"
    }
   },
   "cell_type": "code",
   "source": "binary_preds = (all_genre_preds > 0.2).int()",
   "id": "425e651863f3f196",
   "outputs": [],
   "execution_count": 43
  },
  {
   "metadata": {
    "ExecuteTime": {
     "end_time": "2025-07-14T17:26:40.289449Z",
     "start_time": "2025-07-14T17:26:40.275451Z"
    }
   },
   "cell_type": "code",
   "source": "index = 10",
   "id": "d40bacff8a2044e5",
   "outputs": [],
   "execution_count": 49
  },
  {
   "metadata": {
    "ExecuteTime": {
     "end_time": "2025-07-14T17:26:40.477450Z",
     "start_time": "2025-07-14T17:26:40.465452Z"
    }
   },
   "cell_type": "code",
   "source": "all_genre_targets[index]",
   "id": "11247a017c1345e9",
   "outputs": [
    {
     "data": {
      "text/plain": [
       "tensor([0., 0., 0., 1., 0., 0., 0., 0., 0., 0., 0., 0., 0., 1., 0., 0., 0., 0.,\n",
       "        0., 0., 0., 0., 0., 0., 0., 0., 0., 0., 0., 0., 0., 0., 0., 0., 0., 0.,\n",
       "        0., 0., 0., 0., 0., 0., 0., 0., 0., 0., 0., 0., 0., 0., 0., 0., 0., 0.,\n",
       "        0., 0., 0., 0., 0., 0., 0., 0., 0., 0., 0., 0., 0., 0., 0., 0., 0., 0.,\n",
       "        0., 0., 0., 0., 0., 0., 0., 0., 0., 0., 0., 0., 0., 0., 0., 0., 0., 0.,\n",
       "        0., 0., 0., 0., 0., 0., 0., 0., 0., 0., 0., 0., 0., 0., 0., 0., 0., 0.,\n",
       "        0., 0., 0., 0., 0., 0., 0., 0., 0., 0., 0., 0., 0., 0., 0., 0., 0., 0.,\n",
       "        0., 0., 0., 0., 0., 0., 0., 0., 0., 0., 0., 0., 0., 0., 0., 0., 0., 0.,\n",
       "        0., 0., 0., 0., 0., 0., 0., 0., 0., 0., 0., 0., 0., 0., 0., 0., 0., 0.,\n",
       "        0., 0., 0., 0., 0., 0., 0., 0., 1., 0., 0., 0., 0., 0., 0., 0., 0., 0.,\n",
       "        0., 0., 0., 0., 0., 0., 0., 0., 0., 0., 0., 0., 0., 0., 0., 0., 0., 0.,\n",
       "        0., 0., 0., 0., 0., 0., 0., 0., 0., 0., 0., 0., 0., 0., 0., 0., 0., 0.,\n",
       "        0., 0., 0., 0., 0., 0., 0., 0., 0., 0., 0., 0., 0., 0., 0., 0., 0., 0.,\n",
       "        0., 0., 0., 0., 0., 0., 0., 0., 0., 0., 0., 0., 0., 0., 0.])"
      ]
     },
     "execution_count": 50,
     "metadata": {},
     "output_type": "execute_result"
    }
   ],
   "execution_count": 50
  },
  {
   "metadata": {
    "ExecuteTime": {
     "end_time": "2025-07-14T17:27:00.103593Z",
     "start_time": "2025-07-14T17:27:00.093595Z"
    }
   },
   "cell_type": "code",
   "source": "binary_preds[4]",
   "id": "84c360c3a8f9ae88",
   "outputs": [
    {
     "data": {
      "text/plain": [
       "tensor([0, 0, 0, 0, 0, 0, 0, 0, 0, 0, 0, 0, 0, 0, 0, 0, 0, 0, 0, 0, 0, 0, 0, 0,\n",
       "        0, 0, 0, 0, 0, 0, 0, 0, 0, 0, 0, 0, 0, 0, 0, 0, 0, 0, 0, 0, 0, 0, 0, 0,\n",
       "        0, 0, 0, 0, 0, 0, 0, 0, 0, 0, 0, 0, 0, 0, 0, 0, 0, 0, 0, 0, 0, 0, 0, 0,\n",
       "        0, 0, 0, 0, 0, 0, 0, 0, 0, 0, 0, 0, 0, 0, 0, 0, 0, 0, 0, 0, 0, 0, 0, 0,\n",
       "        0, 0, 0, 0, 0, 0, 0, 0, 0, 0, 0, 0, 0, 0, 0, 0, 0, 0, 0, 0, 0, 0, 0, 0,\n",
       "        0, 0, 0, 0, 0, 0, 0, 0, 0, 0, 0, 0, 0, 0, 0, 0, 0, 0, 0, 0, 0, 0, 0, 0,\n",
       "        0, 0, 0, 0, 0, 0, 0, 0, 0, 0, 0, 0, 0, 0, 0, 0, 0, 0, 0, 0, 0, 0, 0, 0,\n",
       "        0, 0, 0, 0, 0, 0, 0, 0, 0, 0, 0, 0, 0, 0, 0, 0, 0, 0, 0, 0, 0, 0, 0, 0,\n",
       "        0, 0, 0, 0, 0, 0, 0, 0, 0, 0, 0, 0, 0, 0, 0, 0, 0, 0, 0, 0, 0, 0, 0, 0,\n",
       "        0, 0, 0, 0, 0, 0, 0, 0, 0, 0, 0, 0, 0, 0, 0, 0, 0, 0, 0, 0, 0, 0, 0, 0,\n",
       "        0, 0, 0, 0, 0, 0, 0, 0, 0], dtype=torch.int32)"
      ]
     },
     "execution_count": 55,
     "metadata": {},
     "output_type": "execute_result"
    }
   ],
   "execution_count": 55
  },
  {
   "metadata": {
    "ExecuteTime": {
     "end_time": "2025-07-14T17:28:22.665725Z",
     "start_time": "2025-07-14T17:28:21.437702Z"
    }
   },
   "cell_type": "code",
   "source": [
    "from sklearn.metrics import multilabel_confusion_matrix\n",
    "\n",
    "conf_matrices = multilabel_confusion_matrix(all_mood_targets.numpy(), binary_preds.numpy())\n",
    "\n",
    "precision = precision_score(all_mood_targets, binary_preds, average='macro')  # or 'micro', 'weighted'\n",
    "recall = recall_score(all_mood_targets, binary_preds, average='macro')\n",
    "f1 = f1_score(all_mood_targets, binary_preds, average='macro')\n",
    "\n",
    "print(f\"Precision: {precision:.3f}, Recall: {recall:.3f}, F1: {f1:.3f}\")"
   ],
   "id": "9e45844563f22699",
   "outputs": [
    {
     "name": "stderr",
     "output_type": "stream",
     "text": [
      "E:\\Coding\\SongAnalyzer\\.venv\\lib\\site-packages\\sklearn\\metrics\\_classification.py:1471: UndefinedMetricWarning: Precision is ill-defined and being set to 0.0 in labels with no predicted samples. Use `zero_division` parameter to control this behavior.\n",
      "  _warn_prf(average, modifier, msg_start, len(result))\n",
      "E:\\Coding\\SongAnalyzer\\.venv\\lib\\site-packages\\sklearn\\metrics\\_classification.py:1471: UndefinedMetricWarning: Recall is ill-defined and being set to 0.0 in labels with no true samples. Use `zero_division` parameter to control this behavior.\n",
      "  _warn_prf(average, modifier, msg_start, len(result))\n"
     ]
    },
    {
     "name": "stdout",
     "output_type": "stream",
     "text": [
      "Precision: 0.000, Recall: 0.000, F1: 0.000\n"
     ]
    },
    {
     "name": "stderr",
     "output_type": "stream",
     "text": [
      "E:\\Coding\\SongAnalyzer\\.venv\\lib\\site-packages\\sklearn\\metrics\\_classification.py:1760: UndefinedMetricWarning: F-score is ill-defined and being set to 0.0 in labels with no true nor predicted samples. Use `zero_division` parameter to control this behavior.\n",
      "  _warn_prf(average, \"true nor predicted\", \"F-score is\", len(true_sum))\n"
     ]
    }
   ],
   "execution_count": 56
  },
  {
   "metadata": {
    "ExecuteTime": {
     "end_time": "2025-07-14T17:11:24.837814Z",
     "start_time": "2025-07-14T17:11:24.827465Z"
    }
   },
   "cell_type": "code",
   "source": "all_genre_targets[10].int()",
   "id": "e51f7fc702abdace",
   "outputs": [
    {
     "data": {
      "text/plain": [
       "tensor([0, 0, 0, 1, 0, 0, 0, 0, 0, 0, 0, 0, 0, 1, 0, 0, 0, 0, 0, 0, 0, 0, 0, 0,\n",
       "        0, 0, 0, 0, 0, 0, 0, 0, 0, 0, 0, 0, 0, 0, 0, 0, 0, 0, 0, 0, 0, 0, 0, 0,\n",
       "        0, 0, 0, 0, 0, 0, 0, 0, 0, 0, 0, 0, 0, 0, 0, 0, 0, 0, 0, 0, 0, 0, 0, 0,\n",
       "        0, 0, 0, 0, 0, 0, 0, 0, 0, 0, 0, 0, 0, 0, 0, 0, 0, 0, 0, 0, 0, 0, 0, 0,\n",
       "        0, 0, 0, 0, 0, 0, 0, 0, 0, 0, 0, 0, 0, 0, 0, 0, 0, 0, 0, 0, 0, 0, 0, 0,\n",
       "        0, 0, 0, 0, 0, 0, 0, 0, 0, 0, 0, 0, 0, 0, 0, 0, 0, 0, 0, 0, 0, 0, 0, 0,\n",
       "        0, 0, 0, 0, 0, 0, 0, 0, 0, 0, 0, 0, 0, 0, 0, 0, 0, 0, 0, 0, 0, 0, 0, 0,\n",
       "        0, 0, 1, 0, 0, 0, 0, 0, 0, 0, 0, 0, 0, 0, 0, 0, 0, 0, 0, 0, 0, 0, 0, 0,\n",
       "        0, 0, 0, 0, 0, 0, 0, 0, 0, 0, 0, 0, 0, 0, 0, 0, 0, 0, 0, 0, 0, 0, 0, 0,\n",
       "        0, 0, 0, 0, 0, 0, 0, 0, 0, 0, 0, 0, 0, 0, 0, 0, 0, 0, 0, 0, 0, 0, 0, 0,\n",
       "        0, 0, 0, 0, 0, 0, 0, 0, 0], dtype=torch.int32)"
      ]
     },
     "execution_count": 28,
     "metadata": {},
     "output_type": "execute_result"
    }
   ],
   "execution_count": 28
  },
  {
   "metadata": {
    "ExecuteTime": {
     "end_time": "2025-07-14T17:15:09.692498Z",
     "start_time": "2025-07-14T17:15:09.674498Z"
    }
   },
   "cell_type": "code",
   "source": [
    "probs2 = torch.sigmoid(all_genre_predictions[10])\n",
    "binary_preds = (probs2 > 0.2)\n",
    "binary_preds[10].int()"
   ],
   "id": "c8eaddf8bdd15ef6",
   "outputs": [
    {
     "data": {
      "text/plain": [
       "tensor([0, 0, 0, 0, 0, 0, 0, 0, 0, 0, 0, 0, 0, 0, 0, 0, 0, 0, 0, 0, 1, 0, 0, 0,\n",
       "        0, 0, 0, 0, 0, 0, 0, 0, 0, 0, 0, 0, 0, 0, 0, 0, 0, 0, 0, 0, 0, 0, 0, 0,\n",
       "        0, 0, 0, 0, 0, 0, 0, 0, 0, 0, 1, 0, 0, 0, 0, 0, 0, 0, 0, 0, 0, 0, 0, 0,\n",
       "        0, 0, 0, 0, 0, 0, 0, 0, 0, 0, 0, 0, 0, 0, 0, 0, 0, 0, 0, 0, 0, 0, 0, 0,\n",
       "        0, 0, 0, 0, 0, 0, 0, 0, 0, 0, 0, 0, 0, 0, 0, 0, 0, 0, 0, 0, 0, 0, 0, 0,\n",
       "        0, 0, 0, 0, 0, 0, 0, 0, 0, 0, 0, 0, 0, 0, 0, 0, 0, 0, 0, 0, 0, 0, 0, 0,\n",
       "        0, 0, 0, 0, 0, 0, 0, 0, 0, 0, 0, 0, 0, 0, 0, 0, 0, 0, 0, 0, 0, 0, 0, 0,\n",
       "        0, 0, 0, 0, 0, 0, 0, 0, 0, 0, 0, 0, 0, 0, 0, 0, 0, 0, 0, 0, 0, 0, 0, 0,\n",
       "        0, 0, 0, 0, 0, 0, 0, 0, 0, 0, 0, 0, 0, 0, 0, 0, 0, 0, 0, 0, 0, 0, 0, 0,\n",
       "        0, 0, 0, 0, 0, 0, 0, 0, 0, 0, 0, 0, 0, 0, 0, 0, 0, 0, 0, 0, 0, 0, 0, 0,\n",
       "        0, 0, 0, 0, 0, 0, 0, 0, 0], dtype=torch.int32)"
      ]
     },
     "execution_count": 32,
     "metadata": {},
     "output_type": "execute_result"
    }
   ],
   "execution_count": 32
  },
  {
   "metadata": {},
   "cell_type": "code",
   "source": [
    "from matplotlib import pyplot as plt\n",
    "import seaborn as sns\n",
    "num_classes = conf_matrices.shape[0]\n",
    "\n",
    "for i in range(20):\n",
    "    plt.figure(figsize=(3, 3))\n",
    "    sns.heatmap(conf_matrices[i], annot=True, fmt='d', cmap='Blues', xticklabels=['Pred 0', 'Pred 1'], yticklabels=['True 0', 'True 1'])\n",
    "    plt.title(f\"Confusion Matrix - Class {i}\")\n",
    "    plt.ylabel(\"True Label\")\n",
    "    plt.xlabel(\"Predicted Label\")\n",
    "    plt.tight_layout()\n",
    "    plt.show()"
   ],
   "id": "6a7264a1ff9467fd",
   "outputs": [],
   "execution_count": null
  },
  {
   "metadata": {
    "ExecuteTime": {
     "end_time": "2025-07-09T15:58:19.010492Z",
     "start_time": "2025-07-09T15:58:18.023883Z"
    }
   },
   "cell_type": "code",
   "source": [
    "from sklearn.metrics import precision_recall_fscore_support\n",
    "import pandas as pd\n",
    "\n",
    "prec, rec, f1, support = precision_recall_fscore_support(all_mood_targets.numpy(), (torch.sigmoid(all_mood_preds) > 0.1).numpy(), average=None)\n",
    "\n",
    "df = pd.DataFrame({\n",
    "    \"Class\": list(range(len(prec))),\n",
    "    \"Precision\": prec,\n",
    "    \"Recall\": rec,\n",
    "    \"F1 Score\": f1,\n",
    "    \"Support\": support\n",
    "})\n",
    "\n",
    "print(df.round(3))"
   ],
   "id": "95401198f0a8ab7b",
   "outputs": [
    {
     "name": "stdout",
     "output_type": "stream",
     "text": [
      "     Class  Precision  Recall  F1 Score  Support\n",
      "0        0      0.269   0.657     0.381     3189\n",
      "1        1      0.331   0.886     0.482     2178\n",
      "2        2      0.268   0.756     0.396     2921\n",
      "3        3      0.322   0.820     0.462     2732\n",
      "4        4      0.274   0.787     0.406     2699\n",
      "..     ...        ...     ...       ...      ...\n",
      "244    244      0.000   0.000     0.000        0\n",
      "245    245      0.000   0.000     0.000        0\n",
      "246    246      0.000   0.000     0.000        0\n",
      "247    247      0.000   0.000     0.000        0\n",
      "248    248      0.000   0.000     0.000        0\n",
      "\n",
      "[249 rows x 5 columns]\n"
     ]
    },
    {
     "name": "stderr",
     "output_type": "stream",
     "text": [
      "E:\\Coding\\SongAnalyzer\\.venv\\lib\\site-packages\\sklearn\\metrics\\_classification.py:1471: UndefinedMetricWarning: Precision and F-score are ill-defined and being set to 0.0 in labels with no predicted samples. Use `zero_division` parameter to control this behavior.\n",
      "  _warn_prf(average, modifier, msg_start, len(result))\n",
      "E:\\Coding\\SongAnalyzer\\.venv\\lib\\site-packages\\sklearn\\metrics\\_classification.py:1471: UndefinedMetricWarning: Recall and F-score are ill-defined and being set to 0.0 in labels with no true samples. Use `zero_division` parameter to control this behavior.\n",
      "  _warn_prf(average, modifier, msg_start, len(result))\n"
     ]
    }
   ],
   "execution_count": 54
  },
  {
   "metadata": {
    "ExecuteTime": {
     "end_time": "2025-07-09T15:58:22.677658Z",
     "start_time": "2025-07-09T15:58:22.666659Z"
    }
   },
   "cell_type": "code",
   "source": "df",
   "id": "e59a10abb7e49172",
   "outputs": [
    {
     "data": {
      "text/plain": [
       "     Class  Precision    Recall  F1 Score  Support\n",
       "0        0   0.268521  0.656946  0.381221     3189\n",
       "1        1   0.331216  0.885675  0.482129     2178\n",
       "2        2   0.268165  0.755563  0.395839     2921\n",
       "3        3   0.321937  0.820278  0.462396     2732\n",
       "4        4   0.273958  0.786958  0.406429     2699\n",
       "..     ...        ...       ...       ...      ...\n",
       "244    244   0.000000  0.000000  0.000000        0\n",
       "245    245   0.000000  0.000000  0.000000        0\n",
       "246    246   0.000000  0.000000  0.000000        0\n",
       "247    247   0.000000  0.000000  0.000000        0\n",
       "248    248   0.000000  0.000000  0.000000        0\n",
       "\n",
       "[249 rows x 5 columns]"
      ],
      "text/html": [
       "<div>\n",
       "<style scoped>\n",
       "    .dataframe tbody tr th:only-of-type {\n",
       "        vertical-align: middle;\n",
       "    }\n",
       "\n",
       "    .dataframe tbody tr th {\n",
       "        vertical-align: top;\n",
       "    }\n",
       "\n",
       "    .dataframe thead th {\n",
       "        text-align: right;\n",
       "    }\n",
       "</style>\n",
       "<table border=\"1\" class=\"dataframe\">\n",
       "  <thead>\n",
       "    <tr style=\"text-align: right;\">\n",
       "      <th></th>\n",
       "      <th>Class</th>\n",
       "      <th>Precision</th>\n",
       "      <th>Recall</th>\n",
       "      <th>F1 Score</th>\n",
       "      <th>Support</th>\n",
       "    </tr>\n",
       "  </thead>\n",
       "  <tbody>\n",
       "    <tr>\n",
       "      <th>0</th>\n",
       "      <td>0</td>\n",
       "      <td>0.268521</td>\n",
       "      <td>0.656946</td>\n",
       "      <td>0.381221</td>\n",
       "      <td>3189</td>\n",
       "    </tr>\n",
       "    <tr>\n",
       "      <th>1</th>\n",
       "      <td>1</td>\n",
       "      <td>0.331216</td>\n",
       "      <td>0.885675</td>\n",
       "      <td>0.482129</td>\n",
       "      <td>2178</td>\n",
       "    </tr>\n",
       "    <tr>\n",
       "      <th>2</th>\n",
       "      <td>2</td>\n",
       "      <td>0.268165</td>\n",
       "      <td>0.755563</td>\n",
       "      <td>0.395839</td>\n",
       "      <td>2921</td>\n",
       "    </tr>\n",
       "    <tr>\n",
       "      <th>3</th>\n",
       "      <td>3</td>\n",
       "      <td>0.321937</td>\n",
       "      <td>0.820278</td>\n",
       "      <td>0.462396</td>\n",
       "      <td>2732</td>\n",
       "    </tr>\n",
       "    <tr>\n",
       "      <th>4</th>\n",
       "      <td>4</td>\n",
       "      <td>0.273958</td>\n",
       "      <td>0.786958</td>\n",
       "      <td>0.406429</td>\n",
       "      <td>2699</td>\n",
       "    </tr>\n",
       "    <tr>\n",
       "      <th>...</th>\n",
       "      <td>...</td>\n",
       "      <td>...</td>\n",
       "      <td>...</td>\n",
       "      <td>...</td>\n",
       "      <td>...</td>\n",
       "    </tr>\n",
       "    <tr>\n",
       "      <th>244</th>\n",
       "      <td>244</td>\n",
       "      <td>0.000000</td>\n",
       "      <td>0.000000</td>\n",
       "      <td>0.000000</td>\n",
       "      <td>0</td>\n",
       "    </tr>\n",
       "    <tr>\n",
       "      <th>245</th>\n",
       "      <td>245</td>\n",
       "      <td>0.000000</td>\n",
       "      <td>0.000000</td>\n",
       "      <td>0.000000</td>\n",
       "      <td>0</td>\n",
       "    </tr>\n",
       "    <tr>\n",
       "      <th>246</th>\n",
       "      <td>246</td>\n",
       "      <td>0.000000</td>\n",
       "      <td>0.000000</td>\n",
       "      <td>0.000000</td>\n",
       "      <td>0</td>\n",
       "    </tr>\n",
       "    <tr>\n",
       "      <th>247</th>\n",
       "      <td>247</td>\n",
       "      <td>0.000000</td>\n",
       "      <td>0.000000</td>\n",
       "      <td>0.000000</td>\n",
       "      <td>0</td>\n",
       "    </tr>\n",
       "    <tr>\n",
       "      <th>248</th>\n",
       "      <td>248</td>\n",
       "      <td>0.000000</td>\n",
       "      <td>0.000000</td>\n",
       "      <td>0.000000</td>\n",
       "      <td>0</td>\n",
       "    </tr>\n",
       "  </tbody>\n",
       "</table>\n",
       "<p>249 rows × 5 columns</p>\n",
       "</div>"
      ]
     },
     "execution_count": 55,
     "metadata": {},
     "output_type": "execute_result"
    }
   ],
   "execution_count": 55
  },
  {
   "metadata": {
    "ExecuteTime": {
     "end_time": "2025-07-09T15:55:56.319087Z",
     "start_time": "2025-07-09T15:55:56.305088Z"
    }
   },
   "cell_type": "code",
   "source": "df",
   "id": "2dcd5c5c1f809983",
   "outputs": [
    {
     "data": {
      "text/plain": [
       "     Class  Precision    Recall  F1 Score  Support\n",
       "0        0   0.315741  0.834015  0.458067     2446\n",
       "1        1   0.413159  1.000000  0.584731    20446\n",
       "2        2   0.267866  0.730917  0.392052     3118\n",
       "3        3   0.305743  0.641902  0.414199     3890\n",
       "4        4   0.167541  0.773504  0.275425     5616\n",
       "..     ...        ...       ...       ...      ...\n",
       "244    244   0.000000  0.000000  0.000000        0\n",
       "245    245   0.000000  0.000000  0.000000        0\n",
       "246    246   0.000000  0.000000  0.000000        0\n",
       "247    247   0.000000  0.000000  0.000000       48\n",
       "248    248   0.000000  0.000000  0.000000        0\n",
       "\n",
       "[249 rows x 5 columns]"
      ],
      "text/html": [
       "<div>\n",
       "<style scoped>\n",
       "    .dataframe tbody tr th:only-of-type {\n",
       "        vertical-align: middle;\n",
       "    }\n",
       "\n",
       "    .dataframe tbody tr th {\n",
       "        vertical-align: top;\n",
       "    }\n",
       "\n",
       "    .dataframe thead th {\n",
       "        text-align: right;\n",
       "    }\n",
       "</style>\n",
       "<table border=\"1\" class=\"dataframe\">\n",
       "  <thead>\n",
       "    <tr style=\"text-align: right;\">\n",
       "      <th></th>\n",
       "      <th>Class</th>\n",
       "      <th>Precision</th>\n",
       "      <th>Recall</th>\n",
       "      <th>F1 Score</th>\n",
       "      <th>Support</th>\n",
       "    </tr>\n",
       "  </thead>\n",
       "  <tbody>\n",
       "    <tr>\n",
       "      <th>0</th>\n",
       "      <td>0</td>\n",
       "      <td>0.315741</td>\n",
       "      <td>0.834015</td>\n",
       "      <td>0.458067</td>\n",
       "      <td>2446</td>\n",
       "    </tr>\n",
       "    <tr>\n",
       "      <th>1</th>\n",
       "      <td>1</td>\n",
       "      <td>0.413159</td>\n",
       "      <td>1.000000</td>\n",
       "      <td>0.584731</td>\n",
       "      <td>20446</td>\n",
       "    </tr>\n",
       "    <tr>\n",
       "      <th>2</th>\n",
       "      <td>2</td>\n",
       "      <td>0.267866</td>\n",
       "      <td>0.730917</td>\n",
       "      <td>0.392052</td>\n",
       "      <td>3118</td>\n",
       "    </tr>\n",
       "    <tr>\n",
       "      <th>3</th>\n",
       "      <td>3</td>\n",
       "      <td>0.305743</td>\n",
       "      <td>0.641902</td>\n",
       "      <td>0.414199</td>\n",
       "      <td>3890</td>\n",
       "    </tr>\n",
       "    <tr>\n",
       "      <th>4</th>\n",
       "      <td>4</td>\n",
       "      <td>0.167541</td>\n",
       "      <td>0.773504</td>\n",
       "      <td>0.275425</td>\n",
       "      <td>5616</td>\n",
       "    </tr>\n",
       "    <tr>\n",
       "      <th>...</th>\n",
       "      <td>...</td>\n",
       "      <td>...</td>\n",
       "      <td>...</td>\n",
       "      <td>...</td>\n",
       "      <td>...</td>\n",
       "    </tr>\n",
       "    <tr>\n",
       "      <th>244</th>\n",
       "      <td>244</td>\n",
       "      <td>0.000000</td>\n",
       "      <td>0.000000</td>\n",
       "      <td>0.000000</td>\n",
       "      <td>0</td>\n",
       "    </tr>\n",
       "    <tr>\n",
       "      <th>245</th>\n",
       "      <td>245</td>\n",
       "      <td>0.000000</td>\n",
       "      <td>0.000000</td>\n",
       "      <td>0.000000</td>\n",
       "      <td>0</td>\n",
       "    </tr>\n",
       "    <tr>\n",
       "      <th>246</th>\n",
       "      <td>246</td>\n",
       "      <td>0.000000</td>\n",
       "      <td>0.000000</td>\n",
       "      <td>0.000000</td>\n",
       "      <td>0</td>\n",
       "    </tr>\n",
       "    <tr>\n",
       "      <th>247</th>\n",
       "      <td>247</td>\n",
       "      <td>0.000000</td>\n",
       "      <td>0.000000</td>\n",
       "      <td>0.000000</td>\n",
       "      <td>48</td>\n",
       "    </tr>\n",
       "    <tr>\n",
       "      <th>248</th>\n",
       "      <td>248</td>\n",
       "      <td>0.000000</td>\n",
       "      <td>0.000000</td>\n",
       "      <td>0.000000</td>\n",
       "      <td>0</td>\n",
       "    </tr>\n",
       "  </tbody>\n",
       "</table>\n",
       "<p>249 rows × 5 columns</p>\n",
       "</div>"
      ]
     },
     "execution_count": 53,
     "metadata": {},
     "output_type": "execute_result"
    }
   ],
   "execution_count": 53
  },
  {
   "metadata": {
    "ExecuteTime": {
     "end_time": "2025-07-09T15:48:13.676431Z",
     "start_time": "2025-07-09T15:48:13.553413Z"
    }
   },
   "cell_type": "code",
   "source": [
    "import torch.nn.functional as F\n",
    "# Apply sigmoid and normalize\n",
    "probs = torch.sigmoid(all_mood_preds)\n",
    "probs = probs / probs.sum(dim=1, keepdim=True)  # [N, C], sums to 1\n",
    "\n",
    "targets = all_mood_targets.float() + 1e-10\n",
    "targets = targets / targets.sum(dim=1, keepdim=True)  # [N, C]\n",
    "\n",
    "# KL divergence (averaged)\n",
    "kl = F.kl_div(probs.log(), targets, reduction='batchmean')\n",
    "print(f\"KL Divergence: {kl.item():.4f}\")"
   ],
   "id": "8f14de7acf83a4f7",
   "outputs": [
    {
     "name": "stdout",
     "output_type": "stream",
     "text": [
      "KL Divergence: 2.7547\n"
     ]
    }
   ],
   "execution_count": 44
  },
  {
   "metadata": {
    "ExecuteTime": {
     "end_time": "2025-07-09T16:52:48.131425Z",
     "start_time": "2025-07-09T16:52:48.099622Z"
    }
   },
   "cell_type": "code",
   "source": [
    "from tqdm import tqdm\n",
    "import torch\n",
    "\n",
    "\n",
    "def compress_song_average(song, model, mask=None):\n",
    "    with torch.no_grad():\n",
    "        mean = model.to_latent(song, mask)\n",
    "        return torch.sum(mean.to('cpu'), dim=0) / len(song)\n",
    "\n",
    "\n",
    "from data.Data import chunk_song\n",
    "import os\n"
   ],
   "id": "33650afec8392fa3",
   "outputs": [],
   "execution_count": 56
  },
  {
   "metadata": {
    "ExecuteTime": {
     "end_time": "2025-07-09T16:52:48.317937Z",
     "start_time": "2025-07-09T16:52:48.303939Z"
    }
   },
   "cell_type": "code",
   "source": [
    "def compute(model, name, length=256):\n",
    "    model.to(\"cuda\")\n",
    "    model.eval()\n",
    "\n",
    "    path = \"E:\\\\SongsDataset\\\\latents\\\\\"\n",
    "    all_folders = os.listdir(path)\n",
    "\n",
    "    file = open(f\"output_analysis\\\\output-{name}.csv\", \"w\", encoding='utf-8')\n",
    "\n",
    "    for each_song in tqdm(all_folders):\n",
    "        song_path = os.path.join(path, each_song)\n",
    "\n",
    "        padded_data, zeros = chunk_song(song_path, length)\n",
    "        input_tensor = torch.Tensor(padded_data).reshape(-1, length, 64).to(\"cuda\")\n",
    "\n",
    "        mask = [0 for _ in range(padded_data.shape[0] // length - 1)]\n",
    "        mask.append(zeros)\n",
    "        bool_masks = [[0 if (length - i) > x else 1 for i in range(length)] for x in mask]\n",
    "        bool_masks = torch.tensor(bool_masks).bool()\n",
    "        bool_masks = bool_masks.to(\"cuda\")\n",
    "\n",
    "        latent = compress_song_average(input_tensor, model, mask=bool_masks)\n",
    "\n",
    "        output = \"\"\n",
    "        for value in latent:\n",
    "            output += f\"{str(value.item())} \"\n",
    "\n",
    "        file.write(output + f\"\\\"{each_song}\\\"\\n\")"
   ],
   "id": "75447de64191ff28",
   "outputs": [],
   "execution_count": 57
  },
  {
   "metadata": {
    "ExecuteTime": {
     "end_time": "2025-07-09T17:15:24.631039Z",
     "start_time": "2025-07-09T17:15:24.623041Z"
    }
   },
   "cell_type": "code",
   "source": [
    "import subprocess\n",
    "\n",
    "def cluster_elki(name, num_clusters):\n",
    "    # Define parameters\n",
    "    elki_jar = \"elki-bundle-0.8.0.jar\"\n",
    "    data_file = f\"output_analysis/output-{name}.csv\"\n",
    "\n",
    "    # Construct the ELKI command\n",
    "    cmd = [\n",
    "        \"java\", \"-jar\", elki_jar,\n",
    "        \"KDDCLIApplication\",\n",
    "        \"-dbc.in\", data_file,\n",
    "        \"-algorithm\", \"clustering.hierarchical.extraction.CutDendrogramByNumberOfClusters\",\n",
    "        \"-algorithm\", \"Anderberg\",\n",
    "        \"-algorithm.distancefunction\", \"CosineDistance\",\n",
    "        \"-hierarchical.minclusters\", str(num_clusters),\n",
    "        \"-resulthandler\", \"ResultWriter\",\n",
    "        \"-out.gzip\", \"false\",\n",
    "        \"-out\", f\"output_analysis/elki-TEST-{name}-{num_clusters}\",\n",
    "    ]\n",
    "\n",
    "    # Execute the command\n",
    "    try:\n",
    "        result = subprocess.run(cmd, capture_output=True, text=True, check=True)\n",
    "    except subprocess.CalledProcessError as e:\n",
    "        print(\"An error occurred:\\n\", e.stderr)"
   ],
   "id": "6ab21de71dbc50c2",
   "outputs": [],
   "execution_count": 2
  },
  {
   "metadata": {
    "ExecuteTime": {
     "end_time": "2025-07-09T16:56:14.285273Z",
     "start_time": "2025-07-09T16:53:06.742822Z"
    }
   },
   "cell_type": "code",
   "source": "compute(model, \"Classification-With-Reconstruction\")",
   "id": "abc771328201c429",
   "outputs": [
    {
     "name": "stderr",
     "output_type": "stream",
     "text": [
      "100%|██████████| 3973/3973 [03:07<00:00, 21.22it/s]\n"
     ]
    }
   ],
   "execution_count": 59
  },
  {
   "metadata": {
    "ExecuteTime": {
     "end_time": "2025-07-09T16:57:35.605902Z",
     "start_time": "2025-07-09T16:57:14.231563Z"
    }
   },
   "cell_type": "code",
   "source": [
    "cluster_elki(\"Classification-With-Reconstruction\", 30)\n",
    "cluster_elki(\"Classification-With-Reconstruction\", 252)"
   ],
   "id": "c762fc5ad385e2c7",
   "outputs": [],
   "execution_count": 2
  },
  {
   "metadata": {
    "ExecuteTime": {
     "end_time": "2025-07-09T17:15:37.475194Z",
     "start_time": "2025-07-09T17:15:27.049487Z"
    }
   },
   "cell_type": "code",
   "source": "cluster_elki(\"Classification-With-Reconstruction\", 100)",
   "id": "df2cdc9b6640bcb3",
   "outputs": [],
   "execution_count": 3
  },
  {
   "metadata": {},
   "cell_type": "code",
   "outputs": [],
   "execution_count": null,
   "source": "",
   "id": "ba417a80be565c8e"
  }
 ],
 "metadata": {
  "kernelspec": {
   "name": "python3",
   "language": "python",
   "display_name": "Python 3 (ipykernel)"
  }
 },
 "nbformat": 5,
 "nbformat_minor": 9
}
