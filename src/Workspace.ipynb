{
 "cells": [
  {
   "metadata": {},
   "cell_type": "markdown",
   "source": "# Preprocessing",
   "id": "a21cb98ecd427558"
  },
  {
   "metadata": {
    "ExecuteTime": {
     "end_time": "2025-06-10T16:26:33.581471Z",
     "start_time": "2025-06-10T16:26:33.567955Z"
    }
   },
   "cell_type": "code",
   "source": [
    "def parse_dataset(length=256):\n",
    "    directory = \"\"  #\"latents\\\\\" #\"reconstruction_test_latents\\\\\" #mtg-jamendo\n",
    "    num_per = 1000\n",
    "    count = 30\n",
    "    #16150\n",
    "    #for start in tqdm(range(16000, 31000, num_per)):\n",
    "        #mtg_dataset, masks = retrieve_data(\"E:\\SongsDataset\\\\mtg-jamendo\\\\\", directory, start=start, count=num_per, sample_length=length)\n",
    "        #torch.save(mtg_dataset, f\"E:\\\\SongsDataset\\\\length_{length}\\\\dataset{count}.pt\")\n",
    "       # torch.save(masks, f\"E:\\\\SongsDataset\\\\length_{length}\\\\dataset{count}-masks.pt\")\n",
    "       # count += 1\n",
    "\n",
    "    # scount = 1\n",
    "    # for start in tqdm(range(0, 3975, num_per)):\n",
    "    #     spotify_dataset, masks  = retrieve_data(\"E:\\\\SongsDataset\\\\latents\\\\\", directory, start=start, count=num_per, sample_length=length)\n",
    "    #     torch.save(spotify_dataset, f\"E:\\\\SongsDataset\\\\length_{length}\\\\dataset-spotify{scount}.pt\")\n",
    "    #     torch.save(masks, f\"E:\\\\SongsDataset\\\\length_{length}\\\\dataset-spotify{scount}-masks.pt\")\n",
    "    #     scount += 1\n",
    "\n",
    "    full_dataset = torch.load(f\"E:\\\\SongsDataset\\\\length_{length}\\\\dataset1.pt\")\n",
    "    #full_masks = torch.load(f\"E:\\\\SongsDataset\\\\length_{length}\\\\dataset1-masks.pt\")\n",
    "\n",
    "    for start in tqdm(range(2, count)):\n",
    "        new_data = torch.load(f\"E:\\\\SongsDataset\\\\length_{length}\\\\dataset{start}.pt\")\n",
    "        #new_masks = torch.load(f\"E:\\\\SongsDataset\\\\length_{length}\\\\dataset{start}-masks.pt\")\n",
    "\n",
    "        full_dataset = torch.cat((full_dataset, new_data))\n",
    "        #full_masks = torch.cat((full_masks, new_masks))\n",
    "\n",
    "    # bool_masks = [[0 if (length - i) > x else 1 for i in range(length)] for x in full_masks]\n",
    "    # bool_masks = torch.tensor(bool_masks).bool()\n",
    "\n",
    "    torch.save(full_dataset, f\"E:\\\\SongsDataset\\\\length_{length}\\\\full_mtg_dataset_extended.pt\")\n",
    "    # torch.save(bool_masks, f\"E:\\\\SongsDataset\\\\length_{length}\\\\full_mtg_masks.pt\")"
   ],
   "id": "c8ab185cf08f24e6",
   "outputs": [],
   "execution_count": 6
  },
  {
   "metadata": {
    "ExecuteTime": {
     "end_time": "2025-06-10T18:08:21.557103400Z",
     "start_time": "2025-06-10T16:26:36.184826Z"
    }
   },
   "cell_type": "code",
   "source": "parse_dataset(256)",
   "id": "b9449f7f27c996ad",
   "outputs": [
    {
     "name": "stderr",
     "output_type": "stream",
     "text": [
      " 86%|████████▌ | 24/28 [04:39<02:06, 31.54s/it]"
     ]
    }
   ],
   "execution_count": null
  },
  {
   "metadata": {},
   "cell_type": "markdown",
   "source": "# Data & Training",
   "id": "ebf89474ab777d38"
  },
  {
   "metadata": {
    "ExecuteTime": {
     "end_time": "2025-06-11T03:12:26.395819Z",
     "start_time": "2025-06-11T03:12:05.812175Z"
    }
   },
   "cell_type": "code",
   "source": [
    "import torch.optim as optim\n",
    "from torch.utils.data import DataLoader\n",
    "import numpy as np\n",
    "from tqdm import tqdm\n",
    "\n",
    "import torch\n",
    "\n",
    "from Training import train, evaluate\n",
    "from Data import AudioDataset, retrieve_data"
   ],
   "id": "6afff8a0a232dd33",
   "outputs": [],
   "execution_count": 1
  },
  {
   "metadata": {
    "ExecuteTime": {
     "end_time": "2025-06-11T03:12:26.427821Z",
     "start_time": "2025-06-11T03:12:26.418822Z"
    }
   },
   "cell_type": "code",
   "source": [
    "# ==== Model & Optimizer ====\n",
    "num_heads = 16\n",
    "num_layers = 16\n",
    "d_model = 512\n",
    "latent_space = 512\n",
    "dim_feedforward = 1024\n",
    "sample_length = 256\n",
    "projection_dim = 128\n",
    "dropout = 0.1\n",
    "\n",
    "batch_size = 30\n",
    "\n",
    "device = \"cuda\""
   ],
   "id": "1112734e300ad7bf",
   "outputs": [],
   "execution_count": 2
  },
  {
   "metadata": {
    "ExecuteTime": {
     "end_time": "2025-06-11T03:15:23.173919Z",
     "start_time": "2025-06-11T03:12:27.047168Z"
    }
   },
   "cell_type": "code",
   "source": [
    "from torch.utils.data import random_split, TensorDataset\n",
    "\n",
    "#dataset = torch.load(f\"E:\\\\SongsDataset\\\\length_{sample_length}\\\\full_mtg_dataset.pt\")\n",
    "dataset = torch.load(f\"E:\\\\SongsDataset\\\\length_{sample_length}\\\\full_mtg_dataset_extended.pt\")\n",
    "#masks = torch.load(f\"E:\\\\SongsDataset\\\\length_{sample_length}\\\\full_masks.pt\")\n",
    "\n",
    "#dataset = torch.load(f\"E:\\\\SongsDataset\\\\length_{sample_length}\\\\dataset1.pt\")[:1000]\n",
    "#masks = torch.load(f\"E:\\\\SongsDataset\\\\length_{sample_length}\\\\dataset1-masks.pt\").bool()"
   ],
   "id": "d91d65a8dceff284",
   "outputs": [],
   "execution_count": 3
  },
  {
   "metadata": {
    "ExecuteTime": {
     "end_time": "2025-06-11T03:15:24.848941Z",
     "start_time": "2025-06-11T03:15:24.297919Z"
    }
   },
   "cell_type": "code",
   "source": [
    "num_samples, seq_length, embed_dim = dataset.shape\n",
    "\n",
    "collective_dataset = AudioDataset(dataset)\n",
    "\n",
    "train_len = int(len(collective_dataset) * 0.9)\n",
    "train_set, test_set = random_split(collective_dataset, [train_len, len(collective_dataset) - train_len])\n",
    "\n",
    "train_dataloader = DataLoader(train_set, batch_size=batch_size, shuffle=True)\n",
    "test_dataloader = DataLoader(test_set, batch_size=batch_size, shuffle=True)"
   ],
   "id": "da53299ce61778f0",
   "outputs": [],
   "execution_count": 4
  },
  {
   "metadata": {
    "ExecuteTime": {
     "end_time": "2025-06-11T03:15:33.486317Z",
     "start_time": "2025-06-11T03:15:24.920452Z"
    }
   },
   "cell_type": "code",
   "source": [
    "from Loss import combined_loss\n",
    "from AudioVariationalTransformer import AudioVariationalTransformer\n",
    "\n",
    "model = AudioVariationalTransformer(d_model=d_model, num_heads=num_heads, transformer_layers=num_layers, dim_feedforward=dim_feedforward, latent_space=latent_space, length=sample_length, dropout=dropout, name_extension=\"-fft-cos-mtg-only-FlashAttention-5-25-CNN\", use_rope=True, use_alibi=True)\n",
    "model.set_checkpointing(False)\n",
    "optimizer = optim.AdamW(model.parameters(), lr=3e-5, weight_decay=0)\n",
    "\n",
    "model_parameters = filter(lambda p: p.requires_grad, model.parameters())\n",
    "params = sum([np.prod(p.size()) for p in model_parameters])\n",
    "print(params)"
   ],
   "id": "6838a9c66f36d5e0",
   "outputs": [
    {
     "name": "stdout",
     "output_type": "stream",
     "text": [
      "124851809\n"
     ]
    }
   ],
   "execution_count": 5
  },
  {
   "metadata": {
    "jupyter": {
     "is_executing": true
    },
    "ExecuteTime": {
     "start_time": "2025-06-11T03:15:33.729318Z"
    }
   },
   "cell_type": "code",
   "source": [
    "# Variational Flash Attention Cyclical Modified More Losses\n",
    "# Coeff 0.3, cycles of 5, 25 epochs, latent space of 128\n",
    "# Changed Architecture and Losses\n",
    "train(model, train_dataloader, test_dataloader, optimizer, cycle_length=15, coeff=0.01, num_epochs=30, device=device, loss_func=combined_loss)\n",
    "evaluate(model, test_dataloader)"
   ],
   "id": "65090194bedd8765",
   "outputs": [
    {
     "name": "stderr",
     "output_type": "stream",
     "text": [
      " 46%|████▌     | 4507/9753 [14:19<14:44,  5.93it/s]"
     ]
    }
   ],
   "execution_count": null
  },
  {
   "metadata": {
    "ExecuteTime": {
     "end_time": "2025-06-10T21:49:47.583155300Z",
     "start_time": "2025-06-09T18:13:09.466218Z"
    }
   },
   "cell_type": "code",
   "source": [
    "# Variational Flash Attention Cyclical Modified More Losses\n",
    "# Coeff 0.3, cycles of 5, 25 epochs, latent space of 128\n",
    "train(model, train_dataloader, test_dataloader, optimizer, cycle_length=5, coeff=0.3, num_epochs=25, device=device, loss_func=combined_loss)\n",
    "evaluate(model, test_dataloader)"
   ],
   "id": "d525d35efc1581b1",
   "outputs": [
    {
     "name": "stderr",
     "output_type": "stream",
     "text": [
      "100%|██████████| 4551/4551 [11:33<00:00,  6.56it/s]\n",
      "100%|██████████| 506/506 [00:24<00:00, 20.65it/s]\n"
     ]
    },
    {
     "name": "stdout",
     "output_type": "stream",
     "text": [
      "Epoch [1/25], Training Loss: 2.3975 \t Validation Losses:\n",
      "KLD: 1668.4040\tCosine Similarity: 0.6316\tCross Coorelation: 0.7291\tMSE: 0.7910\n"
     ]
    },
    {
     "name": "stderr",
     "output_type": "stream",
     "text": [
      "100%|██████████| 4551/4551 [11:24<00:00,  6.65it/s]\n",
      "100%|██████████| 506/506 [00:24<00:00, 20.70it/s]\n"
     ]
    },
    {
     "name": "stdout",
     "output_type": "stream",
     "text": [
      "Epoch [2/25], Training Loss: 2.2154 \t Validation Losses:\n",
      "KLD: 11.5019\tCosine Similarity: 0.6031\tCross Coorelation: 0.7194\tMSE: 0.7781\n"
     ]
    },
    {
     "name": "stderr",
     "output_type": "stream",
     "text": [
      "100%|██████████| 4551/4551 [11:20<00:00,  6.68it/s]\n",
      "100%|██████████| 506/506 [00:24<00:00, 20.44it/s]\n"
     ]
    },
    {
     "name": "stdout",
     "output_type": "stream",
     "text": [
      "Epoch [3/25], Training Loss: 2.1029 \t Validation Losses:\n",
      "KLD: 2.8294\tCosine Similarity: 0.5722\tCross Coorelation: 0.7052\tMSE: 0.7665\n"
     ]
    },
    {
     "name": "stderr",
     "output_type": "stream",
     "text": [
      "100%|██████████| 4551/4551 [11:25<00:00,  6.63it/s]\n",
      "100%|██████████| 506/506 [00:24<00:00, 20.31it/s]\n"
     ]
    },
    {
     "name": "stdout",
     "output_type": "stream",
     "text": [
      "Epoch [4/25], Training Loss: 2.0381 \t Validation Losses:\n",
      "KLD: 2.0968\tCosine Similarity: 0.5476\tCross Coorelation: 0.6916\tMSE: 0.7572\n"
     ]
    },
    {
     "name": "stderr",
     "output_type": "stream",
     "text": [
      "100%|██████████| 4551/4551 [11:35<00:00,  6.54it/s]\n",
      "100%|██████████| 506/506 [00:25<00:00, 19.55it/s]\n"
     ]
    },
    {
     "name": "stdout",
     "output_type": "stream",
     "text": [
      "Epoch [5/25], Training Loss: 1.9972 \t Validation Losses:\n",
      "KLD: 36.2380\tCosine Similarity: 0.5298\tCross Coorelation: 0.6835\tMSE: 0.7473\n"
     ]
    },
    {
     "name": "stderr",
     "output_type": "stream",
     "text": [
      "100%|██████████| 4551/4551 [11:30<00:00,  6.59it/s]\n",
      "100%|██████████| 506/506 [00:24<00:00, 20.63it/s]\n"
     ]
    },
    {
     "name": "stdout",
     "output_type": "stream",
     "text": [
      "Epoch [6/25], Training Loss: 1.9456 \t Validation Losses:\n",
      "KLD: 18.4180\tCosine Similarity: 0.5135\tCross Coorelation: 0.6695\tMSE: 0.7383\n"
     ]
    },
    {
     "name": "stderr",
     "output_type": "stream",
     "text": [
      "100%|██████████| 4551/4551 [11:26<00:00,  6.63it/s]\n",
      "100%|██████████| 506/506 [00:25<00:00, 20.14it/s]\n"
     ]
    },
    {
     "name": "stdout",
     "output_type": "stream",
     "text": [
      "Epoch [7/25], Training Loss: 1.9481 \t Validation Losses:\n",
      "KLD: 1.0503\tCosine Similarity: 0.5141\tCross Coorelation: 0.6688\tMSE: 0.7389\n"
     ]
    },
    {
     "name": "stderr",
     "output_type": "stream",
     "text": [
      "100%|██████████| 4551/4551 [11:30<00:00,  6.59it/s]\n",
      "100%|██████████| 506/506 [00:26<00:00, 19.38it/s]\n"
     ]
    },
    {
     "name": "stdout",
     "output_type": "stream",
     "text": [
      "Epoch [8/25], Training Loss: 1.9386 \t Validation Losses:\n",
      "KLD: 0.7651\tCosine Similarity: 0.5110\tCross Coorelation: 0.6655\tMSE: 0.7392\n"
     ]
    },
    {
     "name": "stderr",
     "output_type": "stream",
     "text": [
      "100%|██████████| 4551/4551 [11:44<00:00,  6.46it/s]\n",
      "100%|██████████| 506/506 [00:24<00:00, 20.84it/s]\n"
     ]
    },
    {
     "name": "stdout",
     "output_type": "stream",
     "text": [
      "Epoch [9/25], Training Loss: 1.9272 \t Validation Losses:\n",
      "KLD: 0.6864\tCosine Similarity: 0.5057\tCross Coorelation: 0.6621\tMSE: 0.7347\n"
     ]
    },
    {
     "name": "stderr",
     "output_type": "stream",
     "text": [
      "100%|██████████| 4551/4551 [11:22<00:00,  6.66it/s]\n",
      "100%|██████████| 506/506 [00:24<00:00, 20.82it/s]\n"
     ]
    },
    {
     "name": "stdout",
     "output_type": "stream",
     "text": [
      "Epoch [10/25], Training Loss: 1.9134 \t Validation Losses:\n",
      "KLD: 30.0507\tCosine Similarity: 0.5009\tCross Coorelation: 0.6596\tMSE: 0.7323\n"
     ]
    },
    {
     "name": "stderr",
     "output_type": "stream",
     "text": [
      "100%|██████████| 4551/4551 [11:25<00:00,  6.64it/s]\n",
      "100%|██████████| 506/506 [00:24<00:00, 20.88it/s]\n"
     ]
    },
    {
     "name": "stdout",
     "output_type": "stream",
     "text": [
      "Epoch [11/25], Training Loss: 1.8944 \t Validation Losses:\n",
      "KLD: 1.9975\tCosine Similarity: 0.4969\tCross Coorelation: 0.6559\tMSE: 0.7293\n"
     ]
    },
    {
     "name": "stderr",
     "output_type": "stream",
     "text": [
      "100%|██████████| 4551/4551 [11:22<00:00,  6.66it/s]\n",
      "100%|██████████| 506/506 [00:24<00:00, 20.73it/s]\n"
     ]
    },
    {
     "name": "stdout",
     "output_type": "stream",
     "text": [
      "Epoch [12/25], Training Loss: 1.9020 \t Validation Losses:\n",
      "KLD: 0.5682\tCosine Similarity: 0.4967\tCross Coorelation: 0.6559\tMSE: 0.7295\n"
     ]
    },
    {
     "name": "stderr",
     "output_type": "stream",
     "text": [
      "100%|██████████| 4551/4551 [11:25<00:00,  6.64it/s]\n",
      "100%|██████████| 506/506 [00:24<00:00, 20.75it/s]\n"
     ]
    },
    {
     "name": "stdout",
     "output_type": "stream",
     "text": [
      "Epoch [13/25], Training Loss: 1.8962 \t Validation Losses:\n",
      "KLD: 0.4293\tCosine Similarity: 0.4951\tCross Coorelation: 0.6535\tMSE: 0.7293\n"
     ]
    },
    {
     "name": "stderr",
     "output_type": "stream",
     "text": [
      "100%|██████████| 4551/4551 [11:21<00:00,  6.68it/s]\n",
      "100%|██████████| 506/506 [00:24<00:00, 20.95it/s]\n"
     ]
    },
    {
     "name": "stdout",
     "output_type": "stream",
     "text": [
      "Epoch [14/25], Training Loss: 1.8911 \t Validation Losses:\n",
      "KLD: 0.3940\tCosine Similarity: 0.4932\tCross Coorelation: 0.6526\tMSE: 0.7278\n"
     ]
    },
    {
     "name": "stderr",
     "output_type": "stream",
     "text": [
      "100%|██████████| 4551/4551 [11:15<00:00,  6.74it/s]\n",
      "100%|██████████| 506/506 [00:24<00:00, 20.95it/s]\n"
     ]
    },
    {
     "name": "stdout",
     "output_type": "stream",
     "text": [
      "Epoch [15/25], Training Loss: 1.8809 \t Validation Losses:\n",
      "KLD: 12.0827\tCosine Similarity: 0.4885\tCross Coorelation: 0.6507\tMSE: 0.7255\n"
     ]
    },
    {
     "name": "stderr",
     "output_type": "stream",
     "text": [
      "100%|██████████| 4551/4551 [11:15<00:00,  6.74it/s]\n",
      "100%|██████████| 506/506 [00:24<00:00, 20.99it/s]\n"
     ]
    },
    {
     "name": "stdout",
     "output_type": "stream",
     "text": [
      "Epoch [16/25], Training Loss: 1.8741 \t Validation Losses:\n",
      "KLD: 0.5255\tCosine Similarity: 0.4886\tCross Coorelation: 0.6498\tMSE: 0.7257\n"
     ]
    },
    {
     "name": "stderr",
     "output_type": "stream",
     "text": [
      "100%|██████████| 4551/4551 [11:14<00:00,  6.75it/s]\n",
      "100%|██████████| 506/506 [00:24<00:00, 21.01it/s]\n"
     ]
    },
    {
     "name": "stdout",
     "output_type": "stream",
     "text": [
      "Epoch [17/25], Training Loss: 1.8797 \t Validation Losses:\n",
      "KLD: 0.3242\tCosine Similarity: 0.4887\tCross Coorelation: 0.6493\tMSE: 0.7254\n"
     ]
    },
    {
     "name": "stderr",
     "output_type": "stream",
     "text": [
      "100%|██████████| 4551/4551 [11:14<00:00,  6.74it/s]\n",
      "100%|██████████| 506/506 [00:24<00:00, 21.01it/s]\n"
     ]
    },
    {
     "name": "stdout",
     "output_type": "stream",
     "text": [
      "Epoch [18/25], Training Loss: 1.8766 \t Validation Losses:\n",
      "KLD: 0.2785\tCosine Similarity: 0.4868\tCross Coorelation: 0.6484\tMSE: 0.7241\n"
     ]
    },
    {
     "name": "stderr",
     "output_type": "stream",
     "text": [
      "100%|██████████| 4551/4551 [11:14<00:00,  6.75it/s]\n",
      "100%|██████████| 506/506 [00:24<00:00, 21.00it/s]\n"
     ]
    },
    {
     "name": "stdout",
     "output_type": "stream",
     "text": [
      "Epoch [19/25], Training Loss: 1.8739 \t Validation Losses:\n",
      "KLD: 0.2462\tCosine Similarity: 0.4858\tCross Coorelation: 0.6483\tMSE: 0.7241\n"
     ]
    },
    {
     "name": "stderr",
     "output_type": "stream",
     "text": [
      "100%|██████████| 4551/4551 [11:15<00:00,  6.74it/s]\n",
      "100%|██████████| 506/506 [00:24<00:00, 20.97it/s]\n"
     ]
    },
    {
     "name": "stdout",
     "output_type": "stream",
     "text": [
      "Epoch [20/25], Training Loss: 1.8651 \t Validation Losses:\n",
      "KLD: 2.5046\tCosine Similarity: 0.4832\tCross Coorelation: 0.6470\tMSE: 0.7229\n"
     ]
    },
    {
     "name": "stderr",
     "output_type": "stream",
     "text": [
      "100%|██████████| 4551/4551 [11:27<00:00,  6.62it/s]\n",
      "100%|██████████| 506/506 [00:29<00:00, 16.98it/s]\n"
     ]
    },
    {
     "name": "stdout",
     "output_type": "stream",
     "text": [
      "Epoch [21/25], Training Loss: 1.8650 \t Validation Losses:\n",
      "KLD: 0.2702\tCosine Similarity: 0.4836\tCross Coorelation: 0.6462\tMSE: 0.7224\n"
     ]
    },
    {
     "name": "stderr",
     "output_type": "stream",
     "text": [
      "100%|██████████| 4551/4551 [12:52<00:00,  5.89it/s]\n",
      "100%|██████████| 506/506 [00:24<00:00, 20.41it/s]\n"
     ]
    },
    {
     "name": "stdout",
     "output_type": "stream",
     "text": [
      "Epoch [22/25], Training Loss: 1.8690 \t Validation Losses:\n",
      "KLD: 0.2205\tCosine Similarity: 0.4832\tCross Coorelation: 0.6461\tMSE: 0.7223\n"
     ]
    },
    {
     "name": "stderr",
     "output_type": "stream",
     "text": [
      "100%|██████████| 4551/4551 [11:07<00:00,  6.82it/s]\n",
      "100%|██████████| 506/506 [00:23<00:00, 21.22it/s]\n"
     ]
    },
    {
     "name": "stdout",
     "output_type": "stream",
     "text": [
      "Epoch [23/25], Training Loss: 1.8679 \t Validation Losses:\n",
      "KLD: 0.2049\tCosine Similarity: 0.4829\tCross Coorelation: 0.6458\tMSE: 0.7221\n"
     ]
    },
    {
     "name": "stderr",
     "output_type": "stream",
     "text": [
      "100%|██████████| 4551/4551 [11:06<00:00,  6.83it/s]\n",
      "100%|██████████| 506/506 [00:23<00:00, 21.27it/s]\n"
     ]
    },
    {
     "name": "stdout",
     "output_type": "stream",
     "text": [
      "Epoch [24/25], Training Loss: 1.8672 \t Validation Losses:\n",
      "KLD: 0.1971\tCosine Similarity: 0.4830\tCross Coorelation: 0.6459\tMSE: 0.7222\n"
     ]
    },
    {
     "name": "stderr",
     "output_type": "stream",
     "text": [
      "100%|██████████| 4551/4551 [11:05<00:00,  6.84it/s]\n",
      "100%|██████████| 506/506 [00:23<00:00, 21.31it/s]\n"
     ]
    },
    {
     "name": "stdout",
     "output_type": "stream",
     "text": [
      "Epoch [25/25], Training Loss: 1.8610 \t Validation Losses:\n",
      "KLD: 0.2691\tCosine Similarity: 0.4828\tCross Coorelation: 0.6462\tMSE: 0.7221\n"
     ]
    },
    {
     "name": "stderr",
     "output_type": "stream",
     "text": [
      "100%|██████████| 506/506 [00:23<00:00, 21.28it/s]"
     ]
    },
    {
     "name": "stdout",
     "output_type": "stream",
     "text": [
      "Avg Reconstructive Loss: 0.4828064509\n",
      "Avg Cross FFT Loss: 0.6461752092\n",
      "Avg KLD Loss: 136.1856895089\n"
     ]
    },
    {
     "name": "stderr",
     "output_type": "stream",
     "text": [
      "\n"
     ]
    },
    {
     "data": {
      "text/plain": [
       "137.31467116903883"
      ]
     },
     "execution_count": 8,
     "metadata": {},
     "output_type": "execute_result"
    }
   ],
   "execution_count": 8
  },
  {
   "metadata": {
    "ExecuteTime": {
     "end_time": "2025-06-09T23:57:56.493042Z",
     "start_time": "2025-06-09T23:57:56.480156Z"
    }
   },
   "cell_type": "code",
   "source": [
    "from matplotlib import pyplot as plt\n",
    "import torch.nn.functional as F\n",
    "\n",
    "def diagnose_posterior_collapse(model, dataloader, device='cuda'):\n",
    "    with torch.no_grad():\n",
    "        model.eval()\n",
    "        similarities = []\n",
    "        latent_vars = []\n",
    "\n",
    "\n",
    "        for batch in tqdm(dataloader):\n",
    "            x = batch.to(device)\n",
    "\n",
    "            # Encode\n",
    "            z_mu, z_logvar = model.to_latent(x, None)\n",
    "            z1 = model.reparameterization(z_mu, z_logvar)\n",
    "            z2 = model.reparameterization(z_mu, z_logvar)  # second sample for same input\n",
    "\n",
    "            # Decode\n",
    "            x1 = model.from_latent(z1, None)\n",
    "            x2 = model.from_latent(z2, None)\n",
    "\n",
    "            # Flatten and compute cosine similarity\n",
    "            sim = F.cosine_similarity(x1.view(x1.size(0), -1), x2.view(x2.size(0), -1), dim=1)\n",
    "            similarities.append(sim.cpu())\n",
    "\n",
    "            # Track variance of latent dimensions\n",
    "            latent_vars.append(z1.cpu())\n",
    "\n",
    "    similarities = torch.cat(similarities)\n",
    "    latent_vars = torch.cat(latent_vars)\n",
    "\n",
    "    print(f\"\\n🔍 Posterior Collapse Diagnostic:\")\n",
    "    print(f\"  Avg cosine similarity (sampled reconstructions): {similarities.mean().item():.4f}\")\n",
    "    print(f\"  Std of latent dimensions (should NOT all be ~1):\")\n",
    "\n",
    "    stds = latent_vars.std(dim=0)\n",
    "    for i, std in enumerate(stds):\n",
    "        print(f\"    z[{i}]: std={std:.4f}\")\n",
    "\n",
    "    # Optional: visualize\n",
    "    plt.figure(figsize=(10, 4))\n",
    "    plt.subplot(1, 2, 1)\n",
    "    plt.hist(similarities.numpy(), bins=30)\n",
    "    plt.title(\"Cosine similarity between reconstructions\")\n",
    "    plt.subplot(1, 2, 2)\n",
    "    plt.bar(range(len(stds)), stds)\n",
    "    plt.title(\"Std of latent dimensions\")\n",
    "    plt.tight_layout()\n",
    "    plt.show()"
   ],
   "id": "98a66126abd15ec6",
   "outputs": [],
   "execution_count": 24
  },
  {
   "metadata": {
    "ExecuteTime": {
     "end_time": "2025-06-09T23:58:35.372574Z",
     "start_time": "2025-06-09T23:57:56.713652Z"
    }
   },
   "cell_type": "code",
   "source": "diagnose_posterior_collapse(model, test_dataloader)",
   "id": "8a741ad702431f49",
   "outputs": [
    {
     "name": "stderr",
     "output_type": "stream",
     "text": [
      "100%|██████████| 506/506 [00:37<00:00, 13.55it/s]\n"
     ]
    },
    {
     "name": "stdout",
     "output_type": "stream",
     "text": [
      "\n",
      "🔍 Posterior Collapse Diagnostic:\n",
      "  Avg cosine similarity (sampled reconstructions): 0.9965\n",
      "  Std of latent dimensions (should NOT all be ~1):\n",
      "    z[0]: std=0.0115\n",
      "    z[1]: std=0.0102\n",
      "    z[2]: std=0.0114\n",
      "    z[3]: std=0.0101\n",
      "    z[4]: std=0.0101\n",
      "    z[5]: std=0.0102\n",
      "    z[6]: std=0.0107\n",
      "    z[7]: std=0.0101\n",
      "    z[8]: std=0.0108\n",
      "    z[9]: std=0.0115\n",
      "    z[10]: std=0.0103\n",
      "    z[11]: std=0.0103\n",
      "    z[12]: std=0.0107\n",
      "    z[13]: std=0.0100\n",
      "    z[14]: std=0.0096\n",
      "    z[15]: std=0.0119\n",
      "    z[16]: std=0.0114\n",
      "    z[17]: std=0.0110\n",
      "    z[18]: std=0.0098\n",
      "    z[19]: std=0.0104\n",
      "    z[20]: std=0.0098\n",
      "    z[21]: std=0.0104\n",
      "    z[22]: std=0.0109\n",
      "    z[23]: std=0.0104\n",
      "    z[24]: std=0.0106\n",
      "    z[25]: std=0.0109\n",
      "    z[26]: std=0.0102\n",
      "    z[27]: std=0.0106\n",
      "    z[28]: std=0.0101\n",
      "    z[29]: std=0.0113\n",
      "    z[30]: std=0.0101\n",
      "    z[31]: std=0.0104\n",
      "    z[32]: std=0.0127\n",
      "    z[33]: std=0.0104\n",
      "    z[34]: std=0.0107\n",
      "    z[35]: std=0.0110\n",
      "    z[36]: std=0.0106\n",
      "    z[37]: std=0.0096\n",
      "    z[38]: std=0.0095\n",
      "    z[39]: std=0.0102\n",
      "    z[40]: std=0.0109\n",
      "    z[41]: std=0.0105\n",
      "    z[42]: std=0.0107\n",
      "    z[43]: std=0.0093\n",
      "    z[44]: std=0.0100\n",
      "    z[45]: std=0.0128\n",
      "    z[46]: std=0.0096\n",
      "    z[47]: std=0.0094\n",
      "    z[48]: std=0.0106\n",
      "    z[49]: std=0.0098\n",
      "    z[50]: std=0.0108\n",
      "    z[51]: std=0.0102\n",
      "    z[52]: std=0.0112\n",
      "    z[53]: std=0.0111\n",
      "    z[54]: std=0.0097\n",
      "    z[55]: std=0.0113\n",
      "    z[56]: std=0.0103\n",
      "    z[57]: std=0.0105\n",
      "    z[58]: std=0.0104\n",
      "    z[59]: std=0.0118\n",
      "    z[60]: std=0.0094\n",
      "    z[61]: std=0.0098\n",
      "    z[62]: std=0.0103\n",
      "    z[63]: std=0.0120\n",
      "    z[64]: std=0.0117\n",
      "    z[65]: std=0.0113\n",
      "    z[66]: std=0.0112\n",
      "    z[67]: std=0.0115\n",
      "    z[68]: std=0.0105\n",
      "    z[69]: std=0.0115\n",
      "    z[70]: std=0.0093\n",
      "    z[71]: std=0.0117\n",
      "    z[72]: std=0.0115\n",
      "    z[73]: std=0.0110\n",
      "    z[74]: std=0.0100\n",
      "    z[75]: std=0.0119\n",
      "    z[76]: std=0.0119\n",
      "    z[77]: std=0.0105\n",
      "    z[78]: std=0.0109\n",
      "    z[79]: std=0.0117\n",
      "    z[80]: std=0.0108\n",
      "    z[81]: std=0.0111\n",
      "    z[82]: std=0.0109\n",
      "    z[83]: std=0.0099\n",
      "    z[84]: std=0.0124\n",
      "    z[85]: std=0.0110\n",
      "    z[86]: std=0.0121\n",
      "    z[87]: std=0.0097\n",
      "    z[88]: std=0.0126\n",
      "    z[89]: std=0.0091\n",
      "    z[90]: std=0.0109\n",
      "    z[91]: std=0.0113\n",
      "    z[92]: std=0.0102\n",
      "    z[93]: std=0.0105\n",
      "    z[94]: std=0.0105\n",
      "    z[95]: std=0.0102\n",
      "    z[96]: std=0.0098\n",
      "    z[97]: std=0.0105\n",
      "    z[98]: std=0.0116\n",
      "    z[99]: std=0.0106\n",
      "    z[100]: std=0.0105\n",
      "    z[101]: std=0.0110\n",
      "    z[102]: std=0.0127\n",
      "    z[103]: std=0.0108\n",
      "    z[104]: std=0.0100\n",
      "    z[105]: std=0.0104\n",
      "    z[106]: std=0.0110\n",
      "    z[107]: std=0.0097\n",
      "    z[108]: std=0.0111\n",
      "    z[109]: std=0.0109\n",
      "    z[110]: std=0.0115\n",
      "    z[111]: std=0.0091\n",
      "    z[112]: std=0.0121\n",
      "    z[113]: std=0.0116\n",
      "    z[114]: std=0.0103\n",
      "    z[115]: std=0.0117\n",
      "    z[116]: std=0.0100\n",
      "    z[117]: std=0.0111\n",
      "    z[118]: std=0.0100\n",
      "    z[119]: std=0.0104\n",
      "    z[120]: std=0.0107\n",
      "    z[121]: std=0.0099\n",
      "    z[122]: std=0.0135\n",
      "    z[123]: std=0.0100\n",
      "    z[124]: std=0.0118\n",
      "    z[125]: std=0.0098\n",
      "    z[126]: std=0.0119\n",
      "    z[127]: std=0.0102\n"
     ]
    },
    {
     "data": {
      "text/plain": [
       "<Figure size 1000x400 with 2 Axes>"
      ],
      "image/png": "[encoded data removed]"
     },
     "metadata": {},
     "output_type": "display_data"
    }
   ],
   "execution_count": 25
  },
  {
   "metadata": {
    "ExecuteTime": {
     "end_time": "2025-06-10T00:05:14.246934Z",
     "start_time": "2025-06-09T23:59:36.771471Z"
    }
   },
   "cell_type": "code",
   "source": "diagnose_posterior_collapse(model, train_dataloader)",
   "id": "61b298b84f7d6637",
   "outputs": [
    {
     "name": "stderr",
     "output_type": "stream",
     "text": [
      "100%|██████████| 4551/4551 [05:36<00:00, 13.51it/s]\n"
     ]
    },
    {
     "name": "stdout",
     "output_type": "stream",
     "text": [
      "\n",
      "🔍 Posterior Collapse Diagnostic:\n",
      "  Avg cosine similarity (sampled reconstructions): 0.9965\n",
      "  Std of latent dimensions (should NOT all be ~1):\n",
      "    z[0]: std=0.0115\n",
      "    z[1]: std=0.0101\n",
      "    z[2]: std=0.0115\n",
      "    z[3]: std=0.0102\n",
      "    z[4]: std=0.0101\n",
      "    z[5]: std=0.0101\n",
      "    z[6]: std=0.0107\n",
      "    z[7]: std=0.0101\n",
      "    z[8]: std=0.0108\n",
      "    z[9]: std=0.0114\n",
      "    z[10]: std=0.0103\n",
      "    z[11]: std=0.0103\n",
      "    z[12]: std=0.0107\n",
      "    z[13]: std=0.0100\n",
      "    z[14]: std=0.0096\n",
      "    z[15]: std=0.0120\n",
      "    z[16]: std=0.0115\n",
      "    z[17]: std=0.0110\n",
      "    z[18]: std=0.0098\n",
      "    z[19]: std=0.0103\n",
      "    z[20]: std=0.0098\n",
      "    z[21]: std=0.0104\n",
      "    z[22]: std=0.0110\n",
      "    z[23]: std=0.0104\n",
      "    z[24]: std=0.0105\n",
      "    z[25]: std=0.0109\n",
      "    z[26]: std=0.0102\n",
      "    z[27]: std=0.0106\n",
      "    z[28]: std=0.0101\n",
      "    z[29]: std=0.0113\n",
      "    z[30]: std=0.0101\n",
      "    z[31]: std=0.0105\n",
      "    z[32]: std=0.0127\n",
      "    z[33]: std=0.0104\n",
      "    z[34]: std=0.0106\n",
      "    z[35]: std=0.0110\n",
      "    z[36]: std=0.0106\n",
      "    z[37]: std=0.0097\n",
      "    z[38]: std=0.0096\n",
      "    z[39]: std=0.0102\n",
      "    z[40]: std=0.0108\n",
      "    z[41]: std=0.0105\n",
      "    z[42]: std=0.0107\n",
      "    z[43]: std=0.0092\n",
      "    z[44]: std=0.0100\n",
      "    z[45]: std=0.0128\n",
      "    z[46]: std=0.0096\n",
      "    z[47]: std=0.0094\n",
      "    z[48]: std=0.0106\n",
      "    z[49]: std=0.0098\n",
      "    z[50]: std=0.0108\n",
      "    z[51]: std=0.0102\n",
      "    z[52]: std=0.0112\n",
      "    z[53]: std=0.0110\n",
      "    z[54]: std=0.0098\n",
      "    z[55]: std=0.0113\n",
      "    z[56]: std=0.0104\n",
      "    z[57]: std=0.0106\n",
      "    z[58]: std=0.0105\n",
      "    z[59]: std=0.0118\n",
      "    z[60]: std=0.0093\n",
      "    z[61]: std=0.0099\n",
      "    z[62]: std=0.0103\n",
      "    z[63]: std=0.0120\n",
      "    z[64]: std=0.0116\n",
      "    z[65]: std=0.0113\n",
      "    z[66]: std=0.0113\n",
      "    z[67]: std=0.0114\n",
      "    z[68]: std=0.0105\n",
      "    z[69]: std=0.0115\n",
      "    z[70]: std=0.0094\n",
      "    z[71]: std=0.0117\n",
      "    z[72]: std=0.0114\n",
      "    z[73]: std=0.0111\n",
      "    z[74]: std=0.0101\n",
      "    z[75]: std=0.0120\n",
      "    z[76]: std=0.0119\n",
      "    z[77]: std=0.0106\n",
      "    z[78]: std=0.0109\n",
      "    z[79]: std=0.0116\n",
      "    z[80]: std=0.0107\n",
      "    z[81]: std=0.0112\n",
      "    z[82]: std=0.0108\n",
      "    z[83]: std=0.0100\n",
      "    z[84]: std=0.0124\n",
      "    z[85]: std=0.0109\n",
      "    z[86]: std=0.0122\n",
      "    z[87]: std=0.0097\n",
      "    z[88]: std=0.0126\n",
      "    z[89]: std=0.0090\n",
      "    z[90]: std=0.0108\n",
      "    z[91]: std=0.0114\n",
      "    z[92]: std=0.0103\n",
      "    z[93]: std=0.0106\n",
      "    z[94]: std=0.0106\n",
      "    z[95]: std=0.0102\n",
      "    z[96]: std=0.0098\n",
      "    z[97]: std=0.0104\n",
      "    z[98]: std=0.0116\n",
      "    z[99]: std=0.0106\n",
      "    z[100]: std=0.0106\n",
      "    z[101]: std=0.0109\n",
      "    z[102]: std=0.0126\n",
      "    z[103]: std=0.0107\n",
      "    z[104]: std=0.0101\n",
      "    z[105]: std=0.0103\n",
      "    z[106]: std=0.0109\n",
      "    z[107]: std=0.0096\n",
      "    z[108]: std=0.0111\n",
      "    z[109]: std=0.0110\n",
      "    z[110]: std=0.0115\n",
      "    z[111]: std=0.0091\n",
      "    z[112]: std=0.0122\n",
      "    z[113]: std=0.0117\n",
      "    z[114]: std=0.0103\n",
      "    z[115]: std=0.0118\n",
      "    z[116]: std=0.0099\n",
      "    z[117]: std=0.0111\n",
      "    z[118]: std=0.0101\n",
      "    z[119]: std=0.0104\n",
      "    z[120]: std=0.0107\n",
      "    z[121]: std=0.0098\n",
      "    z[122]: std=0.0136\n",
      "    z[123]: std=0.0100\n",
      "    z[124]: std=0.0118\n",
      "    z[125]: std=0.0098\n",
      "    z[126]: std=0.0118\n",
      "    z[127]: std=0.0104\n"
     ]
    },
    {
     "data": {
      "text/plain": [
       "<Figure size 1000x400 with 2 Axes>"
      ],
      "image/png": "[encoded data removed]"
     },
     "metadata": {},
     "output_type": "display_data"
    }
   ],
   "execution_count": 26
  },
  {
   "metadata": {
    "ExecuteTime": {
     "end_time": "2025-06-09T10:14:45.719408Z",
     "start_time": "2025-06-09T05:19:31.637746Z"
    }
   },
   "cell_type": "code",
   "source": [
    "# Variational Flash Attention Cyclical Modified\n",
    "# Coeff 0.3, cycles of 5, 25 epochs\n",
    "train(model, train_dataloader, test_dataloader, optimizer, cycle_length=5, coeff=0.3, num_epochs=25, device=device, loss_func=combined_loss)\n",
    "evaluate(model, test_dataloader)"
   ],
   "id": "8990d858bfa8028c",
   "outputs": [
    {
     "name": "stderr",
     "output_type": "stream",
     "text": [
      "100%|██████████| 4551/4551 [11:37<00:00,  6.53it/s]\n",
      "100%|██████████| 506/506 [00:23<00:00, 21.62it/s]\n"
     ]
    },
    {
     "name": "stdout",
     "output_type": "stream",
     "text": [
      "Epoch [1/25], Training Loss: 1.4659 \t Validation Losses:\n",
      "KLD: 2096.9374\tCosine Similarity: 0.5981\tCross Coorelation: 0.7140\n"
     ]
    },
    {
     "name": "stderr",
     "output_type": "stream",
     "text": [
      "100%|██████████| 4551/4551 [11:20<00:00,  6.69it/s]\n",
      "100%|██████████| 506/506 [00:23<00:00, 21.72it/s]\n"
     ]
    },
    {
     "name": "stdout",
     "output_type": "stream",
     "text": [
      "Epoch [2/25], Training Loss: 1.3465 \t Validation Losses:\n",
      "KLD: 5.4048\tCosine Similarity: 0.5670\tCross Coorelation: 0.7004\n"
     ]
    },
    {
     "name": "stderr",
     "output_type": "stream",
     "text": [
      "100%|██████████| 4551/4551 [11:21<00:00,  6.68it/s]\n",
      "100%|██████████| 506/506 [00:23<00:00, 21.75it/s]\n"
     ]
    },
    {
     "name": "stdout",
     "output_type": "stream",
     "text": [
      "Epoch [3/25], Training Loss: 1.2406 \t Validation Losses:\n",
      "KLD: 3.0111\tCosine Similarity: 0.5106\tCross Coorelation: 0.6663\n"
     ]
    },
    {
     "name": "stderr",
     "output_type": "stream",
     "text": [
      "100%|██████████| 4551/4551 [11:21<00:00,  6.68it/s]\n",
      "100%|██████████| 506/506 [00:23<00:00, 21.72it/s]\n"
     ]
    },
    {
     "name": "stdout",
     "output_type": "stream",
     "text": [
      "Epoch [4/25], Training Loss: 1.1807 \t Validation Losses:\n",
      "KLD: 2.3831\tCosine Similarity: 0.4909\tCross Coorelation: 0.6500\n"
     ]
    },
    {
     "name": "stderr",
     "output_type": "stream",
     "text": [
      "100%|██████████| 4551/4551 [11:20<00:00,  6.69it/s]\n",
      "100%|██████████| 506/506 [00:23<00:00, 21.57it/s]\n"
     ]
    },
    {
     "name": "stdout",
     "output_type": "stream",
     "text": [
      "Epoch [5/25], Training Loss: 1.1409 \t Validation Losses:\n",
      "KLD: 100.0427\tCosine Similarity: 0.4714\tCross Coorelation: 0.6303\n"
     ]
    },
    {
     "name": "stderr",
     "output_type": "stream",
     "text": [
      "100%|██████████| 4551/4551 [11:21<00:00,  6.68it/s]\n",
      "100%|██████████| 506/506 [00:23<00:00, 21.74it/s]\n"
     ]
    },
    {
     "name": "stdout",
     "output_type": "stream",
     "text": [
      "Epoch [6/25], Training Loss: 1.0802 \t Validation Losses:\n",
      "KLD: 19.4910\tCosine Similarity: 0.4432\tCross Coorelation: 0.6089\n"
     ]
    },
    {
     "name": "stderr",
     "output_type": "stream",
     "text": [
      "100%|██████████| 4551/4551 [11:21<00:00,  6.68it/s]\n",
      "100%|██████████| 506/506 [00:23<00:00, 21.74it/s]\n"
     ]
    },
    {
     "name": "stdout",
     "output_type": "stream",
     "text": [
      "Epoch [7/25], Training Loss: 1.0829 \t Validation Losses:\n",
      "KLD: 1.5605\tCosine Similarity: 0.4439\tCross Coorelation: 0.6079\n"
     ]
    },
    {
     "name": "stderr",
     "output_type": "stream",
     "text": [
      "100%|██████████| 4551/4551 [11:21<00:00,  6.68it/s]\n",
      "100%|██████████| 506/506 [00:23<00:00, 21.68it/s]\n"
     ]
    },
    {
     "name": "stdout",
     "output_type": "stream",
     "text": [
      "Epoch [8/25], Training Loss: 1.0723 \t Validation Losses:\n",
      "KLD: 1.3643\tCosine Similarity: 0.4382\tCross Coorelation: 0.6027\n"
     ]
    },
    {
     "name": "stderr",
     "output_type": "stream",
     "text": [
      "100%|██████████| 4551/4551 [11:23<00:00,  6.66it/s]\n",
      "100%|██████████| 506/506 [00:23<00:00, 21.69it/s]\n"
     ]
    },
    {
     "name": "stdout",
     "output_type": "stream",
     "text": [
      "Epoch [9/25], Training Loss: 1.0584 \t Validation Losses:\n",
      "KLD: 1.1441\tCosine Similarity: 0.4328\tCross Coorelation: 0.5952\n"
     ]
    },
    {
     "name": "stderr",
     "output_type": "stream",
     "text": [
      "100%|██████████| 4551/4551 [11:20<00:00,  6.69it/s]\n",
      "100%|██████████| 506/506 [00:23<00:00, 21.72it/s]\n"
     ]
    },
    {
     "name": "stdout",
     "output_type": "stream",
     "text": [
      "Epoch [10/25], Training Loss: 1.0403 \t Validation Losses:\n",
      "KLD: 36.5079\tCosine Similarity: 0.4230\tCross Coorelation: 0.5861\n"
     ]
    },
    {
     "name": "stderr",
     "output_type": "stream",
     "text": [
      "100%|██████████| 4551/4551 [11:19<00:00,  6.70it/s]\n",
      "100%|██████████| 506/506 [00:23<00:00, 21.80it/s]\n"
     ]
    },
    {
     "name": "stdout",
     "output_type": "stream",
     "text": [
      "Epoch [11/25], Training Loss: 1.0152 \t Validation Losses:\n",
      "KLD: 2.6248\tCosine Similarity: 0.4167\tCross Coorelation: 0.5786\n"
     ]
    },
    {
     "name": "stderr",
     "output_type": "stream",
     "text": [
      "100%|██████████| 4551/4551 [11:20<00:00,  6.69it/s]\n",
      "100%|██████████| 506/506 [00:23<00:00, 21.79it/s]\n"
     ]
    },
    {
     "name": "stdout",
     "output_type": "stream",
     "text": [
      "Epoch [12/25], Training Loss: 1.0230 \t Validation Losses:\n",
      "KLD: 0.9594\tCosine Similarity: 0.4185\tCross Coorelation: 0.5779\n"
     ]
    },
    {
     "name": "stderr",
     "output_type": "stream",
     "text": [
      "100%|██████████| 4551/4551 [11:20<00:00,  6.69it/s]\n",
      "100%|██████████| 506/506 [00:23<00:00, 21.76it/s]\n"
     ]
    },
    {
     "name": "stdout",
     "output_type": "stream",
     "text": [
      "Epoch [13/25], Training Loss: 1.0156 \t Validation Losses:\n",
      "KLD: 0.7622\tCosine Similarity: 0.4137\tCross Coorelation: 0.5742\n"
     ]
    },
    {
     "name": "stderr",
     "output_type": "stream",
     "text": [
      "100%|██████████| 4551/4551 [11:19<00:00,  6.69it/s]\n",
      "100%|██████████| 506/506 [00:23<00:00, 21.71it/s]\n"
     ]
    },
    {
     "name": "stdout",
     "output_type": "stream",
     "text": [
      "Epoch [14/25], Training Loss: 1.0086 \t Validation Losses:\n",
      "KLD: 0.6407\tCosine Similarity: 0.4120\tCross Coorelation: 0.5715\n"
     ]
    },
    {
     "name": "stderr",
     "output_type": "stream",
     "text": [
      "100%|██████████| 4551/4551 [11:20<00:00,  6.69it/s]\n",
      "100%|██████████| 506/506 [00:23<00:00, 21.74it/s]\n"
     ]
    },
    {
     "name": "stdout",
     "output_type": "stream",
     "text": [
      "Epoch [15/25], Training Loss: 0.9948 \t Validation Losses:\n",
      "KLD: 7.5179\tCosine Similarity: 0.4064\tCross Coorelation: 0.5677\n"
     ]
    },
    {
     "name": "stderr",
     "output_type": "stream",
     "text": [
      "100%|██████████| 4551/4551 [11:20<00:00,  6.69it/s]\n",
      "100%|██████████| 506/506 [00:23<00:00, 21.76it/s]\n"
     ]
    },
    {
     "name": "stdout",
     "output_type": "stream",
     "text": [
      "Epoch [16/25], Training Loss: 0.9852 \t Validation Losses:\n",
      "KLD: 0.7667\tCosine Similarity: 0.4053\tCross Coorelation: 0.5652\n"
     ]
    },
    {
     "name": "stderr",
     "output_type": "stream",
     "text": [
      "100%|██████████| 4551/4551 [11:20<00:00,  6.69it/s]\n",
      "100%|██████████| 506/506 [00:23<00:00, 21.76it/s]\n"
     ]
    },
    {
     "name": "stdout",
     "output_type": "stream",
     "text": [
      "Epoch [17/25], Training Loss: 0.9919 \t Validation Losses:\n",
      "KLD: 0.4904\tCosine Similarity: 0.4039\tCross Coorelation: 0.5635\n"
     ]
    },
    {
     "name": "stderr",
     "output_type": "stream",
     "text": [
      "100%|██████████| 4551/4551 [11:20<00:00,  6.68it/s]\n",
      "100%|██████████| 506/506 [00:23<00:00, 21.67it/s]\n"
     ]
    },
    {
     "name": "stdout",
     "output_type": "stream",
     "text": [
      "Epoch [18/25], Training Loss: 0.9880 \t Validation Losses:\n",
      "KLD: 0.4418\tCosine Similarity: 0.4031\tCross Coorelation: 0.5627\n"
     ]
    },
    {
     "name": "stderr",
     "output_type": "stream",
     "text": [
      "100%|██████████| 4551/4551 [11:20<00:00,  6.69it/s]\n",
      "100%|██████████| 506/506 [00:23<00:00, 21.75it/s]\n"
     ]
    },
    {
     "name": "stdout",
     "output_type": "stream",
     "text": [
      "Epoch [19/25], Training Loss: 0.9846 \t Validation Losses:\n",
      "KLD: 0.3698\tCosine Similarity: 0.4014\tCross Coorelation: 0.5613\n"
     ]
    },
    {
     "name": "stderr",
     "output_type": "stream",
     "text": [
      "100%|██████████| 4551/4551 [11:20<00:00,  6.69it/s]\n",
      "100%|██████████| 506/506 [00:23<00:00, 21.70it/s]\n"
     ]
    },
    {
     "name": "stdout",
     "output_type": "stream",
     "text": [
      "Epoch [20/25], Training Loss: 0.9735 \t Validation Losses:\n",
      "KLD: 2.7572\tCosine Similarity: 0.3999\tCross Coorelation: 0.5603\n"
     ]
    },
    {
     "name": "stderr",
     "output_type": "stream",
     "text": [
      "100%|██████████| 4551/4551 [11:21<00:00,  6.68it/s]\n",
      "100%|██████████| 506/506 [00:23<00:00, 21.76it/s]\n"
     ]
    },
    {
     "name": "stdout",
     "output_type": "stream",
     "text": [
      "Epoch [21/25], Training Loss: 0.9735 \t Validation Losses:\n",
      "KLD: 0.3892\tCosine Similarity: 0.3990\tCross Coorelation: 0.5591\n"
     ]
    },
    {
     "name": "stderr",
     "output_type": "stream",
     "text": [
      "100%|██████████| 4551/4551 [11:22<00:00,  6.67it/s]\n",
      "100%|██████████| 506/506 [00:23<00:00, 21.73it/s]\n"
     ]
    },
    {
     "name": "stdout",
     "output_type": "stream",
     "text": [
      "Epoch [22/25], Training Loss: 0.9787 \t Validation Losses:\n",
      "KLD: 0.3236\tCosine Similarity: 0.3990\tCross Coorelation: 0.5589\n"
     ]
    },
    {
     "name": "stderr",
     "output_type": "stream",
     "text": [
      "100%|██████████| 4551/4551 [11:20<00:00,  6.69it/s]\n",
      "100%|██████████| 506/506 [00:23<00:00, 21.74it/s]\n"
     ]
    },
    {
     "name": "stdout",
     "output_type": "stream",
     "text": [
      "Epoch [23/25], Training Loss: 0.9772 \t Validation Losses:\n",
      "KLD: 0.2907\tCosine Similarity: 0.3986\tCross Coorelation: 0.5588\n"
     ]
    },
    {
     "name": "stderr",
     "output_type": "stream",
     "text": [
      "100%|██████████| 4551/4551 [11:20<00:00,  6.69it/s]\n",
      "100%|██████████| 506/506 [00:23<00:00, 21.74it/s]\n"
     ]
    },
    {
     "name": "stdout",
     "output_type": "stream",
     "text": [
      "Epoch [24/25], Training Loss: 0.9765 \t Validation Losses:\n",
      "KLD: 0.2802\tCosine Similarity: 0.3983\tCross Coorelation: 0.5585\n"
     ]
    },
    {
     "name": "stderr",
     "output_type": "stream",
     "text": [
      "100%|██████████| 4551/4551 [11:21<00:00,  6.68it/s]\n",
      "100%|██████████| 506/506 [00:23<00:00, 21.74it/s]\n"
     ]
    },
    {
     "name": "stdout",
     "output_type": "stream",
     "text": [
      "Epoch [25/25], Training Loss: 0.9680 \t Validation Losses:\n",
      "KLD: 0.5649\tCosine Similarity: 0.3981\tCross Coorelation: 0.5588\n"
     ]
    },
    {
     "name": "stderr",
     "output_type": "stream",
     "text": [
      "100%|██████████| 506/506 [00:25<00:00, 20.15it/s]"
     ]
    },
    {
     "name": "stdout",
     "output_type": "stream",
     "text": [
      "Avg Reconstructive Loss: 0.3981332791\n",
      "Avg Cross FFT Loss: 0.5587440845\n",
      "Avg KLD Loss: 285.8182881773\n"
     ]
    },
    {
     "name": "stderr",
     "output_type": "stream",
     "text": [
      "\n"
     ]
    },
    {
     "data": {
      "text/plain": [
       "286.77516554078096"
      ]
     },
     "execution_count": 8,
     "metadata": {},
     "output_type": "execute_result"
    }
   ],
   "execution_count": 8
  },
  {
   "metadata": {
    "ExecuteTime": {
     "end_time": "2025-06-09T05:12:31.869060Z",
     "start_time": "2025-06-08T22:58:34.044001Z"
    }
   },
   "cell_type": "code",
   "source": [
    "# Variational Flash Attention Cyclical Modified\n",
    "# Coeff 0.1, cycles of 3, 27 epochs\n",
    "train(model, train_dataloader, test_dataloader, optimizer, cycle_length=5, num_epochs=25, device=device, loss_func=combined_loss)\n",
    "evaluate(model, test_dataloader)"
   ],
   "id": "e174216a23ffdb23",
   "outputs": [
    {
     "name": "stderr",
     "output_type": "stream",
     "text": [
      "100%|██████████| 4551/4551 [11:53<00:00,  6.38it/s]\n",
      "100%|██████████| 506/506 [00:22<00:00, 22.17it/s]\n"
     ]
    },
    {
     "name": "stdout",
     "output_type": "stream",
     "text": [
      "Epoch [1/27], Training Loss: 1.4703 \t Validation Losses:\n",
      "KLD: 7177.8987\tCosine Similarity: 0.6078\tCross Coorelation: 0.7160\n"
     ]
    },
    {
     "name": "stderr",
     "output_type": "stream",
     "text": [
      "100%|██████████| 4551/4551 [11:22<00:00,  6.67it/s]\n",
      "100%|██████████| 506/506 [00:23<00:00, 21.68it/s]\n"
     ]
    },
    {
     "name": "stdout",
     "output_type": "stream",
     "text": [
      "Epoch [2/27], Training Loss: 1.3440 \t Validation Losses:\n",
      "KLD: 42.6100\tCosine Similarity: 0.5658\tCross Coorelation: 0.6970\n"
     ]
    },
    {
     "name": "stderr",
     "output_type": "stream",
     "text": [
      "100%|██████████| 4551/4551 [12:44<00:00,  5.95it/s]\n",
      "100%|██████████| 506/506 [00:28<00:00, 18.01it/s]\n"
     ]
    },
    {
     "name": "stdout",
     "output_type": "stream",
     "text": [
      "Epoch [3/27], Training Loss: 1.2533 \t Validation Losses:\n",
      "KLD: 20.0302\tCosine Similarity: 0.5240\tCross Coorelation: 0.6696\n"
     ]
    },
    {
     "name": "stderr",
     "output_type": "stream",
     "text": [
      "100%|██████████| 4551/4551 [11:50<00:00,  6.41it/s]\n",
      "100%|██████████| 506/506 [00:23<00:00, 21.40it/s]\n"
     ]
    },
    {
     "name": "stdout",
     "output_type": "stream",
     "text": [
      "Epoch [4/27], Training Loss: 1.1556 \t Validation Losses:\n",
      "KLD: 1717.6994\tCosine Similarity: 0.4759\tCross Coorelation: 0.6295\n"
     ]
    },
    {
     "name": "stderr",
     "output_type": "stream",
     "text": [
      "100%|██████████| 4551/4551 [12:27<00:00,  6.09it/s]\n",
      "100%|██████████| 506/506 [00:28<00:00, 17.86it/s]\n"
     ]
    },
    {
     "name": "stdout",
     "output_type": "stream",
     "text": [
      "Epoch [5/27], Training Loss: 1.1198 \t Validation Losses:\n",
      "KLD: 8.2819\tCosine Similarity: 0.4757\tCross Coorelation: 0.6255\n"
     ]
    },
    {
     "name": "stderr",
     "output_type": "stream",
     "text": [
      "100%|██████████| 4551/4551 [14:06<00:00,  5.37it/s]\n",
      "100%|██████████| 506/506 [00:29<00:00, 17.11it/s]\n"
     ]
    },
    {
     "name": "stdout",
     "output_type": "stream",
     "text": [
      "Epoch [6/27], Training Loss: 1.1093 \t Validation Losses:\n",
      "KLD: 5.5196\tCosine Similarity: 0.4615\tCross Coorelation: 0.6121\n"
     ]
    },
    {
     "name": "stderr",
     "output_type": "stream",
     "text": [
      "100%|██████████| 4551/4551 [14:04<00:00,  5.39it/s]\n",
      "100%|██████████| 506/506 [00:29<00:00, 17.34it/s]\n"
     ]
    },
    {
     "name": "stdout",
     "output_type": "stream",
     "text": [
      "Epoch [7/27], Training Loss: 1.0710 \t Validation Losses:\n",
      "KLD: 1159.9098\tCosine Similarity: 0.4429\tCross Coorelation: 0.5955\n"
     ]
    },
    {
     "name": "stderr",
     "output_type": "stream",
     "text": [
      "100%|██████████| 4551/4551 [12:11<00:00,  6.22it/s]\n",
      "100%|██████████| 506/506 [00:22<00:00, 22.43it/s]\n"
     ]
    },
    {
     "name": "stdout",
     "output_type": "stream",
     "text": [
      "Epoch [8/27], Training Loss: 1.0512 \t Validation Losses:\n",
      "KLD: 5.0563\tCosine Similarity: 0.4435\tCross Coorelation: 0.5910\n"
     ]
    },
    {
     "name": "stderr",
     "output_type": "stream",
     "text": [
      "100%|██████████| 4551/4551 [11:47<00:00,  6.44it/s]\n",
      "100%|██████████| 506/506 [00:26<00:00, 18.92it/s]\n"
     ]
    },
    {
     "name": "stdout",
     "output_type": "stream",
     "text": [
      "Epoch [9/27], Training Loss: 1.0511 \t Validation Losses:\n",
      "KLD: 3.4026\tCosine Similarity: 0.4367\tCross Coorelation: 0.5862\n"
     ]
    },
    {
     "name": "stderr",
     "output_type": "stream",
     "text": [
      "100%|██████████| 4551/4551 [13:00<00:00,  5.83it/s]\n",
      "100%|██████████| 506/506 [00:26<00:00, 19.07it/s]\n"
     ]
    },
    {
     "name": "stdout",
     "output_type": "stream",
     "text": [
      "Epoch [10/27], Training Loss: 1.0307 \t Validation Losses:\n",
      "KLD: 665.8492\tCosine Similarity: 0.4293\tCross Coorelation: 0.5783\n"
     ]
    },
    {
     "name": "stderr",
     "output_type": "stream",
     "text": [
      "100%|██████████| 4551/4551 [13:34<00:00,  5.59it/s]\n",
      "100%|██████████| 506/506 [00:28<00:00, 17.72it/s]\n"
     ]
    },
    {
     "name": "stdout",
     "output_type": "stream",
     "text": [
      "Epoch [11/27], Training Loss: 1.0154 \t Validation Losses:\n",
      "KLD: 3.8499\tCosine Similarity: 0.4276\tCross Coorelation: 0.5746\n"
     ]
    },
    {
     "name": "stderr",
     "output_type": "stream",
     "text": [
      "100%|██████████| 4551/4551 [14:54<00:00,  5.09it/s]\n",
      "100%|██████████| 506/506 [00:37<00:00, 13.63it/s]\n"
     ]
    },
    {
     "name": "stdout",
     "output_type": "stream",
     "text": [
      "Epoch [12/27], Training Loss: 1.0182 \t Validation Losses:\n",
      "KLD: 2.5155\tCosine Similarity: 0.4236\tCross Coorelation: 0.5706\n"
     ]
    },
    {
     "name": "stderr",
     "output_type": "stream",
     "text": [
      "100%|██████████| 4551/4551 [17:06<00:00,  4.44it/s]\n",
      "100%|██████████| 506/506 [00:27<00:00, 18.13it/s]\n"
     ]
    },
    {
     "name": "stdout",
     "output_type": "stream",
     "text": [
      "Epoch [13/27], Training Loss: 1.0056 \t Validation Losses:\n",
      "KLD: 17.7569\tCosine Similarity: 0.4205\tCross Coorelation: 0.5678\n"
     ]
    },
    {
     "name": "stderr",
     "output_type": "stream",
     "text": [
      "100%|██████████| 4551/4551 [14:10<00:00,  5.35it/s]\n",
      "100%|██████████| 506/506 [00:27<00:00, 18.39it/s]\n"
     ]
    },
    {
     "name": "stdout",
     "output_type": "stream",
     "text": [
      "Epoch [14/27], Training Loss: 0.9954 \t Validation Losses:\n",
      "KLD: 2.8769\tCosine Similarity: 0.4170\tCross Coorelation: 0.5641\n"
     ]
    },
    {
     "name": "stderr",
     "output_type": "stream",
     "text": [
      "100%|██████████| 4551/4551 [13:21<00:00,  5.68it/s]\n",
      "100%|██████████| 506/506 [00:27<00:00, 18.31it/s]\n"
     ]
    },
    {
     "name": "stdout",
     "output_type": "stream",
     "text": [
      "Epoch [15/27], Training Loss: 0.9993 \t Validation Losses:\n",
      "KLD: 1.7062\tCosine Similarity: 0.4169\tCross Coorelation: 0.5636\n"
     ]
    },
    {
     "name": "stderr",
     "output_type": "stream",
     "text": [
      "100%|██████████| 4551/4551 [14:22<00:00,  5.27it/s]\n",
      "100%|██████████| 506/506 [00:30<00:00, 16.86it/s]\n"
     ]
    },
    {
     "name": "stdout",
     "output_type": "stream",
     "text": [
      "Epoch [16/27], Training Loss: 0.9918 \t Validation Losses:\n",
      "KLD: 8.5115\tCosine Similarity: 0.4143\tCross Coorelation: 0.5606\n"
     ]
    },
    {
     "name": "stderr",
     "output_type": "stream",
     "text": [
      "100%|██████████| 4551/4551 [13:51<00:00,  5.48it/s]\n",
      "100%|██████████| 506/506 [00:22<00:00, 22.29it/s]\n"
     ]
    },
    {
     "name": "stdout",
     "output_type": "stream",
     "text": [
      "Epoch [17/27], Training Loss: 0.9824 \t Validation Losses:\n",
      "KLD: 3.0427\tCosine Similarity: 0.4130\tCross Coorelation: 0.5586\n"
     ]
    },
    {
     "name": "stderr",
     "output_type": "stream",
     "text": [
      "100%|██████████| 4551/4551 [13:42<00:00,  5.53it/s]\n",
      "100%|██████████| 506/506 [00:28<00:00, 17.46it/s]\n"
     ]
    },
    {
     "name": "stdout",
     "output_type": "stream",
     "text": [
      "Epoch [18/27], Training Loss: 0.9865 \t Validation Losses:\n",
      "KLD: 1.2683\tCosine Similarity: 0.4128\tCross Coorelation: 0.5587\n"
     ]
    },
    {
     "name": "stderr",
     "output_type": "stream",
     "text": [
      "100%|██████████| 4551/4551 [14:21<00:00,  5.28it/s]\n",
      "100%|██████████| 506/506 [00:29<00:00, 16.92it/s]\n"
     ]
    },
    {
     "name": "stdout",
     "output_type": "stream",
     "text": [
      "Epoch [19/27], Training Loss: 0.9823 \t Validation Losses:\n",
      "KLD: 5.4231\tCosine Similarity: 0.4116\tCross Coorelation: 0.5576\n"
     ]
    },
    {
     "name": "stderr",
     "output_type": "stream",
     "text": [
      "100%|██████████| 4551/4551 [14:35<00:00,  5.20it/s]\n",
      "100%|██████████| 506/506 [00:29<00:00, 16.89it/s]\n"
     ]
    },
    {
     "name": "stdout",
     "output_type": "stream",
     "text": [
      "Epoch [20/27], Training Loss: 0.9741 \t Validation Losses:\n",
      "KLD: 3.4889\tCosine Similarity: 0.4099\tCross Coorelation: 0.5560\n"
     ]
    },
    {
     "name": "stderr",
     "output_type": "stream",
     "text": [
      "100%|██████████| 4551/4551 [13:25<00:00,  5.65it/s]\n",
      "100%|██████████| 506/506 [00:27<00:00, 18.27it/s]\n"
     ]
    },
    {
     "name": "stdout",
     "output_type": "stream",
     "text": [
      "Epoch [21/27], Training Loss: 0.9784 \t Validation Losses:\n",
      "KLD: 0.8991\tCosine Similarity: 0.4090\tCross Coorelation: 0.5549\n"
     ]
    },
    {
     "name": "stderr",
     "output_type": "stream",
     "text": [
      "100%|██████████| 4551/4551 [14:11<00:00,  5.34it/s]\n",
      "100%|██████████| 506/506 [00:30<00:00, 16.81it/s]\n"
     ]
    },
    {
     "name": "stdout",
     "output_type": "stream",
     "text": [
      "Epoch [22/27], Training Loss: 0.9768 \t Validation Losses:\n",
      "KLD: 2.8731\tCosine Similarity: 0.4092\tCross Coorelation: 0.5548\n"
     ]
    },
    {
     "name": "stderr",
     "output_type": "stream",
     "text": [
      "100%|██████████| 4551/4551 [13:32<00:00,  5.60it/s]\n",
      "100%|██████████| 506/506 [00:26<00:00, 19.06it/s]\n"
     ]
    },
    {
     "name": "stdout",
     "output_type": "stream",
     "text": [
      "Epoch [23/27], Training Loss: 0.9692 \t Validation Losses:\n",
      "KLD: 2.8398\tCosine Similarity: 0.4078\tCross Coorelation: 0.5539\n"
     ]
    },
    {
     "name": "stderr",
     "output_type": "stream",
     "text": [
      "100%|██████████| 4551/4551 [12:37<00:00,  6.01it/s]\n",
      "100%|██████████| 506/506 [00:25<00:00, 20.22it/s]\n"
     ]
    },
    {
     "name": "stdout",
     "output_type": "stream",
     "text": [
      "Epoch [24/27], Training Loss: 0.9737 \t Validation Losses:\n",
      "KLD: 0.7841\tCosine Similarity: 0.4074\tCross Coorelation: 0.5536\n"
     ]
    },
    {
     "name": "stderr",
     "output_type": "stream",
     "text": [
      "100%|██████████| 4551/4551 [12:10<00:00,  6.23it/s]\n",
      "100%|██████████| 506/506 [00:24<00:00, 20.24it/s]\n"
     ]
    },
    {
     "name": "stdout",
     "output_type": "stream",
     "text": [
      "Epoch [25/27], Training Loss: 0.9746 \t Validation Losses:\n",
      "KLD: 1.3063\tCosine Similarity: 0.4075\tCross Coorelation: 0.5538\n"
     ]
    },
    {
     "name": "stderr",
     "output_type": "stream",
     "text": [
      "100%|██████████| 4551/4551 [12:12<00:00,  6.21it/s]\n",
      "100%|██████████| 506/506 [00:24<00:00, 20.26it/s]\n"
     ]
    },
    {
     "name": "stdout",
     "output_type": "stream",
     "text": [
      "Epoch [26/27], Training Loss: 0.9674 \t Validation Losses:\n",
      "KLD: 2.0533\tCosine Similarity: 0.4071\tCross Coorelation: 0.5534\n"
     ]
    },
    {
     "name": "stderr",
     "output_type": "stream",
     "text": [
      "100%|██████████| 4551/4551 [12:12<00:00,  6.22it/s]\n",
      "100%|██████████| 506/506 [00:25<00:00, 20.18it/s]\n"
     ]
    },
    {
     "name": "stdout",
     "output_type": "stream",
     "text": [
      "Epoch [27/27], Training Loss: 0.9724 \t Validation Losses:\n",
      "KLD: 1.0926\tCosine Similarity: 0.4074\tCross Coorelation: 0.5528\n"
     ]
    },
    {
     "name": "stderr",
     "output_type": "stream",
     "text": [
      "100%|██████████| 506/506 [00:28<00:00, 17.64it/s]"
     ]
    },
    {
     "name": "stdout",
     "output_type": "stream",
     "text": [
      "Avg Reconstructive Loss: 0.4074090921\n",
      "Avg Cross FFT Loss: 0.5527993047\n",
      "Avg KLD Loss: 552.8645509481\n"
     ]
    },
    {
     "name": "stderr",
     "output_type": "stream",
     "text": [
      "\n"
     ]
    },
    {
     "data": {
      "text/plain": [
       "553.8247593449274"
      ]
     },
     "execution_count": 8,
     "metadata": {},
     "output_type": "execute_result"
    }
   ],
   "execution_count": 8
  },
  {
   "metadata": {
    "ExecuteTime": {
     "end_time": "2025-06-08T22:51:21.895087Z",
     "start_time": "2025-06-08T21:18:12.946691Z"
    }
   },
   "cell_type": "code",
   "source": [
    "# Variational Flash Attention Cyclical\n",
    "train(model, train_dataloader, test_dataloader, optimizer, cycle_length=3, num_epochs=27, device=device, loss_func=combined_loss)\n",
    "evaluate(model, test_dataloader)"
   ],
   "id": "dc787c0f9bb1c85d",
   "outputs": [
    {
     "name": "stderr",
     "output_type": "stream",
     "text": [
      "100%|██████████| 4551/4551 [13:25<00:00,  5.65it/s]\n",
      "100%|██████████| 506/506 [00:28<00:00, 17.53it/s]\n"
     ]
    },
    {
     "name": "stdout",
     "output_type": "stream",
     "text": [
      "Epoch [1/25], Training Loss: 1.4636 \t Validation Losses:\n",
      "KLD: 28125.8300\tCosine Similarity: 0.5894\tCross Coorelation: 0.7125\n"
     ]
    },
    {
     "name": "stderr",
     "output_type": "stream",
     "text": [
      "100%|██████████| 4551/4551 [13:54<00:00,  5.45it/s]\n",
      "100%|██████████| 506/506 [00:30<00:00, 16.50it/s]\n"
     ]
    },
    {
     "name": "stdout",
     "output_type": "stream",
     "text": [
      "Epoch [2/25], Training Loss: 1.2612 \t Validation Losses:\n",
      "KLD: 47554.1858\tCosine Similarity: 0.5164\tCross Coorelation: 0.6755\n"
     ]
    },
    {
     "name": "stderr",
     "output_type": "stream",
     "text": [
      "100%|██████████| 4551/4551 [13:32<00:00,  5.60it/s]\n",
      "100%|██████████| 506/506 [00:24<00:00, 20.77it/s]\n"
     ]
    },
    {
     "name": "stdout",
     "output_type": "stream",
     "text": [
      "Epoch [3/25], Training Loss: 1.1683 \t Validation Losses:\n",
      "KLD: 57272.0594\tCosine Similarity: 0.4830\tCross Coorelation: 0.6475\n"
     ]
    },
    {
     "name": "stderr",
     "output_type": "stream",
     "text": [
      "100%|██████████| 4551/4551 [11:30<00:00,  6.59it/s]\n",
      "100%|██████████| 506/506 [00:24<00:00, 20.64it/s]\n"
     ]
    },
    {
     "name": "stdout",
     "output_type": "stream",
     "text": [
      "Epoch [4/25], Training Loss: 1.1178 \t Validation Losses:\n",
      "KLD: 67691.1982\tCosine Similarity: 0.4598\tCross Coorelation: 0.6283\n"
     ]
    },
    {
     "name": "stderr",
     "output_type": "stream",
     "text": [
      "100%|██████████| 4551/4551 [11:44<00:00,  6.46it/s]\n",
      "100%|██████████| 506/506 [00:23<00:00, 21.95it/s]\n"
     ]
    },
    {
     "name": "stdout",
     "output_type": "stream",
     "text": [
      "Epoch [5/25], Training Loss: 1.0834 \t Validation Losses:\n",
      "KLD: 67182.2670\tCosine Similarity: 0.4473\tCross Coorelation: 0.6142\n"
     ]
    },
    {
     "name": "stderr",
     "output_type": "stream",
     "text": [
      "100%|██████████| 4551/4551 [11:26<00:00,  6.63it/s]\n",
      "100%|██████████| 506/506 [00:22<00:00, 22.46it/s]\n"
     ]
    },
    {
     "name": "stdout",
     "output_type": "stream",
     "text": [
      "Epoch [6/25], Training Loss: 1.0597 \t Validation Losses:\n",
      "KLD: 63611.6682\tCosine Similarity: 0.4363\tCross Coorelation: 0.6033\n"
     ]
    },
    {
     "name": "stderr",
     "output_type": "stream",
     "text": [
      "100%|██████████| 4551/4551 [11:34<00:00,  6.55it/s]\n",
      "100%|██████████| 506/506 [00:24<00:00, 20.26it/s]\n"
     ]
    },
    {
     "name": "stdout",
     "output_type": "stream",
     "text": [
      "Epoch [7/25], Training Loss: 1.0423 \t Validation Losses:\n",
      "KLD: 56446.3172\tCosine Similarity: 0.4291\tCross Coorelation: 0.5954\n"
     ]
    },
    {
     "name": "stderr",
     "output_type": "stream",
     "text": [
      " 22%|██▏       | 994/4551 [02:41<09:37,  6.16it/s]\n"
     ]
    },
    {
     "ename": "KeyboardInterrupt",
     "evalue": "",
     "output_type": "error",
     "traceback": [
      "\u001B[1;31m---------------------------------------------------------------------------\u001B[0m",
      "\u001B[1;31mKeyboardInterrupt\u001B[0m                         Traceback (most recent call last)",
      "Cell \u001B[1;32mIn[7], line 2\u001B[0m\n\u001B[0;32m      1\u001B[0m \u001B[38;5;66;03m# Variational Cyclical\u001B[39;00m\n\u001B[1;32m----> 2\u001B[0m \u001B[43mtrain\u001B[49m\u001B[43m(\u001B[49m\u001B[43mmodel\u001B[49m\u001B[43m,\u001B[49m\u001B[43m \u001B[49m\u001B[43mtrain_dataloader\u001B[49m\u001B[43m,\u001B[49m\u001B[43m \u001B[49m\u001B[43mtest_dataloader\u001B[49m\u001B[43m,\u001B[49m\u001B[43m \u001B[49m\u001B[43moptimizer\u001B[49m\u001B[43m,\u001B[49m\u001B[43m \u001B[49m\u001B[43mnum_epochs\u001B[49m\u001B[38;5;241;43m=\u001B[39;49m\u001B[38;5;241;43m25\u001B[39;49m\u001B[43m,\u001B[49m\u001B[43m \u001B[49m\u001B[43mdevice\u001B[49m\u001B[38;5;241;43m=\u001B[39;49m\u001B[43mdevice\u001B[49m\u001B[43m,\u001B[49m\u001B[43m \u001B[49m\u001B[43mloss_func\u001B[49m\u001B[38;5;241;43m=\u001B[39;49m\u001B[43mcombined_loss\u001B[49m\u001B[43m)\u001B[49m\n\u001B[0;32m      3\u001B[0m evaluate(model, test_dataloader)\n",
      "File \u001B[1;32mE:\\Coding\\SongAnalyzer\\Analyzer\\src\\Training.py:123\u001B[0m, in \u001B[0;36mtrain\u001B[1;34m(model, dataloader, test_dataloader, optimizer, num_epochs, device, loss_func, masks, dtype)\u001B[0m\n\u001B[0;32m    113\u001B[0m loss \u001B[38;5;241m=\u001B[39m variational_loss(reconstructed, batch, mean, logvar, beta\u001B[38;5;241m=\u001B[39mbeta, device\u001B[38;5;241m=\u001B[39mdevice)\n\u001B[0;32m    115\u001B[0m \u001B[38;5;66;03m# Backpropagation\u001B[39;00m\n\u001B[0;32m    116\u001B[0m \u001B[38;5;66;03m# scaler.scale(loss).backward()\u001B[39;00m\n\u001B[0;32m    117\u001B[0m \u001B[38;5;66;03m# scaler.unscale_(optimizer)\u001B[39;00m\n\u001B[1;32m   (...)\u001B[0m\n\u001B[0;32m    120\u001B[0m \u001B[38;5;66;03m# scaler.update()\u001B[39;00m\n\u001B[0;32m    121\u001B[0m \u001B[38;5;66;03m# scheduler.step()\u001B[39;00m\n\u001B[1;32m--> 123\u001B[0m loss\u001B[38;5;241m.\u001B[39mbackward()\n\u001B[0;32m    124\u001B[0m clip_grad_norm_(model\u001B[38;5;241m.\u001B[39mparameters(), max_grad_norm)\n\u001B[0;32m    125\u001B[0m optimizer\u001B[38;5;241m.\u001B[39mstep()\n",
      "File \u001B[1;32mE:\\Coding\\SongAnalyzer\\.venv\\lib\\site-packages\\torch\\_tensor.py:626\u001B[0m, in \u001B[0;36mTensor.backward\u001B[1;34m(self, gradient, retain_graph, create_graph, inputs)\u001B[0m\n\u001B[0;32m    616\u001B[0m \u001B[38;5;28;01mif\u001B[39;00m has_torch_function_unary(\u001B[38;5;28mself\u001B[39m):\n\u001B[0;32m    617\u001B[0m     \u001B[38;5;28;01mreturn\u001B[39;00m handle_torch_function(\n\u001B[0;32m    618\u001B[0m         Tensor\u001B[38;5;241m.\u001B[39mbackward,\n\u001B[0;32m    619\u001B[0m         (\u001B[38;5;28mself\u001B[39m,),\n\u001B[1;32m   (...)\u001B[0m\n\u001B[0;32m    624\u001B[0m         inputs\u001B[38;5;241m=\u001B[39minputs,\n\u001B[0;32m    625\u001B[0m     )\n\u001B[1;32m--> 626\u001B[0m \u001B[43mtorch\u001B[49m\u001B[38;5;241;43m.\u001B[39;49m\u001B[43mautograd\u001B[49m\u001B[38;5;241;43m.\u001B[39;49m\u001B[43mbackward\u001B[49m\u001B[43m(\u001B[49m\n\u001B[0;32m    627\u001B[0m \u001B[43m    \u001B[49m\u001B[38;5;28;43mself\u001B[39;49m\u001B[43m,\u001B[49m\u001B[43m \u001B[49m\u001B[43mgradient\u001B[49m\u001B[43m,\u001B[49m\u001B[43m \u001B[49m\u001B[43mretain_graph\u001B[49m\u001B[43m,\u001B[49m\u001B[43m \u001B[49m\u001B[43mcreate_graph\u001B[49m\u001B[43m,\u001B[49m\u001B[43m \u001B[49m\u001B[43minputs\u001B[49m\u001B[38;5;241;43m=\u001B[39;49m\u001B[43minputs\u001B[49m\n\u001B[0;32m    628\u001B[0m \u001B[43m\u001B[49m\u001B[43m)\u001B[49m\n",
      "File \u001B[1;32mE:\\Coding\\SongAnalyzer\\.venv\\lib\\site-packages\\torch\\autograd\\__init__.py:347\u001B[0m, in \u001B[0;36mbackward\u001B[1;34m(tensors, grad_tensors, retain_graph, create_graph, grad_variables, inputs)\u001B[0m\n\u001B[0;32m    342\u001B[0m     retain_graph \u001B[38;5;241m=\u001B[39m create_graph\n\u001B[0;32m    344\u001B[0m \u001B[38;5;66;03m# The reason we repeat the same comment below is that\u001B[39;00m\n\u001B[0;32m    345\u001B[0m \u001B[38;5;66;03m# some Python versions print out the first line of a multi-line function\u001B[39;00m\n\u001B[0;32m    346\u001B[0m \u001B[38;5;66;03m# calls in the traceback and some print out the last line\u001B[39;00m\n\u001B[1;32m--> 347\u001B[0m \u001B[43m_engine_run_backward\u001B[49m\u001B[43m(\u001B[49m\n\u001B[0;32m    348\u001B[0m \u001B[43m    \u001B[49m\u001B[43mtensors\u001B[49m\u001B[43m,\u001B[49m\n\u001B[0;32m    349\u001B[0m \u001B[43m    \u001B[49m\u001B[43mgrad_tensors_\u001B[49m\u001B[43m,\u001B[49m\n\u001B[0;32m    350\u001B[0m \u001B[43m    \u001B[49m\u001B[43mretain_graph\u001B[49m\u001B[43m,\u001B[49m\n\u001B[0;32m    351\u001B[0m \u001B[43m    \u001B[49m\u001B[43mcreate_graph\u001B[49m\u001B[43m,\u001B[49m\n\u001B[0;32m    352\u001B[0m \u001B[43m    \u001B[49m\u001B[43minputs\u001B[49m\u001B[43m,\u001B[49m\n\u001B[0;32m    353\u001B[0m \u001B[43m    \u001B[49m\u001B[43mallow_unreachable\u001B[49m\u001B[38;5;241;43m=\u001B[39;49m\u001B[38;5;28;43;01mTrue\u001B[39;49;00m\u001B[43m,\u001B[49m\n\u001B[0;32m    354\u001B[0m \u001B[43m    \u001B[49m\u001B[43maccumulate_grad\u001B[49m\u001B[38;5;241;43m=\u001B[39;49m\u001B[38;5;28;43;01mTrue\u001B[39;49;00m\u001B[43m,\u001B[49m\n\u001B[0;32m    355\u001B[0m \u001B[43m\u001B[49m\u001B[43m)\u001B[49m\n",
      "File \u001B[1;32mE:\\Coding\\SongAnalyzer\\.venv\\lib\\site-packages\\torch\\autograd\\graph.py:823\u001B[0m, in \u001B[0;36m_engine_run_backward\u001B[1;34m(t_outputs, *args, **kwargs)\u001B[0m\n\u001B[0;32m    821\u001B[0m     unregister_hooks \u001B[38;5;241m=\u001B[39m _register_logging_hooks_on_whole_graph(t_outputs)\n\u001B[0;32m    822\u001B[0m \u001B[38;5;28;01mtry\u001B[39;00m:\n\u001B[1;32m--> 823\u001B[0m     \u001B[38;5;28;01mreturn\u001B[39;00m Variable\u001B[38;5;241m.\u001B[39m_execution_engine\u001B[38;5;241m.\u001B[39mrun_backward(  \u001B[38;5;66;03m# Calls into the C++ engine to run the backward pass\u001B[39;00m\n\u001B[0;32m    824\u001B[0m         t_outputs, \u001B[38;5;241m*\u001B[39margs, \u001B[38;5;241m*\u001B[39m\u001B[38;5;241m*\u001B[39mkwargs\n\u001B[0;32m    825\u001B[0m     )  \u001B[38;5;66;03m# Calls into the C++ engine to run the backward pass\u001B[39;00m\n\u001B[0;32m    826\u001B[0m \u001B[38;5;28;01mfinally\u001B[39;00m:\n\u001B[0;32m    827\u001B[0m     \u001B[38;5;28;01mif\u001B[39;00m attach_logging_hooks:\n",
      "\u001B[1;31mKeyboardInterrupt\u001B[0m: "
     ]
    }
   ],
   "execution_count": 7
  },
  {
   "metadata": {
    "ExecuteTime": {
     "end_time": "2025-06-08T19:12:36.001215800Z",
     "start_time": "2025-06-08T06:44:17.623941Z"
    }
   },
   "cell_type": "code",
   "source": [
    "# Variational Cyclical\n",
    "train(model, train_dataloader, test_dataloader, optimizer, num_epochs=10, device=device, loss_func=combined_loss)\n",
    "evaluate(model, test_dataloader)"
   ],
   "id": "d4f176f35df0fb94",
   "outputs": [
    {
     "name": "stderr",
     "output_type": "stream",
     "text": [
      "  0%|          | 0/38 [00:00<?, ?it/s]\n"
     ]
    },
    {
     "ename": "RuntimeError",
     "evalue": "Expected all tensors to be on the same device, but found at least two devices, cpu and cuda:0! (when checking argument for argument mat1 in method wrapper_CUDA_addmm)",
     "output_type": "error",
     "traceback": [
      "\u001B[1;31m---------------------------------------------------------------------------\u001B[0m",
      "\u001B[1;31mRuntimeError\u001B[0m                              Traceback (most recent call last)",
      "Cell \u001B[1;32mIn[10], line 2\u001B[0m\n\u001B[0;32m      1\u001B[0m \u001B[38;5;66;03m# Variational Cyclical\u001B[39;00m\n\u001B[1;32m----> 2\u001B[0m \u001B[43mtrain\u001B[49m\u001B[43m(\u001B[49m\u001B[43mmodel\u001B[49m\u001B[43m,\u001B[49m\u001B[43m \u001B[49m\u001B[43mtrain_dataloader\u001B[49m\u001B[43m,\u001B[49m\u001B[43m \u001B[49m\u001B[43mtest_dataloader\u001B[49m\u001B[43m,\u001B[49m\u001B[43m \u001B[49m\u001B[43moptimizer\u001B[49m\u001B[43m,\u001B[49m\u001B[43m \u001B[49m\u001B[43mnum_epochs\u001B[49m\u001B[38;5;241;43m=\u001B[39;49m\u001B[38;5;241;43m10\u001B[39;49m\u001B[43m,\u001B[49m\u001B[43m \u001B[49m\u001B[43mdevice\u001B[49m\u001B[38;5;241;43m=\u001B[39;49m\u001B[43mdevice\u001B[49m\u001B[43m,\u001B[49m\u001B[43m \u001B[49m\u001B[43mloss_func\u001B[49m\u001B[38;5;241;43m=\u001B[39;49m\u001B[43mcombined_loss\u001B[49m\u001B[43m)\u001B[49m\n\u001B[0;32m      3\u001B[0m evaluate(model, test_dataloader)\n",
      "File \u001B[1;32mE:\\Coding\\SongAnalyzer\\Analyzer\\src\\Training.py:114\u001B[0m, in \u001B[0;36mtrain\u001B[1;34m(model, dataloader, test_dataloader, optimizer, num_epochs, device, loss_func, masks)\u001B[0m\n\u001B[0;32m    111\u001B[0m \u001B[38;5;66;03m# Forward pass\u001B[39;00m\n\u001B[0;32m    112\u001B[0m \u001B[38;5;66;03m#reconstructed = model(batch, masks)\u001B[39;00m\n\u001B[0;32m    113\u001B[0m \u001B[38;5;28;01mwith\u001B[39;00m autocast(device, dtype\u001B[38;5;241m=\u001B[39mtorch\u001B[38;5;241m.\u001B[39mfloat16):\n\u001B[1;32m--> 114\u001B[0m     reconstructed, mean, logvar \u001B[38;5;241m=\u001B[39m \u001B[43mmodel\u001B[49m\u001B[43m(\u001B[49m\u001B[43mbatch\u001B[49m\u001B[43m,\u001B[49m\u001B[43m \u001B[49m\u001B[43mmasks\u001B[49m\u001B[43m)\u001B[49m\n\u001B[0;32m    115\u001B[0m     loss \u001B[38;5;241m=\u001B[39m variational_loss(reconstructed, batch, mean, logvar, beta\u001B[38;5;241m=\u001B[39mbeta, device\u001B[38;5;241m=\u001B[39mdevice)\n\u001B[0;32m    117\u001B[0m \u001B[38;5;66;03m# Backpropagation\u001B[39;00m\n",
      "File \u001B[1;32mE:\\Coding\\SongAnalyzer\\.venv\\lib\\site-packages\\torch\\nn\\modules\\module.py:1739\u001B[0m, in \u001B[0;36mModule._wrapped_call_impl\u001B[1;34m(self, *args, **kwargs)\u001B[0m\n\u001B[0;32m   1737\u001B[0m     \u001B[38;5;28;01mreturn\u001B[39;00m \u001B[38;5;28mself\u001B[39m\u001B[38;5;241m.\u001B[39m_compiled_call_impl(\u001B[38;5;241m*\u001B[39margs, \u001B[38;5;241m*\u001B[39m\u001B[38;5;241m*\u001B[39mkwargs)  \u001B[38;5;66;03m# type: ignore[misc]\u001B[39;00m\n\u001B[0;32m   1738\u001B[0m \u001B[38;5;28;01melse\u001B[39;00m:\n\u001B[1;32m-> 1739\u001B[0m     \u001B[38;5;28;01mreturn\u001B[39;00m \u001B[38;5;28mself\u001B[39m\u001B[38;5;241m.\u001B[39m_call_impl(\u001B[38;5;241m*\u001B[39margs, \u001B[38;5;241m*\u001B[39m\u001B[38;5;241m*\u001B[39mkwargs)\n",
      "File \u001B[1;32mE:\\Coding\\SongAnalyzer\\.venv\\lib\\site-packages\\torch\\nn\\modules\\module.py:1750\u001B[0m, in \u001B[0;36mModule._call_impl\u001B[1;34m(self, *args, **kwargs)\u001B[0m\n\u001B[0;32m   1745\u001B[0m \u001B[38;5;66;03m# If we don't have any hooks, we want to skip the rest of the logic in\u001B[39;00m\n\u001B[0;32m   1746\u001B[0m \u001B[38;5;66;03m# this function, and just call forward.\u001B[39;00m\n\u001B[0;32m   1747\u001B[0m \u001B[38;5;28;01mif\u001B[39;00m \u001B[38;5;129;01mnot\u001B[39;00m (\u001B[38;5;28mself\u001B[39m\u001B[38;5;241m.\u001B[39m_backward_hooks \u001B[38;5;129;01mor\u001B[39;00m \u001B[38;5;28mself\u001B[39m\u001B[38;5;241m.\u001B[39m_backward_pre_hooks \u001B[38;5;129;01mor\u001B[39;00m \u001B[38;5;28mself\u001B[39m\u001B[38;5;241m.\u001B[39m_forward_hooks \u001B[38;5;129;01mor\u001B[39;00m \u001B[38;5;28mself\u001B[39m\u001B[38;5;241m.\u001B[39m_forward_pre_hooks\n\u001B[0;32m   1748\u001B[0m         \u001B[38;5;129;01mor\u001B[39;00m _global_backward_pre_hooks \u001B[38;5;129;01mor\u001B[39;00m _global_backward_hooks\n\u001B[0;32m   1749\u001B[0m         \u001B[38;5;129;01mor\u001B[39;00m _global_forward_hooks \u001B[38;5;129;01mor\u001B[39;00m _global_forward_pre_hooks):\n\u001B[1;32m-> 1750\u001B[0m     \u001B[38;5;28;01mreturn\u001B[39;00m forward_call(\u001B[38;5;241m*\u001B[39margs, \u001B[38;5;241m*\u001B[39m\u001B[38;5;241m*\u001B[39mkwargs)\n\u001B[0;32m   1752\u001B[0m result \u001B[38;5;241m=\u001B[39m \u001B[38;5;28;01mNone\u001B[39;00m\n\u001B[0;32m   1753\u001B[0m called_always_called_hooks \u001B[38;5;241m=\u001B[39m \u001B[38;5;28mset\u001B[39m()\n",
      "File \u001B[1;32mE:\\Coding\\SongAnalyzer\\Analyzer\\src\\AudioVariationalTransformer.py:59\u001B[0m, in \u001B[0;36mAudioVariationalTransformer.forward\u001B[1;34m(self, x, mask)\u001B[0m\n\u001B[0;32m     58\u001B[0m \u001B[38;5;28;01mdef\u001B[39;00m\u001B[38;5;250m \u001B[39m\u001B[38;5;21mforward\u001B[39m(\u001B[38;5;28mself\u001B[39m, x, mask\u001B[38;5;241m=\u001B[39m\u001B[38;5;28;01mNone\u001B[39;00m):\n\u001B[1;32m---> 59\u001B[0m     mean, logvar \u001B[38;5;241m=\u001B[39m \u001B[38;5;28;43mself\u001B[39;49m\u001B[38;5;241;43m.\u001B[39;49m\u001B[43mto_latent\u001B[49m\u001B[43m(\u001B[49m\u001B[43mx\u001B[49m\u001B[43m,\u001B[49m\u001B[43m \u001B[49m\u001B[43mmask\u001B[49m\u001B[43m)\u001B[49m\n\u001B[0;32m     60\u001B[0m     z \u001B[38;5;241m=\u001B[39m \u001B[38;5;28mself\u001B[39m\u001B[38;5;241m.\u001B[39mreparameterization(mean, logvar)\n\u001B[0;32m     61\u001B[0m     reconstruction \u001B[38;5;241m=\u001B[39m \u001B[38;5;28mself\u001B[39m\u001B[38;5;241m.\u001B[39mfrom_latent(z, mask)\n",
      "File \u001B[1;32mE:\\Coding\\SongAnalyzer\\Analyzer\\src\\AudioVariationalTransformer.py:73\u001B[0m, in \u001B[0;36mAudioVariationalTransformer.to_latent\u001B[1;34m(self, x, mask)\u001B[0m\n\u001B[0;32m     71\u001B[0m \u001B[38;5;28;01mdef\u001B[39;00m\u001B[38;5;250m \u001B[39m\u001B[38;5;21mto_latent\u001B[39m(\u001B[38;5;28mself\u001B[39m, x, mask):\n\u001B[0;32m     72\u001B[0m     \u001B[38;5;66;03m# Project to Model Dimension\u001B[39;00m\n\u001B[1;32m---> 73\u001B[0m     memory \u001B[38;5;241m=\u001B[39m \u001B[38;5;28;43mself\u001B[39;49m\u001B[38;5;241;43m.\u001B[39;49m\u001B[43mprojection\u001B[49m\u001B[43m(\u001B[49m\u001B[43mx\u001B[49m\u001B[43m)\u001B[49m\n\u001B[0;32m     74\u001B[0m     memory \u001B[38;5;241m=\u001B[39m \u001B[38;5;28mself\u001B[39m\u001B[38;5;241m.\u001B[39mprojection_gelu(memory)\n\u001B[0;32m     76\u001B[0m     \u001B[38;5;66;03m# Encoder Block\u001B[39;00m\n",
      "File \u001B[1;32mE:\\Coding\\SongAnalyzer\\.venv\\lib\\site-packages\\torch\\nn\\modules\\module.py:1739\u001B[0m, in \u001B[0;36mModule._wrapped_call_impl\u001B[1;34m(self, *args, **kwargs)\u001B[0m\n\u001B[0;32m   1737\u001B[0m     \u001B[38;5;28;01mreturn\u001B[39;00m \u001B[38;5;28mself\u001B[39m\u001B[38;5;241m.\u001B[39m_compiled_call_impl(\u001B[38;5;241m*\u001B[39margs, \u001B[38;5;241m*\u001B[39m\u001B[38;5;241m*\u001B[39mkwargs)  \u001B[38;5;66;03m# type: ignore[misc]\u001B[39;00m\n\u001B[0;32m   1738\u001B[0m \u001B[38;5;28;01melse\u001B[39;00m:\n\u001B[1;32m-> 1739\u001B[0m     \u001B[38;5;28;01mreturn\u001B[39;00m \u001B[38;5;28mself\u001B[39m\u001B[38;5;241m.\u001B[39m_call_impl(\u001B[38;5;241m*\u001B[39margs, \u001B[38;5;241m*\u001B[39m\u001B[38;5;241m*\u001B[39mkwargs)\n",
      "File \u001B[1;32mE:\\Coding\\SongAnalyzer\\.venv\\lib\\site-packages\\torch\\nn\\modules\\module.py:1750\u001B[0m, in \u001B[0;36mModule._call_impl\u001B[1;34m(self, *args, **kwargs)\u001B[0m\n\u001B[0;32m   1745\u001B[0m \u001B[38;5;66;03m# If we don't have any hooks, we want to skip the rest of the logic in\u001B[39;00m\n\u001B[0;32m   1746\u001B[0m \u001B[38;5;66;03m# this function, and just call forward.\u001B[39;00m\n\u001B[0;32m   1747\u001B[0m \u001B[38;5;28;01mif\u001B[39;00m \u001B[38;5;129;01mnot\u001B[39;00m (\u001B[38;5;28mself\u001B[39m\u001B[38;5;241m.\u001B[39m_backward_hooks \u001B[38;5;129;01mor\u001B[39;00m \u001B[38;5;28mself\u001B[39m\u001B[38;5;241m.\u001B[39m_backward_pre_hooks \u001B[38;5;129;01mor\u001B[39;00m \u001B[38;5;28mself\u001B[39m\u001B[38;5;241m.\u001B[39m_forward_hooks \u001B[38;5;129;01mor\u001B[39;00m \u001B[38;5;28mself\u001B[39m\u001B[38;5;241m.\u001B[39m_forward_pre_hooks\n\u001B[0;32m   1748\u001B[0m         \u001B[38;5;129;01mor\u001B[39;00m _global_backward_pre_hooks \u001B[38;5;129;01mor\u001B[39;00m _global_backward_hooks\n\u001B[0;32m   1749\u001B[0m         \u001B[38;5;129;01mor\u001B[39;00m _global_forward_hooks \u001B[38;5;129;01mor\u001B[39;00m _global_forward_pre_hooks):\n\u001B[1;32m-> 1750\u001B[0m     \u001B[38;5;28;01mreturn\u001B[39;00m forward_call(\u001B[38;5;241m*\u001B[39margs, \u001B[38;5;241m*\u001B[39m\u001B[38;5;241m*\u001B[39mkwargs)\n\u001B[0;32m   1752\u001B[0m result \u001B[38;5;241m=\u001B[39m \u001B[38;5;28;01mNone\u001B[39;00m\n\u001B[0;32m   1753\u001B[0m called_always_called_hooks \u001B[38;5;241m=\u001B[39m \u001B[38;5;28mset\u001B[39m()\n",
      "File \u001B[1;32mE:\\Coding\\SongAnalyzer\\.venv\\lib\\site-packages\\torch\\nn\\modules\\linear.py:125\u001B[0m, in \u001B[0;36mLinear.forward\u001B[1;34m(self, input)\u001B[0m\n\u001B[0;32m    124\u001B[0m \u001B[38;5;28;01mdef\u001B[39;00m\u001B[38;5;250m \u001B[39m\u001B[38;5;21mforward\u001B[39m(\u001B[38;5;28mself\u001B[39m, \u001B[38;5;28minput\u001B[39m: Tensor) \u001B[38;5;241m-\u001B[39m\u001B[38;5;241m>\u001B[39m Tensor:\n\u001B[1;32m--> 125\u001B[0m     \u001B[38;5;28;01mreturn\u001B[39;00m \u001B[43mF\u001B[49m\u001B[38;5;241;43m.\u001B[39;49m\u001B[43mlinear\u001B[49m\u001B[43m(\u001B[49m\u001B[38;5;28;43minput\u001B[39;49m\u001B[43m,\u001B[49m\u001B[43m \u001B[49m\u001B[38;5;28;43mself\u001B[39;49m\u001B[38;5;241;43m.\u001B[39;49m\u001B[43mweight\u001B[49m\u001B[43m,\u001B[49m\u001B[43m \u001B[49m\u001B[38;5;28;43mself\u001B[39;49m\u001B[38;5;241;43m.\u001B[39;49m\u001B[43mbias\u001B[49m\u001B[43m)\u001B[49m\n",
      "\u001B[1;31mRuntimeError\u001B[0m: Expected all tensors to be on the same device, but found at least two devices, cpu and cuda:0! (when checking argument for argument mat1 in method wrapper_CUDA_addmm)"
     ]
    }
   ],
   "execution_count": 10
  },
  {
   "metadata": {
    "ExecuteTime": {
     "end_time": "2025-06-08T19:12:36.003215500Z",
     "start_time": "2025-06-04T21:10:00.823359Z"
    }
   },
   "cell_type": "code",
   "outputs": [
    {
     "name": "stderr",
     "output_type": "stream",
     "text": [
      "100%|██████████| 16383/16383 [51:54<00:00,  5.26it/s]\n",
      "100%|██████████| 1821/1821 [01:54<00:00, 15.96it/s]\n"
     ]
    },
    {
     "name": "stdout",
     "output_type": "stream",
     "text": [
      "Epoch [1/10], Training Loss: 1.4790 \t Validation Losses:\n",
      "KLD: 1.2940\tCosine Similarity: 0.6675\tCross Coorelation: 0.7226\n"
     ]
    },
    {
     "name": "stderr",
     "output_type": "stream",
     "text": [
      "100%|██████████| 16383/16383 [50:35<00:00,  5.40it/s] \n",
      "100%|██████████| 1821/1821 [01:51<00:00, 16.36it/s]\n"
     ]
    },
    {
     "name": "stdout",
     "output_type": "stream",
     "text": [
      "Epoch [2/10], Training Loss: 1.4033 \t Validation Losses:\n",
      "KLD: 0.6997\tCosine Similarity: 0.6494\tCross Coorelation: 0.7195\n"
     ]
    },
    {
     "name": "stderr",
     "output_type": "stream",
     "text": [
      "100%|██████████| 16383/16383 [49:52<00:00,  5.47it/s]\n",
      "100%|██████████| 1821/1821 [01:50<00:00, 16.41it/s]\n"
     ]
    },
    {
     "name": "stdout",
     "output_type": "stream",
     "text": [
      "Epoch [3/10], Training Loss: 1.3962 \t Validation Losses:\n",
      "KLD: 0.2606\tCosine Similarity: 0.6267\tCross Coorelation: 0.7036\n"
     ]
    },
    {
     "name": "stderr",
     "output_type": "stream",
     "text": [
      "100%|██████████| 16383/16383 [49:53<00:00,  5.47it/s]\n",
      "100%|██████████| 1821/1821 [01:51<00:00, 16.40it/s]\n"
     ]
    },
    {
     "name": "stdout",
     "output_type": "stream",
     "text": [
      "Epoch [4/10], Training Loss: 1.3747 \t Validation Losses:\n",
      "KLD: 0.1018\tCosine Similarity: 0.6088\tCross Coorelation: 0.6989\n"
     ]
    },
    {
     "name": "stderr",
     "output_type": "stream",
     "text": [
      "100%|██████████| 16383/16383 [49:50<00:00,  5.48it/s]\n",
      "100%|██████████| 1821/1821 [01:50<00:00, 16.41it/s]\n"
     ]
    },
    {
     "name": "stdout",
     "output_type": "stream",
     "text": [
      "Epoch [5/10], Training Loss: 1.3569 \t Validation Losses:\n",
      "KLD: 0.0777\tCosine Similarity: 0.6003\tCross Coorelation: 0.6993\n"
     ]
    },
    {
     "name": "stderr",
     "output_type": "stream",
     "text": [
      "100%|██████████| 16383/16383 [49:52<00:00,  5.48it/s]\n",
      "100%|██████████| 1821/1821 [01:50<00:00, 16.41it/s]\n"
     ]
    },
    {
     "name": "stdout",
     "output_type": "stream",
     "text": [
      "Epoch [6/10], Training Loss: 1.3318 \t Validation Losses:\n",
      "KLD: 0.0479\tCosine Similarity: 0.5813\tCross Coorelation: 0.6960\n"
     ]
    },
    {
     "name": "stderr",
     "output_type": "stream",
     "text": [
      "100%|██████████| 16383/16383 [50:21<00:00,  5.42it/s]\n",
      "100%|██████████| 1821/1821 [01:51<00:00, 16.28it/s]\n"
     ]
    },
    {
     "name": "stdout",
     "output_type": "stream",
     "text": [
      "Epoch [7/10], Training Loss: 1.2955 \t Validation Losses:\n",
      "KLD: 0.0302\tCosine Similarity: 0.5568\tCross Coorelation: 0.6881\n"
     ]
    },
    {
     "name": "stderr",
     "output_type": "stream",
     "text": [
      "100%|██████████| 16383/16383 [55:00<00:00,  4.96it/s] \n",
      "100%|██████████| 1821/1821 [02:33<00:00, 11.87it/s]\n"
     ]
    },
    {
     "name": "stdout",
     "output_type": "stream",
     "text": [
      "Epoch [8/10], Training Loss: 1.2558 \t Validation Losses:\n",
      "KLD: 0.0179\tCosine Similarity: 0.5390\tCross Coorelation: 0.6777\n"
     ]
    },
    {
     "name": "stderr",
     "output_type": "stream",
     "text": [
      "100%|██████████| 16383/16383 [58:27<00:00,  4.67it/s] \n",
      "100%|██████████| 1821/1821 [01:55<00:00, 15.75it/s]\n"
     ]
    },
    {
     "name": "stdout",
     "output_type": "stream",
     "text": [
      "Epoch [9/10], Training Loss: 1.2292 \t Validation Losses:\n",
      "KLD: 0.0101\tCosine Similarity: 0.5286\tCross Coorelation: 0.6716\n"
     ]
    },
    {
     "name": "stderr",
     "output_type": "stream",
     "text": [
      "100%|██████████| 16383/16383 [50:49<00:00,  5.37it/s]\n",
      "100%|██████████| 1821/1821 [01:56<00:00, 15.67it/s]\n"
     ]
    },
    {
     "name": "stdout",
     "output_type": "stream",
     "text": [
      "Epoch [10/10], Training Loss: 1.2154 \t Validation Losses:\n",
      "KLD: 0.0077\tCosine Similarity: 0.5260\tCross Coorelation: 0.6699\n"
     ]
    },
    {
     "name": "stderr",
     "output_type": "stream",
     "text": [
      "100%|██████████| 1821/1821 [01:56<00:00, 15.66it/s]"
     ]
    },
    {
     "name": "stdout",
     "output_type": "stream",
     "text": [
      "Avg Reconstructive Loss: 0.5259646970\n",
      "Avg Cross FFT Loss: 0.6698361217\n",
      "Avg KLD Loss: 14.0500986278\n"
     ]
    },
    {
     "name": "stderr",
     "output_type": "stream",
     "text": [
      "\n"
     ]
    },
    {
     "data": {
      "text/plain": [
       "15.245899446566376"
      ]
     },
     "execution_count": 7,
     "metadata": {},
     "output_type": "execute_result"
    }
   ],
   "execution_count": 7,
   "source": [
    "# Variational\n",
    "train(model, train_dataloader, test_dataloader, optimizer, num_epochs=10, device=device, loss_func=combined_loss)\n",
    "evaluate(model, test_dataloader)"
   ],
   "id": "993d5a4d46862058"
  },
  {
   "metadata": {
    "ExecuteTime": {
     "end_time": "2025-06-04T17:51:31.221497300Z",
     "start_time": "2025-06-04T17:16:48.501822Z"
    }
   },
   "cell_type": "code",
   "outputs": [
    {
     "name": "stderr",
     "output_type": "stream",
     "text": [
      "100%|██████████| 1821/1821 [01:53<00:00, 16.06it/s]"
     ]
    },
    {
     "name": "stdout",
     "output_type": "stream",
     "text": [
      "Avg Reconstructive Loss: 0.7702848709\n",
      "Avg Cross FFT Loss: 0.7111858982\n",
      "Avg KLD Loss: 5.6039851308\n"
     ]
    },
    {
     "name": "stderr",
     "output_type": "stream",
     "text": [
      "\n"
     ]
    },
    {
     "data": {
      "text/plain": [
       "7.085455899870965"
      ]
     },
     "execution_count": 4,
     "metadata": {},
     "output_type": "execute_result"
    }
   ],
   "execution_count": 4,
   "source": [
    "model = torch.load(\n",
    "    f\"E:\\Coding\\SongAnalyzer\\Analyzer\\src\\AudioVariationalTransformer-LatentSpace512-Heads16-TrasformerLayers16-DModel256-Dropout0.1-fft-cos-mtg-only\\-Epoch-10.pt\",\n",
    "        weights_only=False)\n",
    "evaluate(model, test_dataloader)"
   ],
   "id": "a9c4fb0e69cacb92"
  },
  {
   "metadata": {
    "ExecuteTime": {
     "end_time": "2025-06-04T17:51:31.223498Z",
     "start_time": "2025-06-03T18:39:05.668551Z"
    }
   },
   "cell_type": "code",
   "outputs": [
    {
     "name": "stderr",
     "output_type": "stream",
     "text": [
      "100%|██████████| 16383/16383 [57:11<00:00,  4.77it/s] \n",
      "100%|██████████| 1821/1821 [02:07<00:00, 14.26it/s]\n"
     ]
    },
    {
     "name": "stdout",
     "output_type": "stream",
     "text": [
      "Epoch [1/10], Training Loss: 1.3419 \t Validation Loss: 1.1311\n"
     ]
    },
    {
     "name": "stderr",
     "output_type": "stream",
     "text": [
      "100%|██████████| 16383/16383 [1:01:15<00:00,  4.46it/s]\n",
      "100%|██████████| 1821/1821 [02:17<00:00, 13.25it/s]\n"
     ]
    },
    {
     "name": "stdout",
     "output_type": "stream",
     "text": [
      "Epoch [2/10], Training Loss: 1.0507 \t Validation Loss: 0.9707\n"
     ]
    },
    {
     "name": "stderr",
     "output_type": "stream",
     "text": [
      "100%|██████████| 16383/16383 [56:55<00:00,  4.80it/s]  \n",
      "100%|██████████| 1821/1821 [01:52<00:00, 16.19it/s]\n"
     ]
    },
    {
     "name": "stdout",
     "output_type": "stream",
     "text": [
      "Epoch [3/10], Training Loss: 0.9594 \t Validation Loss: 0.9291\n"
     ]
    },
    {
     "name": "stderr",
     "output_type": "stream",
     "text": [
      "100%|██████████| 16383/16383 [51:48<00:00,  5.27it/s]\n",
      "100%|██████████| 1821/1821 [02:08<00:00, 14.21it/s]\n"
     ]
    },
    {
     "name": "stdout",
     "output_type": "stream",
     "text": [
      "Epoch [4/10], Training Loss: 0.9327 \t Validation Loss: 0.9161\n"
     ]
    },
    {
     "name": "stderr",
     "output_type": "stream",
     "text": [
      "100%|██████████| 16383/16383 [54:15<00:00,  5.03it/s]\n",
      "100%|██████████| 1821/1821 [01:59<00:00, 15.28it/s]\n"
     ]
    },
    {
     "name": "stdout",
     "output_type": "stream",
     "text": [
      "Epoch [5/10], Training Loss: 0.9178 \t Validation Loss: 0.9061\n"
     ]
    },
    {
     "name": "stderr",
     "output_type": "stream",
     "text": [
      "100%|██████████| 16383/16383 [53:08<00:00,  5.14it/s]\n",
      "100%|██████████| 1821/1821 [01:58<00:00, 15.36it/s]\n"
     ]
    },
    {
     "name": "stdout",
     "output_type": "stream",
     "text": [
      "Epoch [6/10], Training Loss: 0.9082 \t Validation Loss: 0.9012\n"
     ]
    },
    {
     "name": "stderr",
     "output_type": "stream",
     "text": [
      "100%|██████████| 16383/16383 [53:14<00:00,  5.13it/s] \n",
      "100%|██████████| 1821/1821 [01:57<00:00, 15.45it/s]\n"
     ]
    },
    {
     "name": "stdout",
     "output_type": "stream",
     "text": [
      "Epoch [7/10], Training Loss: 0.9016 \t Validation Loss: 0.8962\n"
     ]
    },
    {
     "name": "stderr",
     "output_type": "stream",
     "text": [
      "100%|██████████| 16383/16383 [58:36<00:00,  4.66it/s] \n",
      "100%|██████████| 1821/1821 [02:40<00:00, 11.37it/s]\n"
     ]
    },
    {
     "name": "stdout",
     "output_type": "stream",
     "text": [
      "Epoch [8/10], Training Loss: 0.8970 \t Validation Loss: 0.8939\n"
     ]
    },
    {
     "name": "stderr",
     "output_type": "stream",
     "text": [
      "100%|██████████| 16383/16383 [53:15<00:00,  5.13it/s] \n",
      "100%|██████████| 1821/1821 [01:55<00:00, 15.74it/s]\n"
     ]
    },
    {
     "name": "stdout",
     "output_type": "stream",
     "text": [
      "Epoch [9/10], Training Loss: 0.8942 \t Validation Loss: 0.8921\n"
     ]
    },
    {
     "name": "stderr",
     "output_type": "stream",
     "text": [
      "100%|██████████| 16383/16383 [52:59<00:00,  5.15it/s] \n",
      "100%|██████████| 1821/1821 [02:00<00:00, 15.08it/s]\n"
     ]
    },
    {
     "name": "stdout",
     "output_type": "stream",
     "text": [
      "Epoch [10/10], Training Loss: 0.8929 \t Validation Loss: 0.8917\n"
     ]
    },
    {
     "name": "stderr",
     "output_type": "stream",
     "text": [
      "  0%|          | 0/1821 [00:00<?, ?it/s]\n"
     ]
    },
    {
     "ename": "ValueError",
     "evalue": "too many values to unpack (expected 2)",
     "output_type": "error",
     "traceback": [
      "\u001B[1;31m---------------------------------------------------------------------------\u001B[0m",
      "\u001B[1;31mValueError\u001B[0m                                Traceback (most recent call last)",
      "Cell \u001B[1;32mIn[7], line 3\u001B[0m\n\u001B[0;32m      1\u001B[0m \u001B[38;5;66;03m# Latent Space Normalization\u001B[39;00m\n\u001B[0;32m      2\u001B[0m train(model, train_dataloader, test_dataloader, optimizer, num_epochs\u001B[38;5;241m=\u001B[39m\u001B[38;5;241m10\u001B[39m, device\u001B[38;5;241m=\u001B[39mdevice, loss_func\u001B[38;5;241m=\u001B[39mcombined_loss)\n\u001B[1;32m----> 3\u001B[0m \u001B[43mevaluate\u001B[49m\u001B[43m(\u001B[49m\u001B[43mmodel\u001B[49m\u001B[43m,\u001B[49m\u001B[43m \u001B[49m\u001B[43mtest_dataloader\u001B[49m\u001B[43m)\u001B[49m\n",
      "File \u001B[1;32mE:\\Coding\\SongAnalyzer\\Analyzer\\src\\Training.py:26\u001B[0m, in \u001B[0;36mevaluate\u001B[1;34m(model, dataloader, device)\u001B[0m\n\u001B[0;32m     24\u001B[0m \u001B[38;5;66;03m# Disable gradient computation for evaluation\u001B[39;00m\n\u001B[0;32m     25\u001B[0m \u001B[38;5;28;01mwith\u001B[39;00m torch\u001B[38;5;241m.\u001B[39mno_grad():\n\u001B[1;32m---> 26\u001B[0m     \u001B[38;5;28;01mfor\u001B[39;00m batch, masks \u001B[38;5;129;01min\u001B[39;00m tqdm(dataloader):\n\u001B[0;32m     27\u001B[0m         batch \u001B[38;5;241m=\u001B[39m batch\u001B[38;5;241m.\u001B[39mto(device)  \u001B[38;5;66;03m# Move batch to GPU\u001B[39;00m\n\u001B[0;32m     28\u001B[0m         masks \u001B[38;5;241m=\u001B[39m masks\u001B[38;5;241m.\u001B[39mto(device)\n",
      "\u001B[1;31mValueError\u001B[0m: too many values to unpack (expected 2)"
     ]
    }
   ],
   "execution_count": 7,
   "source": [
    "# Latent Space Normalization\n",
    "train(model, train_dataloader, test_dataloader, optimizer, num_epochs=10, device=device, loss_func=combined_loss)\n",
    "evaluate(model, test_dataloader)"
   ],
   "id": "b8fdd41c6ae0d16"
  },
  {
   "metadata": {
    "ExecuteTime": {
     "end_time": "2025-06-04T17:51:31.226563700Z",
     "start_time": "2025-06-03T06:45:20.597433Z"
    }
   },
   "cell_type": "code",
   "outputs": [
    {
     "name": "stderr",
     "output_type": "stream",
     "text": [
      "100%|██████████| 16383/16383 [51:14<00:00,  5.33it/s] \n",
      "100%|██████████| 1821/1821 [01:51<00:00, 16.28it/s]\n"
     ]
    },
    {
     "name": "stdout",
     "output_type": "stream",
     "text": [
      "Epoch [1/10], Training Loss: 1.3380 \t Validation Loss: 1.1344\n"
     ]
    },
    {
     "name": "stderr",
     "output_type": "stream",
     "text": [
      "100%|██████████| 16383/16383 [50:42<00:00,  5.38it/s]\n",
      "100%|██████████| 1821/1821 [01:51<00:00, 16.30it/s]\n"
     ]
    },
    {
     "name": "stdout",
     "output_type": "stream",
     "text": [
      "Epoch [2/10], Training Loss: 1.0710 \t Validation Loss: 0.9901\n"
     ]
    },
    {
     "name": "stderr",
     "output_type": "stream",
     "text": [
      "100%|██████████| 16383/16383 [50:33<00:00,  5.40it/s]\n",
      "100%|██████████| 1821/1821 [01:51<00:00, 16.29it/s]\n"
     ]
    },
    {
     "name": "stdout",
     "output_type": "stream",
     "text": [
      "Epoch [3/10], Training Loss: 0.9821 \t Validation Loss: 0.9403\n"
     ]
    },
    {
     "name": "stderr",
     "output_type": "stream",
     "text": [
      "100%|██████████| 16383/16383 [50:41<00:00,  5.39it/s]\n",
      "100%|██████████| 1821/1821 [01:51<00:00, 16.29it/s]\n"
     ]
    },
    {
     "name": "stdout",
     "output_type": "stream",
     "text": [
      "Epoch [4/10], Training Loss: 0.9483 \t Validation Loss: 0.9182\n"
     ]
    },
    {
     "name": "stderr",
     "output_type": "stream",
     "text": [
      "100%|██████████| 16383/16383 [50:41<00:00,  5.39it/s]\n",
      "100%|██████████| 1821/1821 [01:51<00:00, 16.27it/s]\n"
     ]
    },
    {
     "name": "stdout",
     "output_type": "stream",
     "text": [
      "Epoch [5/10], Training Loss: 0.9291 \t Validation Loss: 0.9082\n"
     ]
    },
    {
     "name": "stderr",
     "output_type": "stream",
     "text": [
      "100%|██████████| 16383/16383 [50:25<00:00,  5.41it/s]\n",
      "100%|██████████| 1821/1821 [01:51<00:00, 16.27it/s]\n"
     ]
    },
    {
     "name": "stdout",
     "output_type": "stream",
     "text": [
      "Epoch [6/10], Training Loss: 0.9183 \t Validation Loss: 0.9002\n"
     ]
    },
    {
     "name": "stderr",
     "output_type": "stream",
     "text": [
      "100%|██████████| 16383/16383 [50:34<00:00,  5.40it/s]\n",
      "100%|██████████| 1821/1821 [01:51<00:00, 16.30it/s]\n"
     ]
    },
    {
     "name": "stdout",
     "output_type": "stream",
     "text": [
      "Epoch [7/10], Training Loss: 0.9108 \t Validation Loss: 0.8949\n"
     ]
    },
    {
     "name": "stderr",
     "output_type": "stream",
     "text": [
      "100%|██████████| 16383/16383 [51:01<00:00,  5.35it/s]\n",
      "100%|██████████| 1821/1821 [01:54<00:00, 15.96it/s]\n"
     ]
    },
    {
     "name": "stdout",
     "output_type": "stream",
     "text": [
      "Epoch [8/10], Training Loss: 0.9056 \t Validation Loss: 0.8919\n"
     ]
    },
    {
     "name": "stderr",
     "output_type": "stream",
     "text": [
      "100%|██████████| 16383/16383 [52:04<00:00,  5.24it/s]\n",
      "100%|██████████| 1821/1821 [02:01<00:00, 15.02it/s]\n"
     ]
    },
    {
     "name": "stdout",
     "output_type": "stream",
     "text": [
      "Epoch [9/10], Training Loss: 0.9023 \t Validation Loss: 0.8902\n"
     ]
    },
    {
     "name": "stderr",
     "output_type": "stream",
     "text": [
      " 32%|███▏      | 5228/16383 [17:28<37:16,  4.99it/s]  \n"
     ]
    },
    {
     "ename": "KeyboardInterrupt",
     "evalue": "",
     "output_type": "error",
     "traceback": [
      "\u001B[1;31m---------------------------------------------------------------------------\u001B[0m",
      "\u001B[1;31mKeyboardInterrupt\u001B[0m                         Traceback (most recent call last)",
      "Cell \u001B[1;32mIn[7], line 1\u001B[0m\n\u001B[1;32m----> 1\u001B[0m \u001B[43mtrain\u001B[49m\u001B[43m(\u001B[49m\u001B[43mmodel\u001B[49m\u001B[43m,\u001B[49m\u001B[43m \u001B[49m\u001B[43mtrain_dataloader\u001B[49m\u001B[43m,\u001B[49m\u001B[43m \u001B[49m\u001B[43mtest_dataloader\u001B[49m\u001B[43m,\u001B[49m\u001B[43m \u001B[49m\u001B[43moptimizer\u001B[49m\u001B[43m,\u001B[49m\u001B[43m \u001B[49m\u001B[43mnum_epochs\u001B[49m\u001B[38;5;241;43m=\u001B[39;49m\u001B[38;5;241;43m10\u001B[39;49m\u001B[43m,\u001B[49m\u001B[43m \u001B[49m\u001B[43mdevice\u001B[49m\u001B[38;5;241;43m=\u001B[39;49m\u001B[43mdevice\u001B[49m\u001B[43m,\u001B[49m\u001B[43m \u001B[49m\u001B[43mloss_func\u001B[49m\u001B[38;5;241;43m=\u001B[39;49m\u001B[43mcombined_loss\u001B[49m\u001B[43m)\u001B[49m\n\u001B[0;32m      2\u001B[0m evaluate(model, test_dataloader)\n",
      "File \u001B[1;32mE:\\Coding\\SongAnalyzer\\Analyzer\\src\\Training.py:89\u001B[0m, in \u001B[0;36mtrain\u001B[1;34m(model, dataloader, test_dataloader, optimizer, num_epochs, device, loss_func, masks)\u001B[0m\n\u001B[0;32m     86\u001B[0m optimizer\u001B[38;5;241m.\u001B[39mzero_grad()\n\u001B[0;32m     88\u001B[0m \u001B[38;5;66;03m# Forward pass\u001B[39;00m\n\u001B[1;32m---> 89\u001B[0m reconstructed \u001B[38;5;241m=\u001B[39m \u001B[43mmodel\u001B[49m\u001B[43m(\u001B[49m\u001B[43mbatch\u001B[49m\u001B[43m,\u001B[49m\u001B[43m \u001B[49m\u001B[43mmasks\u001B[49m\u001B[43m)\u001B[49m\n\u001B[0;32m     91\u001B[0m \u001B[38;5;66;03m# Compute loss (only on masked positions)\u001B[39;00m\n\u001B[0;32m     92\u001B[0m loss \u001B[38;5;241m=\u001B[39m loss_func(reconstructed, batch)\n",
      "File \u001B[1;32mE:\\Coding\\SongAnalyzer\\.venv\\lib\\site-packages\\torch\\nn\\modules\\module.py:1739\u001B[0m, in \u001B[0;36mModule._wrapped_call_impl\u001B[1;34m(self, *args, **kwargs)\u001B[0m\n\u001B[0;32m   1737\u001B[0m     \u001B[38;5;28;01mreturn\u001B[39;00m \u001B[38;5;28mself\u001B[39m\u001B[38;5;241m.\u001B[39m_compiled_call_impl(\u001B[38;5;241m*\u001B[39margs, \u001B[38;5;241m*\u001B[39m\u001B[38;5;241m*\u001B[39mkwargs)  \u001B[38;5;66;03m# type: ignore[misc]\u001B[39;00m\n\u001B[0;32m   1738\u001B[0m \u001B[38;5;28;01melse\u001B[39;00m:\n\u001B[1;32m-> 1739\u001B[0m     \u001B[38;5;28;01mreturn\u001B[39;00m \u001B[38;5;28mself\u001B[39m\u001B[38;5;241m.\u001B[39m_call_impl(\u001B[38;5;241m*\u001B[39margs, \u001B[38;5;241m*\u001B[39m\u001B[38;5;241m*\u001B[39mkwargs)\n",
      "File \u001B[1;32mE:\\Coding\\SongAnalyzer\\.venv\\lib\\site-packages\\torch\\nn\\modules\\module.py:1750\u001B[0m, in \u001B[0;36mModule._call_impl\u001B[1;34m(self, *args, **kwargs)\u001B[0m\n\u001B[0;32m   1745\u001B[0m \u001B[38;5;66;03m# If we don't have any hooks, we want to skip the rest of the logic in\u001B[39;00m\n\u001B[0;32m   1746\u001B[0m \u001B[38;5;66;03m# this function, and just call forward.\u001B[39;00m\n\u001B[0;32m   1747\u001B[0m \u001B[38;5;28;01mif\u001B[39;00m \u001B[38;5;129;01mnot\u001B[39;00m (\u001B[38;5;28mself\u001B[39m\u001B[38;5;241m.\u001B[39m_backward_hooks \u001B[38;5;129;01mor\u001B[39;00m \u001B[38;5;28mself\u001B[39m\u001B[38;5;241m.\u001B[39m_backward_pre_hooks \u001B[38;5;129;01mor\u001B[39;00m \u001B[38;5;28mself\u001B[39m\u001B[38;5;241m.\u001B[39m_forward_hooks \u001B[38;5;129;01mor\u001B[39;00m \u001B[38;5;28mself\u001B[39m\u001B[38;5;241m.\u001B[39m_forward_pre_hooks\n\u001B[0;32m   1748\u001B[0m         \u001B[38;5;129;01mor\u001B[39;00m _global_backward_pre_hooks \u001B[38;5;129;01mor\u001B[39;00m _global_backward_hooks\n\u001B[0;32m   1749\u001B[0m         \u001B[38;5;129;01mor\u001B[39;00m _global_forward_hooks \u001B[38;5;129;01mor\u001B[39;00m _global_forward_pre_hooks):\n\u001B[1;32m-> 1750\u001B[0m     \u001B[38;5;28;01mreturn\u001B[39;00m forward_call(\u001B[38;5;241m*\u001B[39margs, \u001B[38;5;241m*\u001B[39m\u001B[38;5;241m*\u001B[39mkwargs)\n\u001B[0;32m   1752\u001B[0m result \u001B[38;5;241m=\u001B[39m \u001B[38;5;28;01mNone\u001B[39;00m\n\u001B[0;32m   1753\u001B[0m called_always_called_hooks \u001B[38;5;241m=\u001B[39m \u001B[38;5;28mset\u001B[39m()\n",
      "File \u001B[1;32mE:\\Coding\\SongAnalyzer\\Analyzer\\src\\AudioTransformer.py:53\u001B[0m, in \u001B[0;36mAudioTransformer.forward\u001B[1;34m(self, x, mask)\u001B[0m\n\u001B[0;32m     51\u001B[0m \u001B[38;5;28;01mdef\u001B[39;00m\u001B[38;5;250m \u001B[39m\u001B[38;5;21mforward\u001B[39m(\u001B[38;5;28mself\u001B[39m, x, mask\u001B[38;5;241m=\u001B[39m\u001B[38;5;28;01mNone\u001B[39;00m):\n\u001B[0;32m     52\u001B[0m     memory \u001B[38;5;241m=\u001B[39m \u001B[38;5;28mself\u001B[39m\u001B[38;5;241m.\u001B[39mto_latent(x, mask)\n\u001B[1;32m---> 53\u001B[0m     memory \u001B[38;5;241m=\u001B[39m \u001B[38;5;28;43mself\u001B[39;49m\u001B[38;5;241;43m.\u001B[39;49m\u001B[43mfrom_latent\u001B[49m\u001B[43m(\u001B[49m\u001B[43mmemory\u001B[49m\u001B[43m,\u001B[49m\u001B[43m \u001B[49m\u001B[43mmask\u001B[49m\u001B[43m)\u001B[49m\n\u001B[0;32m     54\u001B[0m     \u001B[38;5;28;01mreturn\u001B[39;00m memory\n",
      "File \u001B[1;32mE:\\Coding\\SongAnalyzer\\Analyzer\\src\\AudioTransformer.py:83\u001B[0m, in \u001B[0;36mAudioTransformer.from_latent\u001B[1;34m(self, x, mask)\u001B[0m\n\u001B[0;32m     80\u001B[0m memory \u001B[38;5;241m=\u001B[39m memory\u001B[38;5;241m.\u001B[39mreshape(x\u001B[38;5;241m.\u001B[39msize(\u001B[38;5;241m0\u001B[39m), queries\u001B[38;5;241m.\u001B[39mshape[\u001B[38;5;241m1\u001B[39m], \u001B[38;5;241m-\u001B[39m\u001B[38;5;241m1\u001B[39m)\n\u001B[0;32m     82\u001B[0m \u001B[38;5;66;03m# Decoder Block\u001B[39;00m\n\u001B[1;32m---> 83\u001B[0m memory \u001B[38;5;241m=\u001B[39m \u001B[38;5;28;43mself\u001B[39;49m\u001B[38;5;241;43m.\u001B[39;49m\u001B[43mdecoder\u001B[49m\u001B[43m(\u001B[49m\u001B[43mqueries\u001B[49m\u001B[43m,\u001B[49m\u001B[43m \u001B[49m\u001B[43mmemory\u001B[49m\u001B[43m,\u001B[49m\u001B[43m \u001B[49m\u001B[43mmask\u001B[49m\u001B[43m)\u001B[49m\n\u001B[0;32m     85\u001B[0m \u001B[38;5;66;03m# Project to Output Dimension\u001B[39;00m\n\u001B[0;32m     86\u001B[0m memory \u001B[38;5;241m=\u001B[39m \u001B[38;5;28mself\u001B[39m\u001B[38;5;241m.\u001B[39mfc_out(memory)\n",
      "File \u001B[1;32mE:\\Coding\\SongAnalyzer\\.venv\\lib\\site-packages\\torch\\nn\\modules\\module.py:1739\u001B[0m, in \u001B[0;36mModule._wrapped_call_impl\u001B[1;34m(self, *args, **kwargs)\u001B[0m\n\u001B[0;32m   1737\u001B[0m     \u001B[38;5;28;01mreturn\u001B[39;00m \u001B[38;5;28mself\u001B[39m\u001B[38;5;241m.\u001B[39m_compiled_call_impl(\u001B[38;5;241m*\u001B[39margs, \u001B[38;5;241m*\u001B[39m\u001B[38;5;241m*\u001B[39mkwargs)  \u001B[38;5;66;03m# type: ignore[misc]\u001B[39;00m\n\u001B[0;32m   1738\u001B[0m \u001B[38;5;28;01melse\u001B[39;00m:\n\u001B[1;32m-> 1739\u001B[0m     \u001B[38;5;28;01mreturn\u001B[39;00m \u001B[38;5;28mself\u001B[39m\u001B[38;5;241m.\u001B[39m_call_impl(\u001B[38;5;241m*\u001B[39margs, \u001B[38;5;241m*\u001B[39m\u001B[38;5;241m*\u001B[39mkwargs)\n",
      "File \u001B[1;32mE:\\Coding\\SongAnalyzer\\.venv\\lib\\site-packages\\torch\\nn\\modules\\module.py:1750\u001B[0m, in \u001B[0;36mModule._call_impl\u001B[1;34m(self, *args, **kwargs)\u001B[0m\n\u001B[0;32m   1745\u001B[0m \u001B[38;5;66;03m# If we don't have any hooks, we want to skip the rest of the logic in\u001B[39;00m\n\u001B[0;32m   1746\u001B[0m \u001B[38;5;66;03m# this function, and just call forward.\u001B[39;00m\n\u001B[0;32m   1747\u001B[0m \u001B[38;5;28;01mif\u001B[39;00m \u001B[38;5;129;01mnot\u001B[39;00m (\u001B[38;5;28mself\u001B[39m\u001B[38;5;241m.\u001B[39m_backward_hooks \u001B[38;5;129;01mor\u001B[39;00m \u001B[38;5;28mself\u001B[39m\u001B[38;5;241m.\u001B[39m_backward_pre_hooks \u001B[38;5;129;01mor\u001B[39;00m \u001B[38;5;28mself\u001B[39m\u001B[38;5;241m.\u001B[39m_forward_hooks \u001B[38;5;129;01mor\u001B[39;00m \u001B[38;5;28mself\u001B[39m\u001B[38;5;241m.\u001B[39m_forward_pre_hooks\n\u001B[0;32m   1748\u001B[0m         \u001B[38;5;129;01mor\u001B[39;00m _global_backward_pre_hooks \u001B[38;5;129;01mor\u001B[39;00m _global_backward_hooks\n\u001B[0;32m   1749\u001B[0m         \u001B[38;5;129;01mor\u001B[39;00m _global_forward_hooks \u001B[38;5;129;01mor\u001B[39;00m _global_forward_pre_hooks):\n\u001B[1;32m-> 1750\u001B[0m     \u001B[38;5;28;01mreturn\u001B[39;00m forward_call(\u001B[38;5;241m*\u001B[39margs, \u001B[38;5;241m*\u001B[39m\u001B[38;5;241m*\u001B[39mkwargs)\n\u001B[0;32m   1752\u001B[0m result \u001B[38;5;241m=\u001B[39m \u001B[38;5;28;01mNone\u001B[39;00m\n\u001B[0;32m   1753\u001B[0m called_always_called_hooks \u001B[38;5;241m=\u001B[39m \u001B[38;5;28mset\u001B[39m()\n",
      "File \u001B[1;32mE:\\Coding\\SongAnalyzer\\Analyzer\\src\\RopeALiBiModelComponents.py:219\u001B[0m, in \u001B[0;36mRoPEALiBiTransformerDecoder.forward\u001B[1;34m(self, tgt, memory, mask)\u001B[0m\n\u001B[0;32m    217\u001B[0m         tgt \u001B[38;5;241m=\u001B[39m checkpoint(layer, tgt, memory, \u001B[38;5;28mself\u001B[39m\u001B[38;5;241m.\u001B[39mself_alibi_bias, \u001B[38;5;28mself\u001B[39m\u001B[38;5;241m.\u001B[39mself_pos_emb, \u001B[38;5;28mself\u001B[39m\u001B[38;5;241m.\u001B[39mcross_alibi_bias, \u001B[38;5;28mself\u001B[39m\u001B[38;5;241m.\u001B[39mcross_pos_emb, mask)\n\u001B[0;32m    218\u001B[0m     \u001B[38;5;28;01melse\u001B[39;00m:\n\u001B[1;32m--> 219\u001B[0m         tgt \u001B[38;5;241m=\u001B[39m \u001B[43mlayer\u001B[49m\u001B[43m(\u001B[49m\u001B[43mtgt\u001B[49m\u001B[43m,\u001B[49m\u001B[43m \u001B[49m\u001B[43mmemory\u001B[49m\u001B[43m,\u001B[49m\u001B[43m \u001B[49m\u001B[38;5;28;43mself\u001B[39;49m\u001B[38;5;241;43m.\u001B[39;49m\u001B[43mself_alibi_bias\u001B[49m\u001B[43m,\u001B[49m\u001B[43m \u001B[49m\u001B[38;5;28;43mself\u001B[39;49m\u001B[38;5;241;43m.\u001B[39;49m\u001B[43mself_pos_emb\u001B[49m\u001B[43m,\u001B[49m\u001B[43m \u001B[49m\u001B[38;5;28;43mself\u001B[39;49m\u001B[38;5;241;43m.\u001B[39;49m\u001B[43mcross_alibi_bias\u001B[49m\u001B[43m,\u001B[49m\u001B[43m \u001B[49m\u001B[38;5;28;43mself\u001B[39;49m\u001B[38;5;241;43m.\u001B[39;49m\u001B[43mcross_pos_emb\u001B[49m\u001B[43m,\u001B[49m\u001B[43m \u001B[49m\u001B[43mmask\u001B[49m\u001B[43m)\u001B[49m\n\u001B[0;32m    221\u001B[0m \u001B[38;5;28;01mreturn\u001B[39;00m \u001B[38;5;28mself\u001B[39m\u001B[38;5;241m.\u001B[39mnorm(tgt)\n",
      "File \u001B[1;32mE:\\Coding\\SongAnalyzer\\.venv\\lib\\site-packages\\torch\\nn\\modules\\module.py:1739\u001B[0m, in \u001B[0;36mModule._wrapped_call_impl\u001B[1;34m(self, *args, **kwargs)\u001B[0m\n\u001B[0;32m   1737\u001B[0m     \u001B[38;5;28;01mreturn\u001B[39;00m \u001B[38;5;28mself\u001B[39m\u001B[38;5;241m.\u001B[39m_compiled_call_impl(\u001B[38;5;241m*\u001B[39margs, \u001B[38;5;241m*\u001B[39m\u001B[38;5;241m*\u001B[39mkwargs)  \u001B[38;5;66;03m# type: ignore[misc]\u001B[39;00m\n\u001B[0;32m   1738\u001B[0m \u001B[38;5;28;01melse\u001B[39;00m:\n\u001B[1;32m-> 1739\u001B[0m     \u001B[38;5;28;01mreturn\u001B[39;00m \u001B[38;5;28mself\u001B[39m\u001B[38;5;241m.\u001B[39m_call_impl(\u001B[38;5;241m*\u001B[39margs, \u001B[38;5;241m*\u001B[39m\u001B[38;5;241m*\u001B[39mkwargs)\n",
      "File \u001B[1;32mE:\\Coding\\SongAnalyzer\\.venv\\lib\\site-packages\\torch\\nn\\modules\\module.py:1750\u001B[0m, in \u001B[0;36mModule._call_impl\u001B[1;34m(self, *args, **kwargs)\u001B[0m\n\u001B[0;32m   1745\u001B[0m \u001B[38;5;66;03m# If we don't have any hooks, we want to skip the rest of the logic in\u001B[39;00m\n\u001B[0;32m   1746\u001B[0m \u001B[38;5;66;03m# this function, and just call forward.\u001B[39;00m\n\u001B[0;32m   1747\u001B[0m \u001B[38;5;28;01mif\u001B[39;00m \u001B[38;5;129;01mnot\u001B[39;00m (\u001B[38;5;28mself\u001B[39m\u001B[38;5;241m.\u001B[39m_backward_hooks \u001B[38;5;129;01mor\u001B[39;00m \u001B[38;5;28mself\u001B[39m\u001B[38;5;241m.\u001B[39m_backward_pre_hooks \u001B[38;5;129;01mor\u001B[39;00m \u001B[38;5;28mself\u001B[39m\u001B[38;5;241m.\u001B[39m_forward_hooks \u001B[38;5;129;01mor\u001B[39;00m \u001B[38;5;28mself\u001B[39m\u001B[38;5;241m.\u001B[39m_forward_pre_hooks\n\u001B[0;32m   1748\u001B[0m         \u001B[38;5;129;01mor\u001B[39;00m _global_backward_pre_hooks \u001B[38;5;129;01mor\u001B[39;00m _global_backward_hooks\n\u001B[0;32m   1749\u001B[0m         \u001B[38;5;129;01mor\u001B[39;00m _global_forward_hooks \u001B[38;5;129;01mor\u001B[39;00m _global_forward_pre_hooks):\n\u001B[1;32m-> 1750\u001B[0m     \u001B[38;5;28;01mreturn\u001B[39;00m forward_call(\u001B[38;5;241m*\u001B[39margs, \u001B[38;5;241m*\u001B[39m\u001B[38;5;241m*\u001B[39mkwargs)\n\u001B[0;32m   1752\u001B[0m result \u001B[38;5;241m=\u001B[39m \u001B[38;5;28;01mNone\u001B[39;00m\n\u001B[0;32m   1753\u001B[0m called_always_called_hooks \u001B[38;5;241m=\u001B[39m \u001B[38;5;28mset\u001B[39m()\n",
      "File \u001B[1;32mE:\\Coding\\SongAnalyzer\\Analyzer\\src\\RopeALiBiModelComponents.py:171\u001B[0m, in \u001B[0;36mRoPEALiBiTransformerDecoderLayer.forward\u001B[1;34m(self, tgt, memory, self_alibi_bias, self_pos_emb, cross_alibi_bias, cross_pos_emb, mask)\u001B[0m\n\u001B[0;32m    168\u001B[0m tgt \u001B[38;5;241m=\u001B[39m tgt \u001B[38;5;241m+\u001B[39m \u001B[38;5;28mself\u001B[39m\u001B[38;5;241m.\u001B[39mnorm1(tgt2)\n\u001B[0;32m    170\u001B[0m \u001B[38;5;66;03m# Cross-attention Block\u001B[39;00m\n\u001B[1;32m--> 171\u001B[0m tgt2 \u001B[38;5;241m=\u001B[39m \u001B[38;5;28;43mself\u001B[39;49m\u001B[38;5;241;43m.\u001B[39;49m\u001B[43mcross_attn\u001B[49m\u001B[43m(\u001B[49m\u001B[43mtgt\u001B[49m\u001B[43m,\u001B[49m\u001B[43m \u001B[49m\u001B[43mmemory\u001B[49m\u001B[43m,\u001B[49m\u001B[43m \u001B[49m\u001B[43mmemory\u001B[49m\u001B[43m,\u001B[49m\u001B[43m \u001B[49m\u001B[43mcross_alibi_bias\u001B[49m\u001B[43m,\u001B[49m\u001B[43m \u001B[49m\u001B[43mcross_pos_emb\u001B[49m\u001B[43m,\u001B[49m\u001B[43m \u001B[49m\u001B[43mmask\u001B[49m\u001B[43m)\u001B[49m\n\u001B[0;32m    172\u001B[0m tgt2 \u001B[38;5;241m=\u001B[39m \u001B[38;5;28mself\u001B[39m\u001B[38;5;241m.\u001B[39mdropout2(tgt2)\n\u001B[0;32m    173\u001B[0m tgt \u001B[38;5;241m=\u001B[39m tgt \u001B[38;5;241m+\u001B[39m \u001B[38;5;28mself\u001B[39m\u001B[38;5;241m.\u001B[39mnorm2(tgt2)\n",
      "File \u001B[1;32mE:\\Coding\\SongAnalyzer\\.venv\\lib\\site-packages\\torch\\nn\\modules\\module.py:1739\u001B[0m, in \u001B[0;36mModule._wrapped_call_impl\u001B[1;34m(self, *args, **kwargs)\u001B[0m\n\u001B[0;32m   1737\u001B[0m     \u001B[38;5;28;01mreturn\u001B[39;00m \u001B[38;5;28mself\u001B[39m\u001B[38;5;241m.\u001B[39m_compiled_call_impl(\u001B[38;5;241m*\u001B[39margs, \u001B[38;5;241m*\u001B[39m\u001B[38;5;241m*\u001B[39mkwargs)  \u001B[38;5;66;03m# type: ignore[misc]\u001B[39;00m\n\u001B[0;32m   1738\u001B[0m \u001B[38;5;28;01melse\u001B[39;00m:\n\u001B[1;32m-> 1739\u001B[0m     \u001B[38;5;28;01mreturn\u001B[39;00m \u001B[38;5;28mself\u001B[39m\u001B[38;5;241m.\u001B[39m_call_impl(\u001B[38;5;241m*\u001B[39margs, \u001B[38;5;241m*\u001B[39m\u001B[38;5;241m*\u001B[39mkwargs)\n",
      "File \u001B[1;32mE:\\Coding\\SongAnalyzer\\.venv\\lib\\site-packages\\torch\\nn\\modules\\module.py:1750\u001B[0m, in \u001B[0;36mModule._call_impl\u001B[1;34m(self, *args, **kwargs)\u001B[0m\n\u001B[0;32m   1745\u001B[0m \u001B[38;5;66;03m# If we don't have any hooks, we want to skip the rest of the logic in\u001B[39;00m\n\u001B[0;32m   1746\u001B[0m \u001B[38;5;66;03m# this function, and just call forward.\u001B[39;00m\n\u001B[0;32m   1747\u001B[0m \u001B[38;5;28;01mif\u001B[39;00m \u001B[38;5;129;01mnot\u001B[39;00m (\u001B[38;5;28mself\u001B[39m\u001B[38;5;241m.\u001B[39m_backward_hooks \u001B[38;5;129;01mor\u001B[39;00m \u001B[38;5;28mself\u001B[39m\u001B[38;5;241m.\u001B[39m_backward_pre_hooks \u001B[38;5;129;01mor\u001B[39;00m \u001B[38;5;28mself\u001B[39m\u001B[38;5;241m.\u001B[39m_forward_hooks \u001B[38;5;129;01mor\u001B[39;00m \u001B[38;5;28mself\u001B[39m\u001B[38;5;241m.\u001B[39m_forward_pre_hooks\n\u001B[0;32m   1748\u001B[0m         \u001B[38;5;129;01mor\u001B[39;00m _global_backward_pre_hooks \u001B[38;5;129;01mor\u001B[39;00m _global_backward_hooks\n\u001B[0;32m   1749\u001B[0m         \u001B[38;5;129;01mor\u001B[39;00m _global_forward_hooks \u001B[38;5;129;01mor\u001B[39;00m _global_forward_pre_hooks):\n\u001B[1;32m-> 1750\u001B[0m     \u001B[38;5;28;01mreturn\u001B[39;00m forward_call(\u001B[38;5;241m*\u001B[39margs, \u001B[38;5;241m*\u001B[39m\u001B[38;5;241m*\u001B[39mkwargs)\n\u001B[0;32m   1752\u001B[0m result \u001B[38;5;241m=\u001B[39m \u001B[38;5;28;01mNone\u001B[39;00m\n\u001B[0;32m   1753\u001B[0m called_always_called_hooks \u001B[38;5;241m=\u001B[39m \u001B[38;5;28mset\u001B[39m()\n",
      "File \u001B[1;32mE:\\Coding\\SongAnalyzer\\Analyzer\\src\\RopeALiBiModelComponents.py:39\u001B[0m, in \u001B[0;36mRoPEALiBiMultiheadAttention.forward\u001B[1;34m(self, query, key, value, alibi_bias, pos_emb, mask)\u001B[0m\n\u001B[0;32m     37\u001B[0m \u001B[38;5;66;03m# Apply RoPE to q and k\u001B[39;00m\n\u001B[0;32m     38\u001B[0m \u001B[38;5;28;01mif\u001B[39;00m pos_emb \u001B[38;5;129;01mis\u001B[39;00m \u001B[38;5;129;01mnot\u001B[39;00m \u001B[38;5;28;01mNone\u001B[39;00m:\n\u001B[1;32m---> 39\u001B[0m     q \u001B[38;5;241m=\u001B[39m \u001B[43mapply_RoPE\u001B[49m\u001B[43m(\u001B[49m\u001B[43mq\u001B[49m\u001B[43m,\u001B[49m\u001B[43m \u001B[49m\u001B[43mpos_emb\u001B[49m\u001B[43m)\u001B[49m\n\u001B[0;32m     40\u001B[0m     k \u001B[38;5;241m=\u001B[39m apply_RoPE(k, pos_emb)\n\u001B[0;32m     42\u001B[0m \u001B[38;5;66;03m# Compute raw attention scores\u001B[39;00m\n",
      "File \u001B[1;32mE:\\Coding\\SongAnalyzer\\Analyzer\\src\\RopeALiBiModelComponents.py:261\u001B[0m, in \u001B[0;36mapply_RoPE\u001B[1;34m(x, pos_emb)\u001B[0m\n\u001B[0;32m    258\u001B[0m cos \u001B[38;5;241m=\u001B[39m pos_emb[\u001B[38;5;241m.\u001B[39m\u001B[38;5;241m.\u001B[39m\u001B[38;5;241m.\u001B[39m, ::\u001B[38;5;241m2\u001B[39m]\n\u001B[0;32m    259\u001B[0m sin \u001B[38;5;241m=\u001B[39m pos_emb[\u001B[38;5;241m.\u001B[39m\u001B[38;5;241m.\u001B[39m\u001B[38;5;241m.\u001B[39m, \u001B[38;5;241m1\u001B[39m::\u001B[38;5;241m2\u001B[39m]\n\u001B[1;32m--> 261\u001B[0m \u001B[38;5;28;01mreturn\u001B[39;00m \u001B[43mtorch\u001B[49m\u001B[38;5;241;43m.\u001B[39;49m\u001B[43mcat\u001B[49m\u001B[43m(\u001B[49m\u001B[43m[\u001B[49m\n\u001B[0;32m    262\u001B[0m \u001B[43m    \u001B[49m\u001B[43mx_even\u001B[49m\u001B[43m \u001B[49m\u001B[38;5;241;43m*\u001B[39;49m\u001B[43m \u001B[49m\u001B[43mcos\u001B[49m\u001B[43m \u001B[49m\u001B[38;5;241;43m-\u001B[39;49m\u001B[43m \u001B[49m\u001B[43mx_odd\u001B[49m\u001B[43m \u001B[49m\u001B[38;5;241;43m*\u001B[39;49m\u001B[43m \u001B[49m\u001B[43msin\u001B[49m\u001B[43m,\u001B[49m\n\u001B[0;32m    263\u001B[0m \u001B[43m    \u001B[49m\u001B[43mx_even\u001B[49m\u001B[43m \u001B[49m\u001B[38;5;241;43m*\u001B[39;49m\u001B[43m \u001B[49m\u001B[43msin\u001B[49m\u001B[43m \u001B[49m\u001B[38;5;241;43m+\u001B[39;49m\u001B[43m \u001B[49m\u001B[43mx_odd\u001B[49m\u001B[43m \u001B[49m\u001B[38;5;241;43m*\u001B[39;49m\u001B[43m \u001B[49m\u001B[43mcos\u001B[49m\n\u001B[0;32m    264\u001B[0m \u001B[43m\u001B[49m\u001B[43m]\u001B[49m\u001B[43m,\u001B[49m\u001B[43m \u001B[49m\u001B[43mdim\u001B[49m\u001B[38;5;241;43m=\u001B[39;49m\u001B[38;5;241;43m-\u001B[39;49m\u001B[38;5;241;43m1\u001B[39;49m\u001B[43m)\u001B[49m\n",
      "\u001B[1;31mKeyboardInterrupt\u001B[0m: "
     ]
    }
   ],
   "execution_count": 7,
   "source": [
    "# Mtg-Dataset Only\n",
    "train(model, train_dataloader, test_dataloader, optimizer, num_epochs=10, device=device, loss_func=combined_loss)\n",
    "evaluate(model, test_dataloader)"
   ],
   "id": "3420cdbcecd81d5c"
  },
  {
   "metadata": {
    "ExecuteTime": {
     "end_time": "2025-06-04T17:51:31.228555900Z",
     "start_time": "2025-06-02T11:28:28.840860Z"
    }
   },
   "cell_type": "code",
   "outputs": [
    {
     "name": "stderr",
     "output_type": "stream",
     "text": [
      "100%|██████████| 18530/18530 [1:03:22<00:00,  4.87it/s]\n",
      "100%|██████████| 2059/2059 [02:20<00:00, 14.61it/s]\n"
     ]
    },
    {
     "name": "stdout",
     "output_type": "stream",
     "text": [
      "Epoch [1/10], Training Loss: 1.2469 \t Validation Loss: 1.0335\n"
     ]
    },
    {
     "name": "stderr",
     "output_type": "stream",
     "text": [
      "100%|██████████| 18530/18530 [1:02:24<00:00,  4.95it/s]\n",
      "100%|██████████| 2059/2059 [02:18<00:00, 14.92it/s]\n"
     ]
    },
    {
     "name": "stdout",
     "output_type": "stream",
     "text": [
      "Epoch [2/10], Training Loss: 0.9888 \t Validation Loss: 0.9329\n"
     ]
    },
    {
     "name": "stderr",
     "output_type": "stream",
     "text": [
      "100%|██████████| 18530/18530 [1:02:24<00:00,  4.95it/s]\n",
      "100%|██████████| 2059/2059 [02:18<00:00, 14.90it/s]\n"
     ]
    },
    {
     "name": "stdout",
     "output_type": "stream",
     "text": [
      "Epoch [3/10], Training Loss: 0.9290 \t Validation Loss: 0.9062\n"
     ]
    },
    {
     "name": "stderr",
     "output_type": "stream",
     "text": [
      "100%|██████████| 18530/18530 [1:02:24<00:00,  4.95it/s]\n",
      "100%|██████████| 2059/2059 [02:18<00:00, 14.92it/s]\n"
     ]
    },
    {
     "name": "stdout",
     "output_type": "stream",
     "text": [
      "Epoch [4/10], Training Loss: 0.9082 \t Validation Loss: 0.8942\n"
     ]
    },
    {
     "name": "stderr",
     "output_type": "stream",
     "text": [
      "100%|██████████| 18530/18530 [1:02:21<00:00,  4.95it/s]\n",
      "100%|██████████| 2059/2059 [02:17<00:00, 14.96it/s]\n"
     ]
    },
    {
     "name": "stdout",
     "output_type": "stream",
     "text": [
      "Epoch [5/10], Training Loss: 0.8955 \t Validation Loss: 0.8846\n"
     ]
    },
    {
     "name": "stderr",
     "output_type": "stream",
     "text": [
      "100%|██████████| 18530/18530 [1:03:42<00:00,  4.85it/s]\n",
      "100%|██████████| 2059/2059 [02:32<00:00, 13.51it/s]\n"
     ]
    },
    {
     "name": "stdout",
     "output_type": "stream",
     "text": [
      "Epoch [6/10], Training Loss: 0.8862 \t Validation Loss: 0.8774\n"
     ]
    },
    {
     "name": "stderr",
     "output_type": "stream",
     "text": [
      "100%|██████████| 18530/18530 [1:03:40<00:00,  4.85it/s]\n",
      "100%|██████████| 2059/2059 [02:22<00:00, 14.44it/s]\n"
     ]
    },
    {
     "name": "stdout",
     "output_type": "stream",
     "text": [
      "Epoch [7/10], Training Loss: 0.8790 \t Validation Loss: 0.8716\n"
     ]
    },
    {
     "name": "stderr",
     "output_type": "stream",
     "text": [
      "100%|██████████| 18530/18530 [1:07:27<00:00,  4.58it/s]\n",
      "100%|██████████| 2059/2059 [02:38<00:00, 13.02it/s]\n"
     ]
    },
    {
     "name": "stdout",
     "output_type": "stream",
     "text": [
      "Epoch [8/10], Training Loss: 0.8738 \t Validation Loss: 0.8681\n"
     ]
    },
    {
     "name": "stderr",
     "output_type": "stream",
     "text": [
      "100%|██████████| 18530/18530 [1:08:43<00:00,  4.49it/s]\n",
      "100%|██████████| 2059/2059 [02:36<00:00, 13.17it/s]\n"
     ]
    },
    {
     "name": "stdout",
     "output_type": "stream",
     "text": [
      "Epoch [9/10], Training Loss: 0.8704 \t Validation Loss: 0.8661\n"
     ]
    },
    {
     "name": "stderr",
     "output_type": "stream",
     "text": [
      "100%|██████████| 18530/18530 [1:07:23<00:00,  4.58it/s]\n",
      "100%|██████████| 2059/2059 [02:17<00:00, 14.97it/s]\n"
     ]
    },
    {
     "name": "stdout",
     "output_type": "stream",
     "text": [
      "Epoch [10/10], Training Loss: 0.8688 \t Validation Loss: 0.8656\n"
     ]
    },
    {
     "name": "stderr",
     "output_type": "stream",
     "text": [
      "100%|██████████| 2059/2059 [02:16<00:00, 15.06it/s]\n"
     ]
    },
    {
     "name": "stdout",
     "output_type": "stream",
     "text": [
      "Avg Reconstructive Loss: 0.3636277616\n",
      "Avg Cross FFT Loss: 0.5019369721\n",
      "Avg Contrastive Loss: 0.8655653000\n"
     ]
    },
    {
     "data": {
      "text/plain": [
       "tensor(1.7311, device='cuda:0')"
      ]
     },
     "execution_count": 7,
     "metadata": {},
     "output_type": "execute_result"
    }
   ],
   "execution_count": 7,
   "source": [
    "#Bidirectional\n",
    "train(model, train_dataloader, test_dataloader, optimizer, num_epochs=10, device=device, loss_func=combined_loss)\n",
    "evaluate(model, test_dataloader)"
   ],
   "id": "4e2b01a3a2040f3d"
  },
  {
   "metadata": {},
   "cell_type": "markdown",
   "source": "# Output Stuff",
   "id": "be18100accf986cc"
  },
  {
   "metadata": {
    "ExecuteTime": {
     "end_time": "2025-06-04T17:51:31.233555600Z",
     "start_time": "2025-06-02T23:54:31.072236Z"
    }
   },
   "cell_type": "code",
   "source": [
    "from torch.utils.data import random_split\n",
    "\n",
    "reconstruction_examples = retrieve_data(\"E:\\SongsDataset\\\\\",  \"reconstruction_test_latents\\\\\", sample_length=256)"
   ],
   "id": "cf4253aa15817256",
   "outputs": [
    {
     "name": "stderr",
     "output_type": "stream",
     "text": [
      "E:\\Coding\\SongAnalyzer\\Analyzer\\src\\Data.py:63: UserWarning: Creating a tensor from a list of numpy.ndarrays is extremely slow. Please consider converting the list to a single numpy.ndarray with numpy.array() before converting to a tensor. (Triggered internally at C:\\actions-runner\\_work\\pytorch\\pytorch\\pytorch\\torch\\csrc\\utils\\tensor_new.cpp:257.)\n",
      "  tens = torch.tensor(dataset).to(torch.float32)\n"
     ]
    }
   ],
   "execution_count": 2
  },
  {
   "metadata": {
    "ExecuteTime": {
     "end_time": "2025-06-04T17:51:31.234555900Z",
     "start_time": "2025-06-02T23:55:48.241301Z"
    }
   },
   "cell_type": "code",
   "source": [
    "song_set, _ = random_split(reconstruction_examples, [len(reconstruction_examples), 0])\n",
    "song_dataset = AudioDataset(song_set)\n",
    "song_dataloader = DataLoader(song_dataset, batch_size=batch_size, shuffle=True)"
   ],
   "id": "fbc2621ca2ea37d3",
   "outputs": [
    {
     "ename": "TypeError",
     "evalue": "AudioDataset.__init__() missing 1 required positional argument: 'masks'",
     "output_type": "error",
     "traceback": [
      "\u001B[1;31m---------------------------------------------------------------------------\u001B[0m",
      "\u001B[1;31mTypeError\u001B[0m                                 Traceback (most recent call last)",
      "Cell \u001B[1;32mIn[3], line 2\u001B[0m\n\u001B[0;32m      1\u001B[0m song_set, _ \u001B[38;5;241m=\u001B[39m random_split(reconstruction_examples, [\u001B[38;5;28mlen\u001B[39m(reconstruction_examples), \u001B[38;5;241m0\u001B[39m])\n\u001B[1;32m----> 2\u001B[0m song_dataset \u001B[38;5;241m=\u001B[39m \u001B[43mAudioDataset\u001B[49m\u001B[43m(\u001B[49m\u001B[43msong_set\u001B[49m\u001B[43m)\u001B[49m\n\u001B[0;32m      3\u001B[0m song_dataloader \u001B[38;5;241m=\u001B[39m DataLoader(song_dataset, batch_size\u001B[38;5;241m=\u001B[39mbatch_size, shuffle\u001B[38;5;241m=\u001B[39m\u001B[38;5;28;01mTrue\u001B[39;00m)\n",
      "\u001B[1;31mTypeError\u001B[0m: AudioDataset.__init__() missing 1 required positional argument: 'masks'"
     ]
    }
   ],
   "execution_count": 3
  },
  {
   "metadata": {
    "ExecuteTime": {
     "end_time": "2025-06-04T17:51:31.236556100Z",
     "start_time": "2025-05-22T19:50:18.735879Z"
    }
   },
   "cell_type": "code",
   "source": [
    "model = torch.load(\n",
    "    f\"E:\\Coding\\SongAnalyzer\\Analyzer\\src\\AudioTransformer-LatentSpace512-Heads16-TrasformerLayers16-DModel256-Dropout0.1-fft-cos-bidirectional\\-Epoch-10.pt\",\n",
    "        weights_only=False)\n",
    "evaluate(model, song_dataset)"
   ],
   "id": "7a8ae7c9d6b12217",
   "outputs": [
    {
     "ename": "NameError",
     "evalue": "name 'song_dataset' is not defined",
     "output_type": "error",
     "traceback": [
      "\u001B[1;31m---------------------------------------------------------------------------\u001B[0m",
      "\u001B[1;31mNameError\u001B[0m                                 Traceback (most recent call last)",
      "Cell \u001B[1;32mIn[2], line 4\u001B[0m\n\u001B[0;32m      1\u001B[0m model \u001B[38;5;241m=\u001B[39m torch\u001B[38;5;241m.\u001B[39mload(\n\u001B[0;32m      2\u001B[0m     \u001B[38;5;124mf\u001B[39m\u001B[38;5;124m\"\u001B[39m\u001B[38;5;124mAudioTransformer-LatentSpace512-Heads16-TrasformerLayers16-DModel256-Dropout0.1-fft-cos-256\u001B[39m\u001B[38;5;124m\\\u001B[39m\u001B[38;5;124m-Epoch-10.pt\u001B[39m\u001B[38;5;124m\"\u001B[39m,\n\u001B[0;32m      3\u001B[0m         weights_only\u001B[38;5;241m=\u001B[39m\u001B[38;5;28;01mFalse\u001B[39;00m)\n\u001B[1;32m----> 4\u001B[0m evaluate(model, \u001B[43msong_dataset\u001B[49m)\n",
      "\u001B[1;31mNameError\u001B[0m: name 'song_dataset' is not defined"
     ]
    }
   ],
   "execution_count": 2
  },
  {
   "cell_type": "code",
   "id": "455f9eaa3c09be8b",
   "metadata": {},
   "source": [
    "from Loss import combined_loss\n",
    "\n",
    "device = \"cuda\"\n",
    "\n",
    "model.eval()  # Set model to evaluation mode\n",
    "model.to(device)\n",
    "total_loss = 0.0\n",
    "num_batches = 0\n",
    "\n",
    "new_song = []\n",
    "\n",
    "# Disable gradient computation for evaluation\n",
    "with torch.no_grad():\n",
    "    for batch in tqdm(song_dataloader):\n",
    "        batch = batch.to(device)\n",
    "\n",
    "        # Forward pass\n",
    "        reconstructed = model(batch)\n",
    "\n",
    "        new_song.extend(reconstructed.to(\"cpu\"))\n",
    "\n",
    "        loss = combined_loss(reconstructed, batch)\n",
    "\n",
    "        total_loss += loss.item()\n",
    "        num_batches += 1\n",
    "\n",
    "l = np.array(np.stack(new_song)).reshape(64, -1)\n",
    "np.save(\"bidirectional-test.npy\", l)"
   ],
   "outputs": [],
   "execution_count": null
  },
  {
   "metadata": {},
   "cell_type": "code",
   "source": [
    "device = \"cuda\"\n",
    "\n",
    "model.eval()\n",
    "model.to(device)\n",
    "\n",
    "total_loss = 0.0\n",
    "num_batches = 0\n",
    "\n",
    "latent_space = []\n",
    "\n",
    "# Disable gradient computation for evaluation\n",
    "with torch.no_grad():\n",
    "    for batch in tqdm(song_dataloader):\n",
    "        batch = batch.to(device)\n",
    "\n",
    "        # Forward pass\n",
    "        latent = model.to_latent(batch)\n",
    "\n",
    "        latent_space.extend(latent.to(\"cpu\"))\n",
    "\n",
    "        num_batches += 1"
   ],
   "id": "500f58f1e962f7d7",
   "outputs": [],
   "execution_count": null
  },
  {
   "metadata": {},
   "cell_type": "code",
   "source": [
    "print(len(new_song))\n",
    "print(len(new_song[0]))\n",
    "print(len(new_song[0][0]))"
   ],
   "id": "b136dab70b1d939c",
   "outputs": [],
   "execution_count": null
  },
  {
   "cell_type": "code",
   "id": "99e97d55b0fe4e2b",
   "metadata": {},
   "source": [
    "import IPython\n",
    "from music2latent import EncoderDecoder\n",
    "import numpy as np\n",
    "\n",
    "encdec = EncoderDecoder()"
   ],
   "outputs": [],
   "execution_count": null
  },
  {
   "metadata": {},
   "cell_type": "code",
   "source": "l = np.load(\"reconstructed_song-2D-256-Banana.npy\")",
   "id": "c551566086e9ad0c",
   "outputs": [],
   "execution_count": null
  },
  {
   "metadata": {},
   "cell_type": "code",
   "source": [
    "# compressed_song = np.load(\"reconstructed_song-256-FFT.npy\")\n",
    "wv_rec = encdec.decode(l)"
   ],
   "id": "37adcbe9ec1ff8a7",
   "outputs": [],
   "execution_count": null
  },
  {
   "metadata": {},
   "cell_type": "code",
   "source": "IPython.display.display(IPython.display.Audio(wv_rec, rate=44100))",
   "id": "3bf378f8f7bd1e6",
   "outputs": [],
   "execution_count": null
  },
  {
   "metadata": {},
   "cell_type": "markdown",
   "source": "# Data Output",
   "id": "fb377fc03ba185eb"
  },
  {
   "metadata": {
    "ExecuteTime": {
     "end_time": "2025-06-09T17:01:04.985857Z",
     "start_time": "2025-06-09T17:00:47.203669Z"
    }
   },
   "cell_type": "code",
   "source": [
    "from tqdm import tqdm\n",
    "import torch\n",
    "from Data import AudioDataset, retrieve_data"
   ],
   "id": "ea5e81db5410c8c0",
   "outputs": [],
   "execution_count": 1
  },
  {
   "metadata": {
    "ExecuteTime": {
     "end_time": "2025-06-09T17:03:15.392724Z",
     "start_time": "2025-06-09T17:03:15.378725Z"
    }
   },
   "cell_type": "code",
   "source": [
    "def compress_song_average(song, model, mask=None):\n",
    "    with torch.no_grad():\n",
    "        mean, logvar = model.to_latent(song, mask)\n",
    "        return torch.sum(mean.to('cpu'), dim=0) / len(song)"
   ],
   "id": "7b90b9c27234c4e8",
   "outputs": [],
   "execution_count": 6
  },
  {
   "metadata": {
    "ExecuteTime": {
     "end_time": "2025-06-09T17:03:16.912430Z",
     "start_time": "2025-06-09T17:03:16.899079Z"
    }
   },
   "cell_type": "code",
   "source": [
    "from Data import chunk_song\n",
    "import os\n",
    "\n",
    "def compute(model, name, length=256):\n",
    "    model.to(\"cuda\")\n",
    "    model.eval()\n",
    "\n",
    "    path = \"E:\\\\SongsDataset\\\\latents\\\\\"\n",
    "    all_folders = os.listdir(path)\n",
    "\n",
    "    file = open(f\"output_analysis\\\\output-{name}.csv\", \"w\", encoding='utf-8')\n",
    "\n",
    "    for each_song in tqdm(all_folders):\n",
    "        song_path = os.path.join(path, each_song)\n",
    "\n",
    "        padded_data, zeros  = chunk_song(song_path, length)\n",
    "        input_tensor = torch.Tensor(padded_data).reshape(-1, length, 64).to(\"cuda\")\n",
    "\n",
    "        mask = [0 for _ in range(padded_data.shape[0] // length - 1)]\n",
    "        mask.append(zeros)\n",
    "        bool_masks = None\n",
    "        # bool_masks = [[0 if (length - i) > x else 1 for i in range(length)] for x in mask]\n",
    "        # bool_masks = torch.tensor(bool_masks).bool()\n",
    "        # bool_masks = bool_masks.to(\"cuda\")\n",
    "\n",
    "        latent = compress_song_average(input_tensor, model, mask=bool_masks)\n",
    "\n",
    "        output = \"\"\n",
    "        for value in latent:\n",
    "            output += f\"{str(value.item())} \"\n",
    "\n",
    "        file.write(output + f\"\\\"{each_song}\\\"\\n\")"
   ],
   "id": "11349c5b539020d6",
   "outputs": [],
   "execution_count": 7
  },
  {
   "metadata": {
    "ExecuteTime": {
     "end_time": "2025-06-09T17:03:18.656073Z",
     "start_time": "2025-06-09T17:03:18.642073Z"
    }
   },
   "cell_type": "code",
   "source": [
    "import subprocess\n",
    "\n",
    "def cluster_elki(name, num_clusters):\n",
    "    # Define parameters\n",
    "    elki_jar = \"elki-bundle-0.8.0.jar\"\n",
    "    data_file = f\"output_analysis/output-{name}.csv\"\n",
    "\n",
    "    # Construct the ELKI command\n",
    "    cmd = [\n",
    "        \"java\", \"-jar\", elki_jar,\n",
    "        \"KDDCLIApplication\",\n",
    "        \"-dbc.in\", data_file,\n",
    "        \"-algorithm\", \"clustering.hierarchical.extraction.CutDendrogramByNumberOfClusters\",\n",
    "        \"-algorithm\", \"Anderberg\",\n",
    "        \"-algorithm.distancefunction\", \"CosineDistance\",\n",
    "        \"-hierarchical.minclusters\", str(num_clusters),\n",
    "        \"-resulthandler\", \"ResultWriter\",\n",
    "        \"-out.gzip\", \"false\",\n",
    "        \"-out\", f\"output_analysis/elki-TEST-{name}-{num_clusters}\",\n",
    "    ]\n",
    "\n",
    "    # Execute the command\n",
    "    try:\n",
    "        result = subprocess.run(cmd, capture_output=True, text=True, check=True)\n",
    "    except subprocess.CalledProcessError as e:\n",
    "        print(\"An error occurred:\\n\", e.stderr)"
   ],
   "id": "acf54ce55a7dd840",
   "outputs": [],
   "execution_count": 8
  },
  {
   "metadata": {
    "ExecuteTime": {
     "end_time": "2025-06-09T17:05:46.217316Z",
     "start_time": "2025-06-09T17:03:20.160517Z"
    }
   },
   "cell_type": "code",
   "source": [
    "model = torch.load(\"E:\\Coding\\SongAnalyzer\\Analyzer\\src\\AudioVariationalTransformer-LatentSpace512-Heads16-TrasformerLayers16-DModel256-Dropout0.1-fft-cos-mtg-only-FlashAttention\\-Epoch-27.pt\", weights_only=False)\n",
    "compute(model, \"Linear-Variational-mtg-only-FlashAttention-3-27\")\n",
    "cluster_elki(\"Linear-Variational-mtg-only-FlashAttention-3-27\", 30)\n",
    "cluster_elki(\"Linear-Variational-mtg-only-FlashAttention-3-27\", 252)"
   ],
   "id": "a9f2360eb52d107a",
   "outputs": [
    {
     "name": "stderr",
     "output_type": "stream",
     "text": [
      "100%|██████████| 3973/3973 [02:09<00:00, 30.59it/s]\n"
     ]
    }
   ],
   "execution_count": 9
  },
  {
   "metadata": {
    "ExecuteTime": {
     "end_time": "2025-06-09T17:08:44.522696Z",
     "start_time": "2025-06-09T17:07:23.389636Z"
    }
   },
   "cell_type": "code",
   "source": [
    "model = torch.load(\"E:\\Coding\\SongAnalyzer\\Analyzer\\src\\AudioVariationalTransformer-LatentSpace512-Heads16-TrasformerLayers16-DModel256-Dropout0.1-fft-cos-mtg-only-FlashAttention-5-25\\-Epoch-25.pt\", weights_only=False)\n",
    "compute(model, \"Linear-Variational-mtg-only-FlashAttention-5-25\")\n",
    "cluster_elki(\"Linear-Variational-mtg-only-FlashAttention-5-25\", 30)\n",
    "cluster_elki(\"Linear-Variational-mtg-only-FlashAttention-5-25\", 252)"
   ],
   "id": "d51481846c8f803b",
   "outputs": [
    {
     "name": "stderr",
     "output_type": "stream",
     "text": [
      "100%|██████████| 3973/3973 [00:58<00:00, 67.81it/s]\n"
     ]
    }
   ],
   "execution_count": 10
  },
  {
   "metadata": {
    "ExecuteTime": {
     "end_time": "2025-06-05T06:20:19.308274Z",
     "start_time": "2025-06-05T06:16:49.428281Z"
    }
   },
   "cell_type": "code",
   "source": [
    "compute(model, \"Linear-mtg-only-normalized-Variational\")\n",
    "cluster_elki(\"Linear-mtg-only-normalized-Variational\", 30)\n",
    "cluster_elki(\"Linear-mtg-only-normalized-Variational\", 252)"
   ],
   "id": "f7552855b05cbc74",
   "outputs": [
    {
     "name": "stderr",
     "output_type": "stream",
     "text": [
      "100%|██████████| 3973/3973 [03:13<00:00, 20.51it/s]\n"
     ]
    }
   ],
   "execution_count": 18
  },
  {
   "metadata": {
    "ExecuteTime": {
     "start_time": "2025-06-05T06:30:12.254287Z"
    }
   },
   "cell_type": "code",
   "source": [
    "model = torch.load(\"E:\\Coding\\SongAnalyzer\\Analyzer\\src\\AudioTransformer-LatentSpace512-Heads16-TrasformerLayers16-DModel256-Dropout0.1-fft-cos-mtg-only\\-Epoch-10.pt\", weights_only=False)\n",
    "\n",
    "compute(model, \"Linear-mtg-only-normalized\")"
   ],
   "id": "f99a5e364dfa4e1e",
   "outputs": [
    {
     "name": "stderr",
     "output_type": "stream",
     "text": [
      " 17%|█▋        | 681/3973 [00:25<01:33, 35.06it/s]"
     ]
    }
   ],
   "execution_count": null
  },
  {
   "metadata": {
    "ExecuteTime": {
     "end_time": "2025-06-05T06:39:32.608035Z",
     "start_time": "2025-06-05T06:39:06.259714Z"
    }
   },
   "cell_type": "code",
   "source": [
    "cluster_elki(\"Linear-mtg-only-normalized\", 30)\n",
    "cluster_elki(\"Linear-mtg-only-normalized\", 252)"
   ],
   "id": "dabcbb3c698e0838",
   "outputs": [],
   "execution_count": 6
  },
  {
   "metadata": {
    "ExecuteTime": {
     "end_time": "2025-06-04T17:51:31.251555500Z",
     "start_time": "2025-06-03T16:43:46.156374Z"
    }
   },
   "cell_type": "code",
   "outputs": [
    {
     "name": "stderr",
     "output_type": "stream",
     "text": [
      "  0%|          | 6/3973 [00:09<1:49:16,  1.65s/it]\n"
     ]
    },
    {
     "ename": "KeyboardInterrupt",
     "evalue": "",
     "output_type": "error",
     "traceback": [
      "\u001B[1;31m---------------------------------------------------------------------------\u001B[0m",
      "\u001B[1;31mKeyboardInterrupt\u001B[0m                         Traceback (most recent call last)",
      "Cell \u001B[1;32mIn[32], line 2\u001B[0m\n\u001B[0;32m      1\u001B[0m model \u001B[38;5;241m=\u001B[39m torch\u001B[38;5;241m.\u001B[39mload(\u001B[38;5;124m\"\u001B[39m\u001B[38;5;124mE:\u001B[39m\u001B[38;5;124m\\\u001B[39m\u001B[38;5;124mCoding\u001B[39m\u001B[38;5;124m\\\u001B[39m\u001B[38;5;124mSongAnalyzer\u001B[39m\u001B[38;5;124m\\\u001B[39m\u001B[38;5;124mAnalyzer\u001B[39m\u001B[38;5;124m\\\u001B[39m\u001B[38;5;124msrc\u001B[39m\u001B[38;5;124m\\\u001B[39m\u001B[38;5;124mAudioTransformer-LatentSpace512-Heads16-TrasformerLayers16-DModel256-Dropout0.1-fft-cos-bidirectional\u001B[39m\u001B[38;5;124m\\\u001B[39m\u001B[38;5;124m-Epoch-10.pt\u001B[39m\u001B[38;5;124m\"\u001B[39m, weights_only\u001B[38;5;241m=\u001B[39m\u001B[38;5;28;01mFalse\u001B[39;00m)\n\u001B[1;32m----> 2\u001B[0m \u001B[43mcompute\u001B[49m\u001B[43m(\u001B[49m\u001B[43mmodel\u001B[49m\u001B[43m,\u001B[49m\u001B[43m \u001B[49m\u001B[38;5;124;43m\"\u001B[39;49m\u001B[38;5;124;43mBidirectional-TEST\u001B[39;49m\u001B[38;5;124;43m\"\u001B[39;49m\u001B[43m)\u001B[49m\n",
      "Cell \u001B[1;32mIn[10], line 25\u001B[0m, in \u001B[0;36mcompute\u001B[1;34m(model, name, length)\u001B[0m\n\u001B[0;32m     22\u001B[0m bool_masks \u001B[38;5;241m=\u001B[39m torch\u001B[38;5;241m.\u001B[39mtensor(bool_masks)\u001B[38;5;241m.\u001B[39mbool()\n\u001B[0;32m     23\u001B[0m bool_masks \u001B[38;5;241m=\u001B[39m bool_masks\u001B[38;5;241m.\u001B[39mto(\u001B[38;5;124m\"\u001B[39m\u001B[38;5;124mcuda\u001B[39m\u001B[38;5;124m\"\u001B[39m)\n\u001B[1;32m---> 25\u001B[0m latent \u001B[38;5;241m=\u001B[39m \u001B[43mcompress_song_average\u001B[49m\u001B[43m(\u001B[49m\u001B[43minput_tensor\u001B[49m\u001B[43m,\u001B[49m\u001B[43m \u001B[49m\u001B[43mmodel\u001B[49m\u001B[43m,\u001B[49m\u001B[43m \u001B[49m\u001B[43mmask\u001B[49m\u001B[38;5;241;43m=\u001B[39;49m\u001B[43mbool_masks\u001B[49m\u001B[43m)\u001B[49m\n\u001B[0;32m     27\u001B[0m output \u001B[38;5;241m=\u001B[39m \u001B[38;5;124m\"\u001B[39m\u001B[38;5;124m\"\u001B[39m\n\u001B[0;32m     28\u001B[0m \u001B[38;5;28;01mfor\u001B[39;00m value \u001B[38;5;129;01min\u001B[39;00m latent:\n",
      "Cell \u001B[1;32mIn[9], line 4\u001B[0m, in \u001B[0;36mcompress_song_average\u001B[1;34m(song, model, mask)\u001B[0m\n\u001B[0;32m      2\u001B[0m \u001B[38;5;28;01mwith\u001B[39;00m torch\u001B[38;5;241m.\u001B[39mno_grad():\n\u001B[0;32m      3\u001B[0m     latent_space \u001B[38;5;241m=\u001B[39m model\u001B[38;5;241m.\u001B[39mto_latent(song, mask)\n\u001B[1;32m----> 4\u001B[0m     \u001B[38;5;28;01mreturn\u001B[39;00m torch\u001B[38;5;241m.\u001B[39msum(\u001B[43mlatent_space\u001B[49m\u001B[38;5;241;43m.\u001B[39;49m\u001B[43mto\u001B[49m\u001B[43m(\u001B[49m\u001B[38;5;124;43m'\u001B[39;49m\u001B[38;5;124;43mcpu\u001B[39;49m\u001B[38;5;124;43m'\u001B[39;49m\u001B[43m)\u001B[49m, dim\u001B[38;5;241m=\u001B[39m\u001B[38;5;241m0\u001B[39m) \u001B[38;5;241m/\u001B[39m \u001B[38;5;28mlen\u001B[39m(song)\n",
      "\u001B[1;31mKeyboardInterrupt\u001B[0m: "
     ]
    }
   ],
   "execution_count": 32,
   "source": [
    "model = torch.load(\"E:\\Coding\\SongAnalyzer\\Analyzer\\src\\AudioTransformer-LatentSpace512-Heads16-TrasformerLayers16-DModel256-Dropout0.1-fft-cos-bidirectional\\-Epoch-10.pt\", weights_only=False)\n",
    "compute(model, \"Bidirectional-TEST\")"
   ],
   "id": "ae66135aaccde3cb"
  },
  {
   "metadata": {},
   "cell_type": "code",
   "outputs": [],
   "execution_count": null,
   "source": [
    "model = torch.load(\"final-models\\\\AudioTransformerDeepCNN-LatentSpace512-Heads8-TrasformerLayers8-DModel256-Dropout0.1-fft\\\\-Epoch-10.pt\", weights_only=False)\n",
    "compute(model, \"CNN-FINAL\")"
   ],
   "id": "730561865b7288fc"
  },
  {
   "metadata": {},
   "cell_type": "code",
   "outputs": [],
   "execution_count": null,
   "source": [
    "model = torch.load(\"final-models\\\\AudioTransformerDeepCNN-LatentSpace512-Heads8-TrasformerLayers8-DModel256-Dropout0.1-fft\\\\-Epoch-10.pt\", weights_only=False)\n",
    "compute(model, \"CNN-FINAL\")"
   ],
   "id": "ebf06fb8b58faa6d"
  },
  {
   "metadata": {},
   "cell_type": "code",
   "outputs": [],
   "execution_count": null,
   "source": [
    "model = torch.load(\"final-models\\\\AudioTransformerSingleLinearReconstruction-LatentSpace512-Heads16-TrasformerLayers16-DModel256-Dropout0.1-fft\\\\-Epoch-10.pt\", weights_only=False)\n",
    "compute(model, \"Linear-FINAL\")"
   ],
   "id": "6acce80a99de4c67"
  },
  {
   "metadata": {
    "ExecuteTime": {
     "end_time": "2025-06-04T17:51:31.254556400Z",
     "start_time": "2025-05-12T16:45:15.418534Z"
    }
   },
   "cell_type": "code",
   "outputs": [
    {
     "name": "stderr",
     "output_type": "stream",
     "text": [
      "100%|██████████| 3973/3973 [02:25<00:00, 27.29it/s]\n"
     ]
    }
   ],
   "execution_count": 8,
   "source": [
    "model = torch.load(\"E:\\Coding\\SongAnalyzer\\Analyzer\\Webscraper\\AudioTransformer-LatentSpace512-Heads8-TrasformerLayers8-DModel1024-Dropout0.1-fft-cos-\\-Epoch-9.pt\", weights_only=False)\n",
    "model.set_checkpointing(False)\n",
    "compute(model, \"Linear-1024-TEST\")"
   ],
   "id": "709dec0c65f8c805"
  },
  {
   "metadata": {
    "ExecuteTime": {
     "end_time": "2025-06-04T17:51:31.255556200Z",
     "start_time": "2025-05-22T21:30:43.134128Z"
    }
   },
   "cell_type": "code",
   "outputs": [
    {
     "name": "stderr",
     "output_type": "stream",
     "text": [
      "100%|██████████| 3973/3973 [03:00<00:00, 22.02it/s]\n"
     ]
    }
   ],
   "execution_count": 33,
   "source": [
    "model = torch.load(\"AudioTransformer-LatentSpace512-Heads16-TrasformerLayers16-DModel256-Dropout0.1-fft-cos-256\\-Epoch-10.pt\", weights_only=False) # Set model to evaluation mode\n",
    "compute(model, \"Linear-256-Mask\", length=256)"
   ],
   "id": "f934635a2a28fa3"
  },
  {
   "metadata": {},
   "cell_type": "markdown",
   "source": "# Data Analysis",
   "id": "b415f5779e1b4264"
  }
 ],
 "metadata": {
  "kernelspec": {
   "display_name": "Python 3 (Spyder)",
   "language": "python3",
   "name": "python3"
  },
  "language_info": {
   "codemirror_mode": {
    "name": "ipython",
    "version": 3
   },
   "file_extension": ".py",
   "mimetype": "text/x-python",
   "name": "python",
   "nbconvert_exporter": "python",
   "pygments_lexer": "ipython3",
   "version": "3.12.9"
  }
 },
 "nbformat": 4,
 "nbformat_minor": 5
}
