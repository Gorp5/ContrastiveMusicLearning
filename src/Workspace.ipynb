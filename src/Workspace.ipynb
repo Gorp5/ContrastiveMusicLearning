{
 "cells": [
  {
   "metadata": {},
   "cell_type": "markdown",
   "source": "# Prepare Data",
   "id": "5b59abb1521cc780"
  },
  {
   "metadata": {},
   "cell_type": "code",
   "source": [
    "import sns\n",
    "\n",
    "from utils.data import ParseTaggedDataset\n",
    "\n",
    "full_dataset, full_masks, full_keys = ParseTaggedDataset(\"\")"
   ],
   "id": "d0613b3d78166446",
   "outputs": [],
   "execution_count": null
  },
  {
   "metadata": {
    "ExecuteTime": {
     "end_time": "2025-07-10T04:43:45.254514Z",
     "start_time": "2025-07-10T04:39:37.131439Z"
    }
   },
   "cell_type": "code",
   "source": [
    "from utils.data import MakeTripletDataset, MakeDataset\n",
    "\n",
    "train_dataloader, test_dataloader = MakeDataset(sample_length=256, batch_size=24, tags=True)"
   ],
   "id": "e532f9f0890a4cae",
   "outputs": [],
   "execution_count": 1
  },
  {
   "metadata": {
    "ExecuteTime": {
     "end_time": "2025-07-10T04:43:45.904627Z",
     "start_time": "2025-07-10T04:43:45.842627Z"
    }
   },
   "cell_type": "code",
   "source": [
    "import torch\n",
    "\n",
    "class Config:\n",
    "    # === General ===\n",
    "    model_name = \"Transformer-Classifier\"\n",
    "    device = \"cuda\" if torch.cuda.is_available() else \"cpu\"\n",
    "    dtype = torch.float32\n",
    "    save_path = f\"E:\\\\Coding\\\\SongAnalyzer\\\\Analyzer\\\\src\\\\trained_models\\\\{model_name}\\\\\"\n",
    "    seed = 42\n",
    "\n",
    "    # === Training ===\n",
    "    num_epochs = 30\n",
    "    batch_size = 24\n",
    "    learning_rate = 5e-5\n",
    "    weight_decay = 1e-5\n",
    "    warmup_percent = 0.15\n",
    "    max_grad_norm = 1.0\n",
    "    log_every = 10  # steps between logs (optional)\n",
    "    save_checkpoints = True\n",
    "\n",
    "    # === Dataset ===\n",
    "    use_masks = True\n",
    "    num_workers = 4\n",
    "    val_split = 0.2\n",
    "    shuffle = True\n",
    "\n",
    "    # === Model Behavior ===\n",
    "    variational = False\n",
    "    autoregressive = False\n",
    "\n",
    "    # === Loss Coefficients ===\n",
    "    beta_schedule = \"log\"   # e.g., \"log\", \"linear\", etc. (for getBetaLog)\n",
    "    beta_max = 1.0\n",
    "    cycle_length = 2\n",
    "    contrastive_coeff = 0.1  # if using contrastive loss\n",
    "    margin = 0.1"
   ],
   "id": "b1b19949468fa7",
   "outputs": [],
   "execution_count": 2
  },
  {
   "metadata": {},
   "cell_type": "markdown",
   "source": "# Initialize Model",
   "id": "614913695eca1a35"
  },
  {
   "metadata": {
    "ExecuteTime": {
     "end_time": "2025-07-10T04:43:48.156143Z",
     "start_time": "2025-07-10T04:43:45.911629Z"
    }
   },
   "cell_type": "code",
   "source": [
    "from models.AudioTransformer import AudioTransformer\n",
    "from utils.misc import model_size\n",
    "\n",
    "# ==== Model & Optimizer ====\n",
    "num_heads = 16\n",
    "num_layers = 16\n",
    "encoder_layers = 16\n",
    "decoder_layers = 5\n",
    "d_model = 256\n",
    "latent_space = 512\n",
    "dim_feedforward = 1024\n",
    "sample_length = 256\n",
    "projection_dim = 128\n",
    "dropout = 0.1\n",
    "\n",
    "name_extension = \"\"\n",
    "\n",
    "model = AudioTransformer(d_model=d_model, num_heads=num_heads, encoder_layers=encoder_layers, decoder_layers=decoder_layers, dim_feedforward=dim_feedforward, latent_space=latent_space, length=sample_length, dropout=dropout, name_extension=name_extension, genre_count=249, mood_count=249)\n",
    "print(f\"Parameters: {model_size(model)}\")"
   ],
   "id": "fbf7e5ec317606d1",
   "outputs": [
    {
     "name": "stdout",
     "output_type": "stream",
     "text": [
      "Parameters: 85451314\n"
     ]
    }
   ],
   "execution_count": 3
  },
  {
   "metadata": {
    "jupyter": {
     "is_executing": true
    },
    "ExecuteTime": {
     "start_time": "2025-07-10T04:43:48.257211Z"
    }
   },
   "cell_type": "code",
   "source": [
    "from torch import optim\n",
    "from training.training import trainTriplet, trainHybrid\n",
    "\n",
    "optimizer = optim.AdamW(model.parameters(), lr=5e-5, weight_decay=1e-6)\n",
    "trainHybrid(model, train_dataloader, test_dataloader, optimizer, Config, device=Config.device)"
   ],
   "id": "630afb5bb78d691a",
   "outputs": [
    {
     "name": "stderr",
     "output_type": "stream",
     "text": [
      "Epoch 1/30:  37%|███▋      | 2337/6330 [03:02<05:10, 12.87it/s]"
     ]
    }
   ],
   "execution_count": null
  },
  {
   "metadata": {
    "ExecuteTime": {
     "end_time": "2025-07-09T13:59:33.791029Z",
     "start_time": "2025-07-09T13:59:31.350954Z"
    }
   },
   "cell_type": "code",
   "source": "torch.save(model, \"E:\\\\Coding\\\\SongAnalyzer\\\\Analyzer\\\\src\\\\trained_models\\\\Transformer-Classification\\\\Epoch-20.pt\")",
   "id": "844549eb145f64b9",
   "outputs": [],
   "execution_count": 8
  },
  {
   "metadata": {
    "ExecuteTime": {
     "end_time": "2025-07-10T04:11:23.896356Z",
     "start_time": "2025-07-10T04:11:20.688720Z"
    }
   },
   "cell_type": "code",
   "source": [
    "from training.evaluation import evaluate\n",
    "import torch\n",
    "\n",
    "model.load_state_dict(torch.load(\"E:\\\\Coding\\SongAnalyzer\\\\Analyzer\\\\src\\\\trained_models\\\\Transformer-Classifier\\\\AudioTransformer-LatentSpace512-Heads16-EncoderLayers16-DecoderLayers5-DModel256-Dropout0.1-AutoRegressiveFalse\\\\AudioTransformer-LatentSpace512-Heads16-EncoderLayers16-DecoderLayers5-DModel256-Dropout0.1-AutoRegressiveFalse-epoch8.pt\", weights_only=False))\n",
    "model = model.to(\"cuda\")"
   ],
   "id": "733574e49cad927",
   "outputs": [],
   "execution_count": 4
  },
  {
   "metadata": {
    "ExecuteTime": {
     "end_time": "2025-07-10T04:13:09.038340Z",
     "start_time": "2025-07-10T04:12:43.233517Z"
    }
   },
   "cell_type": "code",
   "source": [
    "evaluation_metrics = evaluate(model, test_dataloader, Config, device=Config.device)\n",
    "cosine, mse, genre, mood, all_genre_predictions, all_genre_targets, all_mood_predictions, all_mood_targets = evaluation_metrics"
   ],
   "id": "2340419fe876dc00",
   "outputs": [
    {
     "name": "stderr",
     "output_type": "stream",
     "text": [
      "100%|██████████| 704/704 [00:25<00:00, 27.31it/s]\n"
     ]
    }
   ],
   "execution_count": 5
  },
  {
   "metadata": {
    "ExecuteTime": {
     "end_time": "2025-07-10T04:13:17.608190Z",
     "start_time": "2025-07-10T04:13:17.565191Z"
    }
   },
   "cell_type": "code",
   "source": [
    "all_genre_preds = torch.cat([t.detach().cpu() for t in all_genre_predictions], dim=0)\n",
    "all_genre_targets = torch.cat([t.detach().cpu() for t in all_genre_targets], dim=0)\n",
    "\n",
    "all_mood_preds = torch.cat([t.detach().cpu() for t in all_mood_predictions], dim=0)\n",
    "all_mood_targets = torch.cat([t.detach().cpu() for t in all_mood_targets], dim=0)"
   ],
   "id": "a1686397bdfac09b",
   "outputs": [],
   "execution_count": 6
  },
  {
   "metadata": {
    "ExecuteTime": {
     "end_time": "2025-07-10T04:17:32.186003Z",
     "start_time": "2025-07-10T04:17:30.418379Z"
    }
   },
   "cell_type": "code",
   "source": [
    "from sklearn.metrics import multilabel_confusion_matrix\n",
    "from sklearn.metrics import precision_score, recall_score, f1_score\n",
    "\n",
    "probs1 = torch.softmax(all_mood_preds, 1)\n",
    "probs2 = torch.sigmoid(all_mood_preds)\n",
    "\n",
    "binary_preds = (probs1 > 0.5).int()"
   ],
   "id": "7aab33492342957a",
   "outputs": [],
   "execution_count": 8
  },
  {
   "metadata": {
    "ExecuteTime": {
     "end_time": "2025-07-10T04:17:32.281011Z",
     "start_time": "2025-07-10T04:17:32.217531Z"
    }
   },
   "cell_type": "code",
   "source": "print(f\"{cosine}\\n{mse}\\n{genre}\\n{mood}\")",
   "id": "1a61e5d7b753a921",
   "outputs": [
    {
     "name": "stdout",
     "output_type": "stream",
     "text": [
      "0.42278745770454407\n",
      "0.7207701802253723\n",
      "-9.089376449584961\n",
      "-0.7990401983261108\n"
     ]
    }
   ],
   "execution_count": 9
  },
  {
   "metadata": {
    "ExecuteTime": {
     "end_time": "2025-07-10T04:20:42.417993Z",
     "start_time": "2025-07-10T04:20:42.407994Z"
    }
   },
   "cell_type": "code",
   "source": "torch.softmax(all_genre_preds[0], 0)",
   "id": "3913e9af20e551d6",
   "outputs": [
    {
     "data": {
      "text/plain": [
       "tensor([0., 0., 0., 0., 0., 0., 0., 0., 0., 0., 0., 0., 0., 1., 0., 0., 0., 0.,\n",
       "        0., 0., 0., 0., 0., 0., 0., 0., 0., 0., 0., 0., 0., 0., 0., 0., 0., 0.,\n",
       "        0., 0., 0., 0., 0., 0., 0., 0., 0., 0., 0., 0., 0., 0., 0., 0., 0., 0.,\n",
       "        0., 0., 0., 0., 0., 0., 0., 0., 0., 0., 0., 0., 0., 0., 0., 0., 0., 0.,\n",
       "        0., 0., 0., 0., 0., 0., 0., 0., 0., 0., 0., 0., 0., 0., 0., 0., 0., 0.,\n",
       "        0., 0., 0., 0., 0., 0., 0., 0., 0., 0., 0., 0., 0., 0., 0., 0., 0., 0.,\n",
       "        0., 0., 0., 0., 0., 0., 0., 0., 0., 0., 0., 0., 0., 0., 0., 0., 0., 0.,\n",
       "        0., 0., 0., 0., 0., 0., 0., 0., 0., 0., 0., 0., 0., 0., 0., 0., 0., 0.,\n",
       "        0., 0., 0., 0., 0., 0., 0., 0., 0., 0., 0., 0., 0., 0., 0., 0., 0., 0.,\n",
       "        0., 0., 0., 0., 0., 0., 0., 0., 0., 0., 0., 0., 0., 0., 0., 0., 0., 0.,\n",
       "        0., 0., 0., 0., 0., 0., 0., 0., 0., 0., 0., 0., 0., 0., 0., 0., 0., 0.,\n",
       "        0., 0., 0., 0., 0., 0., 0., 0., 0., 0., 0., 0., 0., 0., 0., 0., 0., 0.,\n",
       "        0., 0., 0., 0., 0., 0., 0., 0., 0., 0., 0., 0., 0., 0., 0., 0., 0., 0.,\n",
       "        0., 0., 0., 0., 0., 0., 0., 0., 0., 0., 0., 0., 0., 0., 0.])"
      ]
     },
     "execution_count": 22,
     "metadata": {},
     "output_type": "execute_result"
    }
   ],
   "execution_count": 22
  },
  {
   "metadata": {
    "ExecuteTime": {
     "end_time": "2025-07-10T04:19:38.713023Z",
     "start_time": "2025-07-10T04:19:38.704024Z"
    }
   },
   "cell_type": "code",
   "source": "all_genre_targets[0]",
   "id": "1a03ba6b34b12d1a",
   "outputs": [
    {
     "data": {
      "text/plain": [
       "tensor([0., 1., 0., 0., 0., 0., 0., 0., 0., 0., 0., 0., 0., 0., 0., 1., 0., 0.,\n",
       "        0., 0., 0., 0., 0., 0., 0., 0., 0., 0., 0., 0., 0., 0., 0., 0., 0., 0.,\n",
       "        0., 0., 0., 0., 0., 0., 0., 0., 0., 0., 0., 0., 0., 0., 0., 0., 0., 0.,\n",
       "        0., 0., 0., 0., 0., 0., 0., 0., 0., 0., 0., 0., 0., 0., 0., 0., 0., 0.,\n",
       "        0., 0., 0., 0., 0., 0., 0., 0., 0., 0., 0., 0., 0., 0., 0., 0., 0., 0.,\n",
       "        0., 0., 0., 0., 0., 0., 0., 0., 0., 0., 0., 0., 0., 0., 0., 0., 0., 0.,\n",
       "        0., 0., 0., 0., 0., 0., 0., 0., 0., 0., 0., 0., 0., 0., 0., 0., 0., 0.,\n",
       "        0., 0., 0., 0., 0., 0., 0., 0., 0., 0., 0., 0., 0., 0., 0., 0., 0., 0.,\n",
       "        0., 0., 0., 0., 0., 0., 0., 0., 0., 0., 0., 0., 0., 0., 0., 0., 0., 0.,\n",
       "        0., 0., 0., 0., 0., 0., 0., 0., 0., 0., 0., 0., 0., 0., 0., 0., 0., 0.,\n",
       "        0., 0., 0., 0., 0., 0., 0., 0., 0., 0., 0., 0., 0., 0., 0., 0., 0., 0.,\n",
       "        0., 0., 0., 0., 0., 0., 0., 0., 0., 0., 0., 0., 0., 0., 0., 0., 0., 0.,\n",
       "        0., 0., 0., 0., 0., 0., 0., 0., 0., 0., 0., 0., 0., 0., 0., 0., 0., 0.,\n",
       "        0., 0., 0., 0., 0., 0., 0., 0., 0., 0., 0., 0., 0., 0., 0.])"
      ]
     },
     "execution_count": 18,
     "metadata": {},
     "output_type": "execute_result"
    }
   ],
   "execution_count": 18
  },
  {
   "metadata": {
    "ExecuteTime": {
     "end_time": "2025-07-09T22:59:38.813947Z",
     "start_time": "2025-07-09T22:59:38.795948Z"
    }
   },
   "cell_type": "code",
   "source": "max(probs1[2])",
   "id": "2099bf22b8c54b34",
   "outputs": [
    {
     "data": {
      "text/plain": [
       "tensor(0.0809)"
      ]
     },
     "execution_count": 8,
     "metadata": {},
     "output_type": "execute_result"
    }
   ],
   "execution_count": 8
  },
  {
   "metadata": {},
   "cell_type": "code",
   "outputs": [],
   "execution_count": null,
   "source": [
    "conf_matrices = multilabel_confusion_matrix(all_mood_targets.numpy(), binary_preds.numpy())\n",
    "\n",
    "precision = precision_score(all_mood_targets, binary_preds, average='macro')  # or 'micro', 'weighted'\n",
    "recall = recall_score(all_mood_targets, binary_preds, average='macro')\n",
    "f1 = f1_score(all_mood_targets, binary_preds, average='macro')\n",
    "\n",
    "print(f\"Precision: {precision:.3f}, Recall: {recall:.3f}, F1: {f1:.3f}\")"
   ],
   "id": "9e45844563f22699"
  },
  {
   "metadata": {
    "ExecuteTime": {
     "end_time": "2025-07-09T15:41:24.009046Z",
     "start_time": "2025-07-09T15:41:23.998047Z"
    }
   },
   "cell_type": "code",
   "outputs": [
    {
     "data": {
      "text/plain": [
       "tensor([0, 0, 0, 0, 0, 0, 0, 0, 0, 0, 0, 0, 0, 0, 0, 0, 0, 0, 0, 0, 1, 0, 0, 0,\n",
       "        0, 0, 0, 0, 0, 0, 0, 0, 0, 0, 0, 0, 0, 0, 0, 0, 0, 0, 0, 0, 0, 0, 0, 0,\n",
       "        0, 0, 0, 0, 0, 0, 0, 0, 0, 0, 0, 0, 0, 0, 0, 0, 0, 0, 0, 0, 0, 0, 0, 0,\n",
       "        0, 0, 0, 0, 0, 0, 0, 0, 0, 0, 0, 0, 0, 0, 0, 0, 0, 0, 0, 0, 0, 0, 0, 0,\n",
       "        0, 0, 0, 0, 0, 0, 0, 0, 0, 0, 0, 0, 0, 0, 0, 0, 0, 0, 0, 0, 0, 0, 0, 0,\n",
       "        0, 0, 0, 0, 0, 0, 0, 0, 0, 0, 0, 0, 0, 0, 0, 0, 0, 0, 0, 0, 0, 0, 0, 0,\n",
       "        0, 0, 0, 0, 0, 0, 0, 0, 0, 0, 0, 0, 0, 0, 0, 0, 0, 0, 0, 0, 0, 0, 0, 0,\n",
       "        0, 0, 0, 0, 0, 0, 0, 0, 0, 0, 0, 0, 0, 0, 0, 0, 0, 0, 0, 0, 0, 0, 0, 0,\n",
       "        0, 0, 0, 0, 0, 0, 0, 0, 0, 0, 0, 0, 0, 0, 0, 0, 0, 0, 0, 0, 0, 0, 0, 0,\n",
       "        0, 0, 0, 0, 0, 0, 0, 0, 0, 0, 0, 0, 0, 0, 0, 0, 0, 0, 0, 0, 0, 0, 0, 0,\n",
       "        0, 0, 0, 0, 0, 0, 0, 0, 0], dtype=torch.int32)"
      ]
     },
     "execution_count": 33,
     "metadata": {},
     "output_type": "execute_result"
    }
   ],
   "execution_count": 33,
   "source": "all_mood_targets[104].int()",
   "id": "e51f7fc702abdace"
  },
  {
   "metadata": {
    "ExecuteTime": {
     "end_time": "2025-07-09T15:41:46.350520Z",
     "start_time": "2025-07-09T15:41:46.324521Z"
    }
   },
   "cell_type": "code",
   "source": [
    "binary_preds = (probs > 0.2).int()\n",
    "binary_preds[104]"
   ],
   "id": "c8eaddf8bdd15ef6",
   "outputs": [
    {
     "data": {
      "text/plain": [
       "tensor([0, 0, 0, 0, 0, 0, 0, 0, 0, 0, 0, 0, 0, 0, 0, 0, 0, 0, 0, 0, 1, 0, 0, 0,\n",
       "        0, 0, 0, 0, 0, 0, 0, 0, 0, 1, 0, 0, 0, 0, 0, 0, 0, 0, 0, 0, 0, 0, 0, 0,\n",
       "        0, 0, 0, 0, 0, 0, 0, 0, 0, 0, 0, 0, 0, 0, 0, 0, 0, 0, 0, 0, 0, 0, 0, 0,\n",
       "        0, 0, 0, 0, 0, 0, 0, 0, 0, 0, 0, 0, 0, 0, 0, 0, 0, 0, 0, 0, 0, 0, 0, 0,\n",
       "        0, 0, 0, 0, 0, 0, 0, 0, 0, 0, 0, 0, 0, 0, 0, 0, 0, 0, 0, 0, 0, 0, 0, 0,\n",
       "        0, 0, 0, 0, 0, 0, 0, 0, 0, 0, 0, 0, 0, 0, 0, 0, 0, 0, 0, 0, 0, 0, 0, 0,\n",
       "        0, 0, 0, 0, 0, 0, 0, 0, 0, 0, 0, 0, 0, 0, 0, 0, 0, 0, 0, 0, 0, 0, 0, 0,\n",
       "        0, 0, 0, 0, 0, 0, 0, 0, 0, 0, 0, 0, 0, 0, 0, 0, 0, 0, 0, 0, 0, 0, 0, 0,\n",
       "        0, 0, 0, 0, 0, 0, 0, 0, 0, 0, 0, 0, 0, 0, 0, 0, 0, 0, 0, 0, 0, 0, 0, 0,\n",
       "        0, 0, 0, 0, 0, 0, 0, 0, 0, 0, 0, 0, 0, 0, 0, 0, 0, 0, 0, 0, 0, 0, 0, 0,\n",
       "        0, 0, 0, 0, 0, 0, 0, 0, 0], dtype=torch.int32)"
      ]
     },
     "execution_count": 36,
     "metadata": {},
     "output_type": "execute_result"
    }
   ],
   "execution_count": 36
  },
  {
   "metadata": {},
   "cell_type": "code",
   "source": [
    "from matplotlib import pyplot as plt\n",
    "import seaborn as sns\n",
    "num_classes = conf_matrices.shape[0]\n",
    "\n",
    "for i in range(20):\n",
    "    plt.figure(figsize=(3, 3))\n",
    "    sns.heatmap(conf_matrices[i], annot=True, fmt='d', cmap='Blues', xticklabels=['Pred 0', 'Pred 1'], yticklabels=['True 0', 'True 1'])\n",
    "    plt.title(f\"Confusion Matrix - Class {i}\")\n",
    "    plt.ylabel(\"True Label\")\n",
    "    plt.xlabel(\"Predicted Label\")\n",
    "    plt.tight_layout()\n",
    "    plt.show()"
   ],
   "id": "6a7264a1ff9467fd",
   "outputs": [],
   "execution_count": null
  },
  {
   "metadata": {
    "ExecuteTime": {
     "end_time": "2025-07-09T15:58:19.010492Z",
     "start_time": "2025-07-09T15:58:18.023883Z"
    }
   },
   "cell_type": "code",
   "source": [
    "from sklearn.metrics import precision_recall_fscore_support\n",
    "import pandas as pd\n",
    "\n",
    "prec, rec, f1, support = precision_recall_fscore_support(all_mood_targets.numpy(), (torch.sigmoid(all_mood_preds) > 0.1).numpy(), average=None)\n",
    "\n",
    "df = pd.DataFrame({\n",
    "    \"Class\": list(range(len(prec))),\n",
    "    \"Precision\": prec,\n",
    "    \"Recall\": rec,\n",
    "    \"F1 Score\": f1,\n",
    "    \"Support\": support\n",
    "})\n",
    "\n",
    "print(df.round(3))"
   ],
   "id": "95401198f0a8ab7b",
   "outputs": [
    {
     "name": "stdout",
     "output_type": "stream",
     "text": [
      "     Class  Precision  Recall  F1 Score  Support\n",
      "0        0      0.269   0.657     0.381     3189\n",
      "1        1      0.331   0.886     0.482     2178\n",
      "2        2      0.268   0.756     0.396     2921\n",
      "3        3      0.322   0.820     0.462     2732\n",
      "4        4      0.274   0.787     0.406     2699\n",
      "..     ...        ...     ...       ...      ...\n",
      "244    244      0.000   0.000     0.000        0\n",
      "245    245      0.000   0.000     0.000        0\n",
      "246    246      0.000   0.000     0.000        0\n",
      "247    247      0.000   0.000     0.000        0\n",
      "248    248      0.000   0.000     0.000        0\n",
      "\n",
      "[249 rows x 5 columns]\n"
     ]
    },
    {
     "name": "stderr",
     "output_type": "stream",
     "text": [
      "E:\\Coding\\SongAnalyzer\\.venv\\lib\\site-packages\\sklearn\\metrics\\_classification.py:1471: UndefinedMetricWarning: Precision and F-score are ill-defined and being set to 0.0 in labels with no predicted samples. Use `zero_division` parameter to control this behavior.\n",
      "  _warn_prf(average, modifier, msg_start, len(result))\n",
      "E:\\Coding\\SongAnalyzer\\.venv\\lib\\site-packages\\sklearn\\metrics\\_classification.py:1471: UndefinedMetricWarning: Recall and F-score are ill-defined and being set to 0.0 in labels with no true samples. Use `zero_division` parameter to control this behavior.\n",
      "  _warn_prf(average, modifier, msg_start, len(result))\n"
     ]
    }
   ],
   "execution_count": 54
  },
  {
   "metadata": {
    "ExecuteTime": {
     "end_time": "2025-07-09T15:58:22.677658Z",
     "start_time": "2025-07-09T15:58:22.666659Z"
    }
   },
   "cell_type": "code",
   "source": "df",
   "id": "e59a10abb7e49172",
   "outputs": [
    {
     "data": {
      "text/plain": [
       "     Class  Precision    Recall  F1 Score  Support\n",
       "0        0   0.268521  0.656946  0.381221     3189\n",
       "1        1   0.331216  0.885675  0.482129     2178\n",
       "2        2   0.268165  0.755563  0.395839     2921\n",
       "3        3   0.321937  0.820278  0.462396     2732\n",
       "4        4   0.273958  0.786958  0.406429     2699\n",
       "..     ...        ...       ...       ...      ...\n",
       "244    244   0.000000  0.000000  0.000000        0\n",
       "245    245   0.000000  0.000000  0.000000        0\n",
       "246    246   0.000000  0.000000  0.000000        0\n",
       "247    247   0.000000  0.000000  0.000000        0\n",
       "248    248   0.000000  0.000000  0.000000        0\n",
       "\n",
       "[249 rows x 5 columns]"
      ],
      "text/html": [
       "<div>\n",
       "<style scoped>\n",
       "    .dataframe tbody tr th:only-of-type {\n",
       "        vertical-align: middle;\n",
       "    }\n",
       "\n",
       "    .dataframe tbody tr th {\n",
       "        vertical-align: top;\n",
       "    }\n",
       "\n",
       "    .dataframe thead th {\n",
       "        text-align: right;\n",
       "    }\n",
       "</style>\n",
       "<table border=\"1\" class=\"dataframe\">\n",
       "  <thead>\n",
       "    <tr style=\"text-align: right;\">\n",
       "      <th></th>\n",
       "      <th>Class</th>\n",
       "      <th>Precision</th>\n",
       "      <th>Recall</th>\n",
       "      <th>F1 Score</th>\n",
       "      <th>Support</th>\n",
       "    </tr>\n",
       "  </thead>\n",
       "  <tbody>\n",
       "    <tr>\n",
       "      <th>0</th>\n",
       "      <td>0</td>\n",
       "      <td>0.268521</td>\n",
       "      <td>0.656946</td>\n",
       "      <td>0.381221</td>\n",
       "      <td>3189</td>\n",
       "    </tr>\n",
       "    <tr>\n",
       "      <th>1</th>\n",
       "      <td>1</td>\n",
       "      <td>0.331216</td>\n",
       "      <td>0.885675</td>\n",
       "      <td>0.482129</td>\n",
       "      <td>2178</td>\n",
       "    </tr>\n",
       "    <tr>\n",
       "      <th>2</th>\n",
       "      <td>2</td>\n",
       "      <td>0.268165</td>\n",
       "      <td>0.755563</td>\n",
       "      <td>0.395839</td>\n",
       "      <td>2921</td>\n",
       "    </tr>\n",
       "    <tr>\n",
       "      <th>3</th>\n",
       "      <td>3</td>\n",
       "      <td>0.321937</td>\n",
       "      <td>0.820278</td>\n",
       "      <td>0.462396</td>\n",
       "      <td>2732</td>\n",
       "    </tr>\n",
       "    <tr>\n",
       "      <th>4</th>\n",
       "      <td>4</td>\n",
       "      <td>0.273958</td>\n",
       "      <td>0.786958</td>\n",
       "      <td>0.406429</td>\n",
       "      <td>2699</td>\n",
       "    </tr>\n",
       "    <tr>\n",
       "      <th>...</th>\n",
       "      <td>...</td>\n",
       "      <td>...</td>\n",
       "      <td>...</td>\n",
       "      <td>...</td>\n",
       "      <td>...</td>\n",
       "    </tr>\n",
       "    <tr>\n",
       "      <th>244</th>\n",
       "      <td>244</td>\n",
       "      <td>0.000000</td>\n",
       "      <td>0.000000</td>\n",
       "      <td>0.000000</td>\n",
       "      <td>0</td>\n",
       "    </tr>\n",
       "    <tr>\n",
       "      <th>245</th>\n",
       "      <td>245</td>\n",
       "      <td>0.000000</td>\n",
       "      <td>0.000000</td>\n",
       "      <td>0.000000</td>\n",
       "      <td>0</td>\n",
       "    </tr>\n",
       "    <tr>\n",
       "      <th>246</th>\n",
       "      <td>246</td>\n",
       "      <td>0.000000</td>\n",
       "      <td>0.000000</td>\n",
       "      <td>0.000000</td>\n",
       "      <td>0</td>\n",
       "    </tr>\n",
       "    <tr>\n",
       "      <th>247</th>\n",
       "      <td>247</td>\n",
       "      <td>0.000000</td>\n",
       "      <td>0.000000</td>\n",
       "      <td>0.000000</td>\n",
       "      <td>0</td>\n",
       "    </tr>\n",
       "    <tr>\n",
       "      <th>248</th>\n",
       "      <td>248</td>\n",
       "      <td>0.000000</td>\n",
       "      <td>0.000000</td>\n",
       "      <td>0.000000</td>\n",
       "      <td>0</td>\n",
       "    </tr>\n",
       "  </tbody>\n",
       "</table>\n",
       "<p>249 rows × 5 columns</p>\n",
       "</div>"
      ]
     },
     "execution_count": 55,
     "metadata": {},
     "output_type": "execute_result"
    }
   ],
   "execution_count": 55
  },
  {
   "metadata": {
    "ExecuteTime": {
     "end_time": "2025-07-09T15:55:56.319087Z",
     "start_time": "2025-07-09T15:55:56.305088Z"
    }
   },
   "cell_type": "code",
   "source": "df",
   "id": "2dcd5c5c1f809983",
   "outputs": [
    {
     "data": {
      "text/plain": [
       "     Class  Precision    Recall  F1 Score  Support\n",
       "0        0   0.315741  0.834015  0.458067     2446\n",
       "1        1   0.413159  1.000000  0.584731    20446\n",
       "2        2   0.267866  0.730917  0.392052     3118\n",
       "3        3   0.305743  0.641902  0.414199     3890\n",
       "4        4   0.167541  0.773504  0.275425     5616\n",
       "..     ...        ...       ...       ...      ...\n",
       "244    244   0.000000  0.000000  0.000000        0\n",
       "245    245   0.000000  0.000000  0.000000        0\n",
       "246    246   0.000000  0.000000  0.000000        0\n",
       "247    247   0.000000  0.000000  0.000000       48\n",
       "248    248   0.000000  0.000000  0.000000        0\n",
       "\n",
       "[249 rows x 5 columns]"
      ],
      "text/html": [
       "<div>\n",
       "<style scoped>\n",
       "    .dataframe tbody tr th:only-of-type {\n",
       "        vertical-align: middle;\n",
       "    }\n",
       "\n",
       "    .dataframe tbody tr th {\n",
       "        vertical-align: top;\n",
       "    }\n",
       "\n",
       "    .dataframe thead th {\n",
       "        text-align: right;\n",
       "    }\n",
       "</style>\n",
       "<table border=\"1\" class=\"dataframe\">\n",
       "  <thead>\n",
       "    <tr style=\"text-align: right;\">\n",
       "      <th></th>\n",
       "      <th>Class</th>\n",
       "      <th>Precision</th>\n",
       "      <th>Recall</th>\n",
       "      <th>F1 Score</th>\n",
       "      <th>Support</th>\n",
       "    </tr>\n",
       "  </thead>\n",
       "  <tbody>\n",
       "    <tr>\n",
       "      <th>0</th>\n",
       "      <td>0</td>\n",
       "      <td>0.315741</td>\n",
       "      <td>0.834015</td>\n",
       "      <td>0.458067</td>\n",
       "      <td>2446</td>\n",
       "    </tr>\n",
       "    <tr>\n",
       "      <th>1</th>\n",
       "      <td>1</td>\n",
       "      <td>0.413159</td>\n",
       "      <td>1.000000</td>\n",
       "      <td>0.584731</td>\n",
       "      <td>20446</td>\n",
       "    </tr>\n",
       "    <tr>\n",
       "      <th>2</th>\n",
       "      <td>2</td>\n",
       "      <td>0.267866</td>\n",
       "      <td>0.730917</td>\n",
       "      <td>0.392052</td>\n",
       "      <td>3118</td>\n",
       "    </tr>\n",
       "    <tr>\n",
       "      <th>3</th>\n",
       "      <td>3</td>\n",
       "      <td>0.305743</td>\n",
       "      <td>0.641902</td>\n",
       "      <td>0.414199</td>\n",
       "      <td>3890</td>\n",
       "    </tr>\n",
       "    <tr>\n",
       "      <th>4</th>\n",
       "      <td>4</td>\n",
       "      <td>0.167541</td>\n",
       "      <td>0.773504</td>\n",
       "      <td>0.275425</td>\n",
       "      <td>5616</td>\n",
       "    </tr>\n",
       "    <tr>\n",
       "      <th>...</th>\n",
       "      <td>...</td>\n",
       "      <td>...</td>\n",
       "      <td>...</td>\n",
       "      <td>...</td>\n",
       "      <td>...</td>\n",
       "    </tr>\n",
       "    <tr>\n",
       "      <th>244</th>\n",
       "      <td>244</td>\n",
       "      <td>0.000000</td>\n",
       "      <td>0.000000</td>\n",
       "      <td>0.000000</td>\n",
       "      <td>0</td>\n",
       "    </tr>\n",
       "    <tr>\n",
       "      <th>245</th>\n",
       "      <td>245</td>\n",
       "      <td>0.000000</td>\n",
       "      <td>0.000000</td>\n",
       "      <td>0.000000</td>\n",
       "      <td>0</td>\n",
       "    </tr>\n",
       "    <tr>\n",
       "      <th>246</th>\n",
       "      <td>246</td>\n",
       "      <td>0.000000</td>\n",
       "      <td>0.000000</td>\n",
       "      <td>0.000000</td>\n",
       "      <td>0</td>\n",
       "    </tr>\n",
       "    <tr>\n",
       "      <th>247</th>\n",
       "      <td>247</td>\n",
       "      <td>0.000000</td>\n",
       "      <td>0.000000</td>\n",
       "      <td>0.000000</td>\n",
       "      <td>48</td>\n",
       "    </tr>\n",
       "    <tr>\n",
       "      <th>248</th>\n",
       "      <td>248</td>\n",
       "      <td>0.000000</td>\n",
       "      <td>0.000000</td>\n",
       "      <td>0.000000</td>\n",
       "      <td>0</td>\n",
       "    </tr>\n",
       "  </tbody>\n",
       "</table>\n",
       "<p>249 rows × 5 columns</p>\n",
       "</div>"
      ]
     },
     "execution_count": 53,
     "metadata": {},
     "output_type": "execute_result"
    }
   ],
   "execution_count": 53
  },
  {
   "metadata": {
    "ExecuteTime": {
     "end_time": "2025-07-09T15:48:13.676431Z",
     "start_time": "2025-07-09T15:48:13.553413Z"
    }
   },
   "cell_type": "code",
   "source": [
    "import torch.nn.functional as F\n",
    "# Apply sigmoid and normalize\n",
    "probs = torch.sigmoid(all_mood_preds)\n",
    "probs = probs / probs.sum(dim=1, keepdim=True)  # [N, C], sums to 1\n",
    "\n",
    "targets = all_mood_targets.float() + 1e-10\n",
    "targets = targets / targets.sum(dim=1, keepdim=True)  # [N, C]\n",
    "\n",
    "# KL divergence (averaged)\n",
    "kl = F.kl_div(probs.log(), targets, reduction='batchmean')\n",
    "print(f\"KL Divergence: {kl.item():.4f}\")"
   ],
   "id": "8f14de7acf83a4f7",
   "outputs": [
    {
     "name": "stdout",
     "output_type": "stream",
     "text": [
      "KL Divergence: 2.7547\n"
     ]
    }
   ],
   "execution_count": 44
  },
  {
   "metadata": {
    "ExecuteTime": {
     "end_time": "2025-07-09T16:52:48.131425Z",
     "start_time": "2025-07-09T16:52:48.099622Z"
    }
   },
   "cell_type": "code",
   "source": [
    "from tqdm import tqdm\n",
    "import torch\n",
    "\n",
    "\n",
    "def compress_song_average(song, model, mask=None):\n",
    "    with torch.no_grad():\n",
    "        mean = model.to_latent(song, mask)\n",
    "        return torch.sum(mean.to('cpu'), dim=0) / len(song)\n",
    "\n",
    "\n",
    "from data.Data import chunk_song\n",
    "import os\n"
   ],
   "id": "33650afec8392fa3",
   "outputs": [],
   "execution_count": 56
  },
  {
   "metadata": {
    "ExecuteTime": {
     "end_time": "2025-07-09T16:52:48.317937Z",
     "start_time": "2025-07-09T16:52:48.303939Z"
    }
   },
   "cell_type": "code",
   "source": [
    "def compute(model, name, length=256):\n",
    "    model.to(\"cuda\")\n",
    "    model.eval()\n",
    "\n",
    "    path = \"E:\\\\SongsDataset\\\\latents\\\\\"\n",
    "    all_folders = os.listdir(path)\n",
    "\n",
    "    file = open(f\"output_analysis\\\\output-{name}.csv\", \"w\", encoding='utf-8')\n",
    "\n",
    "    for each_song in tqdm(all_folders):\n",
    "        song_path = os.path.join(path, each_song)\n",
    "\n",
    "        padded_data, zeros = chunk_song(song_path, length)\n",
    "        input_tensor = torch.Tensor(padded_data).reshape(-1, length, 64).to(\"cuda\")\n",
    "\n",
    "        mask = [0 for _ in range(padded_data.shape[0] // length - 1)]\n",
    "        mask.append(zeros)\n",
    "        bool_masks = [[0 if (length - i) > x else 1 for i in range(length)] for x in mask]\n",
    "        bool_masks = torch.tensor(bool_masks).bool()\n",
    "        bool_masks = bool_masks.to(\"cuda\")\n",
    "\n",
    "        latent = compress_song_average(input_tensor, model, mask=bool_masks)\n",
    "\n",
    "        output = \"\"\n",
    "        for value in latent:\n",
    "            output += f\"{str(value.item())} \"\n",
    "\n",
    "        file.write(output + f\"\\\"{each_song}\\\"\\n\")"
   ],
   "id": "75447de64191ff28",
   "outputs": [],
   "execution_count": 57
  },
  {
   "metadata": {
    "ExecuteTime": {
     "end_time": "2025-07-09T17:15:24.631039Z",
     "start_time": "2025-07-09T17:15:24.623041Z"
    }
   },
   "cell_type": "code",
   "source": [
    "import subprocess\n",
    "\n",
    "def cluster_elki(name, num_clusters):\n",
    "    # Define parameters\n",
    "    elki_jar = \"elki-bundle-0.8.0.jar\"\n",
    "    data_file = f\"output_analysis/output-{name}.csv\"\n",
    "\n",
    "    # Construct the ELKI command\n",
    "    cmd = [\n",
    "        \"java\", \"-jar\", elki_jar,\n",
    "        \"KDDCLIApplication\",\n",
    "        \"-dbc.in\", data_file,\n",
    "        \"-algorithm\", \"clustering.hierarchical.extraction.CutDendrogramByNumberOfClusters\",\n",
    "        \"-algorithm\", \"Anderberg\",\n",
    "        \"-algorithm.distancefunction\", \"CosineDistance\",\n",
    "        \"-hierarchical.minclusters\", str(num_clusters),\n",
    "        \"-resulthandler\", \"ResultWriter\",\n",
    "        \"-out.gzip\", \"false\",\n",
    "        \"-out\", f\"output_analysis/elki-TEST-{name}-{num_clusters}\",\n",
    "    ]\n",
    "\n",
    "    # Execute the command\n",
    "    try:\n",
    "        result = subprocess.run(cmd, capture_output=True, text=True, check=True)\n",
    "    except subprocess.CalledProcessError as e:\n",
    "        print(\"An error occurred:\\n\", e.stderr)"
   ],
   "id": "6ab21de71dbc50c2",
   "outputs": [],
   "execution_count": 2
  },
  {
   "metadata": {
    "ExecuteTime": {
     "end_time": "2025-07-09T16:56:14.285273Z",
     "start_time": "2025-07-09T16:53:06.742822Z"
    }
   },
   "cell_type": "code",
   "source": "compute(model, \"Classification-With-Reconstruction\")",
   "id": "abc771328201c429",
   "outputs": [
    {
     "name": "stderr",
     "output_type": "stream",
     "text": [
      "100%|██████████| 3973/3973 [03:07<00:00, 21.22it/s]\n"
     ]
    }
   ],
   "execution_count": 59
  },
  {
   "metadata": {
    "ExecuteTime": {
     "end_time": "2025-07-09T16:57:35.605902Z",
     "start_time": "2025-07-09T16:57:14.231563Z"
    }
   },
   "cell_type": "code",
   "source": [
    "cluster_elki(\"Classification-With-Reconstruction\", 30)\n",
    "cluster_elki(\"Classification-With-Reconstruction\", 252)"
   ],
   "id": "c762fc5ad385e2c7",
   "outputs": [],
   "execution_count": 2
  },
  {
   "metadata": {
    "ExecuteTime": {
     "end_time": "2025-07-09T17:15:37.475194Z",
     "start_time": "2025-07-09T17:15:27.049487Z"
    }
   },
   "cell_type": "code",
   "source": "cluster_elki(\"Classification-With-Reconstruction\", 100)",
   "id": "df2cdc9b6640bcb3",
   "outputs": [],
   "execution_count": 3
  },
  {
   "metadata": {},
   "cell_type": "code",
   "outputs": [],
   "execution_count": null,
   "source": "",
   "id": "ba417a80be565c8e"
  }
 ],
 "metadata": {
  "kernelspec": {
   "name": "python3",
   "language": "python",
   "display_name": "Python 3 (ipykernel)"
  }
 },
 "nbformat": 5,
 "nbformat_minor": 9
}
