{
 "cells": [
  {
   "metadata": {
    "collapsed": true
   },
   "cell_type": "code",
   "source": [
    "from torch import nn\n",
    "\n",
    "from models.AudioResnet import AudioResnet\n",
    "\n",
    "\n",
    "class TinyCNN(nn.Module):\n",
    "    def __init__(self, num_classes=50):\n",
    "        super().__init__()\n",
    "        self.model = nn.Sequential(\n",
    "            nn.Conv2d(1, 32, 3, stride=1, padding=1),\n",
    "            nn.ReLU(),\n",
    "            nn.AdaptiveAvgPool2d((12, 32)),\n",
    "            nn.Flatten(),\n",
    "            nn.Linear(32 * 12 * 32, 512),\n",
    "            nn.ReLU(),\n",
    "            nn.Linear(512, num_classes)\n",
    "        )\n",
    "\n",
    "    def forward(self, x):\n",
    "        return self.model(x)"
   ],
   "id": "initial_id",
   "outputs": [],
   "execution_count": null
  },
  {
   "metadata": {},
   "cell_type": "code",
   "source": [
    "from data.procesing import ParseData\n",
    "directory = \"tiny-melspec-dataset-10\"\n",
    "\n",
    "ParseData(\"raw_30s_cleantags_125artists\", \"E:/SongsDataset/raw_30s_melspecs/\", f\"E:/SongsDataset/{directory}\", features=96, chunks_per_batch=4096, chunk_size=256, songs_per_label=1200, labels_to_include=10, chunks_per_song=16, test_prob=0.1, convert=False)"
   ],
   "id": "58c58262dc698d72",
   "outputs": [],
   "execution_count": null
  },
  {
   "metadata": {},
   "cell_type": "code",
   "source": [
    "from data.data import *\n",
    "\n",
    "augmentations = Compose([\n",
    "    AddGaussianNoise(std=0.05),\n",
    "     TimeMasking(max_mask_pct=0.075),\n",
    "     FrequencyMasking(max_mask_pct=0.075),\n",
    "])\n",
    "\n",
    "class Config:\n",
    "    # === General ===\n",
    "    model_name = \"TinyCNN-10\"\n",
    "    device = \"cuda\" if torch.cuda.is_available() else \"cpu\"\n",
    "    dtype = torch.float32\n",
    "    save_path = f\"trained_models\\\\{model_name}\\\\\"\n",
    "    seed = 42\n",
    "\n",
    "    # === Training ===\n",
    "    num_classes = 10\n",
    "    num_epochs = 20\n",
    "    batch_size = 64\n",
    "    learning_rate = 3e-5\n",
    "    weight_decay = 1e-5\n",
    "    warmup_percent = 1.0 / 30.0\n",
    "    save_checkpoints = True\n",
    "\n",
    "    # === Dataset ===\n",
    "    transforms = None\n",
    "    use_masks = True\n",
    "    num_workers = None\n",
    "    prefetch_factor = num_workers\n",
    "    val_split = 0.1\n",
    "    shuffle = True\n",
    "    pos_weights = (torch.ones(num_classes) * num_classes)\n",
    "    criterion = nn.BCEWithLogitsLoss(pos_weight=pos_weights.to(\"cuda\"))\n"
   ],
   "id": "f2556d8f3bf13910",
   "outputs": [],
   "execution_count": null
  },
  {
   "metadata": {},
   "cell_type": "code",
   "source": [
    "from torch.utils.data import DataLoader\n",
    "\n",
    "directory = \"tiny-melspec-dataset-10\"\n",
    "large_directory = \"large-melspec-dataset-50-MTG\"\n",
    "\n",
    "tiny_train_dataset = AudioDataset(f\"E:\\\\SongsDataset\\\\{large_directory}\\\\train_set\\\\data\", f\"E:\\\\SongsDataset\\\\{large_directory}\\\\train_set\\\\genre_labels\", augmentations)\n",
    "tiny_test_dataset = AudioDataset(f\"E:\\\\SongsDataset\\\\{large_directory}\\\\test_set\\\\data\", f\"E:\\\\SongsDataset\\\\{large_directory}\\\\test_set\\\\genre_labels\", augmentations)\n",
    "\n",
    "train_dataloader = DataLoader(\n",
    "    tiny_train_dataset,\n",
    "    batch_size=Config.batch_size,\n",
    "    shuffle=True,\n",
    "    num_workers=Config.num_workers,\n",
    "    prefetch_factor=Config.prefetch_factor,\n",
    ")\n",
    "\n",
    "test_dataloader = DataLoader(\n",
    "    tiny_test_dataset,\n",
    "    batch_size=Config.batch_size,\n",
    "    shuffle=True,\n",
    "    num_workers=Config.num_workers,\n",
    "    prefetch_factor=Config.prefetch_factor,\n",
    ")"
   ],
   "id": "74e10f2064a23ee3",
   "outputs": [],
   "execution_count": null
  },
  {
   "metadata": {
    "jupyter": {
     "is_executing": true
    }
   },
   "cell_type": "code",
   "source": [
    "from training.classification_training import train_classifier\n",
    "from models.ShortChunkCNN import ShortChunkCNN\n",
    "from utils import misc\n",
    "\n",
    "model = TinyCNN(num_classes=10)\n",
    "print(f\"{misc.model_size(model)} Parameters\")\n",
    "\n",
    "train_classifier(model, test_dataloader, train_dataloader, Config)"
   ],
   "id": "572dd13ec04837fe",
   "outputs": [],
   "execution_count": null
  },
  {
   "metadata": {},
   "cell_type": "code",
   "source": [
    "import matplotlib.pyplot as plt\n",
    "\n",
    "def show_mel(mel, label):\n",
    "    plt.imshow(mel.squeeze(), origin='lower', aspect='auto', cmap='magma')\n",
    "    plt.title(f\"Genres: {torch.nonzero(label).squeeze().tolist()}\")\n",
    "    plt.colorbar()\n",
    "    plt.show()\n",
    "\n",
    "train_dataloader[0]"
   ],
   "id": "39ce5f992d987e57",
   "outputs": [],
   "execution_count": null
  },
  {
   "metadata": {},
   "cell_type": "code",
   "source": [
    "#from loss.loss_utils import DifferentiablePRAUCLoss\n",
    "\n",
    "pos_weights = (torch.ones(10) * 10).to(\"cuda\")\n",
    "#model = torch.load(\"E:/Coding/SongAnalyzer/Analyzer/src/trained_models/ShortChunkCNN/Classifier-Epoch-55.pt\", weights_only=False)\n",
    "\n",
    "criterion = (nn.BCEWithLogitsLoss(pos_weight=pos_weights))# + DifferentiablePRAUCLoss(tau=0.05))\n",
    "test_loss_average, all_probs, all_labels = eval(model, test_dataloader, criterion, Config)\n",
    "\n",
    "all_p_tensor = torch.stack([torch.tensor(x) for x in all_probs], dim=0).float()\n",
    "all_l_tensor = torch.stack([torch.tensor(x) for x in all_labels], dim=0).int()"
   ],
   "id": "fb64a0e3d3e1f1f8",
   "outputs": [],
   "execution_count": null
  },
  {
   "metadata": {},
   "cell_type": "code",
   "source": [
    "from sklearn.metrics import average_precision_score\n",
    "\n",
    "for i in range(10):\n",
    "    precision, recall, thresholds = precision_recall_curve(all_l_tensor[:, i], all_p_tensor[:, i])\n",
    "    ap = average_precision_score(all_l_tensor[:, i], all_p_tensor[:, i])\n",
    "    plt.plot(recall, precision, label=f\"Class {i} (AP={ap:.2f})\")\n",
    "\n",
    "plt.xlabel(\"Recall\")\n",
    "plt.ylabel(\"Precision\")\n",
    "plt.legend()\n",
    "plt.title(\"Per-Class Precision-Recall Curves\")\n",
    "plt.grid(True)\n",
    "plt.show()\n",
    "\n",
    "ap_per_class = [average_precision_score(all_l_tensor[:, i], all_p_tensor[:, i]) for i in range(10)]\n",
    "print(\"AP per class:\", ap_per_class)"
   ],
   "id": "375caaf7d671e732",
   "outputs": [],
   "execution_count": null
  },
  {
   "metadata": {},
   "cell_type": "code",
   "source": "",
   "id": "3487a2b4904904b1",
   "outputs": [],
   "execution_count": null
  }
 ],
 "metadata": {
  "kernelspec": {
   "display_name": "Python 3",
   "language": "python",
   "name": "python3"
  },
  "language_info": {
   "codemirror_mode": {
    "name": "ipython",
    "version": 2
   },
   "file_extension": ".py",
   "mimetype": "text/x-python",
   "name": "python",
   "nbconvert_exporter": "python",
   "pygments_lexer": "ipython2",
   "version": "2.7.6"
  }
 },
 "nbformat": 4,
 "nbformat_minor": 5
}
