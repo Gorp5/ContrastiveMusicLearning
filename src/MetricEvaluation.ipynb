{
 "cells": [
  {
   "cell_type": "code",
   "id": "26862cea14b0f113",
   "metadata": {
    "ExecuteTime": {
     "end_time": "2025-10-28T05:05:21.692757Z",
     "start_time": "2025-10-28T05:05:14.604064Z"
    }
   },
   "source": [
    "import torch.nn\n",
    "\n",
    "def generate_evaluation_dataset(model, dataset_name, dataloader, name, chunking=True, averaging=False, chunk_size=256):\n",
    "    model.mask_ratio = 0.0\n",
    "    get_and_save_latents(dataloader, model, dataset_name, name, chunking=chunking, averaging=averaging, chunk_size=chunk_size)\n",
    "    print(\"Saving...\")"
   ],
   "outputs": [],
   "execution_count": 1
  },
  {
   "cell_type": "code",
   "id": "42142ca3815ad3d1",
   "metadata": {
    "jupyter": {
     "source_hidden": true
    },
    "ExecuteTime": {
     "end_time": "2025-10-28T05:30:01.865209Z",
     "start_time": "2025-10-28T05:30:01.850688Z"
    }
   },
   "source": [
    "import torch.nn\n",
    "\n",
    "from sklearn.metrics import f1_score\n",
    "from sklearn.metrics import accuracy_score\n",
    "from torch import nn, optim\n",
    "\n",
    "class MLP(nn.Module):\n",
    "    def __init__(self, input=128, output=10, dropout=0.1):\n",
    "        super().__init__()\n",
    "        self.model = nn.Sequential(\n",
    "            nn.Linear(input, 512),\n",
    "            nn.ReLU(),\n",
    "            nn.Dropout(p=dropout),\n",
    "            nn.Linear(512, output)\n",
    "        )\n",
    "\n",
    "    def forward(self, x):\n",
    "        return self.model(x)\n",
    "\n",
    "\n",
    "class LinearProbe(nn.Module):\n",
    "    def __init__(self, input=128, output=10):\n",
    "        super().__init__()\n",
    "        self.model = nn.Linear(input, output)\n",
    "\n",
    "    def forward(self, x):\n",
    "        return self.model(x)\n",
    "\n",
    "\n",
    "# ----- Training Loop -----\n",
    "def train_model(model, train_dataloader, test_dataloader, config, device=\"cuda\", use_tqdm=False, criterion=nn.CrossEntropyLoss()):\n",
    "    optimizer = optim.Adam(model.parameters(), lr=config.learning_rate)\n",
    "\n",
    "    model.train()\n",
    "    best_accuracy = 0.0\n",
    "    patience = 0\n",
    "\n",
    "    itr = range(config.num_epochs)\n",
    "    if use_tqdm:\n",
    "        itr = tqdm(itr)\n",
    "\n",
    "    for epoch in itr:\n",
    "        total_loss = 0\n",
    "        for labels, data in train_dataloader:\n",
    "            # if dataset returns one-hot, convert back to integer for CrossEntropy\n",
    "            if labels.ndim > 1:\n",
    "                labels = labels.squeeze(1)\n",
    "\n",
    "            data = data.to(device)\n",
    "            labels = labels.to(device)\n",
    "\n",
    "            optimizer.zero_grad()\n",
    "            outputs = model(data)\n",
    "\n",
    "            loss = criterion(outputs, labels)\n",
    "            loss.backward()\n",
    "            optimizer.step()\n",
    "\n",
    "            total_loss += loss.item()\n",
    "\n",
    "        scores, accuracy = evaluate_model(model, test_dataloader)\n",
    "\n",
    "        model.train()\n",
    "\n",
    "        if accuracy < best_accuracy:\n",
    "            patience += 1\n",
    "        else:\n",
    "            patience = 0\n",
    "            best_accuracy = accuracy\n",
    "\n",
    "        if patience >= 16:\n",
    "            return model\n",
    "\n",
    "    return model\n",
    "\n",
    "\n",
    "# Evaluation\n",
    "def evaluate_model(model, dataloader, device=\"cuda\", use_tqdm=False, criterion=nn.CrossEntropyLoss()):\n",
    "    model.eval()\n",
    "    all_predictions = []\n",
    "    all_labels = []\n",
    "\n",
    "    with torch.no_grad():\n",
    "        itr = dataloader\n",
    "        if use_tqdm:\n",
    "            itr = tqdm(dataloader)\n",
    "\n",
    "        for labels, data in dataloader:\n",
    "            # if dataset returns one-hot, convert back to integer for CrossEntropy\n",
    "            if labels.ndim > 1:\n",
    "                labels = labels.squeeze(1)\n",
    "\n",
    "            data = data.to(device)\n",
    "            labels = labels.to(device)\n",
    "\n",
    "            outputs = model(data)\n",
    "\n",
    "            if isinstance(criterion, nn.CrossEntropyLoss):\n",
    "                predicted = outputs.argmax(dim=1).long()\n",
    "            elif isinstance(criterion, nn.BCEWithLogitsLoss):\n",
    "                probability = torch.sigmoid(outputs)\n",
    "                predicted = probability > 0.5\n",
    "\n",
    "            all_predictions.extend(predicted.cpu().numpy())\n",
    "            all_labels.extend(labels.cpu().numpy())\n",
    "\n",
    "    scores = f1_score(all_labels, all_predictions, average=\"macro\")\n",
    "    accuracy = accuracy_score(all_labels, all_predictions)\n",
    "\n",
    "    return scores, accuracy"
   ],
   "outputs": [],
   "execution_count": 8
  },
  {
   "cell_type": "code",
   "id": "b473860dd9f34292",
   "metadata": {
    "ExecuteTime": {
     "end_time": "2025-10-28T05:05:48.712394Z",
     "start_time": "2025-10-28T05:05:32.275002Z"
    }
   },
   "source": [
    "import tqdm\n",
    "import torch.nn\n",
    "\n",
    "from matplotlib import pyplot as plt\n",
    "from training.evaluation import local_coherence\n",
    "from utils.Config import Config\n",
    "from data.data_utils import *\n",
    "from training.inference import get_and_save_latents\n",
    "from sklearn.metrics import auc\n",
    "\n",
    "def local_tag_coherence(latent_dataset, max_k=100, granularity=1):\n",
    "    latent_paths = latent_dataset.latents\n",
    "    labels = latent_dataset.labels\n",
    "\n",
    "    latents = []\n",
    "    for path in tqdm(latent_paths):\n",
    "        l = torch.load(path, weights_only=False)\n",
    "        latents.append(l)\n",
    "\n",
    "    l = torch.tensor(latents)\n",
    "\n",
    "    if l.shape[1] == 1:\n",
    "        l = l.squeeze(1)\n",
    "\n",
    "    latents = np.array(l)\n",
    "\n",
    "    tag_coherence = []\n",
    "    k_values = []\n",
    "    ks = [x for x in range(1, max_k, granularity)]\n",
    "    for k in tqdm(ks):\n",
    "        lgc = local_coherence(np.array(latents), np.array(labels), k=k)\n",
    "        k_values.append(k)\n",
    "        tag_coherence.append(lgc)\n",
    "\n",
    "    auc_coh = auc(k_values, tag_coherence)\n",
    "\n",
    "    print('computed AUC using sklearn.metrics.auc: {}'.format(auc_coh / k))\n",
    "    plt.figure(figsize=(8, 6))\n",
    "    plt.plot(k_values, tag_coherence, label='Coherence')\n",
    "    plt.xlabel(\"K-Neighbors\")\n",
    "    plt.ylabel(\"Coherence\")\n",
    "    plt.title(\"Coherence v.s. Neighboorhood Size\")\n",
    "    plt.legend()\n",
    "    plt.grid(True)\n",
    "    plt.show()\n",
    "\n",
    "\n",
    "def grid_search(latent_dataset, num_classes=10, dataset=\"\", criterion=nn.CrossEntropyLoss()):\n",
    "    best_params = []\n",
    "    best_accuracy = 0\n",
    "    best_F1 = 0\n",
    "    pb = tqdm(total=27)\n",
    "\n",
    "    n_fold_length = len(latent_dataset)\n",
    "    n_factor = int(n_fold_length / 10)\n",
    "    random_indicies = np.random.permutation(n_fold_length)\n",
    "\n",
    "    n_fold = random_indicies[:n_factor]\n",
    "    other_folds = random_indicies[n_factor:]\n",
    "\n",
    "    train_set = torch.utils.data.Subset(latent_dataset, other_folds)\n",
    "    test_set = torch.utils.data.Subset(latent_dataset, n_fold)\n",
    "\n",
    "    print(\"Training...\")\n",
    "\n",
    "    for model_type in [\"MLP\", \"Linear\"]:\n",
    "        for weight_decay in [0, 1e-4, 1e-3]:\n",
    "            for learning_rate in [1e-5, 1e-4, 1e-3]:\n",
    "                for batch in [64, 256]:\n",
    "                    for dropout in [0.25, 0.5, 0.75] if model_type == \"MLP\" else [0]:\n",
    "\n",
    "                        model_name = f\"LinearClassifier-{dataset}\"\n",
    "                        config = Config(\n",
    "                                save_path=f\"trained_models\\\\{model_name}\\\\\",\n",
    "                                num_epochs=1024,\n",
    "                                learning_rate=learning_rate,\n",
    "                                weight_decay=weight_decay,\n",
    "                                num_workers=2,\n",
    "                                batch_size= batch,\n",
    "                                eval_batch_size=batch,\n",
    "                                dtype=torch.float32\n",
    "                            )\n",
    "\n",
    "                        train_latent_dataloader = DataLoader(\n",
    "                            train_set,\n",
    "                            batch_size=64,\n",
    "                            shuffle=True,\n",
    "                        )\n",
    "\n",
    "                        test_latent_dataloader = DataLoader(\n",
    "                            test_set,\n",
    "                            batch_size=64,\n",
    "                            shuffle=True,\n",
    "                        )\n",
    "\n",
    "                        device = \"cuda\"\n",
    "\n",
    "                        if model_type == \"MLP\":\n",
    "                            model = MLP(128, num_classes, dropout=dropout).to(device)\n",
    "                        else:\n",
    "                            model = LinearProbe(128, num_classes).to(device)\n",
    "\n",
    "                        train_model(model, train_latent_dataloader, test_latent_dataloader, config, device=device, use_tqdm=True, criterion=criterion)\n",
    "                        f1, accuracy = evaluate_model(model, test_latent_dataloader, device, use_tqdm=False)\n",
    "\n",
    "                        if accuracy > best_accuracy:\n",
    "                            best_params = [model_type, learning_rate, weight_decay, dropout]\n",
    "                            best_accuracy = accuracy\n",
    "                            best_F1 = f1\n",
    "\n",
    "                        pb.update(1)\n",
    "\n",
    "    print(f\"Best Accuracy: {best_accuracy}\")\n",
    "    print(f\"Best F1: {best_F1}\")\n",
    "\n",
    "    return best_params\n",
    "\n",
    "def continuous_fold(dataset, model_type, partition_name, learning_rate, weight_decay, dropout, batch_size, count=12):\n",
    "    directory = f\"D:\\\\SongsDataset\\\\GTZAN\\\\latent_datasets\\\\{partition_name}\\\\\"\n",
    "\n",
    "    num_classes = 10\n",
    "    latent_dataset = LatentDataset(directory + \"full-set\\\\\", num_classes=num_classes)\n",
    "\n",
    "    f1s = []\n",
    "    accuracies = []\n",
    "\n",
    "    for x in tqdm(range(count)):\n",
    "        n_fold_length = len(latent_dataset)\n",
    "        n_factor = int(n_fold_length / 10)\n",
    "\n",
    "        random_indicies = np.random.permutation(n_fold_length)\n",
    "\n",
    "        n_fold = random_indicies[:n_factor]\n",
    "        other_folds = random_indicies[n_factor:]\n",
    "\n",
    "        train_set = torch.utils.data.Subset(latent_dataset, other_folds)\n",
    "        test_set = torch.utils.data.Subset(latent_dataset, n_fold)\n",
    "\n",
    "        model_name = f\"LinearClassifier-{dataset}\"\n",
    "        config = Config(\n",
    "                save_path=f\"trained_models\\\\{model_name}\\\\\",\n",
    "                num_epochs=1024,\n",
    "                learning_rate=learning_rate,\n",
    "                weight_decay=weight_decay,\n",
    "                num_workers=2,\n",
    "                batch_size= batch_size,\n",
    "                eval_batch_size=batch_size,\n",
    "                dtype=torch.float32\n",
    "            )\n",
    "\n",
    "        train_latent_dataloader = DataLoader(\n",
    "            train_set,\n",
    "            batch_size=64,\n",
    "            shuffle=True,\n",
    "        )\n",
    "\n",
    "        test_latent_dataloader = DataLoader(\n",
    "            test_set,\n",
    "            batch_size=64,\n",
    "            shuffle=True,\n",
    "        )\n",
    "\n",
    "        if model_type == \"MLP\":\n",
    "            model = MLP(128, num_classes, dropout=dropout).to(\"cuda\")\n",
    "        else:\n",
    "            model = LinearProbe(128, num_classes).to(\"cuda\")\n",
    "\n",
    "        device = \"cuda\"\n",
    "\n",
    "        train_model(model, train_latent_dataloader, test_latent_dataloader, config, device=device, criterion=nn.CrossEntropyLoss())\n",
    "        f1, accuracy = evaluate_model(model, test_latent_dataloader, device)\n",
    "        f1s.append(f1)\n",
    "        accuracies.append(accuracy)\n",
    "\n",
    "    mean_f1 = sum(f1s) / len(f1s)\n",
    "    variance_f1 = sum([(x - mean_f1) ** 2 for x in f1s]) / len(f1s)\n",
    "\n",
    "    mean_accuracy = sum(accuracies) / len(accuracies)\n",
    "    variance_accuracy = sum([(x - mean_accuracy) ** 2 for x in accuracies]) / len(accuracies)\n",
    "\n",
    "    return (mean_f1, variance_f1), (mean_accuracy, variance_accuracy)"
   ],
   "outputs": [],
   "execution_count": 3
  },
  {
   "metadata": {},
   "cell_type": "code",
   "outputs": [],
   "execution_count": null,
   "source": [
    "from data.data_utils import MTAT\n",
    "from data.data_utils import GS\n",
    "from torch.utils.data import DataLoader\n",
    "import torch.nn\n",
    "\n",
    "directory = \"D:\\\\SongsDataset\\\\MTAT\\\\\"\n",
    "GS_dataset = GS(directory)\n",
    "GS_dataloader = DataLoader(\n",
    "    GS_dataset,\n",
    "    batch_size=1,\n",
    "    shuffle=True,\n",
    "    num_workers=2,\n",
    "    prefetch_factor=1\n",
    ")\n",
    "\n",
    "\n",
    "def gs_eval(model, name, chunking=True, chunk_size=1024, averaging=True, k=100, already_generated=False,\n",
    "              granularity=5):\n",
    "    if not already_generated:\n",
    "        generate_evaluation_dataset(model, \"MTAT\", MTAT_dataloader, name, chunking=chunking, chunk_size=chunk_size,\n",
    "                                    averaging=averaging)\n",
    "\n",
    "    num_classes = 10\n",
    "\n",
    "    directory = f\"D:\\\\SongsDataset\\\\MTAT\\\\latent_datasets\\\\{name}\\\\\"\n",
    "    latent_dataset = LatentDataset(directory + \"full-set\\\\\", num_classes=num_classes)\n",
    "\n",
    "    #local_tag_coherence(latent_dataset, max_k=k, granularity=granularity)\n",
    "\n",
    "    params = grid_search(latent_dataset, num_classes, criterion=BCEWithLogitsLoss())\n",
    "    model_type, learning_rate, weight_decay, dropout = params\n",
    "    batch_size = 64 if chunking else 1\n",
    "    (mean_f1, variance_f1), (mean_accuracy, variance_accuracy) = continuous_fold(latent_dataset, model_type, name,\n",
    "                                                                                 learning_rate, weight_decay, dropout,\n",
    "                                                                                 batch_size, count=12)\n",
    "\n",
    "    print(f\"F1 | \\nMean: {mean_f1}\\t variance: {variance_f1}\")\n",
    "    print(f\"Accuracy | \\nMean: {mean_accuracy}\\t variance: {variance_accuracy}\")"
   ],
   "id": "3e205acb4ce2d4f"
  },
  {
   "cell_type": "code",
   "id": "5fe6cc6865b7454c",
   "metadata": {
    "collapsed": true,
    "jupyter": {
     "outputs_hidden": true,
     "source_hidden": true
    },
    "ExecuteTime": {
     "end_time": "2025-10-28T05:08:08.453879Z",
     "start_time": "2025-10-28T05:05:54.159107Z"
    }
   },
   "source": [
    "import torch.nn\n",
    "\n",
    "from data.data_utils import GTZAN\n",
    "from torch.utils.data import DataLoader\n",
    "\n",
    "directory = \"D:\\\\SongsDataset\\\\GTZAN\\\\genres_original\\\\\"\n",
    "GTZAN_dataset = GTZAN(directory)\n",
    "GTZAN_dataloader = DataLoader(\n",
    "    GTZAN_dataset,\n",
    "    batch_size=1,\n",
    "    shuffle=True,\n",
    "    num_workers=2,\n",
    "    prefetch_factor=1\n",
    ")\n",
    "\n",
    "def gtzan_eval(model, name, chunking=True, chunk_size=256, averaging=True, k=100, already_generated=False, granularity=5):\n",
    "    dataset_name = \"GTZAN\"\n",
    "    if not already_generated:\n",
    "        generate_evaluation_dataset(model, dataset_name, GTZAN_dataloader, name, chunking=chunking, chunk_size=chunk_size, averaging=averaging)\n",
    "\n",
    "    num_classes = 10\n",
    "    directory = f\"D:\\\\SongsDataset\\\\GTZAN\\\\latent_datasets\\\\{name}\\\\\"\n",
    "    latent_dataset = LatentDataset(directory + \"full-set\\\\\", num_classes=num_classes)\n",
    "\n",
    "    local_tag_coherence(latent_dataset, max_k=k, granularity=granularity)\n",
    "\n",
    "    params = grid_search(latent_dataset, num_classes,  dataset=dataset_name, criterion=nn.CrossEntropyLoss())\n",
    "    model_type, learning_rate, weight_decay, dropout = params\n",
    "    batch_size = 64 if chunking else 1\n",
    "    (mean_f1, variance_f1), (mean_accuracy, variance_accuracy) = continuous_fold(latent_dataset, model_type, name, learning_rate, weight_decay, dropout, batch_size, count=12)\n",
    "\n",
    "    print(f\"F1 | \\nMean: {mean_f1}\\t variance: {variance_f1}\")\n",
    "    print(f\"Accuracy | \\nMean: {mean_accuracy}\\t variance: {variance_accuracy}\")"
   ],
   "outputs": [
    {
     "data": {
      "text/plain": [
       "  0%|          | 0/1000 [00:00<?, ?it/s]"
      ],
      "application/vnd.jupyter.widget-view+json": {
       "version_major": 2,
       "version_minor": 0,
       "model_id": "5d4675ff5b594e8f8c99a9c8ea3cd136"
      }
     },
     "metadata": {},
     "output_type": "display_data"
    }
   ],
   "execution_count": 4
  },
  {
   "cell_type": "code",
   "id": "8bb97dbd299a397d",
   "metadata": {
    "collapsed": true,
    "jupyter": {
     "outputs_hidden": true,
     "source_hidden": true
    },
    "ExecuteTime": {
     "end_time": "2025-10-28T05:08:24.157956Z",
     "start_time": "2025-10-28T05:08:14.991458Z"
    }
   },
   "source": [
    "from torch.nn import BCEWithLogitsLoss\n",
    "from data.data_utils import MTAT\n",
    "from torch.utils.data import DataLoader\n",
    "import torch.nn\n",
    "\n",
    "directory = \"D:\\\\SongsDataset\\\\MTAT\\\\\"\n",
    "MTAT_dataset = MTAT(directory)\n",
    "MTAT_dataloader = DataLoader(\n",
    "    MTAT_dataset,\n",
    "    batch_size=1,\n",
    "    shuffle=True,\n",
    "    num_workers=2,\n",
    "    prefetch_factor=1\n",
    ")\n",
    "\n",
    "def mtat_eval(model, name, chunking=True, chunk_size=1024, averaging=True, k=100, already_generated=False, granularity=5):\n",
    "    if not already_generated:\n",
    "        generate_evaluation_dataset(model, \"MTAT\", MTAT_dataloader, name, chunking=chunking, chunk_size=chunk_size, averaging=averaging)\n",
    "\n",
    "    num_classes = 10\n",
    "\n",
    "    directory = f\"D:\\\\SongsDataset\\\\MTAT\\\\latent_datasets\\\\{name}\\\\\"\n",
    "    latent_dataset = LatentDataset(directory + \"full-set\\\\\", num_classes=num_classes)\n",
    "\n",
    "    #local_tag_coherence(latent_dataset, max_k=k, granularity=granularity)\n",
    "\n",
    "    params = grid_search(latent_dataset, num_classes, criterion=BCEWithLogitsLoss())\n",
    "    model_type, learning_rate, weight_decay, dropout = params\n",
    "    batch_size = 64 if chunking else 1\n",
    "    (mean_f1, variance_f1), (mean_accuracy, variance_accuracy) = continuous_fold(latent_dataset, model_type, name, learning_rate, weight_decay, dropout, batch_size, count=12)\n",
    "\n",
    "    print(f\"F1 | \\nMean: {mean_f1}\\t variance: {variance_f1}\")\n",
    "    print(f\"Accuracy | \\nMean: {mean_accuracy}\\t variance: {variance_accuracy}\")"
   ],
   "outputs": [
    {
     "data": {
      "text/plain": [
       "  0%|          | 0/25863 [00:00<?, ?it/s]"
      ],
      "application/vnd.jupyter.widget-view+json": {
       "version_major": 2,
       "version_minor": 0,
       "model_id": "c69cd0868b24418aa60b62e0e911b672"
      }
     },
     "metadata": {},
     "output_type": "display_data"
    },
    {
     "name": "stderr",
     "output_type": "stream",
     "text": [
      "E:\\Coding\\SongAnalyzer\\Analyzer\\src\\data\\data_utils.py:17: UserWarning: PySoundFile failed. Trying audioread instead.\n",
      "  audio, sr = librosa.load(full_path, sr=44100, mono=True)\n",
      "E:\\Coding\\SongAnalyzer\\.venv-flash\\Lib\\site-packages\\librosa\\core\\audio.py:184: FutureWarning: librosa.core.audio.__audioread_load\n",
      "\tDeprecated as of librosa version 0.10.0.\n",
      "\tIt will be removed in librosa version 1.0.\n",
      "  y, sr_native = __audioread_load(path, offset, duration, dtype)\n"
     ]
    }
   ],
   "execution_count": 5
  },
  {
   "metadata": {
    "ExecuteTime": {
     "end_time": "2025-10-28T05:08:24.218794Z",
     "start_time": "2025-10-28T05:08:24.184285Z"
    }
   },
   "cell_type": "code",
   "source": [
    "def add_fields(model, use_sinusoidal=False, use_y_emb=False,\n",
    "               use_rope_x=False, use_rope_y=False, rope_base=-1,\n",
    "               use_alibi_x=False, use_alibi_y=False):\n",
    "\n",
    "    model.use_cls = True\n",
    "    model.predict_tempo = False\n",
    "    model.use_sinusoidal = use_sinusoidal\n",
    "    model.use_y_emb = use_y_emb\n",
    "    model.use_rope_x = use_rope_x\n",
    "    model.use_rope_y = use_rope_y\n",
    "    model.rope_base = rope_base\n",
    "    model.use_alibi_x = use_alibi_x\n",
    "    model.use_alibi_y = use_alibi_y\n",
    "    model.needs_coordinates = use_rope_x or use_rope_y or use_alibi_x or use_alibi_y\n",
    "\n",
    "    if not (use_alibi_x or use_alibi_y):\n",
    "        model.transformer.alibi_2d = None\n",
    "\n",
    "    return model"
   ],
   "id": "a9bdab1ddf13a9a9",
   "outputs": [],
   "execution_count": 6
  },
  {
   "cell_type": "code",
   "id": "711e849711afe5fd",
   "metadata": {
    "jupyter": {
     "is_executing": true
    },
    "ExecuteTime": {
     "start_time": "2025-10-28T05:30:07.208720Z"
    }
   },
   "source": [
    "model = torch.load(\"E:\\\\Coding\\\\SongAnalyzer\\\\Analyzer\\\\src\\\\final-models\\\\Myna-sinusoidal-ALIBI-256L-0.9M\\\\sinusoidal_Epoch-511.pt\", weights_only=False)\n",
    "\n",
    "model.mask_ratio = 0\n",
    "model = add_fields(model, use_sinusoidal=True)\n",
    "\n",
    "name = \"Sinusoidal-Chunking-256\"\n",
    "gtzan_eval(model, name, chunking=True, chunk_size=256, averaging=True, k=200, already_generated=True, granularity=10)\n",
    "mtat_eval(model, name, chunking=True, chunk_size=256, averaging=True, k=20, already_generated=False, granularity=5)"
   ],
   "outputs": [
    {
     "data": {
      "text/plain": [
       "  0%|          | 0/999 [00:00<?, ?it/s]"
      ],
      "application/vnd.jupyter.widget-view+json": {
       "version_major": 2,
       "version_minor": 0,
       "model_id": "7a5ff128eeff4df49adb9582f3f4ff36"
      }
     },
     "metadata": {},
     "output_type": "display_data"
    },
    {
     "name": "stderr",
     "output_type": "stream",
     "text": [
      "C:\\Users\\Potat\\AppData\\Local\\Temp\\ipykernel_145760\\135298054.py:25: DeprecationWarning: __array__ implementation doesn't accept a copy keyword, so passing copy=False failed. __array__ must implement 'dtype' and 'copy' keyword arguments. To learn more, see the migration guide https://numpy.org/devdocs/numpy_2_0_migration_guide.html#adapting-to-changes-in-the-copy-keyword\n",
      "  latents = np.array(l)\n"
     ]
    },
    {
     "data": {
      "text/plain": [
       "  0%|          | 0/20 [00:00<?, ?it/s]"
      ],
      "application/vnd.jupyter.widget-view+json": {
       "version_major": 2,
       "version_minor": 0,
       "model_id": "edd519f11ec24a9788b61702d43d7bb4"
      }
     },
     "metadata": {},
     "output_type": "display_data"
    },
    {
     "name": "stdout",
     "output_type": "stream",
     "text": [
      "computed AUC using sklearn.metrics.auc: 0.47512305221198053\n"
     ]
    },
    {
     "data": {
      "text/plain": [
       "<Figure size 800x600 with 1 Axes>"
      ],
      "image/png": "[encoded data removed]"
     },
     "metadata": {},
     "output_type": "display_data"
    },
    {
     "data": {
      "text/plain": [
       "  0%|          | 0/27 [00:00<?, ?it/s]"
      ],
      "application/vnd.jupyter.widget-view+json": {
       "version_major": 2,
       "version_minor": 0,
       "model_id": "fc2f486070544df485d85b90ba77aef2"
      }
     },
     "metadata": {},
     "output_type": "display_data"
    },
    {
     "name": "stdout",
     "output_type": "stream",
     "text": [
      "Training...\n"
     ]
    },
    {
     "data": {
      "text/plain": [
       "  0%|          | 0/1024 [00:00<?, ?it/s]"
      ],
      "application/vnd.jupyter.widget-view+json": {
       "version_major": 2,
       "version_minor": 0,
       "model_id": "44b967c3d2a14922baeff4ad7c8ac8fd"
      }
     },
     "metadata": {},
     "output_type": "display_data"
    }
   ],
   "execution_count": null
  },
  {
   "cell_type": "code",
   "execution_count": null,
   "id": "5a2117ec76054623",
   "metadata": {},
   "outputs": [],
   "source": [
    "model = torch.load(\"E:\\\\Coding\\\\SongAnalyzer\\\\Analyzer\\\\src\\\\final-models\\\\Myna-1D-ALIBI-256L-0.9M\\\\1d_alibi_Epoch-511.pt\", weights_only=False)\n",
    "\n",
    "model.mask_ratio = 0\n",
    "model = add_fields(model, use_y_emb=True, use_alibi_x=True)\n",
    "\n",
    "name = \"1D-ALIBI-Chunking-256\"\n",
    "gtzan_eval(model, name, chunking=True, chunk_size=256, averaging=True, k=200, already_generated=False, granularity=10)\n",
    "mtat_eval(model, name, chunking=True, chunk_size=256, averaging=True, k=20, already_generated=False, granularity=5)"
   ]
  },
  {
   "cell_type": "code",
   "execution_count": 6,
   "id": "74bf0d9564b27144",
   "metadata": {},
   "outputs": [
    {
     "name": "stderr",
     "output_type": "stream",
     "text": [
      "  0%|          | 0/999 [00:00<?, ?it/s]E:\\Coding\\SongAnalyzer\\Analyzer\\src\\training\\inference.py:55: UserWarning: To copy construct from a tensor, it is recommended to use sourceTensor.clone().detach() or sourceTensor.clone().detach().requires_grad_(True), rather than torch.tensor(sourceTensor).\n",
      "  data = torch.tensor(data)\n",
      "100%|██████████| 999/999 [00:54<00:00, 18.34it/s]\n"
     ]
    },
    {
     "name": "stdout",
     "output_type": "stream",
     "text": [
      "Saving...\n"
     ]
    },
    {
     "data": {
      "application/vnd.jupyter.widget-view+json": {
       "model_id": "286d91bdc2f842869e982d9ec1a91075",
       "version_major": 2,
       "version_minor": 0
      },
      "text/plain": [
       "  0%|          | 0/999 [00:00<?, ?it/s]"
      ]
     },
     "metadata": {},
     "output_type": "display_data"
    },
    {
     "name": "stderr",
     "output_type": "stream",
     "text": [
      "C:\\Users\\Potat\\AppData\\Local\\Temp\\ipykernel_7220\\3693705025.py:25: UserWarning: Creating a tensor from a list of numpy.ndarrays is extremely slow. Please consider converting the list to a single numpy.ndarray with numpy.array() before converting to a tensor. (Triggered internally at C:\\actions-runner\\_work\\pytorch\\pytorch\\builder\\windows\\pytorch\\torch\\csrc\\utils\\tensor_new.cpp:281.)\n",
      "  l = torch.tensor(latents)\n",
      "C:\\Users\\Potat\\AppData\\Local\\Temp\\ipykernel_7220\\3693705025.py:30: DeprecationWarning: __array__ implementation doesn't accept a copy keyword, so passing copy=False failed. __array__ must implement 'dtype' and 'copy' keyword arguments. To learn more, see the migration guide https://numpy.org/devdocs/numpy_2_0_migration_guide.html#adapting-to-changes-in-the-copy-keyword\n",
      "  latents = np.array(l)\n"
     ]
    },
    {
     "data": {
      "application/vnd.jupyter.widget-view+json": {
       "model_id": "9f87ba246b854bbe898f4949dbb4586d",
       "version_major": 2,
       "version_minor": 0
      },
      "text/plain": [
       "  0%|          | 0/20 [00:00<?, ?it/s]"
      ]
     },
     "metadata": {},
     "output_type": "display_data"
    },
    {
     "name": "stdout",
     "output_type": "stream",
     "text": [
      "computed AUC using sklearn.metrics.auc: 0.47005839789640136\n"
     ]
    },
    {
     "data": {
      "image/png": "[encoded data removed]",
      "text/plain": [
       "<Figure size 800x600 with 1 Axes>"
      ]
     },
     "metadata": {},
     "output_type": "display_data"
    },
    {
     "data": {
      "application/vnd.jupyter.widget-view+json": {
       "model_id": "e086d0feccb64f1294bab947926e992c",
       "version_major": 2,
       "version_minor": 0
      },
      "text/plain": [
       "  0%|          | 0/18 [00:00<?, ?it/s]"
      ]
     },
     "metadata": {},
     "output_type": "display_data"
    },
    {
     "name": "stdout",
     "output_type": "stream",
     "text": [
      "Training...\n",
      "Best Accuracy: 1.0\n",
      "Best F1: 1.0\n"
     ]
    },
    {
     "data": {
      "application/vnd.jupyter.widget-view+json": {
       "model_id": "c62eb23b28084ec0b848815c0ecb0354",
       "version_major": 2,
       "version_minor": 0
      },
      "text/plain": [
       "  0%|          | 0/12 [00:00<?, ?it/s]"
      ]
     },
     "metadata": {},
     "output_type": "display_data"
    },
    {
     "name": "stdout",
     "output_type": "stream",
     "text": [
      "F1 | \n",
      "Mean: 1.0\t variance: 0.0\n",
      "Accuracy | \n",
      "Mean: 1.0\t variance: 0.0\n"
     ]
    },
    {
     "name": "stderr",
     "output_type": "stream",
     "text": [
      "  0%|          | 0/25860 [00:00<?, ?it/s]E:\\Coding\\SongAnalyzer\\Analyzer\\src\\training\\inference.py:55: UserWarning: To copy construct from a tensor, it is recommended to use sourceTensor.clone().detach() or sourceTensor.clone().detach().requires_grad_(True), rather than torch.tensor(sourceTensor).\n",
      "  data = torch.tensor(data)\n",
      "100%|██████████| 25860/25860 [23:47<00:00, 18.12it/s]\n"
     ]
    },
    {
     "name": "stdout",
     "output_type": "stream",
     "text": [
      "Saving...\n"
     ]
    },
    {
     "data": {
      "application/vnd.jupyter.widget-view+json": {
       "model_id": "af7d7deef6e545dc920b3d7b46ea854d",
       "version_major": 2,
       "version_minor": 0
      },
      "text/plain": [
       "  0%|          | 0/25860 [00:00<?, ?it/s]"
      ]
     },
     "metadata": {},
     "output_type": "display_data"
    },
    {
     "name": "stderr",
     "output_type": "stream",
     "text": [
      "C:\\Users\\Potat\\AppData\\Local\\Temp\\ipykernel_7220\\3693705025.py:30: DeprecationWarning: __array__ implementation doesn't accept a copy keyword, so passing copy=False failed. __array__ must implement 'dtype' and 'copy' keyword arguments. To learn more, see the migration guide https://numpy.org/devdocs/numpy_2_0_migration_guide.html#adapting-to-changes-in-the-copy-keyword\n",
      "  latents = np.array(l)\n"
     ]
    },
    {
     "data": {
      "application/vnd.jupyter.widget-view+json": {
       "model_id": "1f872a376230471795ff9e8574d0c7ae",
       "version_major": 2,
       "version_minor": 0
      },
      "text/plain": [
       "  0%|          | 0/4 [00:00<?, ?it/s]"
      ]
     },
     "metadata": {},
     "output_type": "display_data"
    },
    {
     "name": "stdout",
     "output_type": "stream",
     "text": [
      "computed AUC using sklearn.metrics.auc: 0.9134745339347097\n"
     ]
    },
    {
     "data": {
      "image/png": "[encoded data removed]",
      "text/plain": [
       "<Figure size 800x600 with 1 Axes>"
      ]
     },
     "metadata": {},
     "output_type": "display_data"
    },
    {
     "data": {
      "application/vnd.jupyter.widget-view+json": {
       "model_id": "4a810af0453a4dc993edc76899c69807",
       "version_major": 2,
       "version_minor": 0
      },
      "text/plain": [
       "  0%|          | 0/18 [00:00<?, ?it/s]"
      ]
     },
     "metadata": {},
     "output_type": "display_data"
    },
    {
     "name": "stdout",
     "output_type": "stream",
     "text": [
      "Training...\n"
     ]
    },
    {
     "ename": "AttributeError",
     "evalue": "'list' object has no attribute 'ndim'",
     "output_type": "error",
     "traceback": [
      "\u001B[1;31m---------------------------------------------------------------------------\u001B[0m",
      "\u001B[1;31mAttributeError\u001B[0m                            Traceback (most recent call last)",
      "Cell \u001B[1;32mIn[6], line 5\u001B[0m\n\u001B[0;32m      3\u001B[0m name \u001B[38;5;241m=\u001B[39m \u001B[38;5;124m\"\u001B[39m\u001B[38;5;124m1D-ALIBI-No-Chunking\u001B[39m\u001B[38;5;124m\"\u001B[39m\n\u001B[0;32m      4\u001B[0m gtzan_eval(model, name, chunking\u001B[38;5;241m=\u001B[39m\u001B[38;5;28;01mFalse\u001B[39;00m, chunk_size\u001B[38;5;241m=\u001B[39m\u001B[38;5;241m256\u001B[39m, averaging\u001B[38;5;241m=\u001B[39m\u001B[38;5;28;01mTrue\u001B[39;00m, k\u001B[38;5;241m=\u001B[39m\u001B[38;5;241m200\u001B[39m, already_generated\u001B[38;5;241m=\u001B[39m\u001B[38;5;28;01mFalse\u001B[39;00m, granularity\u001B[38;5;241m=\u001B[39m\u001B[38;5;241m10\u001B[39m)\n\u001B[1;32m----> 5\u001B[0m \u001B[43mmtat_eval\u001B[49m\u001B[43m(\u001B[49m\u001B[43mmodel\u001B[49m\u001B[43m,\u001B[49m\u001B[43m \u001B[49m\u001B[43mname\u001B[49m\u001B[43m,\u001B[49m\u001B[43m \u001B[49m\u001B[43mchunking\u001B[49m\u001B[38;5;241;43m=\u001B[39;49m\u001B[38;5;28;43;01mFalse\u001B[39;49;00m\u001B[43m,\u001B[49m\u001B[43m \u001B[49m\u001B[43mchunk_size\u001B[49m\u001B[38;5;241;43m=\u001B[39;49m\u001B[38;5;241;43m256\u001B[39;49m\u001B[43m,\u001B[49m\u001B[43m \u001B[49m\u001B[43maveraging\u001B[49m\u001B[38;5;241;43m=\u001B[39;49m\u001B[38;5;28;43;01mTrue\u001B[39;49;00m\u001B[43m,\u001B[49m\u001B[43m \u001B[49m\u001B[43mk\u001B[49m\u001B[38;5;241;43m=\u001B[39;49m\u001B[38;5;241;43m20\u001B[39;49m\u001B[43m,\u001B[49m\u001B[43m \u001B[49m\u001B[43malready_generated\u001B[49m\u001B[38;5;241;43m=\u001B[39;49m\u001B[38;5;28;43;01mFalse\u001B[39;49;00m\u001B[43m,\u001B[49m\u001B[43m \u001B[49m\u001B[43mgranularity\u001B[49m\u001B[38;5;241;43m=\u001B[39;49m\u001B[38;5;241;43m5\u001B[39;49m\u001B[43m)\u001B[49m\n",
      "Cell \u001B[1;32mIn[5], line 27\u001B[0m, in \u001B[0;36mmtat_eval\u001B[1;34m(model, name, chunking, chunk_size, averaging, k, already_generated, granularity)\u001B[0m\n\u001B[0;32m     23\u001B[0m latent_dataset \u001B[38;5;241m=\u001B[39m LatentDataset(directory \u001B[38;5;241m+\u001B[39m \u001B[38;5;124m\"\u001B[39m\u001B[38;5;124mfull-set\u001B[39m\u001B[38;5;130;01m\\\\\u001B[39;00m\u001B[38;5;124m\"\u001B[39m, num_classes\u001B[38;5;241m=\u001B[39mnum_classes)\n\u001B[0;32m     25\u001B[0m local_tag_coherence(latent_dataset, max_k\u001B[38;5;241m=\u001B[39mk, granularity\u001B[38;5;241m=\u001B[39mgranularity)\n\u001B[1;32m---> 27\u001B[0m params \u001B[38;5;241m=\u001B[39m \u001B[43mgrid_search\u001B[49m\u001B[43m(\u001B[49m\u001B[43mlatent_dataset\u001B[49m\u001B[43m,\u001B[49m\u001B[43m \u001B[49m\u001B[43mnum_classes\u001B[49m\u001B[43m,\u001B[49m\u001B[43m \u001B[49m\u001B[43mcriterion\u001B[49m\u001B[38;5;241;43m=\u001B[39;49m\u001B[43mBCEWithLogitsLoss\u001B[49m\u001B[43m(\u001B[49m\u001B[43m)\u001B[49m\u001B[43m)\u001B[49m\n\u001B[0;32m     28\u001B[0m model_type, learning_rate, weight_decay, dropout \u001B[38;5;241m=\u001B[39m params\n\u001B[0;32m     29\u001B[0m batch_size \u001B[38;5;241m=\u001B[39m \u001B[38;5;241m64\u001B[39m \u001B[38;5;28;01mif\u001B[39;00m chunking \u001B[38;5;28;01melse\u001B[39;00m \u001B[38;5;241m1\u001B[39m\n",
      "Cell \u001B[1;32mIn[3], line 109\u001B[0m, in \u001B[0;36mgrid_search\u001B[1;34m(latent_dataset, num_classes, dataset, criterion)\u001B[0m\n\u001B[0;32m    106\u001B[0m \u001B[38;5;28;01melse\u001B[39;00m:\n\u001B[0;32m    107\u001B[0m     model \u001B[38;5;241m=\u001B[39m LinearProbe(\u001B[38;5;241m128\u001B[39m, num_classes)\u001B[38;5;241m.\u001B[39mto(device)\n\u001B[1;32m--> 109\u001B[0m \u001B[43mtrain_model\u001B[49m\u001B[43m(\u001B[49m\u001B[43mmodel\u001B[49m\u001B[43m,\u001B[49m\u001B[43m \u001B[49m\u001B[43mtrain_latent_dataloader\u001B[49m\u001B[43m,\u001B[49m\u001B[43m \u001B[49m\u001B[43mtest_latent_dataloader\u001B[49m\u001B[43m,\u001B[49m\u001B[43m \u001B[49m\u001B[43mconfig\u001B[49m\u001B[43m,\u001B[49m\u001B[43m \u001B[49m\u001B[43mdevice\u001B[49m\u001B[38;5;241;43m=\u001B[39;49m\u001B[43mdevice\u001B[49m\u001B[43m,\u001B[49m\u001B[43m \u001B[49m\u001B[43muse_tqdm\u001B[49m\u001B[38;5;241;43m=\u001B[39;49m\u001B[38;5;28;43;01mFalse\u001B[39;49;00m\u001B[43m,\u001B[49m\u001B[43m \u001B[49m\u001B[43mcriterion\u001B[49m\u001B[38;5;241;43m=\u001B[39;49m\u001B[43mcriterion\u001B[49m\u001B[43m)\u001B[49m\n\u001B[0;32m    110\u001B[0m f1, accuracy \u001B[38;5;241m=\u001B[39m evaluate_model(model, test_latent_dataloader, device, use_tqdm\u001B[38;5;241m=\u001B[39m\u001B[38;5;28;01mFalse\u001B[39;00m)\n\u001B[0;32m    112\u001B[0m \u001B[38;5;28;01mif\u001B[39;00m accuracy \u001B[38;5;241m>\u001B[39m best_accuracy:\n",
      "Cell \u001B[1;32mIn[2], line 46\u001B[0m, in \u001B[0;36mtrain_model\u001B[1;34m(model, train_dataloader, test_dataloader, config, device, use_tqdm, criterion)\u001B[0m\n\u001B[0;32m     43\u001B[0m total_loss \u001B[38;5;241m=\u001B[39m \u001B[38;5;241m0\u001B[39m\n\u001B[0;32m     44\u001B[0m \u001B[38;5;28;01mfor\u001B[39;00m labels, data \u001B[38;5;129;01min\u001B[39;00m train_dataloader:\n\u001B[0;32m     45\u001B[0m     \u001B[38;5;66;03m# if dataset returns one-hot, convert back to integer for CrossEntropy\u001B[39;00m\n\u001B[1;32m---> 46\u001B[0m     \u001B[38;5;28;01mif\u001B[39;00m \u001B[43mlabels\u001B[49m\u001B[38;5;241;43m.\u001B[39;49m\u001B[43mndim\u001B[49m \u001B[38;5;241m>\u001B[39m \u001B[38;5;241m1\u001B[39m:\n\u001B[0;32m     47\u001B[0m         labels \u001B[38;5;241m=\u001B[39m labels\u001B[38;5;241m.\u001B[39margmax(dim\u001B[38;5;241m=\u001B[39m\u001B[38;5;241m1\u001B[39m)\n\u001B[0;32m     49\u001B[0m     data \u001B[38;5;241m=\u001B[39m data\u001B[38;5;241m.\u001B[39mto(device)\n",
      "\u001B[1;31mAttributeError\u001B[0m: 'list' object has no attribute 'ndim'"
     ]
    }
   ],
   "source": [
    "model = torch.load(\"E:\\\\Coding\\\\SongAnalyzer\\\\Analyzer\\\\src\\\\final-models\\\\Myna-1D-ALIBI-256L-0.9M\\\\1d_alibi_Epoch-511.pt\", weights_only=False)\n",
    "\n",
    "model.mask_ratio = 0\n",
    "model = add_fields(model, use_y_emb=True, use_alibi_x=True)\n",
    "\n",
    "name = \"1D-ALIBI-No-Chunking\"\n",
    "gtzan_eval(model, name, chunking=False, chunk_size=256, averaging=True, k=200, already_generated=False, granularity=10)\n",
    "mtat_eval(model, name, chunking=False, chunk_size=256, averaging=True, k=20, already_generated=False, granularity=5)"
   ]
  },
  {
   "cell_type": "code",
   "execution_count": null,
   "id": "7d54de4e3621d1d2",
   "metadata": {},
   "outputs": [],
   "source": [
    "model = torch.load(\"E:\\\\Coding\\\\SongAnalyzer\\\\Analyzer\\\\src\\\\final-models\\\\Myna-2D-ALIBI-ALIBI-256L-0.9M\\\\2d_alibi_Epoch-511.pt\", weights_only=False)\n",
    "model.mask_ratio = 0\n",
    "name = \"2D-ALIBI-Chunking-256\"\n",
    "gtzan_eval(model, name, chunking=True, chunk_size=256, averaging=True, k=100, already_generated=False, granularity=5)\n",
    "mtat_eval(model, name, chunking=True, chunk_size=256, averaging=True, k=30, already_generated=False, granularity=10)"
   ]
  }
 ],
 "metadata": {
  "kernelspec": {
   "display_name": "Python 3 (Spyder)",
   "language": "python3",
   "name": "python3"
  },
  "language_info": {
   "codemirror_mode": {
    "name": "ipython",
    "version": 3
   },
   "file_extension": ".py",
   "mimetype": "text/x-python",
   "name": "python",
   "nbconvert_exporter": "python",
   "pygments_lexer": "ipython3",
   "version": "3.12.6"
  }
 },
 "nbformat": 4,
 "nbformat_minor": 5
}
