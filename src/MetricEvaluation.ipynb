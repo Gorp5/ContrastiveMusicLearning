{
 "cells": [
  {
   "metadata": {
    "ExecuteTime": {
     "end_time": "2025-10-21T01:45:49.432620Z",
     "start_time": "2025-10-21T01:45:42.688905Z"
    }
   },
   "cell_type": "code",
   "source": [
    "import torch\n",
    "\n",
    "from training.inference import get_latents\n",
    "from datasets import tqdm\n",
    "\n",
    "def generate_evaluation_dataset(model, dataloader, name, chunking=True, chunk_size=256):\n",
    "    model.mask_ratio = 0.0\n",
    "    model.to(\"cuda\")\n",
    "    latents, labels = get_latents(dataloader, model, chunking=chunking, chunk_size=chunk_size)\n",
    "    print(\"Saving...\")\n",
    "    for index, latent, label in tqdm(enumerate(zip(latents, labels))):\n",
    "        directory = f\"D:\\\\SongsDataset\\\\GTZAN\\\\latent_datasets\\\\{name}\\\\\"\n",
    "        label_name = directory + f\"{index}_label.pt\"\n",
    "        latent_name = directory + f\"{index}_data.pt\"\n",
    "        torch.save(latents, latent_name)\n",
    "        torch.save(label, label_name)"
   ],
   "id": "26862cea14b0f113",
   "outputs": [],
   "execution_count": 1
  },
  {
   "metadata": {
    "ExecuteTime": {
     "end_time": "2025-10-21T01:47:01.970195Z",
     "start_time": "2025-10-21T01:45:49.437620Z"
    }
   },
   "cell_type": "code",
   "source": [
    "from data.data_utils import GTZAN\n",
    "from torch.utils.data import DataLoader\n",
    "\n",
    "directory = \"D:\\\\SongsDataset\\\\GTZAN\\\\genres_original\\\\\"\n",
    "GTZAN_dataset = GTZAN(directory)\n",
    "GTZAN_dataloader = DataLoader(\n",
    "    GTZAN_dataset,\n",
    "    batch_size=1,\n",
    "    shuffle=True,\n",
    "    num_workers=2,\n",
    "    prefetch_factor=1\n",
    ")"
   ],
   "id": "5fe6cc6865b7454c",
   "outputs": [
    {
     "data": {
      "text/plain": [
       "  0%|          | 0/1000 [00:00<?, ?it/s]"
      ],
      "application/vnd.jupyter.widget-view+json": {
       "version_major": 2,
       "version_minor": 0,
       "model_id": "afafd44406a748e8a07d95ef60e78e31"
      }
     },
     "metadata": {},
     "output_type": "display_data"
    }
   ],
   "execution_count": 2
  },
  {
   "metadata": {
    "ExecuteTime": {
     "end_time": "2025-10-21T01:47:17.410399Z",
     "start_time": "2025-10-21T01:47:02.248198Z"
    }
   },
   "cell_type": "code",
   "source": [
    "model = torch.load(\"E:\\\\Coding\\\\SongAnalyzer\\\\Analyzer\\\\src\\\\trained_models\\\\Myna-CLS-Sinusoidal\\\\Epoch-79.pt\", weights_only=False)\n",
    "generate_evaluation_dataset(model, GTZAN_dataloader, \"Sinusoidal-Chunking-256\", chunking=True, chunk_size=256)"
   ],
   "id": "78096b22d19bab28",
   "outputs": [
    {
     "name": "stderr",
     "output_type": "stream",
     "text": [
      "  0%|          | 0/999 [00:13<?, ?it/s]\n"
     ]
    },
    {
     "ename": "TypeError",
     "evalue": "expected np.ndarray (got Tensor)",
     "output_type": "error",
     "traceback": [
      "\u001B[1;31m---------------------------------------------------------------------------\u001B[0m",
      "\u001B[1;31mTypeError\u001B[0m                                 Traceback (most recent call last)",
      "Cell \u001B[1;32mIn[3], line 2\u001B[0m\n\u001B[0;32m      1\u001B[0m model \u001B[38;5;241m=\u001B[39m torch\u001B[38;5;241m.\u001B[39mload(\u001B[38;5;124m\"\u001B[39m\u001B[38;5;124mE:\u001B[39m\u001B[38;5;130;01m\\\\\u001B[39;00m\u001B[38;5;124mCoding\u001B[39m\u001B[38;5;130;01m\\\\\u001B[39;00m\u001B[38;5;124mSongAnalyzer\u001B[39m\u001B[38;5;130;01m\\\\\u001B[39;00m\u001B[38;5;124mAnalyzer\u001B[39m\u001B[38;5;130;01m\\\\\u001B[39;00m\u001B[38;5;124msrc\u001B[39m\u001B[38;5;130;01m\\\\\u001B[39;00m\u001B[38;5;124mtrained_models\u001B[39m\u001B[38;5;130;01m\\\\\u001B[39;00m\u001B[38;5;124mMyna-CLS-Sinusoidal\u001B[39m\u001B[38;5;130;01m\\\\\u001B[39;00m\u001B[38;5;124mEpoch-79.pt\u001B[39m\u001B[38;5;124m\"\u001B[39m, weights_only\u001B[38;5;241m=\u001B[39m\u001B[38;5;28;01mFalse\u001B[39;00m)\n\u001B[1;32m----> 2\u001B[0m \u001B[43mgenerate_evaluation_dataset\u001B[49m\u001B[43m(\u001B[49m\u001B[43mmodel\u001B[49m\u001B[43m,\u001B[49m\u001B[43m \u001B[49m\u001B[43mGTZAN_dataloader\u001B[49m\u001B[43m,\u001B[49m\u001B[43m \u001B[49m\u001B[38;5;124;43m\"\u001B[39;49m\u001B[38;5;124;43mSinusoidal-Chunking-256\u001B[39;49m\u001B[38;5;124;43m\"\u001B[39;49m\u001B[43m,\u001B[49m\u001B[43m \u001B[49m\u001B[43mchunking\u001B[49m\u001B[38;5;241;43m=\u001B[39;49m\u001B[38;5;28;43;01mTrue\u001B[39;49;00m\u001B[43m,\u001B[49m\u001B[43m \u001B[49m\u001B[43mchunk_size\u001B[49m\u001B[38;5;241;43m=\u001B[39;49m\u001B[38;5;241;43m256\u001B[39;49m\u001B[43m)\u001B[49m\n",
      "Cell \u001B[1;32mIn[1], line 9\u001B[0m, in \u001B[0;36mgenerate_evaluation_dataset\u001B[1;34m(model, dataloader, name, chunking, chunk_size)\u001B[0m\n\u001B[0;32m      7\u001B[0m model\u001B[38;5;241m.\u001B[39mmask_ratio \u001B[38;5;241m=\u001B[39m \u001B[38;5;241m0.0\u001B[39m\n\u001B[0;32m      8\u001B[0m model\u001B[38;5;241m.\u001B[39mto(\u001B[38;5;124m\"\u001B[39m\u001B[38;5;124mcuda\u001B[39m\u001B[38;5;124m\"\u001B[39m)\n\u001B[1;32m----> 9\u001B[0m latents, labels \u001B[38;5;241m=\u001B[39m \u001B[43mget_latents\u001B[49m\u001B[43m(\u001B[49m\u001B[43mdataloader\u001B[49m\u001B[43m,\u001B[49m\u001B[43m \u001B[49m\u001B[43mmodel\u001B[49m\u001B[43m,\u001B[49m\u001B[43m \u001B[49m\u001B[43mchunking\u001B[49m\u001B[38;5;241;43m=\u001B[39;49m\u001B[43mchunking\u001B[49m\u001B[43m,\u001B[49m\u001B[43m \u001B[49m\u001B[43mchunk_size\u001B[49m\u001B[38;5;241;43m=\u001B[39;49m\u001B[43mchunk_size\u001B[49m\u001B[43m)\u001B[49m\n\u001B[0;32m     10\u001B[0m \u001B[38;5;28mprint\u001B[39m(\u001B[38;5;124m\"\u001B[39m\u001B[38;5;124mSaving...\u001B[39m\u001B[38;5;124m\"\u001B[39m)\n\u001B[0;32m     11\u001B[0m \u001B[38;5;28;01mfor\u001B[39;00m index, latent, label \u001B[38;5;129;01min\u001B[39;00m tqdm(\u001B[38;5;28menumerate\u001B[39m(\u001B[38;5;28mzip\u001B[39m(latents, labels))):\n",
      "File \u001B[1;32mE:\\Coding\\SongAnalyzer\\Analyzer\\src\\training\\inference.py:27\u001B[0m, in \u001B[0;36mget_latents\u001B[1;34m(dataloader, model, chunking, chunk_size)\u001B[0m\n\u001B[0;32m     25\u001B[0m \u001B[38;5;28;01mfor\u001B[39;00m label, data \u001B[38;5;129;01min\u001B[39;00m tqdm(dataloader):\n\u001B[0;32m     26\u001B[0m     \u001B[38;5;28;01mif\u001B[39;00m chunking:\n\u001B[1;32m---> 27\u001B[0m         chunked_data, num_chunks \u001B[38;5;241m=\u001B[39m \u001B[43mchunk_data\u001B[49m\u001B[43m(\u001B[49m\u001B[43mdata\u001B[49m\u001B[43m,\u001B[49m\u001B[43m \u001B[49m\u001B[43mchunk_size\u001B[49m\u001B[38;5;241;43m=\u001B[39;49m\u001B[43mchunk_size\u001B[49m\u001B[43m)\u001B[49m\n\u001B[0;32m     28\u001B[0m         data \u001B[38;5;241m=\u001B[39m torch\u001B[38;5;241m.\u001B[39mstack(chunked_data)\n\u001B[0;32m     29\u001B[0m     \u001B[38;5;28;01melse\u001B[39;00m:\n",
      "File \u001B[1;32mE:\\Coding\\SongAnalyzer\\Analyzer\\src\\data\\processing.py:288\u001B[0m, in \u001B[0;36mchunk_data\u001B[1;34m(data, chunk_size)\u001B[0m\n\u001B[0;32m    287\u001B[0m \u001B[38;5;28;01mdef\u001B[39;00m\u001B[38;5;250m \u001B[39m\u001B[38;5;21mchunk_data\u001B[39m(data, chunk_size\u001B[38;5;241m=\u001B[39m\u001B[38;5;241m256\u001B[39m):\n\u001B[1;32m--> 288\u001B[0m     data \u001B[38;5;241m=\u001B[39m \u001B[43mtorch\u001B[49m\u001B[38;5;241;43m.\u001B[39;49m\u001B[43mfrom_numpy\u001B[49m\u001B[43m(\u001B[49m\u001B[43mdata\u001B[49m\u001B[43m)\u001B[49m\n\u001B[0;32m    290\u001B[0m     F, T \u001B[38;5;241m=\u001B[39m data\u001B[38;5;241m.\u001B[39mshape\n\u001B[0;32m    291\u001B[0m     T_trunc \u001B[38;5;241m=\u001B[39m T \u001B[38;5;241m-\u001B[39m (T \u001B[38;5;241m%\u001B[39m chunk_size)\n",
      "\u001B[1;31mTypeError\u001B[0m: expected np.ndarray (got Tensor)"
     ]
    }
   ],
   "execution_count": 3
  },
  {
   "metadata": {},
   "cell_type": "code",
   "outputs": [],
   "execution_count": null,
   "source": [
    "model = torch.load(\"E:\\\\Coding\\\\SongAnalyzer\\\\Analyzer\\\\src\\\\trained_models\\\\Myna-CLS-ALIBI\\\\Epoch-103.pt\", weights_only=False)\n",
    "generate_evaluation_dataset(model, GTZAN_dataloader, \"ALIBI-Chunking-256\", chunking=True, chunk_size=256)"
   ],
   "id": "b03abf156baf1432"
  },
  {
   "metadata": {},
   "cell_type": "code",
   "outputs": [],
   "execution_count": null,
   "source": "generate_evaluation_dataset(model, GTZAN_dataloader, \"ALIBI-Chunking-512\", chunking=True, chunk_size=512)",
   "id": "2d7c45006464f818"
  },
  {
   "metadata": {},
   "cell_type": "code",
   "outputs": [],
   "execution_count": null,
   "source": "generate_evaluation_dataset(model, GTZAN_dataloader, \"ALIBI-Chunking-1024\", chunking=True, chunk_size=1024)",
   "id": "a532740122b261b3"
  },
  {
   "metadata": {},
   "cell_type": "code",
   "outputs": [],
   "execution_count": null,
   "source": [
    "generate_evaluation_dataset(model, GTZAN_dataloader, \"ALIBI-Chunking-2048\", chunking=True, chunk_size=2048)\n",
    "generate_evaluation_dataset(model, GTZAN_dataloader, \"ALIBI-Chunking-No-Chunking\", chunking=False, chunk_size=131072)"
   ],
   "id": "f74f278dbbc18557"
  },
  {
   "metadata": {
    "collapsed": true
   },
   "cell_type": "code",
   "outputs": [],
   "execution_count": null,
   "source": "def linear_probing(dataloader):\n",
   "id": "initial_id"
  }
 ],
 "metadata": {
  "kernelspec": {
   "display_name": "Python 3",
   "language": "python",
   "name": "python3"
  },
  "language_info": {
   "codemirror_mode": {
    "name": "ipython",
    "version": 2
   },
   "file_extension": ".py",
   "mimetype": "text/x-python",
   "name": "python",
   "nbconvert_exporter": "python",
   "pygments_lexer": "ipython2",
   "version": "2.7.6"
  }
 },
 "nbformat": 4,
 "nbformat_minor": 5
}
