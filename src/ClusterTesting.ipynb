{
 "cells": [
  {
   "metadata": {
    "ExecuteTime": {
     "end_time": "2025-10-21T00:34:06.521838Z",
     "start_time": "2025-10-21T00:34:06.516743Z"
    }
   },
   "cell_type": "code",
   "source": [
    "import subprocess\n",
    "\n",
    "def cluster_elki(name, num_clusters):\n",
    "    # Define parameters\n",
    "    elki_jar = \"elki-bundle-0.8.0.jar\"\n",
    "    data_file = f\"output_analysis/output-{name}.csv\"\n",
    "\n",
    "    # Construct the ELKI command\n",
    "    cmd = [\n",
    "        \"java\", \"-jar\", elki_jar,\n",
    "        \"KDDCLIApplication\",\n",
    "        \"-dbc.in\", data_file,\n",
    "        \"-algorithm\", \"clustering.hierarchical.extraction.CutDendrogramByNumberOfClusters\",\n",
    "        \"-algorithm\", \"Anderberg\",\n",
    "        \"-algorithm.distancefunction\", \"CosineDistance\",\n",
    "        \"-hierarchical.minclusters\", str(num_clusters),\n",
    "        \"-resulthandler\", \"ResultWriter\",\n",
    "        \"-out.gzip\", \"false\",\n",
    "        \"-out\", f\"output_analysis/elki-TEST-{name}-{num_clusters}\",\n",
    "    ]\n",
    "\n",
    "    # Execute the command\n",
    "    try:\n",
    "        result = subprocess.run(cmd, capture_output=True, text=True, check=True)\n",
    "    except subprocess.CalledProcessError as e:\n",
    "        print(\"An error occurred:\\n\", e.stderr)"
   ],
   "id": "6ab21de71dbc50c2",
   "outputs": [],
   "execution_count": 1
  },
  {
   "metadata": {
    "ExecuteTime": {
     "end_time": "2025-10-21T00:34:12.030721Z",
     "start_time": "2025-10-21T00:34:06.765951Z"
    }
   },
   "cell_type": "code",
   "source": [
    "import os\n",
    "import torch\n",
    "from tqdm import tqdm\n",
    "from concurrent.futures import ThreadPoolExecutor, as_completed\n",
    "from training.inference import load_and_parse_audio\n",
    "\n",
    "def process_song(song_path, chunking=True, chunk_size=256):\n",
    "    \"\"\"Preprocess one song (CPU only).\"\"\"\n",
    "    chunks = load_and_parse_audio(song_path, convert=True, chunking=chunking, chunk_size=chunk_size)\n",
    "    return song_path, chunks\n",
    "\n",
    "def compute(model, name, batch_size=16, num_workers=4, chunking=True, chunk_size=256, start_partition=1):\n",
    "    path = \"E:\\\\SongsDataset\\\\songs\\\\\"\n",
    "    all_songs = os.listdir(path)\n",
    "    if start_partition == 1:\n",
    "        sign = 'w'\n",
    "    else:\n",
    "        sign = 'a'\n",
    "\n",
    "    with open(name, sign, encoding=\"utf-8\") as f, torch.no_grad(), ThreadPoolExecutor(max_workers=num_workers) as executor:\n",
    "        # submit all preprocessing jobs\n",
    "        partitions = 8\n",
    "        num_songs = len(all_songs) // partitions\n",
    "        for index in range(start_partition, partitions):\n",
    "            futures = [executor.submit(process_song, os.path.join(path, song), chunking, chunk_size) for song in all_songs[(index - 1) * num_songs:index * num_songs]]\n",
    "\n",
    "            # process results in batches of X\n",
    "            for future in tqdm(as_completed(futures), total=len(futures)):\n",
    "                song_path, chunks = future.result()\n",
    "                run_batch(model, chunks, f, song_path)\n",
    "\n",
    "def run_batch(model, chunks, file_handle, song_path):\n",
    "    chunks = chunks.to(\"cuda\")\n",
    "\n",
    "    chunks = chunks.unsqueeze(1)\n",
    "    latents = model(chunks)\n",
    "\n",
    "    averages = latents.mean(dim=0).cpu().numpy()\n",
    "    torch.cuda.empty_cache()\n",
    "    line = \" \".join([str(x) for x in averages]) + f\" \\\"{os.path.basename(song_path)}\\\"\\n\"\n",
    "    file_handle.write(line)"
   ],
   "id": "5171d48bce862e2",
   "outputs": [],
   "execution_count": 2
  },
  {
   "metadata": {
    "ExecuteTime": {
     "end_time": "2025-10-21T00:34:18.493242Z",
     "start_time": "2025-10-21T00:34:16.834586Z"
    }
   },
   "cell_type": "code",
   "source": [
    "model = torch.load(\"E:\\\\Coding\\\\SongAnalyzer\\\\Analyzer\\\\src\\\\trained_models\\\\Myna-CLS-ALIBI\\\\Epoch-103.pt\", weights_only=False)\n",
    "model.mask_ratio = 0.0"
   ],
   "id": "1396a8efcf2e13d",
   "outputs": [],
   "execution_count": 3
  },
  {
   "metadata": {
    "ExecuteTime": {
     "end_time": "2025-10-20T22:30:40.402467Z",
     "start_time": "2025-10-20T22:04:12.673094Z"
    }
   },
   "cell_type": "code",
   "source": "compute(model, \"E:/Coding/SongAnalyzer/Analyzer/src/output_analysis/output-Myna-CLS-ALIBI-Chunking-256.csv\", chunking=True, chunk_size=256)",
   "id": "84fb49cf0914a7cc",
   "outputs": [
    {
     "name": "stderr",
     "output_type": "stream",
     "text": [
      "100%|██████████| 496/496 [05:19<00:00,  1.55it/s]\n",
      "100%|██████████| 496/496 [03:29<00:00,  2.37it/s]\n",
      "100%|██████████| 496/496 [02:24<00:00,  3.42it/s]\n",
      "100%|██████████| 496/496 [02:28<00:00,  3.34it/s]\n",
      "100%|██████████| 496/496 [02:39<00:00,  3.12it/s]\n",
      "100%|██████████| 496/496 [02:41<00:00,  3.07it/s]\n",
      "100%|██████████| 496/496 [02:50<00:00,  2.91it/s]\n",
      "100%|██████████| 496/496 [02:54<00:00,  2.84it/s]\n",
      " 29%|██▉       | 144/496 [01:11<02:55,  2.01it/s]\n"
     ]
    }
   ],
   "execution_count": null
  },
  {
   "metadata": {
    "ExecuteTime": {
     "end_time": "2025-10-20T22:32:27.950336Z",
     "start_time": "2025-10-20T22:32:21.094042Z"
    }
   },
   "cell_type": "code",
   "source": [
    "cluster_elki(\"Myna-CLS-ALIBI-Chunking-256\", 64)\n",
    "cluster_elki(\"Myna-CLS-ALIBI-Chunking-256\", 256)"
   ],
   "id": "527e464e9912cfed",
   "outputs": [],
   "execution_count": 4
  },
  {
   "metadata": {
    "ExecuteTime": {
     "end_time": "2025-10-20T23:15:54.593880Z",
     "start_time": "2025-10-20T22:46:57.924024Z"
    }
   },
   "cell_type": "code",
   "source": [
    "compute(model, \"E:/Coding/SongAnalyzer/Analyzer/src/output_analysis/output-Myna-CLS-ALIBI-Chunking-512.csv\", chunking=True, chunk_size=512, batch_size=4, num_workers=3)\n",
    "cluster_elki(\"Myna-CLS-ALIBI-Chunking-512\", 64)\n",
    "cluster_elki(\"Myna-CLS-ALIBI-Chunking-512\", 256)"
   ],
   "id": "6df1955076416456",
   "outputs": [
    {
     "name": "stderr",
     "output_type": "stream",
     "text": [
      "100%|██████████| 496/496 [03:41<00:00,  2.24it/s]\n",
      "100%|██████████| 496/496 [04:30<00:00,  1.83it/s]\n",
      "100%|██████████| 496/496 [04:44<00:00,  1.74it/s]\n",
      "100%|██████████| 496/496 [04:19<00:00,  1.91it/s]\n",
      "100%|██████████| 496/496 [03:56<00:00,  2.10it/s]\n",
      "100%|██████████| 496/496 [04:02<00:00,  2.05it/s]\n",
      "100%|██████████| 496/496 [03:33<00:00,  2.32it/s]\n"
     ]
    }
   ],
   "execution_count": 4
  },
  {
   "metadata": {
    "ExecuteTime": {
     "end_time": "2025-10-21T00:24:38.167156400Z",
     "start_time": "2025-10-21T00:22:49.750187Z"
    }
   },
   "cell_type": "code",
   "source": [
    "compute(model, \"E:/Coding/SongAnalyzer/Analyzer/src/output_analysis/output-Myna-CLS-ALIBI-Chunking-2048.csv\", chunking=True, chunk_size=2048, batch_size=1, num_workers=1, start_partition=3)\n",
    "cluster_elki(\"Myna-CLS-ALIBI-Chunking-2048\", 64)\n",
    "cluster_elki(\"Myna-CLS-ALIBI-Chunking-2048\", 256)"
   ],
   "id": "ded1e64a9dcf4dba",
   "outputs": [
    {
     "name": "stderr",
     "output_type": "stream",
     "text": [
      "  1%|          | 4/496 [00:07<17:19,  2.11s/it]"
     ]
    }
   ],
   "execution_count": null
  },
  {
   "metadata": {
    "ExecuteTime": {
     "end_time": "2025-10-21T00:42:13.724669400Z",
     "start_time": "2025-10-21T00:34:24.624998Z"
    }
   },
   "cell_type": "code",
   "source": [
    "compute(model, \"E:/Coding/SongAnalyzer/Analyzer/src/output_analysis/output-Myna-CLS-ALIBI-No-Chunking.csv\", chunking=False, chunk_size=131072, batch_size=1, num_workers=1)\n",
    "cluster_elki(\"Myna-CLS-ALIBI-Chunking-No-Chunking\", 64)\n",
    "cluster_elki(\"Myna-CLS-ALIBI-Chunking-No-Chunking\", 256)"
   ],
   "id": "d5acacb08efc21e5",
   "outputs": [
    {
     "name": "stderr",
     "output_type": "stream",
     "text": [
      "  0%|          | 0/496 [00:11<?, ?it/s]\n"
     ]
    }
   ],
   "execution_count": null
  }
 ],
 "metadata": {
  "kernelspec": {
   "name": "python3",
   "language": "python",
   "display_name": "Python 3 (ipykernel)"
  }
 },
 "nbformat": 5,
 "nbformat_minor": 9
}
