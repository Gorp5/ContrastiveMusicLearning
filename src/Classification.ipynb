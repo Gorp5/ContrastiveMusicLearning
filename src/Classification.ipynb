{
 "cells": [
  {
   "metadata": {
    "ExecuteTime": {
     "end_time": "2025-07-23T19:12:33.384492Z",
     "start_time": "2025-07-23T19:12:19.720503Z"
    }
   },
   "cell_type": "code",
   "source": [
    "from torch import nn\n",
    "from torch.utils.data import random_split, DataLoader\n",
    "import torch\n",
    "import torch.optim as optim\n",
    "from datasets import tqdm\n",
    "import numpy as np\n",
    "from sklearn.metrics import precision_score, recall_score, f1_score, classification_report\n",
    "from torchvision.models import resnet101\n",
    "\n",
    "from data.procesing import StreamingSongDataset"
   ],
   "id": "3e956a6332012f5d",
   "outputs": [],
   "execution_count": 10
  },
  {
   "metadata": {
    "ExecuteTime": {
     "end_time": "2025-07-23T17:28:43.945375500Z",
     "start_time": "2025-07-23T16:44:54.362470Z"
    }
   },
   "cell_type": "code",
   "source": [
    "from data.procesing import ParseData\n",
    "\n",
    "ParseData(\"raw_30s_cleantags_125artists\", \"E:/SongsDataset/raw_30s_melspecs/\", \"E:/SongsDataset/balanced-melspec-dataset/\", features=96, chunks_per_batch=4096, chunk_size=256, per_label=325)"
   ],
   "id": "e8521052fdfd9f88",
   "outputs": [
    {
     "name": "stdout",
     "output_type": "stream",
     "text": [
      "Reading: 55215 tracks, 11217 albums, 3552 artists\n",
      "There are 50 genres in this partition.\n",
      "There are 15 moods/themes in this partition.\n",
      "There are 20 instruments in this partition.\n"
     ]
    },
    {
     "name": "stderr",
     "output_type": "stream",
     "text": [
      "  0%|          | 229/55215 [00:39<1:26:54, 10.55it/s] E:\\Coding\\SongAnalyzer\\Analyzer\\src\\data\\procesing.py:111: UserWarning: To copy construct from a tensor, it is recommended to use sourceTensor.clone().detach() or sourceTensor.clone().detach().requires_grad_(True), rather than torch.tensor(sourceTensor).\n",
      "  data = torch.tensor(data)\n",
      "100%|██████████| 55215/55215 [25:20<00:00, 36.30it/s]  \n"
     ]
    }
   ],
   "execution_count": 3
  },
  {
   "metadata": {
    "ExecuteTime": {
     "end_time": "2025-07-23T19:13:18.458290Z",
     "start_time": "2025-07-23T19:13:18.351292Z"
    }
   },
   "cell_type": "code",
   "source": [
    "from data.procesing import ReadStats\n",
    "\n",
    "genre_count, genre_mapping = ReadStats(\"raw_30s_cleantags_125artists\")"
   ],
   "id": "cfc1dcc42c38c388",
   "outputs": [],
   "execution_count": 16
  },
  {
   "metadata": {
    "ExecuteTime": {
     "end_time": "2025-07-23T19:24:28.141084Z",
     "start_time": "2025-07-23T19:24:28.128083Z"
    }
   },
   "cell_type": "code",
   "source": "min(list(genre_count.values()))",
   "id": "25307789a8caa05f",
   "outputs": [
    {
     "data": {
      "text/plain": [
       "325"
      ]
     },
     "execution_count": 25,
     "metadata": {},
     "output_type": "execute_result"
    }
   ],
   "execution_count": 25
  },
  {
   "metadata": {
    "ExecuteTime": {
     "end_time": "2025-07-23T19:13:18.505291Z",
     "start_time": "2025-07-23T19:13:18.489294Z"
    }
   },
   "cell_type": "code",
   "source": [
    "all_songs_len = 325\n",
    "ratios = [50 / 10] * 50 # TODO: Make actual calculated ratio"
   ],
   "id": "2f51ef038a7b7bf4",
   "outputs": [],
   "execution_count": 17
  },
  {
   "metadata": {
    "ExecuteTime": {
     "end_time": "2025-07-23T19:09:54.229734Z",
     "start_time": "2025-07-23T19:09:54.201734Z"
    }
   },
   "cell_type": "code",
   "source": [
    "import os\n",
    "import random\n",
    "from data.procesing import StreamingSongDataset\n",
    "from  torch.utils.data.dataset import random_split\n",
    "\n",
    "directory = \"balanced-melspec-dataset\"\n",
    "length = len(os.listdir(f\"E:\\\\SongsDataset\\\\{directory}\\\\data\"))\n",
    "\n",
    "# Specify the train/test split ratio\n",
    "train_ratio = 0.8\n",
    "train_size = int(train_ratio * length)\n",
    "test_size = length - train_size\n",
    "\n",
    "random.seed(42)\n",
    "\n",
    "full_dataset = StreamingSongDataset(f\"E:\\\\SongsDataset\\\\{directory}\\\\data\", f\"E:\\\\SongsDataset\\\\{directory}\\\\genre_labels\")\n",
    "train_dataset, test_dataset = random_split(full_dataset, [train_size, test_size])"
   ],
   "id": "75756b61e885e041",
   "outputs": [
    {
     "ename": "ValueError",
     "evalue": "Sum of input lengths does not equal the length of the input dataset!",
     "output_type": "error",
     "traceback": [
      "\u001B[1;31m---------------------------------------------------------------------------\u001B[0m",
      "\u001B[1;31mValueError\u001B[0m                                Traceback (most recent call last)",
      "Cell \u001B[1;32mIn[4], line 17\u001B[0m\n\u001B[0;32m     14\u001B[0m random\u001B[38;5;241m.\u001B[39mseed(\u001B[38;5;241m42\u001B[39m)\n\u001B[0;32m     16\u001B[0m full_dataset \u001B[38;5;241m=\u001B[39m StreamingSongDataset(\u001B[38;5;124mf\u001B[39m\u001B[38;5;124m\"\u001B[39m\u001B[38;5;124mE:\u001B[39m\u001B[38;5;130;01m\\\\\u001B[39;00m\u001B[38;5;124mSongsDataset\u001B[39m\u001B[38;5;130;01m\\\\\u001B[39;00m\u001B[38;5;132;01m{\u001B[39;00mdirectory\u001B[38;5;132;01m}\u001B[39;00m\u001B[38;5;130;01m\\\\\u001B[39;00m\u001B[38;5;124mdata\u001B[39m\u001B[38;5;124m\"\u001B[39m, \u001B[38;5;124mf\u001B[39m\u001B[38;5;124m\"\u001B[39m\u001B[38;5;124mE:\u001B[39m\u001B[38;5;130;01m\\\\\u001B[39;00m\u001B[38;5;124mSongsDataset\u001B[39m\u001B[38;5;130;01m\\\\\u001B[39;00m\u001B[38;5;132;01m{\u001B[39;00mdirectory\u001B[38;5;132;01m}\u001B[39;00m\u001B[38;5;130;01m\\\\\u001B[39;00m\u001B[38;5;124mgenre_labels\u001B[39m\u001B[38;5;124m\"\u001B[39m, [\u001B[38;5;241m1\u001B[39m])\n\u001B[1;32m---> 17\u001B[0m train_dataset, test_dataset \u001B[38;5;241m=\u001B[39m \u001B[43mrandom_split\u001B[49m\u001B[43m(\u001B[49m\u001B[43mfull_dataset\u001B[49m\u001B[43m,\u001B[49m\u001B[43m \u001B[49m\u001B[43m[\u001B[49m\u001B[43mtrain_size\u001B[49m\u001B[43m,\u001B[49m\u001B[43m \u001B[49m\u001B[43mtest_size\u001B[49m\u001B[43m]\u001B[49m\u001B[43m)\u001B[49m\n",
      "File \u001B[1;32mE:\\Coding\\SongAnalyzer\\.venv\\lib\\site-packages\\torch\\utils\\data\\dataset.py:480\u001B[0m, in \u001B[0;36mrandom_split\u001B[1;34m(dataset, lengths, generator)\u001B[0m\n\u001B[0;32m    478\u001B[0m \u001B[38;5;66;03m# Cannot verify that dataset is Sized\u001B[39;00m\n\u001B[0;32m    479\u001B[0m \u001B[38;5;28;01mif\u001B[39;00m \u001B[38;5;28msum\u001B[39m(lengths) \u001B[38;5;241m!=\u001B[39m \u001B[38;5;28mlen\u001B[39m(dataset):  \u001B[38;5;66;03m# type: ignore[arg-type]\u001B[39;00m\n\u001B[1;32m--> 480\u001B[0m     \u001B[38;5;28;01mraise\u001B[39;00m \u001B[38;5;167;01mValueError\u001B[39;00m(\n\u001B[0;32m    481\u001B[0m         \u001B[38;5;124m\"\u001B[39m\u001B[38;5;124mSum of input lengths does not equal the length of the input dataset!\u001B[39m\u001B[38;5;124m\"\u001B[39m\n\u001B[0;32m    482\u001B[0m     )\n\u001B[0;32m    484\u001B[0m indices \u001B[38;5;241m=\u001B[39m randperm(\u001B[38;5;28msum\u001B[39m(lengths), generator\u001B[38;5;241m=\u001B[39mgenerator)\u001B[38;5;241m.\u001B[39mtolist()  \u001B[38;5;66;03m# type: ignore[arg-type, call-overload]\u001B[39;00m\n\u001B[0;32m    485\u001B[0m lengths \u001B[38;5;241m=\u001B[39m cast(Sequence[\u001B[38;5;28mint\u001B[39m], lengths)\n",
      "\u001B[1;31mValueError\u001B[0m: Sum of input lengths does not equal the length of the input dataset!"
     ]
    }
   ],
   "execution_count": 4
  },
  {
   "metadata": {
    "ExecuteTime": {
     "end_time": "2025-07-23T17:32:16.418159Z",
     "start_time": "2025-07-23T17:32:16.405160Z"
    }
   },
   "cell_type": "code",
   "source": [
    "from torch.utils.data import DataLoader\n",
    "\n",
    "train_dataloader = DataLoader(\n",
    "    train_dataset,\n",
    "    batch_size=1,\n",
    "    shuffle=True,  # Already shuffled\n",
    "    num_workers=6,\n",
    "    prefetch_factor=6,\n",
    ")\n",
    "\n",
    "test_dataloader = DataLoader(\n",
    "    test_dataset,\n",
    "    batch_size=1,\n",
    "    shuffle=True,  # Already shuffled\n",
    "    num_workers=6,\n",
    "    prefetch_factor=6,\n",
    ")"
   ],
   "id": "193cfb7b29fd3253",
   "outputs": [],
   "execution_count": 3
  },
  {
   "metadata": {
    "ExecuteTime": {
     "end_time": "2025-07-23T19:13:21.296914Z",
     "start_time": "2025-07-23T19:13:21.093270Z"
    }
   },
   "cell_type": "code",
   "source": [
    "import torch\n",
    "\n",
    "class Config:\n",
    "    # === General ===\n",
    "    model_name = \"Resnet-Classifier-MEL\"\n",
    "    device = \"cuda\" if torch.cuda.is_available() else \"cpu\"\n",
    "    dtype = torch.float32\n",
    "    save_path = f\"trained_models\\\\{model_name}\\\\\"\n",
    "    seed = 42\n",
    "\n",
    "    # === Training ===\n",
    "    num_epochs = 30\n",
    "    batch_size = 24\n",
    "    learning_rate = 1e-4\n",
    "    weight_decay = 1e-4\n",
    "    warmup_percent = 0.15\n",
    "    max_grad_norm = 1.0\n",
    "    log_every = 10  # steps between logs (optional)\n",
    "    save_checkpoints = True\n",
    "\n",
    "    # === Dataset ===\n",
    "    use_masks = True\n",
    "    num_workers = 4\n",
    "    val_split = 0.2\n",
    "    shuffle = True\n",
    "\n",
    "    # === Model Behavior ===\n",
    "    class_ratio = torch.tensor(ratios).to(device=\"cuda\")"
   ],
   "id": "3a59218b374f209f",
   "outputs": [],
   "execution_count": 18
  },
  {
   "metadata": {
    "ExecuteTime": {
     "end_time": "2025-07-23T19:11:59.083177Z",
     "start_time": "2025-07-23T19:11:54.462102Z"
    }
   },
   "cell_type": "code",
   "source": [
    "import torch.optim\n",
    "from sklearn.metrics import precision_score, recall_score, f1_score, classification_report\n",
    "\n",
    "def train(model, test_dataloader, train_dataloader, config):\n",
    "    # Training setup\n",
    "    criterion = nn.BCEWithLogitsLoss(pos_weight=config.class_ratio)\n",
    "    optimizer = optim.AdamW(model.parameters(), lr=config.learning_rate, weight_decay=config.weight_decay)  # L2 regularization\n",
    "    model.to(\"cuda\", config.dtype)\n",
    "\n",
    "    # Training loop\n",
    "    for epoch in range(40):\n",
    "        train_loss_total = 0\n",
    "        for batch in tqdm(train_dataloader):\n",
    "            inputs, labels = batch\n",
    "\n",
    "            inputs = inputs.squeeze(0).unsqueeze(1).to(\"cuda\", config.dtype)\n",
    "            labels = labels.squeeze(0).to(\"cuda\", config.dtype)\n",
    "\n",
    "            num_chunks = int(inputs.shape[0] / config.batch_size) + 1\n",
    "\n",
    "            data_minibatches = torch.chunk(inputs, num_chunks, dim=0)\n",
    "            label_minibatches = torch.chunk(labels, num_chunks, dim=0)\n",
    "\n",
    "            for i, (data_minibatch, label_minibatch) in enumerate(zip(data_minibatches, label_minibatches)):\n",
    "                outputs = model(data_minibatch)\n",
    "                loss = criterion(outputs, label_minibatch)\n",
    "\n",
    "                optimizer.zero_grad()\n",
    "                loss.backward()\n",
    "                optimizer.step()\n",
    "\n",
    "                train_loss_total += loss.item()\n",
    "\n",
    "        # test_loss_average, all_preds, all_labels = eval(model, test_dataloader, criterion, config)\n",
    "        #\n",
    "        # precision_macro = precision_score(all_labels, all_preds, average='macro')\n",
    "        # recall_macro = recall_score(all_labels, all_preds, average='macro')\n",
    "        # f1_macro = f1_score(all_labels, all_preds, average='macro')\n",
    "\n",
    "        train_loss_average = train_loss_total / len(train_dataloader)\n",
    "\n",
    "        print(f\"Epoch {epoch + 1}, Train Loss: {train_loss_average:.4f}\")\n",
    "        # print(f\"Epoch {epoch + 1}, Test Loss: {test_loss_average:.4f}\")\n",
    "        #print(f\"Test Accuracy: {correct / total:.2%}\")\n",
    "        # print(f\"Precision: {precision_macro:.4f}\\t Recall: {recall_macro:.4f}\\t F1: {f1_macro:.4f}\")\n",
    "\n",
    "        torch.save(model, f\".\\\\{config.save_path}\\\\Classifier-Epoch-{epoch + 1}.pt\")\n",
    "\n",
    "\n",
    "def eval(model, dataloader, criterion, config):\n",
    "    test_loss_total = 0\n",
    "\n",
    "    all_preds = []\n",
    "    all_labels = []\n",
    "\n",
    "    with torch.no_grad():\n",
    "        for batch in tqdm(dataloader):\n",
    "            inputs, labels = batch\n",
    "\n",
    "            inputs = inputs.squeeze(0).unsqueeze(1).to(\"cuda\", config.dtype)\n",
    "            labels = labels.squeeze(0).to(\"cuda\", config.dtype)\n",
    "\n",
    "            num_chunks = int(inputs.shape[0] / config.batch_size) + 1\n",
    "\n",
    "            data_minibatches = torch.chunk(inputs, num_chunks, dim=0)\n",
    "            label_minibatches = torch.chunk(labels, num_chunks, dim=0)\n",
    "\n",
    "            for i, (data_minibatch, label_minibatch) in enumerate(zip(data_minibatches, label_minibatches)):\n",
    "                outputs = model(data_minibatch)\n",
    "                loss = criterion(outputs, label_minibatch)\n",
    "\n",
    "                test_loss_total += loss.item()\n",
    "\n",
    "                all_preds.extend(outputs.sigmoid().cpu().numpy())\n",
    "                all_labels.extend(label_minibatch.cpu().numpy())\n",
    "\n",
    "    return test_loss_total / len(dataloader), all_preds, all_labels\n",
    "\n",
    "def model_size(model):\n",
    "    model_parameters = filter(lambda p: p.requires_grad, model.parameters())\n",
    "    return sum([np.prod(p.size()) for p in model_parameters])"
   ],
   "id": "6c9dfd3f464f3a47",
   "outputs": [],
   "execution_count": 8
  },
  {
   "metadata": {
    "ExecuteTime": {
     "end_time": "2025-07-23T19:15:56.650088Z",
     "start_time": "2025-07-23T19:13:25.830037Z"
    }
   },
   "cell_type": "code",
   "source": [
    "from models.ShortChunkCNN import ShortChunkCNN\n",
    "import torch.nn as nn\n",
    "from torch import optim\n",
    "from tqdm import tqdm\n",
    "\n",
    "model = ShortChunkCNN(n_channels=128, n_class=50)\n",
    "\n",
    "print(f\"Parameters: {model_size(model)}\")\n",
    "train(model, None, train_dataloader, Config)"
   ],
   "id": "4f8b8c2ae5dbf53d",
   "outputs": [
    {
     "name": "stdout",
     "output_type": "stream",
     "text": [
      "Parameters: 3687346\n"
     ]
    },
    {
     "name": "stderr",
     "output_type": "stream",
     "text": [
      "100%|██████████| 1/1 [00:16<00:00, 16.42s/it]\n"
     ]
    },
    {
     "name": "stdout",
     "output_type": "stream",
     "text": [
      "Epoch 1, Train Loss: 77.2756\n"
     ]
    },
    {
     "name": "stderr",
     "output_type": "stream",
     "text": [
      "100%|██████████| 1/1 [00:08<00:00,  8.55s/it]\n"
     ]
    },
    {
     "name": "stdout",
     "output_type": "stream",
     "text": [
      "Epoch 2, Train Loss: 38.4726\n"
     ]
    },
    {
     "name": "stderr",
     "output_type": "stream",
     "text": [
      "100%|██████████| 1/1 [00:08<00:00,  8.47s/it]\n"
     ]
    },
    {
     "name": "stdout",
     "output_type": "stream",
     "text": [
      "Epoch 3, Train Loss: 25.9341\n"
     ]
    },
    {
     "name": "stderr",
     "output_type": "stream",
     "text": [
      "100%|██████████| 1/1 [00:08<00:00,  8.50s/it]\n"
     ]
    },
    {
     "name": "stdout",
     "output_type": "stream",
     "text": [
      "Epoch 4, Train Loss: 17.7452\n"
     ]
    },
    {
     "name": "stderr",
     "output_type": "stream",
     "text": [
      "100%|██████████| 1/1 [00:08<00:00,  8.63s/it]\n"
     ]
    },
    {
     "name": "stdout",
     "output_type": "stream",
     "text": [
      "Epoch 5, Train Loss: 12.6560\n"
     ]
    },
    {
     "name": "stderr",
     "output_type": "stream",
     "text": [
      "100%|██████████| 1/1 [00:09<00:00,  9.11s/it]\n"
     ]
    },
    {
     "name": "stdout",
     "output_type": "stream",
     "text": [
      "Epoch 6, Train Loss: 8.9264\n"
     ]
    },
    {
     "name": "stderr",
     "output_type": "stream",
     "text": [
      "100%|██████████| 1/1 [00:08<00:00,  8.95s/it]\n"
     ]
    },
    {
     "name": "stdout",
     "output_type": "stream",
     "text": [
      "Epoch 7, Train Loss: 6.8370\n"
     ]
    },
    {
     "name": "stderr",
     "output_type": "stream",
     "text": [
      "100%|██████████| 1/1 [00:08<00:00,  8.99s/it]\n"
     ]
    },
    {
     "name": "stdout",
     "output_type": "stream",
     "text": [
      "Epoch 8, Train Loss: 5.1044\n"
     ]
    },
    {
     "name": "stderr",
     "output_type": "stream",
     "text": [
      "100%|██████████| 1/1 [00:09<00:00,  9.47s/it]\n"
     ]
    },
    {
     "name": "stdout",
     "output_type": "stream",
     "text": [
      "Epoch 9, Train Loss: 3.9948\n"
     ]
    },
    {
     "name": "stderr",
     "output_type": "stream",
     "text": [
      "100%|██████████| 1/1 [00:08<00:00,  8.99s/it]\n"
     ]
    },
    {
     "name": "stdout",
     "output_type": "stream",
     "text": [
      "Epoch 10, Train Loss: 3.1840\n"
     ]
    },
    {
     "name": "stderr",
     "output_type": "stream",
     "text": [
      "100%|██████████| 1/1 [00:08<00:00,  8.53s/it]\n"
     ]
    },
    {
     "name": "stdout",
     "output_type": "stream",
     "text": [
      "Epoch 11, Train Loss: 2.5464\n"
     ]
    },
    {
     "name": "stderr",
     "output_type": "stream",
     "text": [
      "100%|██████████| 1/1 [00:08<00:00,  8.24s/it]\n"
     ]
    },
    {
     "name": "stdout",
     "output_type": "stream",
     "text": [
      "Epoch 12, Train Loss: 2.1025\n"
     ]
    },
    {
     "name": "stderr",
     "output_type": "stream",
     "text": [
      "100%|██████████| 1/1 [00:08<00:00,  8.35s/it]\n"
     ]
    },
    {
     "name": "stdout",
     "output_type": "stream",
     "text": [
      "Epoch 13, Train Loss: 1.6214\n"
     ]
    },
    {
     "name": "stderr",
     "output_type": "stream",
     "text": [
      "100%|██████████| 1/1 [00:08<00:00,  8.10s/it]\n"
     ]
    },
    {
     "name": "stdout",
     "output_type": "stream",
     "text": [
      "Epoch 14, Train Loss: 1.4808\n"
     ]
    },
    {
     "name": "stderr",
     "output_type": "stream",
     "text": [
      "100%|██████████| 1/1 [00:08<00:00,  8.14s/it]\n"
     ]
    },
    {
     "name": "stdout",
     "output_type": "stream",
     "text": [
      "Epoch 15, Train Loss: 1.2230\n"
     ]
    },
    {
     "name": "stderr",
     "output_type": "stream",
     "text": [
      "100%|██████████| 1/1 [00:08<00:00,  8.20s/it]\n"
     ]
    },
    {
     "name": "stdout",
     "output_type": "stream",
     "text": [
      "Epoch 16, Train Loss: 1.0170\n"
     ]
    },
    {
     "name": "stderr",
     "output_type": "stream",
     "text": [
      "  0%|          | 0/1 [00:03<?, ?it/s]\n"
     ]
    },
    {
     "ename": "KeyboardInterrupt",
     "evalue": "",
     "output_type": "error",
     "traceback": [
      "\u001B[1;31m---------------------------------------------------------------------------\u001B[0m",
      "\u001B[1;31mKeyboardInterrupt\u001B[0m                         Traceback (most recent call last)",
      "Cell \u001B[1;32mIn[19], line 9\u001B[0m\n\u001B[0;32m      6\u001B[0m model \u001B[38;5;241m=\u001B[39m ShortChunkCNN(n_channels\u001B[38;5;241m=\u001B[39m\u001B[38;5;241m128\u001B[39m, n_class\u001B[38;5;241m=\u001B[39m\u001B[38;5;241m50\u001B[39m)\n\u001B[0;32m      8\u001B[0m \u001B[38;5;28mprint\u001B[39m(\u001B[38;5;124mf\u001B[39m\u001B[38;5;124m\"\u001B[39m\u001B[38;5;124mParameters: \u001B[39m\u001B[38;5;132;01m{\u001B[39;00mmodel_size(model)\u001B[38;5;132;01m}\u001B[39;00m\u001B[38;5;124m\"\u001B[39m)\n\u001B[1;32m----> 9\u001B[0m \u001B[43mtrain\u001B[49m\u001B[43m(\u001B[49m\u001B[43mmodel\u001B[49m\u001B[43m,\u001B[49m\u001B[43m \u001B[49m\u001B[38;5;28;43;01mNone\u001B[39;49;00m\u001B[43m,\u001B[49m\u001B[43m \u001B[49m\u001B[43mtrain_dataloader\u001B[49m\u001B[43m,\u001B[49m\u001B[43m \u001B[49m\u001B[43mConfig\u001B[49m\u001B[43m)\u001B[49m\n",
      "Cell \u001B[1;32mIn[8], line 32\u001B[0m, in \u001B[0;36mtrain\u001B[1;34m(model, test_dataloader, train_dataloader, config)\u001B[0m\n\u001B[0;32m     29\u001B[0m         loss\u001B[38;5;241m.\u001B[39mbackward()\n\u001B[0;32m     30\u001B[0m         optimizer\u001B[38;5;241m.\u001B[39mstep()\n\u001B[1;32m---> 32\u001B[0m         train_loss_total \u001B[38;5;241m+\u001B[39m\u001B[38;5;241m=\u001B[39m \u001B[43mloss\u001B[49m\u001B[38;5;241;43m.\u001B[39;49m\u001B[43mitem\u001B[49m\u001B[43m(\u001B[49m\u001B[43m)\u001B[49m\n\u001B[0;32m     34\u001B[0m \u001B[38;5;66;03m# test_loss_average, all_preds, all_labels = eval(model, test_dataloader, criterion, config)\u001B[39;00m\n\u001B[0;32m     35\u001B[0m \u001B[38;5;66;03m#\u001B[39;00m\n\u001B[0;32m     36\u001B[0m \u001B[38;5;66;03m# precision_macro = precision_score(all_labels, all_preds, average='macro')\u001B[39;00m\n\u001B[0;32m     37\u001B[0m \u001B[38;5;66;03m# recall_macro = recall_score(all_labels, all_preds, average='macro')\u001B[39;00m\n\u001B[0;32m     38\u001B[0m \u001B[38;5;66;03m# f1_macro = f1_score(all_labels, all_preds, average='macro')\u001B[39;00m\n\u001B[0;32m     40\u001B[0m train_loss_average \u001B[38;5;241m=\u001B[39m train_loss_total \u001B[38;5;241m/\u001B[39m \u001B[38;5;28mlen\u001B[39m(train_dataloader)\n",
      "\u001B[1;31mKeyboardInterrupt\u001B[0m: "
     ]
    }
   ],
   "execution_count": 19
  },
  {
   "metadata": {
    "ExecuteTime": {
     "end_time": "2025-07-23T19:16:18.299299Z",
     "start_time": "2025-07-23T19:16:12.115939Z"
    }
   },
   "cell_type": "code",
   "source": [
    "criterion = nn.BCEWithLogitsLoss(pos_weight=Config.class_ratio)\n",
    "test_loss_average, all_probs, all_labels = eval(model, train_dataloader, criterion, Config)\n",
    "\n",
    "all_p_tensor = torch.stack([torch.tensor(x) for x in all_probs], dim=0).float()\n",
    "all_l_tensor = torch.stack([torch.tensor(x) for x in all_labels], dim=0).int()"
   ],
   "id": "492572a11f4f3613",
   "outputs": [
    {
     "name": "stderr",
     "output_type": "stream",
     "text": [
      "100%|██████████| 1/1 [00:06<00:00,  6.07s/it]\n"
     ]
    }
   ],
   "execution_count": 21
  },
  {
   "metadata": {
    "ExecuteTime": {
     "end_time": "2025-07-23T19:16:33.395150Z",
     "start_time": "2025-07-23T19:16:30.028641Z"
    }
   },
   "cell_type": "code",
   "source": [
    "from sklearn.metrics import precision_recall_curve\n",
    "import matplotlib.pyplot as plt\n",
    "import numpy as np\n",
    "\n",
    "def graph(probs, labels):\n",
    "    # Store per-threshold values\n",
    "    thresholds = np.linspace(0, 1, 200)\n",
    "    precision_all = []\n",
    "    recall_all = []\n",
    "\n",
    "    for class_idx in range(probs.shape[1]):\n",
    "        y_true = labels[:, class_idx]\n",
    "        y_score = probs[:, class_idx]\n",
    "\n",
    "        precision, recall, thresh = precision_recall_curve(y_true, y_score)\n",
    "\n",
    "        # Interpolate to get precision/recall at uniform thresholds\n",
    "        interp_precision = np.interp(thresholds, thresh, precision[:-1])  # precision[:-1] because it's len(thresh)+1\n",
    "        interp_recall = np.interp(thresholds, thresh, recall[:-1])\n",
    "\n",
    "        precision_all.append(interp_precision)\n",
    "        recall_all.append(interp_recall)\n",
    "\n",
    "    # Average across all classes\n",
    "    precision_mean = np.mean(precision_all, axis=0)\n",
    "    recall_mean = np.mean(recall_all, axis=0)\n",
    "\n",
    "    # Plot\n",
    "    plt.figure(figsize=(8,6))\n",
    "    plt.plot(thresholds, precision_mean, label='Precision')\n",
    "    plt.plot(thresholds, recall_mean, label='Recall')\n",
    "    plt.xlabel(\"Threshold\")\n",
    "    plt.ylabel(\"Score\")\n",
    "    plt.title(\"Precision and Recall vs Threshold (Macro-Averaged over Genres)\")\n",
    "    plt.legend()\n",
    "    plt.grid(True)\n",
    "    plt.show()"
   ],
   "id": "44d6b5cf2e0aaaac",
   "outputs": [],
   "execution_count": 22
  },
  {
   "metadata": {
    "ExecuteTime": {
     "end_time": "2025-07-23T19:16:34.473502Z",
     "start_time": "2025-07-23T19:16:34.253150Z"
    }
   },
   "cell_type": "code",
   "source": "graph(all_p_tensor, all_l_tensor)",
   "id": "9ef9b87ae2110695",
   "outputs": [
    {
     "name": "stderr",
     "output_type": "stream",
     "text": [
      "E:\\Coding\\SongAnalyzer\\.venv\\lib\\site-packages\\sklearn\\metrics\\_ranking.py:980: UserWarning: No positive class found in y_true, recall is set to one for all thresholds.\n",
      "  warnings.warn(\n",
      "E:\\Coding\\SongAnalyzer\\.venv\\lib\\site-packages\\sklearn\\metrics\\_ranking.py:980: UserWarning: No positive class found in y_true, recall is set to one for all thresholds.\n",
      "  warnings.warn(\n",
      "E:\\Coding\\SongAnalyzer\\.venv\\lib\\site-packages\\sklearn\\metrics\\_ranking.py:980: UserWarning: No positive class found in y_true, recall is set to one for all thresholds.\n",
      "  warnings.warn(\n",
      "E:\\Coding\\SongAnalyzer\\.venv\\lib\\site-packages\\sklearn\\metrics\\_ranking.py:980: UserWarning: No positive class found in y_true, recall is set to one for all thresholds.\n",
      "  warnings.warn(\n",
      "E:\\Coding\\SongAnalyzer\\.venv\\lib\\site-packages\\sklearn\\metrics\\_ranking.py:980: UserWarning: No positive class found in y_true, recall is set to one for all thresholds.\n",
      "  warnings.warn(\n",
      "E:\\Coding\\SongAnalyzer\\.venv\\lib\\site-packages\\sklearn\\metrics\\_ranking.py:980: UserWarning: No positive class found in y_true, recall is set to one for all thresholds.\n",
      "  warnings.warn(\n",
      "E:\\Coding\\SongAnalyzer\\.venv\\lib\\site-packages\\sklearn\\metrics\\_ranking.py:980: UserWarning: No positive class found in y_true, recall is set to one for all thresholds.\n",
      "  warnings.warn(\n",
      "E:\\Coding\\SongAnalyzer\\.venv\\lib\\site-packages\\sklearn\\metrics\\_ranking.py:980: UserWarning: No positive class found in y_true, recall is set to one for all thresholds.\n",
      "  warnings.warn(\n",
      "E:\\Coding\\SongAnalyzer\\.venv\\lib\\site-packages\\sklearn\\metrics\\_ranking.py:980: UserWarning: No positive class found in y_true, recall is set to one for all thresholds.\n",
      "  warnings.warn(\n",
      "E:\\Coding\\SongAnalyzer\\.venv\\lib\\site-packages\\sklearn\\metrics\\_ranking.py:980: UserWarning: No positive class found in y_true, recall is set to one for all thresholds.\n",
      "  warnings.warn(\n",
      "E:\\Coding\\SongAnalyzer\\.venv\\lib\\site-packages\\sklearn\\metrics\\_ranking.py:980: UserWarning: No positive class found in y_true, recall is set to one for all thresholds.\n",
      "  warnings.warn(\n",
      "E:\\Coding\\SongAnalyzer\\.venv\\lib\\site-packages\\sklearn\\metrics\\_ranking.py:980: UserWarning: No positive class found in y_true, recall is set to one for all thresholds.\n",
      "  warnings.warn(\n",
      "E:\\Coding\\SongAnalyzer\\.venv\\lib\\site-packages\\sklearn\\metrics\\_ranking.py:980: UserWarning: No positive class found in y_true, recall is set to one for all thresholds.\n",
      "  warnings.warn(\n",
      "E:\\Coding\\SongAnalyzer\\.venv\\lib\\site-packages\\sklearn\\metrics\\_ranking.py:980: UserWarning: No positive class found in y_true, recall is set to one for all thresholds.\n",
      "  warnings.warn(\n",
      "E:\\Coding\\SongAnalyzer\\.venv\\lib\\site-packages\\sklearn\\metrics\\_ranking.py:980: UserWarning: No positive class found in y_true, recall is set to one for all thresholds.\n",
      "  warnings.warn(\n",
      "E:\\Coding\\SongAnalyzer\\.venv\\lib\\site-packages\\sklearn\\metrics\\_ranking.py:980: UserWarning: No positive class found in y_true, recall is set to one for all thresholds.\n",
      "  warnings.warn(\n",
      "E:\\Coding\\SongAnalyzer\\.venv\\lib\\site-packages\\sklearn\\metrics\\_ranking.py:980: UserWarning: No positive class found in y_true, recall is set to one for all thresholds.\n",
      "  warnings.warn(\n",
      "E:\\Coding\\SongAnalyzer\\.venv\\lib\\site-packages\\sklearn\\metrics\\_ranking.py:980: UserWarning: No positive class found in y_true, recall is set to one for all thresholds.\n",
      "  warnings.warn(\n",
      "E:\\Coding\\SongAnalyzer\\.venv\\lib\\site-packages\\sklearn\\metrics\\_ranking.py:980: UserWarning: No positive class found in y_true, recall is set to one for all thresholds.\n",
      "  warnings.warn(\n",
      "E:\\Coding\\SongAnalyzer\\.venv\\lib\\site-packages\\sklearn\\metrics\\_ranking.py:980: UserWarning: No positive class found in y_true, recall is set to one for all thresholds.\n",
      "  warnings.warn(\n",
      "E:\\Coding\\SongAnalyzer\\.venv\\lib\\site-packages\\sklearn\\metrics\\_ranking.py:980: UserWarning: No positive class found in y_true, recall is set to one for all thresholds.\n",
      "  warnings.warn(\n",
      "E:\\Coding\\SongAnalyzer\\.venv\\lib\\site-packages\\sklearn\\metrics\\_ranking.py:980: UserWarning: No positive class found in y_true, recall is set to one for all thresholds.\n",
      "  warnings.warn(\n"
     ]
    },
    {
     "data": {
      "text/plain": [
       "<Figure size 800x600 with 1 Axes>"
      ],
      "image/png": "[encoded data removed]"
     },
     "metadata": {},
     "output_type": "display_data"
    }
   ],
   "execution_count": 23
  },
  {
   "metadata": {},
   "cell_type": "code",
   "outputs": [],
   "execution_count": null,
   "source": [
    "import matplotlib.pyplot as plt\n",
    "plt.hist(all_p_tensor.ravel(), bins=100)\n",
    "plt.title(\"Histogram of predicted genre probabilities\")\n",
    "plt.xlabel(\"Probability\")\n",
    "plt.ylabel(\"Frequency\")\n",
    "plt.show()"
   ],
   "id": "a25278c900319164"
  },
  {
   "metadata": {},
   "cell_type": "code",
   "source": [
    "def toMEL(wv, sr):\n",
    "    spec = librosa.feature.melspectrogram(y=wv, sr=sr)\n",
    "    spec = librosa.amplitude_to_db(spec, ref=np.max)\n",
    "    return spec\n",
    "\n",
    "def process_song(song_path, folder_in, folder_out, transform):\n",
    "    latents_path_name = os.path.join(folder_out, song_path[:-4] + \".npy\")\n",
    "\n",
    "    if os.path.exists(latents_path_name):\n",
    "        return\n",
    "\n",
    "    try:\n",
    "        wv, sr = librosa.load(os.path.join(folder_in, song_path), sr=44100)\n",
    "        latent_space = transform(wv, sr)\n",
    "        np.save(latents_path_name, latent_space)\n",
    "    except Exception as e:\n",
    "        print(f\"Error processing {song_path}: {e}\")\n",
    "\n",
    "def encodeFolder(folder_in, folder_out, transform, num_threads=8):\n",
    "    os.makedirs(folder_out, exist_ok=True)\n",
    "    song_paths = os.listdir(folder_in)\n",
    "\n",
    "    with ThreadPoolExecutor(max_workers=num_threads) as executor:\n",
    "        futures = [\n",
    "            executor.submit(process_song, song_path, folder_in, folder_out, transform)\n",
    "            for song_path in song_paths\n",
    "        ]\n",
    "        for _ in tqdm(as_completed(futures), total=len(futures), desc=f\"Processing {folder_in}\"):\n",
    "            pass\n",
    "\n",
    "# Run for folders 50 to 98\n",
    "for index in range(0, 99):\n",
    "    folder_name = f\"E:/mtg-jamendo/{index:02}\"\n",
    "    encodeFolder(folder_name, \"E:/SongsDataset/MELSPEC/\", toMEL)"
   ],
   "id": "7efabc7a6ff6ecde",
   "outputs": [],
   "execution_count": null
  },
  {
   "metadata": {},
   "cell_type": "code",
   "source": [
    "precision_macro = precision_score(all_labels, all_preds, average='macro')\n",
    "recall_macro = recall_score(all_labels, all_preds, average='macro')\n",
    "f1_macro = f1_score(all_labels, all_preds, average='macro')"
   ],
   "id": "6cf296ffedc35404",
   "outputs": [],
   "execution_count": null
  },
  {
   "metadata": {},
   "cell_type": "code",
   "source": "print(f\"Precision: {precision_macro}\\nRecall: {precision_macro}\\nF1: {precision_macro}\\n\")",
   "id": "7b2136c6260a727c",
   "outputs": [],
   "execution_count": null
  }
 ],
 "metadata": {
  "kernelspec": {
   "display_name": "Python 3 (ipykernel)",
   "language": "python",
   "name": "python3"
  },
  "language_info": {
   "codemirror_mode": {
    "name": "ipython",
    "version": 3
   },
   "file_extension": ".py",
   "mimetype": "text/x-python",
   "name": "python",
   "nbconvert_exporter": "python",
   "pygments_lexer": "ipython3",
   "version": "3.10.11"
  }
 },
 "nbformat": 4,
 "nbformat_minor": 5
}
