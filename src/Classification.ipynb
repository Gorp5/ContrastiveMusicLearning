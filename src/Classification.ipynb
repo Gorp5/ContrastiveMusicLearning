{
 "cells": [
  {
   "metadata": {},
   "cell_type": "code",
   "outputs": [],
   "execution_count": null,
   "source": [
    "from data.procesing import ParseTaggedDataset\n",
    "directory = \"256-chunk-length-dataset\"\n",
    "ParseTaggedDataset(directory)"
   ],
   "id": "ab183c83c81f29d6"
  },
  {
   "metadata": {
    "ExecuteTime": {
     "end_time": "2025-07-15T03:49:34.469728Z",
     "start_time": "2025-07-15T03:49:34.456729Z"
    }
   },
   "cell_type": "code",
   "outputs": [],
   "execution_count": 1,
   "source": "directory = \"256-chunk-length-dataset\"",
   "id": "15eaf870c3f63984"
  },
  {
   "metadata": {
    "ExecuteTime": {
     "end_time": "2025-07-15T03:49:38.762810Z",
     "start_time": "2025-07-15T03:49:36.382770Z"
    }
   },
   "cell_type": "code",
   "source": [
    "from data.procesing import StreamingSongDataset, ParseTaggedDataset\n",
    "directory = \"256-chunk-length-dataset\"\n",
    "dataset = StreamingSongDataset(f\"E:\\\\SongsDataset\\\\{directory}\\\\data\", f\"E:\\\\SongsDataset\\\\{directory}\\\\labels\")"
   ],
   "id": "ff8694559cc5c657",
   "outputs": [],
   "execution_count": 2
  },
  {
   "metadata": {
    "ExecuteTime": {
     "end_time": "2025-07-15T03:49:38.858328Z",
     "start_time": "2025-07-15T03:49:38.844814Z"
    }
   },
   "cell_type": "code",
   "source": [
    "from torch.utils.data import random_split, DataLoader\n",
    "import torch\n",
    "\n",
    "generator = torch.Generator().manual_seed(42)\n",
    "\n",
    "train_len = int(len(dataset) * 0.9)\n",
    "train_set, test_set = random_split(dataset, [train_len, len(dataset) - train_len], generator=generator)\n",
    "\n",
    "train_dataloader = DataLoader(\n",
    "    train_set,\n",
    "    batch_size=32,\n",
    "    shuffle=True,  # Already shuffled\n",
    "    num_workers=4,\n",
    "    prefetch_factor=10,\n",
    "    pin_memory=True,\n",
    ")\n",
    "\n",
    "test_dataloader = DataLoader(\n",
    "test_set,\n",
    "batch_size=32,\n",
    "shuffle=True,  # Already shuffled\n",
    "num_workers=4,\n",
    "prefetch_factor=10,\n",
    "pin_memory=True,\n",
    ")"
   ],
   "id": "9b761e931cad98a1",
   "outputs": [],
   "execution_count": 3
  },
  {
   "metadata": {
    "ExecuteTime": {
     "end_time": "2025-07-15T03:49:38.920659Z",
     "start_time": "2025-07-15T03:49:38.876328Z"
    }
   },
   "cell_type": "code",
   "source": [
    "class Config:\n",
    "    # === General ===\n",
    "    model_name = \"Transformer-Classifier\"\n",
    "    device = \"cuda\" if torch.cuda.is_available() else \"cpu\"\n",
    "    dtype = torch.float32\n",
    "    save_path = f\"E:\\\\Coding\\\\SongAnalyzer\\\\Analyzer\\\\src\\\\trained_models\\\\{model_name}\\\\\"\n",
    "    seed = 42\n",
    "\n",
    "    # === Training ===\n",
    "    num_epochs = 30\n",
    "    batch_size = 24\n",
    "    learning_rate = 5e-5\n",
    "    weight_decay = 1e-5\n",
    "    warmup_percent = 0.15\n",
    "    max_grad_norm = 1.0\n",
    "    log_every = 10  # steps between logs (optional)\n",
    "    save_checkpoints = True\n",
    "\n",
    "    # === Dataset ===\n",
    "    use_masks = True\n",
    "    num_workers = 4\n",
    "    val_split = 0.2\n",
    "    shuffle = True\n",
    "\n",
    "    # === Model Behavior ===\n",
    "    variational = False\n",
    "    autoregressive = False\n",
    "    #class_ratio = torch.tensor(class_ratio).to(device=\"cuda\")\n",
    "\n",
    "    # === Loss Coefficients ===\n",
    "    beta_schedule = \"log\"   # e.g., \"log\", \"linear\", etc. (for getBetaLog)\n",
    "    beta_max = 1.0\n",
    "    cycle_length = 2\n",
    "    contrastive_coeff = 0.1  # if using contrastive loss\n",
    "    margin = 0.1"
   ],
   "id": "2b861674428179ec",
   "outputs": [],
   "execution_count": 4
  },
  {
   "metadata": {
    "collapsed": true,
    "ExecuteTime": {
     "end_time": "2025-07-15T03:49:40.833681Z",
     "start_time": "2025-07-15T03:49:39.727683Z"
    }
   },
   "cell_type": "code",
   "source": [
    "import torch.optim as optim\n",
    "from datasets import tqdm\n",
    "from sklearn.metrics import precision_score, recall_score, f1_score, classification_report\n",
    "\n",
    "def train(model, test_dataloader, train_dataloader, config):\n",
    "    # Training setup\n",
    "    criterion = nn.BCEWithLogitsLoss()#pos_weight=config.class_ratio)\n",
    "    optimizer = optim.Adam(model.parameters(), lr=5e-5, weight_decay=1e-5)  # L2 regularization\n",
    "    model.to(\"cuda\")\n",
    "\n",
    "    # Training loop\n",
    "    for epoch in range(40):\n",
    "        train_loss_total = 0\n",
    "        for batch in tqdm(train_dataloader):\n",
    "            inputs, labels = batch\n",
    "\n",
    "            inputs = inputs.to(\"cuda\")\n",
    "\n",
    "            outputs = model(inputs)\n",
    "            loss = criterion(outputs, genre_labels)\n",
    "\n",
    "            optimizer.zero_grad()\n",
    "            loss.backward()\n",
    "            optimizer.step()\n",
    "\n",
    "            train_loss_total += loss.item()\n",
    "\n",
    "        test_loss_average, correct, total, all_preds, all_labels = eval(model, test_dataloader, criterion)\n",
    "\n",
    "        precision_macro = precision_score(all_labels, all_preds, average='macro')\n",
    "        recall_macro = recall_score(all_labels, all_preds, average='macro')\n",
    "        f1_macro = f1_score(all_labels, all_preds, average='macro')\n",
    "\n",
    "        train_loss_average = train_loss_total / len(train_dataloader)\n",
    "\n",
    "        print(f\"Epoch {epoch + 1}, Train Loss: {train_loss_average:.4f}\")\n",
    "        print(f\"Epoch {epoch + 1}, Test Loss: {test_loss_average:.4f}\")\n",
    "        print(f\"Test Accuracy: {correct / total:.2%}\")\n",
    "        print(f\"Precision: {precision_macro:.4f}\\t Recall: {recall_macro:.4f}\\t F1: {f1_macro:.4f}\")\n",
    "\n",
    "        torch.save(model, f\".\\\\{config.path}\\\\Classifier-Epoch-{epoch + 1}.pt\")\n",
    "\n",
    "\n",
    "def eval(model, dataloader, criterion):\n",
    "    test_loss_total = 0\n",
    "    correct = 0\n",
    "    total = 0\n",
    "\n",
    "    all_preds = []\n",
    "    all_labels = []\n",
    "\n",
    "    with torch.no_grad():\n",
    "        for batch in tqdm(dataloader):\n",
    "            inputs, labels = batch\n",
    "\n",
    "            inputs = inputs.to(\"cuda\")\n",
    "\n",
    "            outputs = model(inputs)\n",
    "            loss = criterion(outputs, genre_labels)\n",
    "\n",
    "            test_loss_total += loss.item()\n",
    "\n",
    "            preds = (outputs.sigmoid() > 0.2).int()\n",
    "            correct += (preds == labels).sum().item()\n",
    "            total += labels.size(0)\n",
    "\n",
    "            all_preds.extend(preds.cpu().numpy())\n",
    "            all_labels.extend(labels.cpu().numpy())\n",
    "\n",
    "    return test_loss_total / len(dataloader), correct, total, all_preds, all_labels"
   ],
   "id": "initial_id",
   "outputs": [],
   "execution_count": 5
  },
  {
   "metadata": {
    "ExecuteTime": {
     "end_time": "2025-07-15T03:49:41.485190Z",
     "start_time": "2025-07-15T03:49:41.448193Z"
    }
   },
   "cell_type": "code",
   "source": [
    "import numpy as np\n",
    "\n",
    "def model_size(model):\n",
    "    model_parameters = filter(lambda p: p.requires_grad, model.parameters())\n",
    "    return sum([np.prod(p.size()) for p in model_parameters])"
   ],
   "id": "7b6cd2a980ce1ac9",
   "outputs": [],
   "execution_count": 6
  },
  {
   "metadata": {
    "ExecuteTime": {
     "end_time": "2025-07-15T03:49:49.371601Z",
     "start_time": "2025-07-15T03:49:43.196759Z"
    }
   },
   "cell_type": "code",
   "source": [
    "import torch.nn as nn\n",
    "from torchvision.models import resnet50\n",
    "\n",
    "# Resnet-50\n",
    "# Define the model\n",
    "model = resnet50(pretrained=True)\n",
    "\n",
    "# Replace the last layer\n",
    "num_features = model.fc.in_features\n",
    "model.fc = nn.Linear(num_features, 249)\n",
    "model_size(model)"
   ],
   "id": "76b2f786d9707efb",
   "outputs": [
    {
     "name": "stderr",
     "output_type": "stream",
     "text": [
      "E:\\Coding\\SongAnalyzer\\.venv\\lib\\site-packages\\torchvision\\models\\_utils.py:208: UserWarning: The parameter 'pretrained' is deprecated since 0.13 and may be removed in the future, please use 'weights' instead.\n",
      "  warnings.warn(\n",
      "E:\\Coding\\SongAnalyzer\\.venv\\lib\\site-packages\\torchvision\\models\\_utils.py:223: UserWarning: Arguments other than a weight enum or `None` for 'weights' are deprecated since 0.13 and may be removed in the future. The current behavior is equivalent to passing `weights=ResNet50_Weights.IMAGENET1K_V1`. You can also use `weights=ResNet50_Weights.DEFAULT` to get the most up-to-date weights.\n",
      "  warnings.warn(msg)\n"
     ]
    },
    {
     "data": {
      "text/plain": [
       "24018233"
      ]
     },
     "execution_count": 7,
     "metadata": {},
     "output_type": "execute_result"
    }
   ],
   "execution_count": 7
  },
  {
   "metadata": {
    "ExecuteTime": {
     "end_time": "2025-07-15T03:56:20.704616Z",
     "start_time": "2025-07-15T03:50:31.134825Z"
    }
   },
   "cell_type": "code",
   "source": "train(model, train_dataloader, train_dataloader, Config)",
   "id": "41dbb65e6a19fd55",
   "outputs": [
    {
     "data": {
      "text/plain": [
       "  0%|          | 0/5 [00:01<?, ?it/s]"
      ],
      "application/vnd.jupyter.widget-view+json": {
       "version_major": 2,
       "version_minor": 0,
       "model_id": "18658a537eb44b6fbeb36343e517c027"
      },
      "application/json": {
       "n": 0,
       "total": 5,
       "elapsed": 1.2450270652770996,
       "ncols": null,
       "nrows": null,
       "prefix": "",
       "ascii": false,
       "unit": "it",
       "unit_scale": false,
       "rate": null,
       "bar_format": null,
       "postfix": null,
       "unit_divisor": 1000,
       "initial": 0,
       "colour": null
      }
     },
     "metadata": {},
     "output_type": "display_data"
    },
    {
     "ename": "RuntimeError",
     "evalue": "Caught RuntimeError in DataLoader worker process 0.\nOriginal Traceback (most recent call last):\n  File \"E:\\Coding\\SongAnalyzer\\.venv\\lib\\site-packages\\torch\\utils\\data\\_utils\\worker.py\", line 349, in _worker_loop\n    data = fetcher.fetch(index)  # type: ignore[possibly-undefined]\n  File \"E:\\Coding\\SongAnalyzer\\.venv\\lib\\site-packages\\torch\\utils\\data\\_utils\\fetch.py\", line 50, in fetch\n    data = self.dataset.__getitems__(possibly_batched_index)\n  File \"E:\\Coding\\SongAnalyzer\\.venv\\lib\\site-packages\\torch\\utils\\data\\dataset.py\", line 420, in __getitems__\n    return [self.dataset[self.indices[idx]] for idx in indices]\n  File \"E:\\Coding\\SongAnalyzer\\.venv\\lib\\site-packages\\torch\\utils\\data\\dataset.py\", line 420, in <listcomp>\n    return [self.dataset[self.indices[idx]] for idx in indices]\n  File \"E:\\Coding\\SongAnalyzer\\Analyzer\\src\\data\\procesing.py\", line 38, in __getitem__\n    song = torch.load(song_path, map_location='cpu')  # memory-mapped access\n  File \"E:\\Coding\\SongAnalyzer\\.venv\\lib\\site-packages\\torch\\serialization.py\", line 1462, in load\n    return _load(\n  File \"E:\\Coding\\SongAnalyzer\\.venv\\lib\\site-packages\\torch\\serialization.py\", line 1964, in _load\n    result = unpickler.load()\n  File \"E:\\Coding\\SongAnalyzer\\.venv\\lib\\site-packages\\torch\\_weights_only_unpickler.py\", line 512, in load\n    self.append(self.persistent_load(pid))\n  File \"E:\\Coding\\SongAnalyzer\\.venv\\lib\\site-packages\\torch\\serialization.py\", line 1928, in persistent_load\n    typed_storage = load_tensor(\n  File \"E:\\Coding\\SongAnalyzer\\.venv\\lib\\site-packages\\torch\\serialization.py\", line 1888, in load_tensor\n    zip_file.get_storage_from_record(name, numel, torch.UntypedStorage)\nRuntimeError: [enforce fail at alloc_cpu.cpp:115] data. DefaultCPUAllocator: not enough memory: you tried to allocate 1310720 bytes.\n",
     "output_type": "error",
     "traceback": [
      "\u001B[1;31m---------------------------------------------------------------------------\u001B[0m",
      "\u001B[1;31mRuntimeError\u001B[0m                              Traceback (most recent call last)",
      "Cell \u001B[1;32mIn[8], line 1\u001B[0m\n\u001B[1;32m----> 1\u001B[0m \u001B[43mtrain\u001B[49m\u001B[43m(\u001B[49m\u001B[43mmodel\u001B[49m\u001B[43m,\u001B[49m\u001B[43m \u001B[49m\u001B[43mtrain_dataloader\u001B[49m\u001B[43m,\u001B[49m\u001B[43m \u001B[49m\u001B[43mtrain_dataloader\u001B[49m\u001B[43m,\u001B[49m\u001B[43m \u001B[49m\u001B[43mConfig\u001B[49m\u001B[43m)\u001B[49m\n",
      "Cell \u001B[1;32mIn[5], line 15\u001B[0m, in \u001B[0;36mtrain\u001B[1;34m(model, test_dataloader, train_dataloader, config)\u001B[0m\n\u001B[0;32m     13\u001B[0m \u001B[38;5;28;01mfor\u001B[39;00m epoch \u001B[38;5;129;01min\u001B[39;00m \u001B[38;5;28mrange\u001B[39m(\u001B[38;5;241m40\u001B[39m):\n\u001B[0;32m     14\u001B[0m     train_loss_total \u001B[38;5;241m=\u001B[39m \u001B[38;5;241m0\u001B[39m\n\u001B[1;32m---> 15\u001B[0m     \u001B[38;5;28;01mfor\u001B[39;00m batch \u001B[38;5;129;01min\u001B[39;00m tqdm(train_dataloader):\n\u001B[0;32m     16\u001B[0m         inputs, _, labels \u001B[38;5;241m=\u001B[39m batch\n\u001B[0;32m     18\u001B[0m         inputs \u001B[38;5;241m=\u001B[39m inputs\u001B[38;5;241m.\u001B[39mto(\u001B[38;5;124m\"\u001B[39m\u001B[38;5;124mcuda\u001B[39m\u001B[38;5;124m\"\u001B[39m)\n",
      "File \u001B[1;32mE:\\Coding\\SongAnalyzer\\.venv\\lib\\site-packages\\tqdm\\notebook.py:257\u001B[0m, in \u001B[0;36mtqdm_notebook.__iter__\u001B[1;34m(self)\u001B[0m\n\u001B[0;32m    255\u001B[0m \u001B[38;5;28;01mdef\u001B[39;00m\u001B[38;5;250m \u001B[39m\u001B[38;5;21m__iter__\u001B[39m(\u001B[38;5;28mself\u001B[39m):\n\u001B[0;32m    256\u001B[0m     \u001B[38;5;28;01mtry\u001B[39;00m:\n\u001B[1;32m--> 257\u001B[0m         \u001B[38;5;28;01mfor\u001B[39;00m obj \u001B[38;5;129;01min\u001B[39;00m \u001B[38;5;28msuper\u001B[39m(tqdm_notebook, \u001B[38;5;28mself\u001B[39m)\u001B[38;5;241m.\u001B[39m\u001B[38;5;21m__iter__\u001B[39m():\n\u001B[0;32m    258\u001B[0m             \u001B[38;5;66;03m# return super(tqdm...) will not catch exception\u001B[39;00m\n\u001B[0;32m    259\u001B[0m             \u001B[38;5;28;01myield\u001B[39;00m obj\n\u001B[0;32m    260\u001B[0m     \u001B[38;5;66;03m# NB: except ... [ as ...] breaks IPython async KeyboardInterrupt\u001B[39;00m\n",
      "File \u001B[1;32mE:\\Coding\\SongAnalyzer\\.venv\\lib\\site-packages\\tqdm\\std.py:1180\u001B[0m, in \u001B[0;36mtqdm.__iter__\u001B[1;34m(self)\u001B[0m\n\u001B[0;32m   1177\u001B[0m time \u001B[38;5;241m=\u001B[39m \u001B[38;5;28mself\u001B[39m\u001B[38;5;241m.\u001B[39m_time\n\u001B[0;32m   1179\u001B[0m \u001B[38;5;28;01mtry\u001B[39;00m:\n\u001B[1;32m-> 1180\u001B[0m     \u001B[38;5;28;01mfor\u001B[39;00m obj \u001B[38;5;129;01min\u001B[39;00m iterable:\n\u001B[0;32m   1181\u001B[0m         \u001B[38;5;28;01myield\u001B[39;00m obj\n\u001B[0;32m   1182\u001B[0m         \u001B[38;5;66;03m# Update and possibly print the progressbar.\u001B[39;00m\n\u001B[0;32m   1183\u001B[0m         \u001B[38;5;66;03m# Note: does not call self.update(1) for speed optimisation.\u001B[39;00m\n",
      "File \u001B[1;32mE:\\Coding\\SongAnalyzer\\.venv\\lib\\site-packages\\torch\\utils\\data\\dataloader.py:708\u001B[0m, in \u001B[0;36m_BaseDataLoaderIter.__next__\u001B[1;34m(self)\u001B[0m\n\u001B[0;32m    705\u001B[0m \u001B[38;5;28;01mif\u001B[39;00m \u001B[38;5;28mself\u001B[39m\u001B[38;5;241m.\u001B[39m_sampler_iter \u001B[38;5;129;01mis\u001B[39;00m \u001B[38;5;28;01mNone\u001B[39;00m:\n\u001B[0;32m    706\u001B[0m     \u001B[38;5;66;03m# TODO(https://github.com/pytorch/pytorch/issues/76750)\u001B[39;00m\n\u001B[0;32m    707\u001B[0m     \u001B[38;5;28mself\u001B[39m\u001B[38;5;241m.\u001B[39m_reset()  \u001B[38;5;66;03m# type: ignore[call-arg]\u001B[39;00m\n\u001B[1;32m--> 708\u001B[0m data \u001B[38;5;241m=\u001B[39m \u001B[38;5;28;43mself\u001B[39;49m\u001B[38;5;241;43m.\u001B[39;49m\u001B[43m_next_data\u001B[49m\u001B[43m(\u001B[49m\u001B[43m)\u001B[49m\n\u001B[0;32m    709\u001B[0m \u001B[38;5;28mself\u001B[39m\u001B[38;5;241m.\u001B[39m_num_yielded \u001B[38;5;241m+\u001B[39m\u001B[38;5;241m=\u001B[39m \u001B[38;5;241m1\u001B[39m\n\u001B[0;32m    710\u001B[0m \u001B[38;5;28;01mif\u001B[39;00m (\n\u001B[0;32m    711\u001B[0m     \u001B[38;5;28mself\u001B[39m\u001B[38;5;241m.\u001B[39m_dataset_kind \u001B[38;5;241m==\u001B[39m _DatasetKind\u001B[38;5;241m.\u001B[39mIterable\n\u001B[0;32m    712\u001B[0m     \u001B[38;5;129;01mand\u001B[39;00m \u001B[38;5;28mself\u001B[39m\u001B[38;5;241m.\u001B[39m_IterableDataset_len_called \u001B[38;5;129;01mis\u001B[39;00m \u001B[38;5;129;01mnot\u001B[39;00m \u001B[38;5;28;01mNone\u001B[39;00m\n\u001B[0;32m    713\u001B[0m     \u001B[38;5;129;01mand\u001B[39;00m \u001B[38;5;28mself\u001B[39m\u001B[38;5;241m.\u001B[39m_num_yielded \u001B[38;5;241m>\u001B[39m \u001B[38;5;28mself\u001B[39m\u001B[38;5;241m.\u001B[39m_IterableDataset_len_called\n\u001B[0;32m    714\u001B[0m ):\n",
      "File \u001B[1;32mE:\\Coding\\SongAnalyzer\\.venv\\lib\\site-packages\\torch\\utils\\data\\dataloader.py:1480\u001B[0m, in \u001B[0;36m_MultiProcessingDataLoaderIter._next_data\u001B[1;34m(self)\u001B[0m\n\u001B[0;32m   1478\u001B[0m \u001B[38;5;28;01mdel\u001B[39;00m \u001B[38;5;28mself\u001B[39m\u001B[38;5;241m.\u001B[39m_task_info[idx]\n\u001B[0;32m   1479\u001B[0m \u001B[38;5;28mself\u001B[39m\u001B[38;5;241m.\u001B[39m_rcvd_idx \u001B[38;5;241m+\u001B[39m\u001B[38;5;241m=\u001B[39m \u001B[38;5;241m1\u001B[39m\n\u001B[1;32m-> 1480\u001B[0m \u001B[38;5;28;01mreturn\u001B[39;00m \u001B[38;5;28;43mself\u001B[39;49m\u001B[38;5;241;43m.\u001B[39;49m\u001B[43m_process_data\u001B[49m\u001B[43m(\u001B[49m\u001B[43mdata\u001B[49m\u001B[43m)\u001B[49m\n",
      "File \u001B[1;32mE:\\Coding\\SongAnalyzer\\.venv\\lib\\site-packages\\torch\\utils\\data\\dataloader.py:1505\u001B[0m, in \u001B[0;36m_MultiProcessingDataLoaderIter._process_data\u001B[1;34m(self, data)\u001B[0m\n\u001B[0;32m   1503\u001B[0m \u001B[38;5;28mself\u001B[39m\u001B[38;5;241m.\u001B[39m_try_put_index()\n\u001B[0;32m   1504\u001B[0m \u001B[38;5;28;01mif\u001B[39;00m \u001B[38;5;28misinstance\u001B[39m(data, ExceptionWrapper):\n\u001B[1;32m-> 1505\u001B[0m     \u001B[43mdata\u001B[49m\u001B[38;5;241;43m.\u001B[39;49m\u001B[43mreraise\u001B[49m\u001B[43m(\u001B[49m\u001B[43m)\u001B[49m\n\u001B[0;32m   1506\u001B[0m \u001B[38;5;28;01mreturn\u001B[39;00m data\n",
      "File \u001B[1;32mE:\\Coding\\SongAnalyzer\\.venv\\lib\\site-packages\\torch\\_utils.py:733\u001B[0m, in \u001B[0;36mExceptionWrapper.reraise\u001B[1;34m(self)\u001B[0m\n\u001B[0;32m    729\u001B[0m \u001B[38;5;28;01mexcept\u001B[39;00m \u001B[38;5;167;01mTypeError\u001B[39;00m:\n\u001B[0;32m    730\u001B[0m     \u001B[38;5;66;03m# If the exception takes multiple arguments, don't try to\u001B[39;00m\n\u001B[0;32m    731\u001B[0m     \u001B[38;5;66;03m# instantiate since we don't know how to\u001B[39;00m\n\u001B[0;32m    732\u001B[0m     \u001B[38;5;28;01mraise\u001B[39;00m \u001B[38;5;167;01mRuntimeError\u001B[39;00m(msg) \u001B[38;5;28;01mfrom\u001B[39;00m\u001B[38;5;250m \u001B[39m\u001B[38;5;28;01mNone\u001B[39;00m\n\u001B[1;32m--> 733\u001B[0m \u001B[38;5;28;01mraise\u001B[39;00m exception\n",
      "\u001B[1;31mRuntimeError\u001B[0m: Caught RuntimeError in DataLoader worker process 0.\nOriginal Traceback (most recent call last):\n  File \"E:\\Coding\\SongAnalyzer\\.venv\\lib\\site-packages\\torch\\utils\\data\\_utils\\worker.py\", line 349, in _worker_loop\n    data = fetcher.fetch(index)  # type: ignore[possibly-undefined]\n  File \"E:\\Coding\\SongAnalyzer\\.venv\\lib\\site-packages\\torch\\utils\\data\\_utils\\fetch.py\", line 50, in fetch\n    data = self.dataset.__getitems__(possibly_batched_index)\n  File \"E:\\Coding\\SongAnalyzer\\.venv\\lib\\site-packages\\torch\\utils\\data\\dataset.py\", line 420, in __getitems__\n    return [self.dataset[self.indices[idx]] for idx in indices]\n  File \"E:\\Coding\\SongAnalyzer\\.venv\\lib\\site-packages\\torch\\utils\\data\\dataset.py\", line 420, in <listcomp>\n    return [self.dataset[self.indices[idx]] for idx in indices]\n  File \"E:\\Coding\\SongAnalyzer\\Analyzer\\src\\data\\procesing.py\", line 38, in __getitem__\n    song = torch.load(song_path, map_location='cpu')  # memory-mapped access\n  File \"E:\\Coding\\SongAnalyzer\\.venv\\lib\\site-packages\\torch\\serialization.py\", line 1462, in load\n    return _load(\n  File \"E:\\Coding\\SongAnalyzer\\.venv\\lib\\site-packages\\torch\\serialization.py\", line 1964, in _load\n    result = unpickler.load()\n  File \"E:\\Coding\\SongAnalyzer\\.venv\\lib\\site-packages\\torch\\_weights_only_unpickler.py\", line 512, in load\n    self.append(self.persistent_load(pid))\n  File \"E:\\Coding\\SongAnalyzer\\.venv\\lib\\site-packages\\torch\\serialization.py\", line 1928, in persistent_load\n    typed_storage = load_tensor(\n  File \"E:\\Coding\\SongAnalyzer\\.venv\\lib\\site-packages\\torch\\serialization.py\", line 1888, in load_tensor\n    zip_file.get_storage_from_record(name, numel, torch.UntypedStorage)\nRuntimeError: [enforce fail at alloc_cpu.cpp:115] data. DefaultCPUAllocator: not enough memory: you tried to allocate 1310720 bytes.\n"
     ]
    }
   ],
   "execution_count": 8
  },
  {
   "metadata": {},
   "cell_type": "code",
   "outputs": [],
   "execution_count": null,
   "source": "",
   "id": "cfe6781360f89c1e"
  }
 ],
 "metadata": {
  "kernelspec": {
   "display_name": "Python 3",
   "language": "python",
   "name": "python3"
  },
  "language_info": {
   "codemirror_mode": {
    "name": "ipython",
    "version": 2
   },
   "file_extension": ".py",
   "mimetype": "text/x-python",
   "name": "python",
   "nbconvert_exporter": "python",
   "pygments_lexer": "ipython2",
   "version": "2.7.6"
  }
 },
 "nbformat": 4,
 "nbformat_minor": 5
}
